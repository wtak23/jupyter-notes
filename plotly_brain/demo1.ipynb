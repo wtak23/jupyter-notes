{
 "cells": [
  {
   "cell_type": "markdown",
   "metadata": {},
   "source": [
    "Demo1 from https://plot.ly/python/reference/\n",
    "(see my Diigo annotation)"
   ]
  },
  {
   "cell_type": "code",
   "execution_count": 1,
   "metadata": {
    "collapsed": false,
    "scrolled": true
   },
   "outputs": [
    {
     "name": "stdout",
     "output_type": "stream",
     "text": [
      "1.12.9\n"
     ]
    },
    {
     "data": {
      "text/html": [
       "<iframe id=\"igraph\" scrolling=\"no\" style=\"border:none;\" seamless=\"seamless\" src=\"https://plot.ly/~takanori/213.embed\" height=\"525px\" width=\"100%\"></iframe>"
      ],
      "text/plain": [
       "<plotly.tools.PlotlyDisplay object>"
      ]
     },
     "execution_count": 1,
     "metadata": {},
     "output_type": "execute_result"
    }
   ],
   "source": [
    "import plotly\n",
    "import plotly.plotly as py\n",
    "import plotly.graph_objs as go\n",
    "\n",
    "print plotly.__version__                # At least 1.8.6 is required. Upgrade with: $ pip install plotly --upgrade\n",
    "\n",
    "data = [\n",
    "    go.Scatter(                         # all \"scatter\" attributes: https://plot.ly/python/reference/#scatter\n",
    "        x=[1, 2, 3],                    # more about \"x\":  /python/reference/#scatter-x\n",
    "        y=[3, 1, 6],                    # more about \"y\":  /python/reference/#scatter-y\n",
    "        marker=dict(                    # marker is an dict, marker keys: /python/reference/#scatter-marker\n",
    "            color=\"rgb(16, 32, 77)\"     # more about marker's \"color\": /python/reference/#scatter-marker-color\n",
    "        )\n",
    "    ),\n",
    "    go.Bar(                         # all \"bar\" chart attributes: /python/reference/#bar\n",
    "        x=[1, 2, 3],                # more about \"x\": /python/reference/#bar-x\n",
    "        y=[3, 1, 6],                # /python/reference/#bar-y\n",
    "        name=\"bar chart example\"    # /python/reference/#bar-name\n",
    "    )\n",
    "]\n",
    "\n",
    "layout = go.Layout(             # all \"layout\" attributes: /python/reference/#layout\n",
    "    title=\"simple example\",     # more about \"layout's\" \"title\": /python/reference/#layout-title\n",
    "    xaxis=dict(                 # all \"layout's\" \"xaxis\" attributes: /python/reference/#layout-xaxis\n",
    "        title=\"time\"            # more about \"layout's\" \"xaxis's\" \"title\": /python/reference/#layout-xaxis-title\n",
    "    ),\n",
    "    annotations=[\n",
    "        dict(                            # all \"annotation\" attributes: /python/reference/#layout-annotations\n",
    "            text=\"simple annotation\",    # /python/reference/#layout-annotations-text\n",
    "            x=0,                         # /python/reference/#layout-annotations-x\n",
    "            xref=\"paper\",                # /python/reference/#layout-annotations-xref\n",
    "            y=0,                         # /python/reference/#layout-annotations-y\n",
    "            yref=\"paper\"                 # /python/reference/#layout-annotations-yref\n",
    "        )\n",
    "    ]\n",
    ")\n",
    "\n",
    "figure = go.Figure(data=data, layout=layout)\n",
    "\n",
    "py.iplot(figure, filename='api-docs/reference-graph')"
   ]
  },
  {
   "cell_type": "markdown",
   "metadata": {
    "collapsed": true
   },
   "source": [
    "# Annotated heatmap"
   ]
  },
  {
   "cell_type": "code",
   "execution_count": 3,
   "metadata": {
    "collapsed": false
   },
   "outputs": [
    {
     "data": {
      "text/plain": [
       "[{'font': {'color': 'black'},\n",
       "  'showarrow': False,\n",
       "  'text': '0.0',\n",
       "  'x': 'A',\n",
       "  'xref': 'x1',\n",
       "  'y': 'W',\n",
       "  'yref': 'y1'},\n",
       " {'font': {'color': 'black'},\n",
       "  'showarrow': False,\n",
       "  'text': '0.0',\n",
       "  'x': 'B',\n",
       "  'xref': 'x1',\n",
       "  'y': 'W',\n",
       "  'yref': 'y1'},\n",
       " {'font': {'color': 'white'},\n",
       "  'showarrow': False,\n",
       "  'text': '0.75',\n",
       "  'x': 'C',\n",
       "  'xref': 'x1',\n",
       "  'y': 'W',\n",
       "  'yref': 'y1'},\n",
       " {'font': {'color': 'white'},\n",
       "  'showarrow': False,\n",
       "  'text': '0.75',\n",
       "  'x': 'D',\n",
       "  'xref': 'x1',\n",
       "  'y': 'W',\n",
       "  'yref': 'y1'},\n",
       " {'font': {'color': 'black'},\n",
       "  'showarrow': False,\n",
       "  'text': '0.0',\n",
       "  'x': 'E',\n",
       "  'xref': 'x1',\n",
       "  'y': 'W',\n",
       "  'yref': 'y1'}]"
      ]
     },
     "execution_count": 3,
     "metadata": {},
     "output_type": "execute_result"
    }
   ],
   "source": [
    "import plotly.plotly as py\n",
    "import plotly.graph_objs as go\n",
    "\n",
    "x = ['A', 'B', 'C', 'D', 'E']\n",
    "y = ['W', 'X', 'Y', 'Z']\n",
    "\n",
    "#       x0    x1    x2    x3    x4\n",
    "z = [[0.00, 0.00, 0.75, 0.75, 0.00],  # y0\n",
    "     [0.00, 0.00, 0.75, 0.75, 0.00],  # y1\n",
    "     [0.75, 0.75, 0.75, 0.75, 0.75],  # y2\n",
    "     [0.00, 0.00, 0.00, 0.75, 0.00]]  # y3\n",
    "\n",
    "annotations = []\n",
    "for n, row in enumerate(z):\n",
    "    for m, val in enumerate(row):\n",
    "        var = z[n][m]\n",
    "        annotations.append(\n",
    "            dict(\n",
    "                text=str(val),\n",
    "                x=x[m], y=y[n],\n",
    "                xref='x1', yref='y1',\n",
    "                font=dict(color='white' if val > 0.5 else 'black'),\n",
    "                showarrow=False)\n",
    "            )\n",
    "\n",
    "colorscale = [[0, '#3D9970'], [1, '#001f3f']]  # custom colorscale\n",
    "trace = go.Heatmap(x=x, y=y, z=z, colorscale=colorscale, showscale=False)\n",
    "\n",
    "fig = go.Figure(data=[trace])\n",
    "fig['layout'].update(\n",
    "    title=\"Annotated Heatmap\",\n",
    "    annotations=annotations,\n",
    "    xaxis=dict(ticks='', side='top'),\n",
    "    # ticksuffix is a workaround to add a bit of padding\n",
    "    yaxis=dict(ticks='', ticksuffix='  '),\n",
    "    width=700,\n",
    "    height=700,\n",
    "    autosize=False\n",
    ")\n",
    "annotations[:5]"
   ]
  },
  {
   "cell_type": "code",
   "execution_count": 1,
   "metadata": {
    "collapsed": false,
    "scrolled": true
   },
   "outputs": [
    {
     "data": {
      "text/html": [
       "<iframe id=\"igraph\" scrolling=\"no\" style=\"border:none;\" seamless=\"seamless\" src=\"https://plot.ly/~takanori/229.embed\" height=\"700px\" width=\"700px\"></iframe>"
      ],
      "text/plain": [
       "<plotly.tools.PlotlyDisplay object>"
      ]
     },
     "execution_count": 1,
     "metadata": {},
     "output_type": "execute_result"
    }
   ],
   "source": [
    "py.iplot(fig, filename='Annotated Heatmap', height=750)"
   ]
  },
  {
   "cell_type": "markdown",
   "metadata": {},
   "source": [
    "# Heatmap with Datatime axis"
   ]
  },
  {
   "cell_type": "code",
   "execution_count": 4,
   "metadata": {
    "collapsed": false
   },
   "outputs": [
    {
     "data": {
      "text/html": [
       "<iframe id=\"igraph\" scrolling=\"no\" style=\"border:none;\" seamless=\"seamless\" src=\"https://plot.ly/~takanori/231.embed\" height=\"525px\" width=\"100%\"></iframe>"
      ],
      "text/plain": [
       "<plotly.tools.PlotlyDisplay object>"
      ]
     },
     "execution_count": 4,
     "metadata": {},
     "output_type": "execute_result"
    }
   ],
   "source": [
    "import datetime\n",
    "import numpy as np\n",
    "import plotly.plotly as py\n",
    "import plotly.graph_objs as go\n",
    "\n",
    "programmers = ['Alex','Nicole','Sara','Etienne','Chelsea','Jody','Marianne']\n",
    "\n",
    "base = datetime.datetime.today()\n",
    "date_list = [base - datetime.timedelta(days=x) for x in range(0, 180)]\n",
    "\n",
    "z = []\n",
    "\n",
    "for prgmr in programmers:\n",
    "    new_row = []\n",
    "    for date in date_list:\n",
    "        new_row.append( np.random.poisson() )\n",
    "    z.append(list(new_row))\n",
    "\n",
    "data = [\n",
    "    go.Heatmap(\n",
    "        z=z,\n",
    "        x=date_list,\n",
    "        y=programmers,\n",
    "        colorscale='Viridis',\n",
    "    )\n",
    "]\n",
    "\n",
    "layout = go.Layout(\n",
    "    title='GitHub commits per day',\n",
    "    xaxis = dict(ticks='', nticks=36),\n",
    "    yaxis = dict(ticks='' )\n",
    ")\n",
    "\n",
    "fig = go.Figure(data=data, layout=layout)\n",
    "py.iplot(fig, filename='datetime-heatmap')\n"
   ]
  }
 ],
 "metadata": {
  "kernelspec": {
   "display_name": "Python [Root]",
   "language": "python",
   "name": "Python [Root]"
  },
  "language_info": {
   "codemirror_mode": {
    "name": "ipython",
    "version": 2
   },
   "file_extension": ".py",
   "mimetype": "text/x-python",
   "name": "python",
   "nbconvert_exporter": "python",
   "pygments_lexer": "ipython2",
   "version": "2.7.12"
  }
 },
 "nbformat": 4,
 "nbformat_minor": 0
}
