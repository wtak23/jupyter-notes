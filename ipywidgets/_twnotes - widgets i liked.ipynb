{
 "cells": [
  {
   "cell_type": "code",
   "execution_count": 15,
   "metadata": {
    "collapsed": false
   },
   "outputs": [],
   "source": [
    "import ipywidgets as widgets\n",
    "from ipywidgets import interact, interactive, fixed\n",
    "import traitlets # <- to synchronize stuffs\n",
    "from IPython.display import display\n",
    "from pandas import DataFrame as DF\n",
    "import inspect"
   ]
  },
  {
   "cell_type": "markdown",
   "metadata": {},
   "source": [
    "# A. Widgets Basics\n",
    "**What and why widgets?**\n",
    "- Widgets = eventful python objects that have a representation in the browser, often as a control like a slider, textbox, etc.\n",
    "- can use widgets to build **interactive GUIs** for your notebooks.  \n",
    "- can also use widgets to **synchronize stateful and stateless information** between Python and JavaScript.\n",
    "\n",
    "## All the widge types available\n",
    "- run `widgets.Widget.widget_types.values()` to display all\n",
    "- **Widget** and **DOMWidget**, not listed below, are base classes."
   ]
  },
  {
   "cell_type": "code",
   "execution_count": 16,
   "metadata": {
    "collapsed": false
   },
   "outputs": [
    {
     "data": {
      "text/plain": [
       "[ipywidgets.widgets.widget_string.Text,\n",
       " ipywidgets.widgets.widget_string.Latex,\n",
       " ipywidgets.widgets.widget_box.Box,\n",
       " ipywidgets.widgets.widget_controller.Axis,\n",
       " ipywidgets.widgets.widget_bool.Checkbox,\n",
       " ipywidgets.widgets.widget_int.IntRangeSlider,\n",
       " ipywidgets.widgets.widget_selection.RadioButtons,\n",
       " ipywidgets.widgets.widget_string.HTML,\n",
       " ipywidgets.widgets.widget_float.FloatRangeSlider,\n",
       " ipywidgets.widgets.widget_box.PlaceProxy,\n",
       " ipywidgets.widgets.widget_selection.ToggleButtons,\n",
       " ipywidgets.widgets.widget_int.IntText,\n",
       " ipywidgets.widgets.widget_selection.Dropdown,\n",
       " ipywidgets.widgets.widget_bool.Valid,\n",
       " ipywidgets.widgets.widget_bool.ToggleButton,\n",
       " ipywidgets.widgets.widget_float.FloatSlider,\n",
       " ipywidgets.widgets.widget_int.IntProgress,\n",
       " ipywidgets.widgets.widget_selection.SelectMultiple,\n",
       " ipywidgets.widgets.widget_float.FloatProgress,\n",
       " ipywidgets.widgets.widget_color.ColorPicker,\n",
       " ipywidgets.widgets.widget_box.FlexBox,\n",
       " ipywidgets.widgets.widget_string.Textarea,\n",
       " ipywidgets.widgets.widget_float.BoundedFloatText,\n",
       " ipywidgets.widgets.widget_controller.Button,\n",
       " ipywidgets.widgets.widget_selection.Select,\n",
       " ipywidgets.widgets.widget_selectioncontainer.Accordion,\n",
       " ipywidgets.widgets.widget_float.FloatText,\n",
       " ipywidgets.widgets.widget_image.Image,\n",
       " ipywidgets.widgets.widget_button.Button,\n",
       " ipywidgets.widgets.widget_int.BoundedIntText,\n",
       " ipywidgets.widgets.widget_box.Proxy,\n",
       " ipywidgets.widgets.widget_selectioncontainer.Tab,\n",
       " ipywidgets.widgets.widget_int.IntSlider,\n",
       " ipywidgets.widgets.widget_controller.Controller]"
      ]
     },
     "execution_count": 16,
     "metadata": {},
     "output_type": "execute_result"
    }
   ],
   "source": [
    "widgets.Widget.widget_types.values()"
   ]
  },
  {
   "cell_type": "markdown",
   "metadata": {},
   "source": [
    "# B. Using interact and interaction\n",
    "\n",
    "**interact vs interaction**\n",
    "- interactive returns a Widget instance rather than immediately displaying the widget. (a **box** to be more specific)\n",
    "    - **box** = a container for other widgets.\n",
    "- (`interactive` must be used with `IPython.display`, but more flexible)\n",
    "- when you want a final **return value**, this is super useful (`obj.result` attribute)\n",
    "- note: i don't see the usecase of using `@interact` (ie as decorator)\n",
    "\n",
    "```python\n",
    "w = interactive(lambda x: x, x=(10,15,1)) # <- gives an integer slider\n",
    "display(w)\n",
    "w.kwargs\n",
    "w.result\n",
    "w.close() \n",
    "```\n",
    "\n",
    "In `interact`| widget abbreviation\n",
    "---|:---\n",
    "`x = True` | widgets.Checkbox\n",
    "`x = 'some string'`| widets.Text\n",
    "`x = (-10, 10, 2)`| widgets.IntSlider\n",
    "`x = (-10., 2, 0.1)`| widgets.FloatSlider\n",
    "`x = ('tuple','of','string')`| widgets.Dropdown"
   ]
  },
  {
   "cell_type": "code",
   "execution_count": 17,
   "metadata": {
    "collapsed": false
   },
   "outputs": [
    {
     "data": {
      "text/plain": [
       "32"
      ]
     },
     "metadata": {},
     "output_type": "display_data"
    }
   ],
   "source": [
    "# lambda function that just returns itself\n",
    "a = interact(lambda x: x, x='str')    # textbox\n",
    "b = interact(lambda x: x, x=True)     # check-box\n",
    "c = interact(lambda x: x, x=(-10,10)) # int-slider\n",
    "d = interact(lambda x: x, x=500)      # int-slider from (-x, 3*x), origin at x\n",
    "e = interact(lambda x: x, x=(-10,10,0.5)) # (min, max, step) slider\n",
    "interact(lambda x: x, x=widgets.IntSlider(min=-10,max=30,step=1,value=10)); # <- more explicit method calls\n",
    "f = interact(lambda x: x, x=('fuck','this','shit')) #dropdown\n",
    "g = interact(lambda x: x, x={'key1':'val1', 'key2':32}) #dropdown"
   ]
  },
  {
   "cell_type": "code",
   "execution_count": 18,
   "metadata": {
    "collapsed": false,
    "scrolled": true
   },
   "outputs": [
    {
     "data": {
      "text/plain": [
       "(5, 5)"
      ]
     },
     "metadata": {},
     "output_type": "display_data"
    },
    {
     "data": {
      "text/plain": [
       "<function __main__.h>"
      ]
     },
     "execution_count": 18,
     "metadata": {},
     "output_type": "execute_result"
    }
   ],
   "source": [
    "def h(p,q):\n",
    "    return (p,q)\n",
    "interact(h,p=5,q=5)\n",
    "# interact(lambda p,q:(p,q), p=5,q=5) # <- equivalent\n",
    "# interact(h,p=5,q=fixed(5))"
   ]
  },
  {
   "cell_type": "code",
   "execution_count": 19,
   "metadata": {
    "collapsed": false
   },
   "outputs": [
    {
     "data": {
      "text/plain": [
       "12"
      ]
     },
     "metadata": {},
     "output_type": "display_data"
    }
   ],
   "source": [
    "w = interactive(lambda x: x, x=(10,15,1)) # <- gives an integer slider\n",
    "display(w)"
   ]
  },
  {
   "cell_type": "markdown",
   "metadata": {},
   "source": [
    "- **box** = a container for other widgets.\n",
    "\n",
    "## widget abbreviation vs direct-call"
   ]
  },
  {
   "cell_type": "code",
   "execution_count": 20,
   "metadata": {
    "collapsed": false
   },
   "outputs": [
    {
     "data": {
      "text/plain": [
       "12"
      ]
     },
     "metadata": {},
     "output_type": "display_data"
    },
    {
     "name": "stdout",
     "output_type": "stream",
     "text": [
      "<class 'ipywidgets.widgets.widget_box.Box'>\n",
      "<class 'ipywidgets.widgets.widget_int.IntSlider'>\n"
     ]
    }
   ],
   "source": [
    "w = interactive(lambda x: x, x=(10,15,1))\n",
    "display(w)\n",
    "\n",
    "ww = widgets.IntSlider(min=-10,max=30,step=1,value=10)\n",
    "display(ww)\n",
    "\n",
    "print(type(interactive(lambda x: x, x=(10,15,1))))  # <- so interactive creates a box\n",
    "print(type(widgets.IntSlider(min=-10,max=30,step=1,value=10))) # <- explicit call"
   ]
  },
  {
   "cell_type": "code",
   "execution_count": 21,
   "metadata": {
    "collapsed": false
   },
   "outputs": [
    {
     "name": "stdout",
     "output_type": "stream",
     "text": [
      "12\n",
      "10\n"
     ]
    }
   ],
   "source": [
    "# different attribute stores result (result and value...)\n",
    "print(w.result)\n",
    "\n",
    "print(ww.value)\n"
   ]
  },
  {
   "cell_type": "code",
   "execution_count": 22,
   "metadata": {
    "collapsed": false
   },
   "outputs": [
    {
     "data": {
      "text/html": [
       "<div>\n",
       "<table border=\"1\" class=\"dataframe\">\n",
       "  <thead>\n",
       "    <tr style=\"text-align: right;\">\n",
       "      <th></th>\n",
       "      <th>0</th>\n",
       "      <th>1</th>\n",
       "      <th>2</th>\n",
       "      <th>3</th>\n",
       "      <th>4</th>\n",
       "      <th>5</th>\n",
       "      <th>6</th>\n",
       "      <th>7</th>\n",
       "      <th>8</th>\n",
       "      <th>9</th>\n",
       "      <th>...</th>\n",
       "      <th>123</th>\n",
       "      <th>124</th>\n",
       "      <th>125</th>\n",
       "      <th>126</th>\n",
       "      <th>127</th>\n",
       "      <th>128</th>\n",
       "      <th>129</th>\n",
       "      <th>130</th>\n",
       "      <th>131</th>\n",
       "      <th>132</th>\n",
       "    </tr>\n",
       "  </thead>\n",
       "  <tbody>\n",
       "    <tr>\n",
       "      <th>0</th>\n",
       "      <td>__class__</td>\n",
       "      <td>__del__</td>\n",
       "      <td>__delattr__</td>\n",
       "      <td>__dict__</td>\n",
       "      <td>__doc__</td>\n",
       "      <td>__format__</td>\n",
       "      <td>__getattribute__</td>\n",
       "      <td>__getstate__</td>\n",
       "      <td>__hash__</td>\n",
       "      <td>__init__</td>\n",
       "      <td>...</td>\n",
       "      <td>traits</td>\n",
       "      <td>unobserve</td>\n",
       "      <td>unobserve_all</td>\n",
       "      <td>update_config</td>\n",
       "      <td>value</td>\n",
       "      <td>version</td>\n",
       "      <td>visible</td>\n",
       "      <td>widget_types</td>\n",
       "      <td>widgets</td>\n",
       "      <td>width</td>\n",
       "    </tr>\n",
       "  </tbody>\n",
       "</table>\n",
       "<p>1 rows × 133 columns</p>\n",
       "</div>"
      ],
      "text/plain": [
       "         0        1            2         3        4           5    \\\n",
       "0  __class__  __del__  __delattr__  __dict__  __doc__  __format__   \n",
       "\n",
       "                6             7         8         9    ...       123  \\\n",
       "0  __getattribute__  __getstate__  __hash__  __init__  ...    traits   \n",
       "\n",
       "         124            125            126    127      128      129  \\\n",
       "0  unobserve  unobserve_all  update_config  value  version  visible   \n",
       "\n",
       "            130      131    132  \n",
       "0  widget_types  widgets  width  \n",
       "\n",
       "[1 rows x 133 columns]"
      ]
     },
     "execution_count": 22,
     "metadata": {},
     "output_type": "execute_result"
    }
   ],
   "source": [
    "w = widgets.IntSlider(min=-10,max=30,step=1,value=10)\n",
    "display(ww)\n",
    "DF(dir(ww)).T"
   ]
  },
  {
   "cell_type": "code",
   "execution_count": 23,
   "metadata": {
    "collapsed": false
   },
   "outputs": [
    {
     "data": {
      "text/html": [
       "<div>\n",
       "<table border=\"1\" class=\"dataframe\">\n",
       "  <thead>\n",
       "    <tr style=\"text-align: right;\">\n",
       "      <th></th>\n",
       "      <th>0</th>\n",
       "      <th>1</th>\n",
       "      <th>2</th>\n",
       "      <th>3</th>\n",
       "      <th>4</th>\n",
       "      <th>5</th>\n",
       "      <th>6</th>\n",
       "      <th>7</th>\n",
       "      <th>8</th>\n",
       "      <th>9</th>\n",
       "      <th>...</th>\n",
       "      <th>123</th>\n",
       "      <th>124</th>\n",
       "      <th>125</th>\n",
       "      <th>126</th>\n",
       "      <th>127</th>\n",
       "      <th>128</th>\n",
       "      <th>129</th>\n",
       "      <th>130</th>\n",
       "      <th>131</th>\n",
       "      <th>132</th>\n",
       "    </tr>\n",
       "  </thead>\n",
       "  <tbody>\n",
       "    <tr>\n",
       "      <th>0</th>\n",
       "      <td>__class__</td>\n",
       "      <td>__del__</td>\n",
       "      <td>__delattr__</td>\n",
       "      <td>__dict__</td>\n",
       "      <td>__doc__</td>\n",
       "      <td>__format__</td>\n",
       "      <td>__getattribute__</td>\n",
       "      <td>__getstate__</td>\n",
       "      <td>__hash__</td>\n",
       "      <td>__init__</td>\n",
       "      <td>...</td>\n",
       "      <td>traits</td>\n",
       "      <td>unobserve</td>\n",
       "      <td>unobserve_all</td>\n",
       "      <td>update_config</td>\n",
       "      <td>value</td>\n",
       "      <td>version</td>\n",
       "      <td>visible</td>\n",
       "      <td>widget_types</td>\n",
       "      <td>widgets</td>\n",
       "      <td>width</td>\n",
       "    </tr>\n",
       "  </tbody>\n",
       "</table>\n",
       "<p>1 rows × 133 columns</p>\n",
       "</div>"
      ],
      "text/plain": [
       "         0        1            2         3        4           5    \\\n",
       "0  __class__  __del__  __delattr__  __dict__  __doc__  __format__   \n",
       "\n",
       "                6             7         8         9    ...       123  \\\n",
       "0  __getattribute__  __getstate__  __hash__  __init__  ...    traits   \n",
       "\n",
       "         124            125            126    127      128      129  \\\n",
       "0  unobserve  unobserve_all  update_config  value  version  visible   \n",
       "\n",
       "            130      131    132  \n",
       "0  widget_types  widgets  width  \n",
       "\n",
       "[1 rows x 133 columns]"
      ]
     },
     "execution_count": 23,
     "metadata": {},
     "output_type": "execute_result"
    }
   ],
   "source": [
    "ww = widgets.IntSlider(min=-10,max=30,step=1,value=10)\n",
    "display(ww)\n",
    "DF(dir(ww)).T"
   ]
  },
  {
   "cell_type": "markdown",
   "metadata": {},
   "source": [
    "# C. Widget Events\n",
    "\n",
    "## (quick summary)\n",
    "**Relevant functions** (don't foget to run `display(obj)`)\n",
    "\n",
    "Object instantiation | callback \n",
    "------------------|--------------------------\n",
    "`obj = widgets.Button(description='string')` | `obj.on_click(fhandle)`\n",
    "`obj = widgets.Text()`   | `obj.on_submit(fhandle)`\n",
    "`obj=widgets.IntSlider()`| `obj.on_trait_change(fhandle, 'value')`\n",
    "`caption = widgets.Latex(value = 'str')` | `display(caption, slider1, slider2)`\n",
    "`l = traitlets.link((sliders1, 'value'), (slider2, 'value'))`| `l.unlink()` (client side)\n",
    "`dl = traitlets.dlink((source, 'value'), (target1, 'value'))`| `dl.unlink()` (client side)\n",
    "`l = widgets.jslink((range1, 'value'), (range2, 'value'))` | `l.unlink()` (server side...**probably wont use**)\n",
    "`dl = widgets.jsdlink((range1, 'value'), (range2, 'value'))` | `dl.unlink()` (server side)\n",
    "\n",
    "```python\n",
    "print(widgets.Widget.on_trait_change.__doc__)\n",
    "```\n",
    "\n",
    "**4 possible callback Signatures**\n",
    "\n",
    "Mentioned in the doc string, the callback registered can have 4 possible signatures:\n",
    "\n",
    "* `callback()`\n",
    "* `callback(trait_name)`\n",
    "* `callback(trait_name, new_value)`\n",
    "* `callback(trait_name, old_value, new_value)`\n",
    "\n",
    "## widgets.Button"
   ]
  },
  {
   "cell_type": "code",
   "execution_count": 24,
   "metadata": {
    "collapsed": false
   },
   "outputs": [
    {
     "data": {
      "text/html": [
       "<div>\n",
       "<table border=\"1\" class=\"dataframe\">\n",
       "  <thead>\n",
       "    <tr style=\"text-align: right;\">\n",
       "      <th></th>\n",
       "      <th>0</th>\n",
       "      <th>1</th>\n",
       "      <th>2</th>\n",
       "      <th>3</th>\n",
       "      <th>4</th>\n",
       "      <th>5</th>\n",
       "      <th>6</th>\n",
       "      <th>7</th>\n",
       "      <th>8</th>\n",
       "      <th>9</th>\n",
       "      <th>...</th>\n",
       "      <th>117</th>\n",
       "      <th>118</th>\n",
       "      <th>119</th>\n",
       "      <th>120</th>\n",
       "      <th>121</th>\n",
       "      <th>122</th>\n",
       "      <th>123</th>\n",
       "      <th>124</th>\n",
       "      <th>125</th>\n",
       "      <th>126</th>\n",
       "    </tr>\n",
       "  </thead>\n",
       "  <tbody>\n",
       "    <tr>\n",
       "      <th>0</th>\n",
       "      <td>__class__</td>\n",
       "      <td>__del__</td>\n",
       "      <td>__delattr__</td>\n",
       "      <td>__dict__</td>\n",
       "      <td>__doc__</td>\n",
       "      <td>__format__</td>\n",
       "      <td>__getattribute__</td>\n",
       "      <td>__getstate__</td>\n",
       "      <td>__hash__</td>\n",
       "      <td>__init__</td>\n",
       "      <td>...</td>\n",
       "      <td>trait_names</td>\n",
       "      <td>traits</td>\n",
       "      <td>unobserve</td>\n",
       "      <td>unobserve_all</td>\n",
       "      <td>update_config</td>\n",
       "      <td>version</td>\n",
       "      <td>visible</td>\n",
       "      <td>widget_types</td>\n",
       "      <td>widgets</td>\n",
       "      <td>width</td>\n",
       "    </tr>\n",
       "  </tbody>\n",
       "</table>\n",
       "<p>1 rows × 127 columns</p>\n",
       "</div>"
      ],
      "text/plain": [
       "         0        1            2         3        4           5    \\\n",
       "0  __class__  __del__  __delattr__  __dict__  __doc__  __format__   \n",
       "\n",
       "                6             7         8         9    ...            117  \\\n",
       "0  __getattribute__  __getstate__  __hash__  __init__  ...    trait_names   \n",
       "\n",
       "      118        119            120            121      122      123  \\\n",
       "0  traits  unobserve  unobserve_all  update_config  version  visible   \n",
       "\n",
       "            124      125    126  \n",
       "0  widget_types  widgets  width  \n",
       "\n",
       "[1 rows x 127 columns]"
      ]
     },
     "execution_count": 24,
     "metadata": {},
     "output_type": "execute_result"
    }
   ],
   "source": [
    "button = widgets.Button(description=\"Click Me!\")\n",
    "display(button)\n",
    "\n",
    "# oddly, this requires argument\n",
    "def on_button_clicked(this_can_be_any_fucking_variable_name):\n",
    "    print(\"Button clicked.\")\n",
    "\n",
    "button.on_click(on_button_clicked)\n",
    "DF(dir(button)).T"
   ]
  },
  {
   "cell_type": "markdown",
   "metadata": {},
   "source": [
    "## widgets.Text"
   ]
  },
  {
   "cell_type": "code",
   "execution_count": 25,
   "metadata": {
    "collapsed": true
   },
   "outputs": [],
   "source": [
    "text = widgets.Text()\n",
    "display(text)\n",
    "\n",
    "def handle_submit(any_var_name):\n",
    "    print(text.value)\n",
    "\n",
    "text.on_submit(handle_submit)"
   ]
  },
  {
   "cell_type": "markdown",
   "metadata": {},
   "source": [
    "## obj.on_trait_change(on_value_change, 'value')"
   ]
  },
  {
   "cell_type": "code",
   "execution_count": 26,
   "metadata": {
    "collapsed": false
   },
   "outputs": [],
   "source": [
    "# print(inspect.getargspec(widgets.Widget.on_trait_change))\n",
    "# print(widgets.Widget.on_trait_change.__doc__)"
   ]
  },
  {
   "cell_type": "code",
   "execution_count": 27,
   "metadata": {
    "collapsed": false
   },
   "outputs": [
    {
     "name": "stderr",
     "output_type": "stream",
     "text": [
      "C:\\Users\\takanori\\Anaconda2\\lib\\site-packages\\ipykernel\\__main__.py:7: DeprecationWarning: on_trait_change is deprecated: use observe instead\n"
     ]
    }
   ],
   "source": [
    "int_range = widgets.IntSlider()\n",
    "display(int_range) # <- display will show the display\n",
    "\n",
    "def on_value_change(name, value):\n",
    "    print(value)\n",
    "\n",
    "int_range.on_trait_change(on_value_change, 'value')"
   ]
  },
  {
   "cell_type": "markdown",
   "metadata": {},
   "source": [
    "## traitlets.link() - (linking/syncing widgets)"
   ]
  },
  {
   "cell_type": "code",
   "execution_count": 28,
   "metadata": {
    "collapsed": true
   },
   "outputs": [],
   "source": [
    "caption = widgets.Latex(value = 'The values of slider1 and slider2 are synchronized $\\\\beta$')\n",
    "sliders1, slider2 = widgets.IntSlider(description='Slider 1'),\\\n",
    "                             widgets.IntSlider(description='Slider 2')\n",
    "l = traitlets.link((sliders1, 'value'), (slider2, 'value'))\n",
    "display(caption, sliders1, slider2)"
   ]
  },
  {
   "cell_type": "code",
   "execution_count": 29,
   "metadata": {
    "collapsed": true
   },
   "outputs": [],
   "source": [
    "caption = widgets.Latex(value = 'Changes in source_range values are reflected in target_range1')\n",
    "source_range, target_range1 = widgets.IntSlider(description='Source range'),\\\n",
    "                                             widgets.IntSlider(description='Target range 1')\n",
    "dl = widgets.jsdlink((source_range, 'value'), (target_range1, 'value'))\n",
    "display(caption, source_range, target_range1)"
   ]
  },
  {
   "cell_type": "markdown",
   "metadata": {},
   "source": [
    "# D. Basic styling\n",
    "\n",
    "The widgets distributed with IPython can be styled by setting the following traits:\n",
    "\n",
    "- width  \n",
    "- height  \n",
    "- background_color  \n",
    "- border_color  \n",
    "- border_width  \n",
    "- border_style  \n",
    "- font_style  \n",
    "- font_weight  \n",
    "- font_size  \n",
    "- font_family  \n",
    "\n",
    "The example below shows how a `Button` widget can be styled:"
   ]
  },
  {
   "cell_type": "code",
   "execution_count": 30,
   "metadata": {
    "collapsed": true
   },
   "outputs": [],
   "source": [
    "button = widgets.Button(\n",
    "    description='Hello World!',\n",
    "    width=100, # Integers are interpreted as pixel measurements.\n",
    "    height='2em', # em is valid HTML unit of measurement.\n",
    "    color='lime', # Colors can be set by name,\n",
    "    background_color='#0022FF', # and also by color code.\n",
    "    border_color='red')\n",
    "display(button)"
   ]
  },
  {
   "cell_type": "code",
   "execution_count": null,
   "metadata": {
    "collapsed": true
   },
   "outputs": [],
   "source": []
  },
  {
   "cell_type": "code",
   "execution_count": null,
   "metadata": {
    "collapsed": true
   },
   "outputs": [],
   "source": []
  }
 ],
 "metadata": {
  "kernelspec": {
   "display_name": "Python 2",
   "language": "python",
   "name": "python2"
  },
  "language_info": {
   "codemirror_mode": {
    "name": "ipython",
    "version": 2
   },
   "file_extension": ".py",
   "mimetype": "text/x-python",
   "name": "python",
   "nbconvert_exporter": "python",
   "pygments_lexer": "ipython2",
   "version": "2.7.11"
  }
 },
 "nbformat": 4,
 "nbformat_minor": 0
}
