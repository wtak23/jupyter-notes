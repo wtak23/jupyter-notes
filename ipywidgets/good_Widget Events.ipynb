{
 "cells": [
  {
   "cell_type": "markdown",
   "metadata": {},
   "source": [
    "[Index](Index.ipynb) - [Back](Widget List.ipynb) - [Next](Widget Styling.ipynb)"
   ]
  },
  {
   "cell_type": "markdown",
   "metadata": {
    "slideshow": {
     "slide_type": "slide"
    }
   },
   "source": [
    "# Widget Events"
   ]
  },
  {
   "cell_type": "markdown",
   "metadata": {},
   "source": [
    "## Special events\n",
    "- `widgets.Button`, `widgets.Text`"
   ]
  },
  {
   "cell_type": "code",
   "execution_count": 4,
   "metadata": {
    "collapsed": false
   },
   "outputs": [],
   "source": [
    "from __future__ import print_function\n",
    "from pandas import DataFrame as DF"
   ]
  },
  {
   "cell_type": "markdown",
   "metadata": {},
   "source": [
    "The `Button` is not used to represent a data type.  Instead the button widget is used to handle mouse clicks.  The `on_click` method of the `Button` can be used to register function to be called when the button is clicked.  The doc string of the `on_click` can be seen below."
   ]
  },
  {
   "cell_type": "code",
   "execution_count": 5,
   "metadata": {
    "collapsed": false,
    "scrolled": true
   },
   "outputs": [
    {
     "name": "stdout",
     "output_type": "stream",
     "text": [
      "Register a callback to execute when the button is clicked.\n",
      "\n",
      "        The callback will be called with one argument,\n",
      "        the clicked button widget instance.\n",
      "\n",
      "        Parameters\n",
      "        ----------\n",
      "        remove : bool (optional)\n",
      "            Set to true to remove the callback from the list of callbacks.\n"
     ]
    },
    {
     "data": {
      "text/html": [
       "<div>\n",
       "<table border=\"1\" class=\"dataframe\">\n",
       "  <thead>\n",
       "    <tr style=\"text-align: right;\">\n",
       "      <th></th>\n",
       "      <th>0</th>\n",
       "      <th>1</th>\n",
       "      <th>2</th>\n",
       "      <th>3</th>\n",
       "      <th>4</th>\n",
       "      <th>5</th>\n",
       "      <th>6</th>\n",
       "      <th>7</th>\n",
       "      <th>8</th>\n",
       "      <th>9</th>\n",
       "      <th>10</th>\n",
       "      <th>11</th>\n",
       "      <th>12</th>\n",
       "      <th>13</th>\n",
       "      <th>14</th>\n",
       "      <th>15</th>\n",
       "      <th>16</th>\n",
       "      <th>17</th>\n",
       "      <th>18</th>\n",
       "      <th>19</th>\n",
       "      <th>20</th>\n",
       "      <th>21</th>\n",
       "      <th>22</th>\n",
       "      <th>23</th>\n",
       "      <th>24</th>\n",
       "      <th>25</th>\n",
       "      <th>26</th>\n",
       "      <th>27</th>\n",
       "      <th>28</th>\n",
       "      <th>29</th>\n",
       "      <th>30</th>\n",
       "      <th>31</th>\n",
       "      <th>32</th>\n",
       "      <th>33</th>\n",
       "      <th>34</th>\n",
       "      <th>35</th>\n",
       "      <th>36</th>\n",
       "      <th>37</th>\n",
       "      <th>38</th>\n",
       "      <th>39</th>\n",
       "      <th>40</th>\n",
       "      <th>41</th>\n",
       "      <th>42</th>\n",
       "      <th>43</th>\n",
       "      <th>44</th>\n",
       "      <th>45</th>\n",
       "      <th>46</th>\n",
       "      <th>47</th>\n",
       "      <th>48</th>\n",
       "      <th>49</th>\n",
       "      <th>50</th>\n",
       "      <th>51</th>\n",
       "      <th>52</th>\n",
       "      <th>53</th>\n",
       "      <th>54</th>\n",
       "      <th>55</th>\n",
       "      <th>56</th>\n",
       "      <th>57</th>\n",
       "      <th>58</th>\n",
       "      <th>59</th>\n",
       "      <th>60</th>\n",
       "      <th>61</th>\n",
       "      <th>62</th>\n",
       "      <th>63</th>\n",
       "      <th>64</th>\n",
       "      <th>65</th>\n",
       "      <th>66</th>\n",
       "      <th>67</th>\n",
       "      <th>68</th>\n",
       "      <th>69</th>\n",
       "      <th>70</th>\n",
       "      <th>71</th>\n",
       "      <th>72</th>\n",
       "      <th>73</th>\n",
       "      <th>74</th>\n",
       "      <th>75</th>\n",
       "      <th>76</th>\n",
       "      <th>77</th>\n",
       "      <th>78</th>\n",
       "      <th>79</th>\n",
       "      <th>80</th>\n",
       "      <th>81</th>\n",
       "    </tr>\n",
       "  </thead>\n",
       "  <tbody>\n",
       "    <tr>\n",
       "      <th>0</th>\n",
       "      <td>Accordion</td>\n",
       "      <td>BoundedFloatText</td>\n",
       "      <td>BoundedIntText</td>\n",
       "      <td>Box</td>\n",
       "      <td>Button</td>\n",
       "      <td>CallbackDispatcher</td>\n",
       "      <td>Checkbox</td>\n",
       "      <td>Color</td>\n",
       "      <td>CommInfo</td>\n",
       "      <td>Controller</td>\n",
       "      <td>DOMWidget</td>\n",
       "      <td>Dropdown</td>\n",
       "      <td>EventfulDict</td>\n",
       "      <td>EventfulList</td>\n",
       "      <td>FlexBox</td>\n",
       "      <td>FloatProgress</td>\n",
       "      <td>FloatRangeSlider</td>\n",
       "      <td>FloatSlider</td>\n",
       "      <td>FloatText</td>\n",
       "      <td>HBox</td>\n",
       "      <td>HTML</td>\n",
       "      <td>Image</td>\n",
       "      <td>IntProgress</td>\n",
       "      <td>IntRangeSlider</td>\n",
       "      <td>IntSlider</td>\n",
       "      <td>IntText</td>\n",
       "      <td>Latex</td>\n",
       "      <td>Output</td>\n",
       "      <td>PlaceProxy</td>\n",
       "      <td>Proxy</td>\n",
       "      <td>RadioButtons</td>\n",
       "      <td>Select</td>\n",
       "      <td>SelectMultiple</td>\n",
       "      <td>Tab</td>\n",
       "      <td>Text</td>\n",
       "      <td>Textarea</td>\n",
       "      <td>ToggleButton</td>\n",
       "      <td>ToggleButtons</td>\n",
       "      <td>VBox</td>\n",
       "      <td>Valid</td>\n",
       "      <td>Widget</td>\n",
       "      <td>__builtins__</td>\n",
       "      <td>__doc__</td>\n",
       "      <td>__file__</td>\n",
       "      <td>__name__</td>\n",
       "      <td>__package__</td>\n",
       "      <td>__path__</td>\n",
       "      <td>__version__</td>\n",
       "      <td>_handle_ipython</td>\n",
       "      <td>_version</td>\n",
       "      <td>eventful</td>\n",
       "      <td>find_static_assets</td>\n",
       "      <td>fixed</td>\n",
       "      <td>get_ipython</td>\n",
       "      <td>handle_kernel</td>\n",
       "      <td>interact</td>\n",
       "      <td>interact_manual</td>\n",
       "      <td>interaction</td>\n",
       "      <td>interactive</td>\n",
       "      <td>jsdlink</td>\n",
       "      <td>jslink</td>\n",
       "      <td>load_ipython_extension</td>\n",
       "      <td>os</td>\n",
       "      <td>register</td>\n",
       "      <td>register_comm_target</td>\n",
       "      <td>trait_types</td>\n",
       "      <td>version_info</td>\n",
       "      <td>widget</td>\n",
       "      <td>widget_bool</td>\n",
       "      <td>widget_box</td>\n",
       "      <td>widget_button</td>\n",
       "      <td>widget_controller</td>\n",
       "      <td>widget_float</td>\n",
       "      <td>widget_image</td>\n",
       "      <td>widget_int</td>\n",
       "      <td>widget_link</td>\n",
       "      <td>widget_output</td>\n",
       "      <td>widget_selection</td>\n",
       "      <td>widget_selectioncontainer</td>\n",
       "      <td>widget_serialization</td>\n",
       "      <td>widget_string</td>\n",
       "      <td>widgets</td>\n",
       "    </tr>\n",
       "  </tbody>\n",
       "</table>\n",
       "</div>"
      ],
      "text/plain": [
       "          0                 1               2    3       4   \\\n",
       "0  Accordion  BoundedFloatText  BoundedIntText  Box  Button   \n",
       "\n",
       "                   5         6      7         8           9          10  \\\n",
       "0  CallbackDispatcher  Checkbox  Color  CommInfo  Controller  DOMWidget   \n",
       "\n",
       "         11            12            13       14             15  \\\n",
       "0  Dropdown  EventfulDict  EventfulList  FlexBox  FloatProgress   \n",
       "\n",
       "                 16           17         18    19    20     21           22  \\\n",
       "0  FloatRangeSlider  FloatSlider  FloatText  HBox  HTML  Image  IntProgress   \n",
       "\n",
       "               23         24       25     26      27          28     29  \\\n",
       "0  IntRangeSlider  IntSlider  IntText  Latex  Output  PlaceProxy  Proxy   \n",
       "\n",
       "             30      31              32   33    34        35            36  \\\n",
       "0  RadioButtons  Select  SelectMultiple  Tab  Text  Textarea  ToggleButton   \n",
       "\n",
       "              37    38     39      40            41       42        43  \\\n",
       "0  ToggleButtons  VBox  Valid  Widget  __builtins__  __doc__  __file__   \n",
       "\n",
       "         44           45        46           47               48        49  \\\n",
       "0  __name__  __package__  __path__  __version__  _handle_ipython  _version   \n",
       "\n",
       "         50                  51     52           53             54        55  \\\n",
       "0  eventful  find_static_assets  fixed  get_ipython  handle_kernel  interact   \n",
       "\n",
       "                56           57           58       59      60  \\\n",
       "0  interact_manual  interaction  interactive  jsdlink  jslink   \n",
       "\n",
       "                       61  62        63                    64           65  \\\n",
       "0  load_ipython_extension  os  register  register_comm_target  trait_types   \n",
       "\n",
       "             66      67           68          69             70  \\\n",
       "0  version_info  widget  widget_bool  widget_box  widget_button   \n",
       "\n",
       "                  71            72            73          74           75  \\\n",
       "0  widget_controller  widget_float  widget_image  widget_int  widget_link   \n",
       "\n",
       "              76                77                         78  \\\n",
       "0  widget_output  widget_selection  widget_selectioncontainer   \n",
       "\n",
       "                     79             80       81  \n",
       "0  widget_serialization  widget_string  widgets  "
      ]
     },
     "execution_count": 5,
     "metadata": {},
     "output_type": "execute_result"
    }
   ],
   "source": [
    "import ipywidgets as widgets\n",
    "print(widgets.Button.on_click.__doc__)\n",
    "\n",
    "import pandas as pd\n",
    "pd.set_option('display.max_rows',100)\n",
    "pd.DataFrame(dir(widgets)).T"
   ]
  },
  {
   "cell_type": "markdown",
   "metadata": {},
   "source": [
    "### widgets.Button, button.on_click\n",
    "- Since button clicks are stateless, they are transmitted from the front-end to the back-end using custom messages.  \n",
    "- By using the `on_click` method, a button that prints a message when it has been clicked is shown below."
   ]
  },
  {
   "cell_type": "code",
   "execution_count": 6,
   "metadata": {
    "collapsed": false
   },
   "outputs": [
    {
     "data": {
      "text/html": [
       "<div>\n",
       "<table border=\"1\" class=\"dataframe\">\n",
       "  <thead>\n",
       "    <tr style=\"text-align: right;\">\n",
       "      <th></th>\n",
       "      <th>0</th>\n",
       "      <th>1</th>\n",
       "      <th>2</th>\n",
       "      <th>3</th>\n",
       "      <th>4</th>\n",
       "      <th>5</th>\n",
       "      <th>6</th>\n",
       "      <th>7</th>\n",
       "      <th>8</th>\n",
       "      <th>9</th>\n",
       "      <th>10</th>\n",
       "      <th>11</th>\n",
       "      <th>12</th>\n",
       "      <th>13</th>\n",
       "      <th>14</th>\n",
       "      <th>15</th>\n",
       "      <th>16</th>\n",
       "      <th>17</th>\n",
       "      <th>18</th>\n",
       "      <th>19</th>\n",
       "      <th>20</th>\n",
       "      <th>21</th>\n",
       "      <th>22</th>\n",
       "      <th>23</th>\n",
       "      <th>24</th>\n",
       "      <th>25</th>\n",
       "      <th>26</th>\n",
       "      <th>27</th>\n",
       "      <th>28</th>\n",
       "      <th>29</th>\n",
       "      <th>30</th>\n",
       "      <th>31</th>\n",
       "      <th>32</th>\n",
       "      <th>33</th>\n",
       "      <th>34</th>\n",
       "      <th>35</th>\n",
       "      <th>36</th>\n",
       "      <th>37</th>\n",
       "      <th>38</th>\n",
       "      <th>39</th>\n",
       "      <th>40</th>\n",
       "      <th>41</th>\n",
       "      <th>42</th>\n",
       "      <th>43</th>\n",
       "      <th>44</th>\n",
       "      <th>45</th>\n",
       "      <th>46</th>\n",
       "      <th>47</th>\n",
       "      <th>48</th>\n",
       "      <th>49</th>\n",
       "      <th>50</th>\n",
       "      <th>51</th>\n",
       "      <th>52</th>\n",
       "      <th>53</th>\n",
       "      <th>54</th>\n",
       "      <th>55</th>\n",
       "      <th>56</th>\n",
       "      <th>57</th>\n",
       "      <th>58</th>\n",
       "      <th>59</th>\n",
       "      <th>60</th>\n",
       "      <th>61</th>\n",
       "      <th>62</th>\n",
       "      <th>63</th>\n",
       "      <th>64</th>\n",
       "      <th>65</th>\n",
       "      <th>66</th>\n",
       "      <th>67</th>\n",
       "      <th>68</th>\n",
       "      <th>69</th>\n",
       "      <th>70</th>\n",
       "      <th>71</th>\n",
       "      <th>72</th>\n",
       "      <th>73</th>\n",
       "      <th>74</th>\n",
       "      <th>75</th>\n",
       "      <th>76</th>\n",
       "      <th>77</th>\n",
       "      <th>78</th>\n",
       "      <th>79</th>\n",
       "      <th>80</th>\n",
       "      <th>81</th>\n",
       "      <th>82</th>\n",
       "      <th>83</th>\n",
       "      <th>84</th>\n",
       "      <th>85</th>\n",
       "      <th>86</th>\n",
       "      <th>87</th>\n",
       "      <th>88</th>\n",
       "      <th>89</th>\n",
       "      <th>90</th>\n",
       "      <th>91</th>\n",
       "      <th>92</th>\n",
       "      <th>93</th>\n",
       "      <th>94</th>\n",
       "      <th>95</th>\n",
       "      <th>96</th>\n",
       "      <th>97</th>\n",
       "      <th>98</th>\n",
       "      <th>99</th>\n",
       "      <th>100</th>\n",
       "      <th>101</th>\n",
       "      <th>102</th>\n",
       "      <th>103</th>\n",
       "      <th>104</th>\n",
       "      <th>105</th>\n",
       "      <th>106</th>\n",
       "      <th>107</th>\n",
       "      <th>108</th>\n",
       "      <th>109</th>\n",
       "      <th>110</th>\n",
       "      <th>111</th>\n",
       "      <th>112</th>\n",
       "      <th>113</th>\n",
       "      <th>114</th>\n",
       "    </tr>\n",
       "  </thead>\n",
       "  <tbody>\n",
       "    <tr>\n",
       "      <th>0</th>\n",
       "      <td>__class__</td>\n",
       "      <td>__del__</td>\n",
       "      <td>__delattr__</td>\n",
       "      <td>__dict__</td>\n",
       "      <td>__doc__</td>\n",
       "      <td>__format__</td>\n",
       "      <td>__getattribute__</td>\n",
       "      <td>__hash__</td>\n",
       "      <td>__init__</td>\n",
       "      <td>__module__</td>\n",
       "      <td>__new__</td>\n",
       "      <td>__reduce__</td>\n",
       "      <td>__reduce_ex__</td>\n",
       "      <td>__repr__</td>\n",
       "      <td>__setattr__</td>\n",
       "      <td>__sizeof__</td>\n",
       "      <td>__str__</td>\n",
       "      <td>__subclasshook__</td>\n",
       "      <td>__weakref__</td>\n",
       "      <td>_add_notifiers</td>\n",
       "      <td>_call_widget_constructed</td>\n",
       "      <td>_click_handlers</td>\n",
       "      <td>_comm_changed</td>\n",
       "      <td>_config_changed</td>\n",
       "      <td>_cross_validation_lock</td>\n",
       "      <td>_css</td>\n",
       "      <td>_display_callbacks</td>\n",
       "      <td>_dom_classes</td>\n",
       "      <td>_find_my_config</td>\n",
       "      <td>_handle_button_msg</td>\n",
       "      <td>_handle_custom_msg</td>\n",
       "      <td>_handle_displayed</td>\n",
       "      <td>_handle_msg</td>\n",
       "      <td>_holding_sync</td>\n",
       "      <td>_ipython_display_</td>\n",
       "      <td>_keys_default</td>\n",
       "      <td>_load_config</td>\n",
       "      <td>_lock_property</td>\n",
       "      <td>_log_default</td>\n",
       "      <td>_model_id</td>\n",
       "      <td>_model_module</td>\n",
       "      <td>_model_name</td>\n",
       "      <td>_msg_callbacks</td>\n",
       "      <td>_notify_trait</td>\n",
       "      <td>_property_lock</td>\n",
       "      <td>_remove_notifiers</td>\n",
       "      <td>_send</td>\n",
       "      <td>_should_send_property</td>\n",
       "      <td>_states_to_send</td>\n",
       "      <td>_trait_from_json</td>\n",
       "      <td>_trait_notifiers</td>\n",
       "      <td>_trait_to_json</td>\n",
       "      <td>_trait_values</td>\n",
       "      <td>_view_module</td>\n",
       "      <td>_view_name</td>\n",
       "      <td>_widget_construction_callback</td>\n",
       "      <td>add_traits</td>\n",
       "      <td>background_color</td>\n",
       "      <td>border_color</td>\n",
       "      <td>border_radius</td>\n",
       "      <td>border_style</td>\n",
       "      <td>border_width</td>\n",
       "      <td>button_style</td>\n",
       "      <td>class_config_rst_doc</td>\n",
       "      <td>class_config_section</td>\n",
       "      <td>class_get_help</td>\n",
       "      <td>class_get_trait_help</td>\n",
       "      <td>class_own_traits</td>\n",
       "      <td>class_print_help</td>\n",
       "      <td>class_trait_names</td>\n",
       "      <td>class_traits</td>\n",
       "      <td>close</td>\n",
       "      <td>color</td>\n",
       "      <td>comm</td>\n",
       "      <td>config</td>\n",
       "      <td>description</td>\n",
       "      <td>disabled</td>\n",
       "      <td>font_family</td>\n",
       "      <td>font_size</td>\n",
       "      <td>font_style</td>\n",
       "      <td>font_weight</td>\n",
       "      <td>get_state</td>\n",
       "      <td>handle_comm_opened</td>\n",
       "      <td>has_trait</td>\n",
       "      <td>height</td>\n",
       "      <td>hold_sync</td>\n",
       "      <td>hold_trait_notifications</td>\n",
       "      <td>icon</td>\n",
       "      <td>keys</td>\n",
       "      <td>log</td>\n",
       "      <td>margin</td>\n",
       "      <td>model_id</td>\n",
       "      <td>msg_throttle</td>\n",
       "      <td>on_click</td>\n",
       "      <td>on_displayed</td>\n",
       "      <td>on_msg</td>\n",
       "      <td>on_trait_change</td>\n",
       "      <td>on_widget_constructed</td>\n",
       "      <td>open</td>\n",
       "      <td>padding</td>\n",
       "      <td>parent</td>\n",
       "      <td>section_names</td>\n",
       "      <td>send</td>\n",
       "      <td>send_state</td>\n",
       "      <td>set_state</td>\n",
       "      <td>tooltip</td>\n",
       "      <td>trait_metadata</td>\n",
       "      <td>trait_names</td>\n",
       "      <td>traits</td>\n",
       "      <td>update_config</td>\n",
       "      <td>version</td>\n",
       "      <td>visible</td>\n",
       "      <td>widget_types</td>\n",
       "      <td>widgets</td>\n",
       "      <td>width</td>\n",
       "    </tr>\n",
       "  </tbody>\n",
       "</table>\n",
       "</div>"
      ],
      "text/plain": [
       "         0        1            2         3        4           5    \\\n",
       "0  __class__  __del__  __delattr__  __dict__  __doc__  __format__   \n",
       "\n",
       "                6         7         8           9        10          11   \\\n",
       "0  __getattribute__  __hash__  __init__  __module__  __new__  __reduce__   \n",
       "\n",
       "             12        13           14          15       16   \\\n",
       "0  __reduce_ex__  __repr__  __setattr__  __sizeof__  __str__   \n",
       "\n",
       "                17           18              19                        20   \\\n",
       "0  __subclasshook__  __weakref__  _add_notifiers  _call_widget_constructed   \n",
       "\n",
       "               21             22               23                      24   \\\n",
       "0  _click_handlers  _comm_changed  _config_changed  _cross_validation_lock   \n",
       "\n",
       "    25                  26            27               28   \\\n",
       "0  _css  _display_callbacks  _dom_classes  _find_my_config   \n",
       "\n",
       "                  29                  30                 31           32   \\\n",
       "0  _handle_button_msg  _handle_custom_msg  _handle_displayed  _handle_msg   \n",
       "\n",
       "             33                 34             35            36   \\\n",
       "0  _holding_sync  _ipython_display_  _keys_default  _load_config   \n",
       "\n",
       "              37            38         39             40           41   \\\n",
       "0  _lock_property  _log_default  _model_id  _model_module  _model_name   \n",
       "\n",
       "              42             43              44                 45     46   \\\n",
       "0  _msg_callbacks  _notify_trait  _property_lock  _remove_notifiers  _send   \n",
       "\n",
       "                     47               48                49                50   \\\n",
       "0  _should_send_property  _states_to_send  _trait_from_json  _trait_notifiers   \n",
       "\n",
       "              51             52            53          54   \\\n",
       "0  _trait_to_json  _trait_values  _view_module  _view_name   \n",
       "\n",
       "                             55          56                57            58   \\\n",
       "0  _widget_construction_callback  add_traits  background_color  border_color   \n",
       "\n",
       "             59            60            61            62   \\\n",
       "0  border_radius  border_style  border_width  button_style   \n",
       "\n",
       "                    63                    64              65   \\\n",
       "0  class_config_rst_doc  class_config_section  class_get_help   \n",
       "\n",
       "                    66                67                68   \\\n",
       "0  class_get_trait_help  class_own_traits  class_print_help   \n",
       "\n",
       "                 69            70     71     72    73      74           75   \\\n",
       "0  class_trait_names  class_traits  close  color  comm  config  description   \n",
       "\n",
       "        76           77         78          79           80         81   \\\n",
       "0  disabled  font_family  font_size  font_style  font_weight  get_state   \n",
       "\n",
       "                  82         83      84         85                        86   \\\n",
       "0  handle_comm_opened  has_trait  height  hold_sync  hold_trait_notifications   \n",
       "\n",
       "    87    88   89      90        91            92        93            94   \\\n",
       "0  icon  keys  log  margin  model_id  msg_throttle  on_click  on_displayed   \n",
       "\n",
       "      95               96                     97    98       99      100  \\\n",
       "0  on_msg  on_trait_change  on_widget_constructed  open  padding  parent   \n",
       "\n",
       "             101   102         103        104      105             106  \\\n",
       "0  section_names  send  send_state  set_state  tooltip  trait_metadata   \n",
       "\n",
       "           107     108            109      110      111           112  \\\n",
       "0  trait_names  traits  update_config  version  visible  widget_types   \n",
       "\n",
       "       113    114  \n",
       "0  widgets  width  "
      ]
     },
     "execution_count": 6,
     "metadata": {},
     "output_type": "execute_result"
    }
   ],
   "source": [
    "from IPython.display import display\n",
    "button = widgets.Button(description=\"Click Me!\")\n",
    "display(button)\n",
    "\n",
    "# oddly, this requires argument\n",
    "def on_button_clicked(this_can_be_any_fucking_variable_name):\n",
    "    print(\"Button clicked.\")\n",
    "\n",
    "button.on_click(on_button_clicked)\n",
    "DF(dir(button)).T"
   ]
  },
  {
   "cell_type": "markdown",
   "metadata": {},
   "source": [
    "### widgets.Text, on_submit\n",
    "- The `Text` widget also has a special `on_submit` event.  \n",
    "- The `on_submit` event fires when the user hits return."
   ]
  },
  {
   "cell_type": "code",
   "execution_count": 7,
   "metadata": {
    "collapsed": false
   },
   "outputs": [],
   "source": [
    "text = widgets.Text()\n",
    "display(text)\n",
    "\n",
    "def handle_submit(sender):\n",
    "    print(text.value)\n",
    "\n",
    "text.on_submit(handle_submit)"
   ]
  },
  {
   "cell_type": "markdown",
   "metadata": {},
   "source": [
    "## Traitlet events\n",
    "- Widget properties are IPython traitlets and traitlets are eventful.  \n",
    "- To handle  changes, the `on_trait_change` method of the widget can be used to register a callback.  \n",
    "- The doc string for `on_trait_change` can be seen below."
   ]
  },
  {
   "cell_type": "code",
   "execution_count": 8,
   "metadata": {
    "collapsed": false
   },
   "outputs": [
    {
     "name": "stdout",
     "output_type": "stream",
     "text": [
      "Setup a handler to be called when a trait changes.\n",
      "\n",
      "        This is used to setup dynamic notifications of trait changes.\n",
      "\n",
      "        Static handlers can be created by creating methods on a HasTraits\n",
      "        subclass with the naming convention '_[traitname]_changed'.  Thus,\n",
      "        to create static handler for the trait 'a', create the method\n",
      "        _a_changed(self, name, old, new) (fewer arguments can be used, see\n",
      "        below).\n",
      "\n",
      "        Parameters\n",
      "        ----------\n",
      "        handler : callable\n",
      "            A callable that is called when a trait changes.  Its\n",
      "            signature can be handler(), handler(name), handler(name, new)\n",
      "            or handler(name, old, new).\n",
      "        name : list, str, None\n",
      "            If None, the handler will apply to all traits.  If a list\n",
      "            of str, handler will apply to all names in the list.  If a\n",
      "            str, the handler will apply just to that name.\n",
      "        remove : bool\n",
      "            If False (the default), then install the handler.  If True\n",
      "            then unintall it.\n",
      "        \n"
     ]
    }
   ],
   "source": [
    "print(widgets.Widget.on_trait_change.__doc__)"
   ]
  },
  {
   "cell_type": "markdown",
   "metadata": {},
   "source": [
    "### 4 possible callback Signatures\n",
    "Mentioned in the doc string, the callback registered can have 4 possible signatures:\n",
    "\n",
    "- callback()\n",
    "- callback(trait_name)\n",
    "- callback(trait_name, new_value)\n",
    "- callback(trait_name, old_value, new_value)\n",
    "\n",
    "Using this method, an example of how to output an `IntSlider`'s value as it is changed can be seen below."
   ]
  },
  {
   "cell_type": "code",
   "execution_count": 13,
   "metadata": {
    "collapsed": false
   },
   "outputs": [
    {
     "name": "stdout",
     "output_type": "stream",
     "text": [
      "43\n",
      "60\n"
     ]
    }
   ],
   "source": [
    "int_range = widgets.IntSlider()\n",
    "display(int_range) # <- display will show the display\n",
    "\n",
    "def on_value_change(name, value):\n",
    "    print(value)\n",
    "\n",
    "int_range.on_trait_change(on_value_change, 'value')"
   ]
  },
  {
   "cell_type": "markdown",
   "metadata": {},
   "source": [
    "# Linking Widgets (provides synchronization)"
   ]
  },
  {
   "cell_type": "markdown",
   "metadata": {},
   "source": [
    "Often, you may want to simply link widget attributes together. Synchronization of attributes can be done in a simpler way than by using bare traitlets events. \n",
    "```python\n",
    "    traitlets.link\n",
    "    import traitlets\n",
    "```    "
   ]
  },
  {
   "cell_type": "markdown",
   "metadata": {},
   "source": [
    "## Linking traitlets attributes from the server side\n",
    "\n",
    "The first method is to use the `link` and `dlink` functions from the `traitlets` module. "
   ]
  },
  {
   "cell_type": "code",
   "execution_count": 9,
   "metadata": {
    "collapsed": false
   },
   "outputs": [],
   "source": [
    "import traitlets"
   ]
  },
  {
   "cell_type": "code",
   "execution_count": 10,
   "metadata": {
    "collapsed": false
   },
   "outputs": [],
   "source": [
    "caption = widgets.Latex(value = 'The values of slider1 and slider2 are synchronized $\\\\beta$')\n",
    "sliders1, slider2 = widgets.IntSlider(description='Slider 1'),\\\n",
    "                             widgets.IntSlider(description='Slider 2')\n",
    "l = traitlets.link((sliders1, 'value'), (slider2, 'value'))\n",
    "display(caption, sliders1, slider2)"
   ]
  },
  {
   "cell_type": "code",
   "execution_count": 16,
   "metadata": {
    "collapsed": false
   },
   "outputs": [],
   "source": [
    "caption = widgets.Latex(value = 'Changes in source values are reflected in target1')\n",
    "source, target1 = widgets.IntSlider(description='Source'),\\\n",
    "                           widgets.IntSlider(description='Target 1')\n",
    "dl = traitlets.dlink((source, 'value'), (target1, 'value'))\n",
    "display(caption, source, target1)"
   ]
  },
  {
   "cell_type": "markdown",
   "metadata": {},
   "source": [
    "Function `traitlets.link` and `traitlets.dlink` return a `Link` or `DLink` object. The link can be broken by calling the `unlink` method."
   ]
  },
  {
   "cell_type": "code",
   "execution_count": 17,
   "metadata": {
    "collapsed": false
   },
   "outputs": [],
   "source": [
    "l.unlink()\n",
    "dl.unlink()"
   ]
  },
  {
   "cell_type": "markdown",
   "metadata": {},
   "source": [
    "## Linking widgets attributes from the client side"
   ]
  },
  {
   "cell_type": "markdown",
   "metadata": {},
   "source": [
    "When synchronizing traitlets attributes, you may experience a lag because of the latency due to the roundtrip to the server side. You can also directly link widget attributes in the browser using the link widgets, in either a unidirectional or a bidirectional fashion."
   ]
  },
  {
   "cell_type": "code",
   "execution_count": null,
   "metadata": {
    "collapsed": false
   },
   "outputs": [],
   "source": [
    "caption = widgets.Latex(value = 'The values of range1 and range2 are synchronized')\n",
    "range1, range2 = widgets.IntSlider(description='Range 1'),\\\n",
    "                         widgets.IntSlider(description='Range 2')\n",
    "l = widgets.jslink((range1, 'value'), (range2, 'value'))\n",
    "display(caption, range1, range2)"
   ]
  },
  {
   "cell_type": "code",
   "execution_count": null,
   "metadata": {
    "collapsed": false
   },
   "outputs": [],
   "source": [
    "caption = widgets.Latex(value = 'Changes in source_range values are reflected in target_range1')\n",
    "source_range, target_range1 = widgets.IntSlider(description='Source range'),\\\n",
    "                                             widgets.IntSlider(description='Target range 1')\n",
    "dl = widgets.jsdlink((source_range, 'value'), (target_range1, 'value'))\n",
    "display(caption, source_range, target_range1)"
   ]
  },
  {
   "cell_type": "markdown",
   "metadata": {},
   "source": [
    "Function `widgets.jslink` returns a `Link` widget. The link can be broken by calling the `unlink` method."
   ]
  },
  {
   "cell_type": "code",
   "execution_count": null,
   "metadata": {
    "collapsed": false
   },
   "outputs": [],
   "source": [
    "l.unlink()\n",
    "dl.unlink()"
   ]
  },
  {
   "cell_type": "markdown",
   "metadata": {},
   "source": [
    "[Index](Index.ipynb) - [Back](Widget List.ipynb) - [Next](Widget Styling.ipynb)"
   ]
  }
 ],
 "metadata": {
  "cell_tags": [
   [
    "<None>",
    null
   ]
  ],
  "kernelspec": {
   "display_name": "Python 2",
   "language": "python",
   "name": "python2"
  },
  "language_info": {
   "codemirror_mode": {
    "name": "ipython",
    "version": 2
   },
   "file_extension": ".py",
   "mimetype": "text/x-python",
   "name": "python",
   "nbconvert_exporter": "python",
   "pygments_lexer": "ipython2",
   "version": "2.7.10"
  }
 },
 "nbformat": 4,
 "nbformat_minor": 0
}
