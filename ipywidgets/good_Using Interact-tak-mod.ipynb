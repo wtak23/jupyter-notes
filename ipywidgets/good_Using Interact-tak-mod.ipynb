{
 "cells": [
  {
   "cell_type": "markdown",
   "metadata": {},
   "source": [
    "# Using Interact"
   ]
  },
  {
   "cell_type": "markdown",
   "metadata": {},
   "source": [
    "The `interact` function (`ipywidgets.interact`) automatically creates user interface (UI) controls for exploring code and data interactively. It is the easiest way to get started using IPython's widgets."
   ]
  },
  {
   "cell_type": "code",
   "execution_count": 8,
   "metadata": {
    "collapsed": false
   },
   "outputs": [],
   "source": [
    "from __future__ import print_function\n",
    "from ipywidgets import interact, interactive, fixed\n",
    "from IPython.display import display\n",
    "import ipywidgets as widgets\n",
    "from pprint import pprint\n",
    "from pandas import DataFrame as DF\n",
    "import pandas as pd\n",
    "pd.set_option('display.max_columns',500)"
   ]
  },
  {
   "cell_type": "markdown",
   "metadata": {},
   "source": [
    "<div class=\"alert alert-success\">\n",
    "As of Jupyter 4.0, the widgets in this notebook won't show up on http://nbviewer.ipython.org. To view the widgets and interact with them, you will need to download this notebook and run it with a Jupyter Notebook server.\n",
    "\n",
    "</div>"
   ]
  },
  {
   "cell_type": "markdown",
   "metadata": {},
   "source": [
    "# Tak demo\n",
    "## WARNING: loading ipywidget caused print to require round bracket"
   ]
  },
  {
   "cell_type": "code",
   "execution_count": 9,
   "metadata": {
    "collapsed": false
   },
   "outputs": [
    {
     "name": "stdout",
     "output_type": "stream",
     "text": [
      "this is fine\n"
     ]
    }
   ],
   "source": [
    "print('this is fine')"
   ]
  },
  {
   "cell_type": "code",
   "execution_count": 10,
   "metadata": {
    "collapsed": false
   },
   "outputs": [
    {
     "ename": "SyntaxError",
     "evalue": "invalid syntax (<ipython-input-10-f773593da484>, line 1)",
     "output_type": "error",
     "traceback": [
      "\u001b[1;36m  File \u001b[1;32m\"<ipython-input-10-f773593da484>\"\u001b[1;36m, line \u001b[1;32m1\u001b[0m\n\u001b[1;33m    print 'this fucks up' # syntax error not catchable?\u001b[0m\n\u001b[1;37m                        ^\u001b[0m\n\u001b[1;31mSyntaxError\u001b[0m\u001b[1;31m:\u001b[0m invalid syntax\n"
     ]
    }
   ],
   "source": [
    "print 'this fucks up' # syntax error not catchable?"
   ]
  },
  {
   "cell_type": "markdown",
   "metadata": {},
   "source": [
    "## interact demo\n",
    "\n",
    "In `interact`| widget abbreviation\n",
    ":---:|:---\n",
    "`x = True` | widgets.Checkbox\n",
    "`x = 'some string'`| widets.Text\n",
    "`x = (-10, 10, 2)`| widgets.IntSlider\n",
    "`x = (-10., 2, 0.1)`| widgets.FloatSlider\n",
    "`x = ('tuple','of','string')`| widgets.Dropdown"
   ]
  },
  {
   "cell_type": "code",
   "execution_count": 11,
   "metadata": {
    "collapsed": false
   },
   "outputs": [
    {
     "data": {
      "text/plain": [
       "32"
      ]
     },
     "metadata": {},
     "output_type": "display_data"
    }
   ],
   "source": [
    "# tak: would lambda work?\n",
    "try:\n",
    "    interact(lambda y: y, x=10)\n",
    "except Exception as err:\n",
    "    print(type(err), err)\n",
    "\n",
    "# lambda function that just returns itself\n",
    "a = interact(lambda x: x, x='str')    # textbox\n",
    "b = interact(lambda x: x, x=True)     # check-box\n",
    "c = interact(lambda x: x, x=(-10,10)) # int-slider\n",
    "d = interact(lambda x: x, x=500)      # int-slider from (-x, 3*x), origin at x\n",
    "e = interact(lambda x: x, x=(-10,10,0.5)) # (min, max, step) slider\n",
    "interact(lambda x: x, x=widgets.IntSlider(min=-10,max=30,step=1,value=10)); # <- more explicit method calls\n",
    "f = interact(lambda x: x, x=('fuck','this','shit')) #dropdown\n",
    "g = interact(lambda x: x, x={'key1':'val1', 'key2':32}) #dropdown"
   ]
  },
  {
   "cell_type": "code",
   "execution_count": 12,
   "metadata": {
    "collapsed": false
   },
   "outputs": [
    {
     "name": "stdout",
     "output_type": "stream",
     "text": [
      "<function <lambda> at 0x7f5862edc2a8>\n",
      "<function <lambda> at 0x7f5844413c80>\n",
      "<function <lambda> at 0x7f5844413f50>\n",
      "<function <lambda> at 0x7f584434f230>\n",
      "<function <lambda> at 0x7f584434f398>\n",
      "<function <lambda> at 0x7f584434faa0>\n",
      "<function <lambda> at 0x7f584434fde8>\n"
     ]
    }
   ],
   "source": [
    "print(a)\n",
    "print(b)\n",
    "print(c)\n",
    "print(d)\n",
    "print(e)\n",
    "print(f)\n",
    "print(g)"
   ]
  },
  {
   "cell_type": "code",
   "execution_count": 13,
   "metadata": {
    "collapsed": false
   },
   "outputs": [
    {
     "name": "stdout",
     "output_type": "stream",
     "text": [
      "['__call__', '__class__', '__closure__', '__code__', '__defaults__', '__delattr__', '__dict__', '__doc__', '__format__', '__get__', '__getattribute__', '__globals__', '__hash__', '__init__', '__module__', '__name__', '__new__', '__reduce__', '__reduce_ex__', '__repr__', '__setattr__', '__sizeof__', '__str__', '__subclasshook__', 'func_closure', 'func_code', 'func_defaults', 'func_dict', 'func_doc', 'func_globals', 'func_name', 'widget']\n"
     ]
    },
    {
     "data": {
      "text/html": [
       "<div>\n",
       "<table border=\"1\" class=\"dataframe\">\n",
       "  <thead>\n",
       "    <tr style=\"text-align: right;\">\n",
       "      <th></th>\n",
       "      <th>0</th>\n",
       "      <th>1</th>\n",
       "      <th>2</th>\n",
       "      <th>3</th>\n",
       "      <th>4</th>\n",
       "      <th>5</th>\n",
       "      <th>6</th>\n",
       "      <th>7</th>\n",
       "      <th>8</th>\n",
       "      <th>9</th>\n",
       "      <th>10</th>\n",
       "      <th>11</th>\n",
       "      <th>12</th>\n",
       "      <th>13</th>\n",
       "      <th>14</th>\n",
       "      <th>15</th>\n",
       "      <th>16</th>\n",
       "      <th>17</th>\n",
       "      <th>18</th>\n",
       "      <th>19</th>\n",
       "      <th>20</th>\n",
       "      <th>21</th>\n",
       "      <th>22</th>\n",
       "      <th>23</th>\n",
       "      <th>24</th>\n",
       "      <th>25</th>\n",
       "      <th>26</th>\n",
       "      <th>27</th>\n",
       "      <th>28</th>\n",
       "      <th>29</th>\n",
       "      <th>30</th>\n",
       "      <th>31</th>\n",
       "    </tr>\n",
       "  </thead>\n",
       "  <tbody>\n",
       "    <tr>\n",
       "      <th>0</th>\n",
       "      <td>__call__</td>\n",
       "      <td>__class__</td>\n",
       "      <td>__closure__</td>\n",
       "      <td>__code__</td>\n",
       "      <td>__defaults__</td>\n",
       "      <td>__delattr__</td>\n",
       "      <td>__dict__</td>\n",
       "      <td>__doc__</td>\n",
       "      <td>__format__</td>\n",
       "      <td>__get__</td>\n",
       "      <td>__getattribute__</td>\n",
       "      <td>__globals__</td>\n",
       "      <td>__hash__</td>\n",
       "      <td>__init__</td>\n",
       "      <td>__module__</td>\n",
       "      <td>__name__</td>\n",
       "      <td>__new__</td>\n",
       "      <td>__reduce__</td>\n",
       "      <td>__reduce_ex__</td>\n",
       "      <td>__repr__</td>\n",
       "      <td>__setattr__</td>\n",
       "      <td>__sizeof__</td>\n",
       "      <td>__str__</td>\n",
       "      <td>__subclasshook__</td>\n",
       "      <td>func_closure</td>\n",
       "      <td>func_code</td>\n",
       "      <td>func_defaults</td>\n",
       "      <td>func_dict</td>\n",
       "      <td>func_doc</td>\n",
       "      <td>func_globals</td>\n",
       "      <td>func_name</td>\n",
       "      <td>widget</td>\n",
       "    </tr>\n",
       "  </tbody>\n",
       "</table>\n",
       "</div>"
      ],
      "text/plain": [
       "         0          1            2         3             4            5   \\\n",
       "0  __call__  __class__  __closure__  __code__  __defaults__  __delattr__   \n",
       "\n",
       "         6        7           8        9                 10           11  \\\n",
       "0  __dict__  __doc__  __format__  __get__  __getattribute__  __globals__   \n",
       "\n",
       "         12        13          14        15       16          17  \\\n",
       "0  __hash__  __init__  __module__  __name__  __new__  __reduce__   \n",
       "\n",
       "              18        19           20          21       22  \\\n",
       "0  __reduce_ex__  __repr__  __setattr__  __sizeof__  __str__   \n",
       "\n",
       "                 23            24         25             26         27  \\\n",
       "0  __subclasshook__  func_closure  func_code  func_defaults  func_dict   \n",
       "\n",
       "         28            29         30      31  \n",
       "0  func_doc  func_globals  func_name  widget  "
      ]
     },
     "execution_count": 13,
     "metadata": {},
     "output_type": "execute_result"
    }
   ],
   "source": [
    "print(dir(a))\n",
    "from pprint import pprint\n",
    "DF(dir(a)).T"
   ]
  },
  {
   "cell_type": "code",
   "execution_count": 14,
   "metadata": {
    "collapsed": false
   },
   "outputs": [
    {
     "data": {
      "text/plain": [
       "<code object <lambda> at 0x7f584440fe30, file \"<ipython-input-11-71ab67224f98>\", line 8>"
      ]
     },
     "execution_count": 14,
     "metadata": {},
     "output_type": "execute_result"
    }
   ],
   "source": [
    "a.func_code"
   ]
  },
  {
   "cell_type": "code",
   "execution_count": 15,
   "metadata": {
    "collapsed": false
   },
   "outputs": [
    {
     "data": {
      "text/plain": [
       "0"
      ]
     },
     "metadata": {},
     "output_type": "display_data"
    }
   ],
   "source": [
    "# we can call the widget afterwords\n",
    "a.widget\n",
    "b.widget\n",
    "c.widget"
   ]
  },
  {
   "cell_type": "markdown",
   "metadata": {},
   "source": [
    "## interactive demo\n",
    "- Unlike interact, interactive returns a Widget instance rather than immediately displaying the widget."
   ]
  },
  {
   "cell_type": "code",
   "execution_count": 16,
   "metadata": {
    "collapsed": false,
    "run_control": {
     "marked": false
    }
   },
   "outputs": [
    {
     "name": "stdout",
     "output_type": "stream",
     "text": [
      "type = <class 'ipywidgets.widgets.widget_box.Box'>\n",
      "w.children = (<ipywidgets.widgets.widget_int.IntSlider object at 0x7f5844380410>,)\n"
     ]
    },
    {
     "data": {
      "text/html": [
       "<div>\n",
       "<table border=\"1\" class=\"dataframe\">\n",
       "  <thead>\n",
       "    <tr style=\"text-align: right;\">\n",
       "      <th></th>\n",
       "      <th>0</th>\n",
       "      <th>1</th>\n",
       "      <th>2</th>\n",
       "      <th>3</th>\n",
       "      <th>4</th>\n",
       "      <th>5</th>\n",
       "      <th>6</th>\n",
       "      <th>7</th>\n",
       "      <th>8</th>\n",
       "      <th>9</th>\n",
       "      <th>10</th>\n",
       "      <th>11</th>\n",
       "      <th>12</th>\n",
       "      <th>13</th>\n",
       "      <th>14</th>\n",
       "      <th>15</th>\n",
       "      <th>16</th>\n",
       "      <th>17</th>\n",
       "      <th>18</th>\n",
       "      <th>19</th>\n",
       "      <th>20</th>\n",
       "      <th>21</th>\n",
       "      <th>22</th>\n",
       "      <th>23</th>\n",
       "      <th>24</th>\n",
       "      <th>25</th>\n",
       "      <th>26</th>\n",
       "      <th>27</th>\n",
       "      <th>28</th>\n",
       "      <th>29</th>\n",
       "      <th>30</th>\n",
       "      <th>31</th>\n",
       "      <th>32</th>\n",
       "      <th>33</th>\n",
       "      <th>34</th>\n",
       "      <th>35</th>\n",
       "      <th>36</th>\n",
       "      <th>37</th>\n",
       "      <th>38</th>\n",
       "      <th>39</th>\n",
       "      <th>40</th>\n",
       "      <th>41</th>\n",
       "      <th>42</th>\n",
       "      <th>43</th>\n",
       "      <th>44</th>\n",
       "      <th>45</th>\n",
       "      <th>46</th>\n",
       "      <th>47</th>\n",
       "      <th>48</th>\n",
       "      <th>49</th>\n",
       "      <th>50</th>\n",
       "      <th>51</th>\n",
       "      <th>52</th>\n",
       "      <th>53</th>\n",
       "      <th>54</th>\n",
       "      <th>55</th>\n",
       "      <th>56</th>\n",
       "      <th>57</th>\n",
       "      <th>58</th>\n",
       "      <th>59</th>\n",
       "      <th>60</th>\n",
       "      <th>61</th>\n",
       "      <th>62</th>\n",
       "      <th>63</th>\n",
       "      <th>64</th>\n",
       "      <th>65</th>\n",
       "      <th>66</th>\n",
       "      <th>67</th>\n",
       "      <th>68</th>\n",
       "      <th>69</th>\n",
       "      <th>70</th>\n",
       "      <th>71</th>\n",
       "      <th>72</th>\n",
       "      <th>73</th>\n",
       "      <th>74</th>\n",
       "      <th>75</th>\n",
       "      <th>76</th>\n",
       "      <th>77</th>\n",
       "      <th>78</th>\n",
       "      <th>79</th>\n",
       "      <th>80</th>\n",
       "      <th>81</th>\n",
       "      <th>82</th>\n",
       "      <th>83</th>\n",
       "      <th>84</th>\n",
       "      <th>85</th>\n",
       "      <th>86</th>\n",
       "      <th>87</th>\n",
       "      <th>88</th>\n",
       "      <th>89</th>\n",
       "      <th>90</th>\n",
       "      <th>91</th>\n",
       "      <th>92</th>\n",
       "      <th>93</th>\n",
       "      <th>94</th>\n",
       "      <th>95</th>\n",
       "      <th>96</th>\n",
       "      <th>97</th>\n",
       "      <th>98</th>\n",
       "      <th>99</th>\n",
       "      <th>100</th>\n",
       "      <th>101</th>\n",
       "      <th>102</th>\n",
       "      <th>103</th>\n",
       "      <th>104</th>\n",
       "      <th>105</th>\n",
       "      <th>106</th>\n",
       "      <th>107</th>\n",
       "      <th>108</th>\n",
       "      <th>109</th>\n",
       "      <th>110</th>\n",
       "      <th>111</th>\n",
       "      <th>112</th>\n",
       "      <th>113</th>\n",
       "      <th>114</th>\n",
       "      <th>115</th>\n",
       "    </tr>\n",
       "  </thead>\n",
       "  <tbody>\n",
       "    <tr>\n",
       "      <th>0</th>\n",
       "      <td>__class__</td>\n",
       "      <td>__del__</td>\n",
       "      <td>__delattr__</td>\n",
       "      <td>__dict__</td>\n",
       "      <td>__doc__</td>\n",
       "      <td>__format__</td>\n",
       "      <td>__getattribute__</td>\n",
       "      <td>__hash__</td>\n",
       "      <td>__init__</td>\n",
       "      <td>__module__</td>\n",
       "      <td>__new__</td>\n",
       "      <td>__reduce__</td>\n",
       "      <td>__reduce_ex__</td>\n",
       "      <td>__repr__</td>\n",
       "      <td>__setattr__</td>\n",
       "      <td>__sizeof__</td>\n",
       "      <td>__str__</td>\n",
       "      <td>__subclasshook__</td>\n",
       "      <td>__weakref__</td>\n",
       "      <td>_add_notifiers</td>\n",
       "      <td>_call_widget_constructed</td>\n",
       "      <td>_comm_changed</td>\n",
       "      <td>_config_changed</td>\n",
       "      <td>_cross_validation_lock</td>\n",
       "      <td>_css</td>\n",
       "      <td>_display_callbacks</td>\n",
       "      <td>_dom_classes</td>\n",
       "      <td>_find_my_config</td>\n",
       "      <td>_fire_children_displayed</td>\n",
       "      <td>_handle_custom_msg</td>\n",
       "      <td>_handle_displayed</td>\n",
       "      <td>_handle_msg</td>\n",
       "      <td>_holding_sync</td>\n",
       "      <td>_ipython_display_</td>\n",
       "      <td>_keys_default</td>\n",
       "      <td>_load_config</td>\n",
       "      <td>_lock_property</td>\n",
       "      <td>_log_default</td>\n",
       "      <td>_model_id</td>\n",
       "      <td>_model_module</td>\n",
       "      <td>_model_name</td>\n",
       "      <td>_msg_callbacks</td>\n",
       "      <td>_notify_trait</td>\n",
       "      <td>_overflow_values</td>\n",
       "      <td>_property_lock</td>\n",
       "      <td>_remove_notifiers</td>\n",
       "      <td>_send</td>\n",
       "      <td>_should_send_property</td>\n",
       "      <td>_states_to_send</td>\n",
       "      <td>_trait_from_json</td>\n",
       "      <td>_trait_notifiers</td>\n",
       "      <td>_trait_to_json</td>\n",
       "      <td>_trait_values</td>\n",
       "      <td>_view_module</td>\n",
       "      <td>_view_name</td>\n",
       "      <td>_widget_construction_callback</td>\n",
       "      <td>add_traits</td>\n",
       "      <td>args</td>\n",
       "      <td>background_color</td>\n",
       "      <td>border_color</td>\n",
       "      <td>border_radius</td>\n",
       "      <td>border_style</td>\n",
       "      <td>border_width</td>\n",
       "      <td>box_style</td>\n",
       "      <td>children</td>\n",
       "      <td>class_config_rst_doc</td>\n",
       "      <td>class_config_section</td>\n",
       "      <td>class_get_help</td>\n",
       "      <td>class_get_trait_help</td>\n",
       "      <td>class_own_traits</td>\n",
       "      <td>class_print_help</td>\n",
       "      <td>class_trait_names</td>\n",
       "      <td>class_traits</td>\n",
       "      <td>close</td>\n",
       "      <td>color</td>\n",
       "      <td>comm</td>\n",
       "      <td>config</td>\n",
       "      <td>font_family</td>\n",
       "      <td>font_size</td>\n",
       "      <td>font_style</td>\n",
       "      <td>font_weight</td>\n",
       "      <td>get_state</td>\n",
       "      <td>handle_comm_opened</td>\n",
       "      <td>has_trait</td>\n",
       "      <td>height</td>\n",
       "      <td>hold_sync</td>\n",
       "      <td>hold_trait_notifications</td>\n",
       "      <td>keys</td>\n",
       "      <td>kwargs</td>\n",
       "      <td>log</td>\n",
       "      <td>margin</td>\n",
       "      <td>model_id</td>\n",
       "      <td>msg_throttle</td>\n",
       "      <td>on_displayed</td>\n",
       "      <td>on_msg</td>\n",
       "      <td>on_trait_change</td>\n",
       "      <td>on_widget_constructed</td>\n",
       "      <td>open</td>\n",
       "      <td>overflow_x</td>\n",
       "      <td>overflow_y</td>\n",
       "      <td>padding</td>\n",
       "      <td>parent</td>\n",
       "      <td>result</td>\n",
       "      <td>section_names</td>\n",
       "      <td>send</td>\n",
       "      <td>send_state</td>\n",
       "      <td>set_state</td>\n",
       "      <td>trait_metadata</td>\n",
       "      <td>trait_names</td>\n",
       "      <td>traits</td>\n",
       "      <td>update_config</td>\n",
       "      <td>version</td>\n",
       "      <td>visible</td>\n",
       "      <td>widget_types</td>\n",
       "      <td>widgets</td>\n",
       "      <td>width</td>\n",
       "    </tr>\n",
       "  </tbody>\n",
       "</table>\n",
       "</div>"
      ],
      "text/plain": [
       "         0        1            2         3        4           5    \\\n",
       "0  __class__  __del__  __delattr__  __dict__  __doc__  __format__   \n",
       "\n",
       "                6         7         8           9        10          11   \\\n",
       "0  __getattribute__  __hash__  __init__  __module__  __new__  __reduce__   \n",
       "\n",
       "             12        13           14          15       16   \\\n",
       "0  __reduce_ex__  __repr__  __setattr__  __sizeof__  __str__   \n",
       "\n",
       "                17           18              19                        20   \\\n",
       "0  __subclasshook__  __weakref__  _add_notifiers  _call_widget_constructed   \n",
       "\n",
       "             21               22                      23    24   \\\n",
       "0  _comm_changed  _config_changed  _cross_validation_lock  _css   \n",
       "\n",
       "                  25            26               27   \\\n",
       "0  _display_callbacks  _dom_classes  _find_my_config   \n",
       "\n",
       "                        28                  29                 30   \\\n",
       "0  _fire_children_displayed  _handle_custom_msg  _handle_displayed   \n",
       "\n",
       "           31             32                 33             34            35   \\\n",
       "0  _handle_msg  _holding_sync  _ipython_display_  _keys_default  _load_config   \n",
       "\n",
       "              36            37         38             39           40   \\\n",
       "0  _lock_property  _log_default  _model_id  _model_module  _model_name   \n",
       "\n",
       "              41             42                43              44   \\\n",
       "0  _msg_callbacks  _notify_trait  _overflow_values  _property_lock   \n",
       "\n",
       "                 45     46                     47               48   \\\n",
       "0  _remove_notifiers  _send  _should_send_property  _states_to_send   \n",
       "\n",
       "                49                50              51             52   \\\n",
       "0  _trait_from_json  _trait_notifiers  _trait_to_json  _trait_values   \n",
       "\n",
       "            53          54                             55          56    57   \\\n",
       "0  _view_module  _view_name  _widget_construction_callback  add_traits  args   \n",
       "\n",
       "                58            59             60            61            62   \\\n",
       "0  background_color  border_color  border_radius  border_style  border_width   \n",
       "\n",
       "         63        64                    65                    66   \\\n",
       "0  box_style  children  class_config_rst_doc  class_config_section   \n",
       "\n",
       "              67                    68                69                70   \\\n",
       "0  class_get_help  class_get_trait_help  class_own_traits  class_print_help   \n",
       "\n",
       "                 71            72     73     74    75      76           77   \\\n",
       "0  class_trait_names  class_traits  close  color  comm  config  font_family   \n",
       "\n",
       "         78          79           80         81                  82   \\\n",
       "0  font_size  font_style  font_weight  get_state  handle_comm_opened   \n",
       "\n",
       "         83      84         85                        86    87      88   89   \\\n",
       "0  has_trait  height  hold_sync  hold_trait_notifications  keys  kwargs  log   \n",
       "\n",
       "      90        91            92            93      94               95   \\\n",
       "0  margin  model_id  msg_throttle  on_displayed  on_msg  on_trait_change   \n",
       "\n",
       "                     96    97          98          99       100     101  \\\n",
       "0  on_widget_constructed  open  overflow_x  overflow_y  padding  parent   \n",
       "\n",
       "      102            103   104         105        106             107  \\\n",
       "0  result  section_names  send  send_state  set_state  trait_metadata   \n",
       "\n",
       "           108     109            110      111      112           113  \\\n",
       "0  trait_names  traits  update_config  version  visible  widget_types   \n",
       "\n",
       "       114    115  \n",
       "0  widgets  width  "
      ]
     },
     "execution_count": 16,
     "metadata": {},
     "output_type": "execute_result"
    }
   ],
   "source": [
    "# unlike \"interact\", this won't immediately create\n",
    "w = interactive(lambda x: x, x=(10,15,1)) # <- should be an integer slider\n",
    "print(\"type = {}\\nw.children = {}\".format(type(w),w.children))\n",
    "DF(dir(w)).T"
   ]
  },
  {
   "cell_type": "code",
   "execution_count": 17,
   "metadata": {
    "collapsed": false
   },
   "outputs": [
    {
     "data": {
      "text/plain": [
       "12"
      ]
     },
     "metadata": {},
     "output_type": "display_data"
    }
   ],
   "source": [
    "# To actually display the widgets, you can use IPython's `display` function.\n",
    "display(w)"
   ]
  },
  {
   "cell_type": "markdown",
   "metadata": {},
   "source": [
    "- At this point, the UI controls work just like they would if interact had been used. \n",
    "- **Importance**: the widget instance returned by interactive also give you access to the current keyword arguments and return value of the underlying Python function."
   ]
  },
  {
   "cell_type": "code",
   "execution_count": 18,
   "metadata": {
    "collapsed": false
   },
   "outputs": [
    {
     "name": "stdout",
     "output_type": "stream",
     "text": [
      "w.kwargs =  {'x': 12}\n",
      "w.result =  12\n"
     ]
    }
   ],
   "source": [
    "print(\"w.kwargs = \",w.kwargs)\n",
    "print(\"w.result = \",w.result)"
   ]
  },
  {
   "cell_type": "markdown",
   "metadata": {},
   "source": [
    "# ===== Shit that was here from the begnning ======"
   ]
  },
  {
   "cell_type": "markdown",
   "metadata": {},
   "source": [
    "## Basic `interact`"
   ]
  },
  {
   "cell_type": "markdown",
   "metadata": {},
   "source": [
    "At the most basic level, `interact` autogenerates UI controls for function arguments, and then calls the function with those arguments when you manipulate the controls interactively. To use `interact`, you need to define a function that you want to explore. Here is a function that prints its only argument `x`."
   ]
  },
  {
   "cell_type": "code",
   "execution_count": 19,
   "metadata": {
    "collapsed": false
   },
   "outputs": [],
   "source": [
    "def f(x):\n",
    "    return x"
   ]
  },
  {
   "cell_type": "markdown",
   "metadata": {},
   "source": [
    "When you pass this function as the first argument to `interact` along with an integer keyword argument (`x=10`), a slider is generated and bound to the function parameter."
   ]
  },
  {
   "cell_type": "code",
   "execution_count": 20,
   "metadata": {
    "collapsed": false
   },
   "outputs": [
    {
     "data": {
      "text/plain": [
       "10"
      ]
     },
     "metadata": {},
     "output_type": "display_data"
    },
    {
     "name": "stdout",
     "output_type": "stream",
     "text": [
      "<code object f at 0x7f584440fab0, file \"<ipython-input-19-5d3c69aaec9b>\", line 1>\n"
     ]
    }
   ],
   "source": [
    "tmp = interact(f, x=10);\n",
    "print(tmp.func_code)"
   ]
  },
  {
   "cell_type": "markdown",
   "metadata": {},
   "source": [
    "When you move the slider, the function is called, which prints the current value of `x`.\n",
    "\n",
    "If you pass `True` or `False`, `interact` will generate a checkbox:"
   ]
  },
  {
   "cell_type": "code",
   "execution_count": 21,
   "metadata": {
    "collapsed": false
   },
   "outputs": [
    {
     "data": {
      "text/plain": [
       "True"
      ]
     },
     "metadata": {},
     "output_type": "display_data"
    }
   ],
   "source": [
    "interact(f, x=True);"
   ]
  },
  {
   "cell_type": "markdown",
   "metadata": {},
   "source": [
    "If you pass a string, `interact` will generate a text area."
   ]
  },
  {
   "cell_type": "code",
   "execution_count": 22,
   "metadata": {
    "collapsed": false
   },
   "outputs": [
    {
     "data": {
      "text/plain": [
       "u'Hi there!'"
      ]
     },
     "metadata": {},
     "output_type": "display_data"
    }
   ],
   "source": [
    "interact(f, x='Hi there!');"
   ]
  },
  {
   "cell_type": "markdown",
   "metadata": {},
   "source": [
    "- `interact` can also be used as a decorator. \n",
    "- This allows you to define a function and interact with it in a single shot. \n",
    "    (**i dont see the usecase of this though...**)\n",
    "- As this example shows, `interact` also works with functions that have multiple arguments."
   ]
  },
  {
   "cell_type": "code",
   "execution_count": 47,
   "metadata": {
    "collapsed": false
   },
   "outputs": [
    {
     "data": {
      "text/plain": [
       "(True, 1.0)"
      ]
     },
     "metadata": {},
     "output_type": "display_data"
    }
   ],
   "source": [
    "@interact(x=True, y=1.0)\n",
    "def g(x, y):\n",
    "    return (x, y)\n"
   ]
  },
  {
   "cell_type": "markdown",
   "metadata": {},
   "source": [
    "## Fixing arguments using `fixed`"
   ]
  },
  {
   "cell_type": "markdown",
   "metadata": {},
   "source": [
    "There are times when you may want to explore a function using `interact`, but fix one or more of its arguments to specific values. This can be accomplished by wrapping values with the `fixed` function."
   ]
  },
  {
   "cell_type": "code",
   "execution_count": 24,
   "metadata": {
    "collapsed": false
   },
   "outputs": [],
   "source": [
    "def h(p, q):\n",
    "    return (p, q)"
   ]
  },
  {
   "cell_type": "markdown",
   "metadata": {},
   "source": [
    "When we call `interact`, we pass `fixed(20)` for q to hold it fixed at a value of `20`."
   ]
  },
  {
   "cell_type": "code",
   "execution_count": 25,
   "metadata": {
    "collapsed": false
   },
   "outputs": [
    {
     "data": {
      "text/plain": [
       "(5, 20)"
      ]
     },
     "metadata": {},
     "output_type": "display_data"
    }
   ],
   "source": [
    "# without fixed\n",
    "interact(h, p=5, q=20);"
   ]
  },
  {
   "cell_type": "code",
   "execution_count": 50,
   "metadata": {
    "collapsed": false
   },
   "outputs": [
    {
     "data": {
      "text/plain": [
       "19.9"
      ]
     },
     "metadata": {},
     "output_type": "display_data"
    }
   ],
   "source": [
    "# with fixed\n",
    "interact(h, p=5, q=fixed(20));"
   ]
  },
  {
   "cell_type": "markdown",
   "metadata": {},
   "source": [
    "Notice that a slider is only produced for `p` as the value of `q` is fixed."
   ]
  },
  {
   "cell_type": "markdown",
   "metadata": {},
   "source": [
    "## Widget abbreviations"
   ]
  },
  {
   "cell_type": "markdown",
   "metadata": {},
   "source": [
    "When you pass an integer-valued keyword argument of `10` (`x=10`) to `interact`, it generates an integer-valued slider control with a range of $[-10,+3\\times10]$. In this case, `10` is an *abbreviation* for an actual slider widget:\n",
    "\n",
    "```python\n",
    "IntSlider(min=-10,max=30,step=1,value=10)\n",
    "```\n",
    "\n",
    "In fact, we can get the same result if we pass this `IntSlider` as the keyword argument for `x`:"
   ]
  },
  {
   "cell_type": "code",
   "execution_count": 27,
   "metadata": {
    "collapsed": false
   },
   "outputs": [
    {
     "data": {
      "text/plain": [
       "10"
      ]
     },
     "metadata": {},
     "output_type": "display_data"
    }
   ],
   "source": [
    "interact(f, x=widgets.IntSlider(min=-10,max=30,step=1,value=10));"
   ]
  },
  {
   "cell_type": "markdown",
   "metadata": {},
   "source": [
    "This examples clarifies how `interact` proceses its keyword arguments:\n",
    "\n",
    "1. If the keyword argument is a `Widget` instance with a `value` attribute, that widget is used. Any widget with a `value` attribute can be used, even custom ones.\n",
    "2. Otherwise, the value is treated as a *widget abbreviation* that is converted to a widget before it is used.\n",
    "\n",
    "The following table gives an overview of different widget abbreviations:\n",
    "\n",
    "<table class=\"table table-condensed table-bordered\">\n",
    "  <tr><td><strong>Keyword argument</strong></td><td><strong>Widget</strong></td></tr>  \n",
    "  <tr><td>`True` or `False`</td><td>Checkbox</td></tr>  \n",
    "  <tr><td>`'Hi there'`</td><td>Text</td></tr>\n",
    "  <tr><td>`value` or `(min,max)` or `(min,max,step)` if integers are passed</td><td>IntSlider</td></tr>\n",
    "  <tr><td>`value` or `(min,max)` or `(min,max,step)` if floats are passed</td><td>FloatSlider</td></tr>\n",
    "  <tr><td>`('orange','apple')` or `{'one':1,'two':2}`</td><td>Dropdown</td></tr>\n",
    "</table>"
   ]
  },
  {
   "cell_type": "markdown",
   "metadata": {},
   "source": [
    "You have seen how the checkbox and textarea widgets work above. Here, more details about the different abbreviations for sliders and dropdowns are given.\n",
    "\n",
    "If a 2-tuple of integers is passed `(min,max)`, an integer-valued slider is produced with those minimum and maximum values (inclusively). In this case, the default step size of `1` is used."
   ]
  },
  {
   "cell_type": "code",
   "execution_count": 28,
   "metadata": {
    "collapsed": false
   },
   "outputs": [
    {
     "data": {
      "text/plain": [
       "2"
      ]
     },
     "metadata": {},
     "output_type": "display_data"
    }
   ],
   "source": [
    "interact(f, x=(0,4));"
   ]
  },
  {
   "cell_type": "markdown",
   "metadata": {},
   "source": [
    "If a 3-tuple of integers is passed `(min,max,step)`, the step size can also be set."
   ]
  },
  {
   "cell_type": "code",
   "execution_count": 29,
   "metadata": {
    "collapsed": false
   },
   "outputs": [
    {
     "data": {
      "text/plain": [
       "4"
      ]
     },
     "metadata": {},
     "output_type": "display_data"
    }
   ],
   "source": [
    "interact(f, x=(0,8,2));"
   ]
  },
  {
   "cell_type": "markdown",
   "metadata": {},
   "source": [
    "A float-valued slider is produced if the elements of the tuples are floats. Here the minimum is `0.0`, the maximum is `10.0` and step size is `0.1` (the default)."
   ]
  },
  {
   "cell_type": "code",
   "execution_count": 30,
   "metadata": {
    "collapsed": false
   },
   "outputs": [
    {
     "data": {
      "text/plain": [
       "5.0"
      ]
     },
     "metadata": {},
     "output_type": "display_data"
    }
   ],
   "source": [
    "interact(f, x=(0.0,10.0));"
   ]
  },
  {
   "cell_type": "markdown",
   "metadata": {},
   "source": [
    "The step size can be changed by passing a third element in the tuple."
   ]
  },
  {
   "cell_type": "code",
   "execution_count": 31,
   "metadata": {
    "collapsed": false
   },
   "outputs": [
    {
     "data": {
      "text/plain": [
       "4.99"
      ]
     },
     "metadata": {},
     "output_type": "display_data"
    }
   ],
   "source": [
    "interact(f, x=(0.0,10.0,0.01));"
   ]
  },
  {
   "cell_type": "markdown",
   "metadata": {},
   "source": [
    "For both integer and float-valued sliders, you can pick the initial value of the widget by passing a default keyword argument to the underlying Python function. Here we set the initial value of a float slider to `5.5`."
   ]
  },
  {
   "cell_type": "code",
   "execution_count": 32,
   "metadata": {
    "collapsed": false
   },
   "outputs": [
    {
     "data": {
      "text/plain": [
       "15.5"
      ]
     },
     "metadata": {},
     "output_type": "display_data"
    }
   ],
   "source": [
    "@interact(x=(0.0,20.0,0.5))\n",
    "def h(x=15.5):\n",
    "    return x"
   ]
  },
  {
   "cell_type": "markdown",
   "metadata": {},
   "source": [
    "Dropdown menus are constructed by passing a tuple of strings. In this case, the strings are both used as the names in the dropdown menu UI and passed to the underlying Python function."
   ]
  },
  {
   "cell_type": "code",
   "execution_count": 33,
   "metadata": {
    "collapsed": false
   },
   "outputs": [
    {
     "data": {
      "text/plain": [
       "u'apples'"
      ]
     },
     "metadata": {},
     "output_type": "display_data"
    }
   ],
   "source": [
    "interact(f, x=('apples','oranges'));"
   ]
  },
  {
   "cell_type": "markdown",
   "metadata": {},
   "source": [
    "If you want a dropdown menu that passes non-string values to the Python function, you can pass a dictionary. The keys in the dictionary are used for the names in the dropdown menu UI and the values are the arguments that are passed to the underlying Python function."
   ]
  },
  {
   "cell_type": "code",
   "execution_count": 34,
   "metadata": {
    "collapsed": false
   },
   "outputs": [
    {
     "data": {
      "text/plain": [
       "20"
      ]
     },
     "metadata": {},
     "output_type": "display_data"
    }
   ],
   "source": [
    "interact(f, x={'one': 10, 'two': 20});"
   ]
  },
  {
   "cell_type": "markdown",
   "metadata": {},
   "source": [
    "## Using function annotations with `interact`"
   ]
  },
  {
   "cell_type": "markdown",
   "metadata": {},
   "source": [
    "If you are using Python 3, you can also specify widget abbreviations using [function annotations](https://docs.python.org/3/tutorial/controlflow.html#function-annotations).\n",
    "\n",
    "Define a function with a checkbox widget abbreviation for the argument `x`."
   ]
  },
  {
   "cell_type": "code",
   "execution_count": 35,
   "metadata": {
    "collapsed": false
   },
   "outputs": [],
   "source": [
    "def f(x=True): # python 3 only\n",
    "    return x"
   ]
  },
  {
   "cell_type": "markdown",
   "metadata": {},
   "source": [
    "Then, because the widget abbreviation has already been defined, you can call `interact` with a single argument."
   ]
  },
  {
   "cell_type": "code",
   "execution_count": 36,
   "metadata": {
    "collapsed": false
   },
   "outputs": [
    {
     "data": {
      "text/plain": [
       "True"
      ]
     },
     "metadata": {},
     "output_type": "display_data"
    }
   ],
   "source": [
    "interact(f);"
   ]
  },
  {
   "cell_type": "markdown",
   "metadata": {},
   "source": [
    "If you are running Python 2, function annotations can be defined using the `@annotate` function."
   ]
  },
  {
   "cell_type": "code",
   "execution_count": 37,
   "metadata": {
    "collapsed": false
   },
   "outputs": [],
   "source": [
    "from IPython.utils.py3compat import annotate"
   ]
  },
  {
   "cell_type": "code",
   "execution_count": 38,
   "metadata": {
    "collapsed": false
   },
   "outputs": [],
   "source": [
    "@annotate(x=True)\n",
    "def f(x):\n",
    "    return x"
   ]
  },
  {
   "cell_type": "code",
   "execution_count": 39,
   "metadata": {
    "collapsed": false
   },
   "outputs": [
    {
     "data": {
      "text/plain": [
       "True"
      ]
     },
     "metadata": {},
     "output_type": "display_data"
    }
   ],
   "source": [
    "interact(f);"
   ]
  },
  {
   "cell_type": "markdown",
   "metadata": {},
   "source": [
    "# interactive"
   ]
  },
  {
   "cell_type": "markdown",
   "metadata": {},
   "source": [
    "In addition to `interact`, IPython provides another function, `interactive`, that is useful when you want to reuse the widgets that are produced or access the data that is bound to the UI controls."
   ]
  },
  {
   "cell_type": "markdown",
   "metadata": {},
   "source": [
    "Here is a function that returns the sum of its two arguments."
   ]
  },
  {
   "cell_type": "code",
   "execution_count": 40,
   "metadata": {
    "collapsed": false
   },
   "outputs": [],
   "source": [
    "def f(a, b):\n",
    "    return a+b"
   ]
  },
  {
   "cell_type": "markdown",
   "metadata": {},
   "source": [
    "Unlike `interact`, `interactive` returns a `Widget` instance rather than immediately displaying the widget."
   ]
  },
  {
   "cell_type": "code",
   "execution_count": 41,
   "metadata": {
    "collapsed": false
   },
   "outputs": [],
   "source": [
    "w = interactive(f, a=10, b=20)"
   ]
  },
  {
   "cell_type": "markdown",
   "metadata": {},
   "source": [
    "The widget is a `Box`, which is a container for other widgets."
   ]
  },
  {
   "cell_type": "code",
   "execution_count": 42,
   "metadata": {
    "collapsed": false
   },
   "outputs": [
    {
     "data": {
      "text/plain": [
       "ipywidgets.widgets.widget_box.Box"
      ]
     },
     "execution_count": 42,
     "metadata": {},
     "output_type": "execute_result"
    }
   ],
   "source": [
    "type(w)"
   ]
  },
  {
   "cell_type": "markdown",
   "metadata": {},
   "source": [
    "The children of the `Box` are two integer-valued sliders produced by the widget abbreviations above."
   ]
  },
  {
   "cell_type": "code",
   "execution_count": 43,
   "metadata": {
    "collapsed": false
   },
   "outputs": [
    {
     "data": {
      "text/plain": [
       "(<ipywidgets.widgets.widget_int.IntSlider at 0x7f5844334110>,\n",
       " <ipywidgets.widgets.widget_int.IntSlider at 0x7f5844372a50>)"
      ]
     },
     "execution_count": 43,
     "metadata": {},
     "output_type": "execute_result"
    }
   ],
   "source": [
    "w.children"
   ]
  },
  {
   "cell_type": "markdown",
   "metadata": {},
   "source": [
    "To actually display the widgets, you can use IPython's `display` function."
   ]
  },
  {
   "cell_type": "code",
   "execution_count": 44,
   "metadata": {
    "collapsed": false
   },
   "outputs": [
    {
     "data": {
      "text/plain": [
       "30"
      ]
     },
     "metadata": {},
     "output_type": "display_data"
    }
   ],
   "source": [
    "from IPython.display import display\n",
    "display(w)"
   ]
  },
  {
   "cell_type": "markdown",
   "metadata": {},
   "source": [
    "At this point, the UI controls work just like they would if `interact` had been used. You can manipulate them interactively and the function will be called. However, the widget instance returned by `interactive` also give you access to the current keyword arguments and return value of the underlying Python function.\n",
    "\n",
    "Here are the current keyword arguments. If you rerun this cell after manipulating the sliders, the values will have changed."
   ]
  },
  {
   "cell_type": "code",
   "execution_count": 45,
   "metadata": {
    "collapsed": false
   },
   "outputs": [
    {
     "data": {
      "text/plain": [
       "{'a': 10, 'b': 20}"
      ]
     },
     "execution_count": 45,
     "metadata": {},
     "output_type": "execute_result"
    }
   ],
   "source": [
    "w.kwargs"
   ]
  },
  {
   "cell_type": "markdown",
   "metadata": {},
   "source": [
    "Here is the current return value of the function."
   ]
  },
  {
   "cell_type": "code",
   "execution_count": 46,
   "metadata": {
    "collapsed": false
   },
   "outputs": [
    {
     "data": {
      "text/plain": [
       "30"
      ]
     },
     "execution_count": 46,
     "metadata": {},
     "output_type": "execute_result"
    }
   ],
   "source": [
    "w.result"
   ]
  }
 ],
 "metadata": {
  "kernelspec": {
   "display_name": "Python 2",
   "language": "python",
   "name": "python2"
  },
  "language_info": {
   "codemirror_mode": {
    "name": "ipython",
    "version": 2
   },
   "file_extension": ".py",
   "mimetype": "text/x-python",
   "name": "python",
   "nbconvert_exporter": "python",
   "pygments_lexer": "ipython2",
   "version": "2.7.10"
  }
 },
 "nbformat": 4,
 "nbformat_minor": 0
}
