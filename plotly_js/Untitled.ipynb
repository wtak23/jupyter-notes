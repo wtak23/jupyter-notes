{
 "cells": [
  {
   "cell_type": "code",
   "execution_count": 2,
   "metadata": {
    "collapsed": true
   },
   "outputs": [],
   "source": [
    "import datetime\n",
    "import numpy as np\n",
    "import pandas as pd\n",
    "import plotly.graph_objs as go\n",
    "import plotly.plotly as py\n",
    "\n",
    "from ipywidgets import widgets \n",
    "from IPython.display import display, clear_output, Image\n",
    "from plotly.graph_objs import *\n",
    "from plotly.widgets import GraphWidget\n"
   ]
  },
  {
   "cell_type": "code",
   "execution_count": 3,
   "metadata": {
    "collapsed": true
   },
   "outputs": [],
   "source": [
    "df = pd.read_csv('https://raw.githubusercontent.com/yankev/testing/master/datasets/nycflights.csv')\n",
    "df = df.drop(df.columns[[0]], axis=1) "
   ]
  },
  {
   "cell_type": "code",
   "execution_count": 4,
   "metadata": {
    "collapsed": false
   },
   "outputs": [
    {
     "data": {
      "text/plain": [
       "array(['UA', 'AA', 'B6', 'DL', 'EV', 'MQ', 'US', 'WN', 'VX', 'FL', 'AS',\n",
       "       '9E', 'F9', 'HA', 'YV', 'OO'], dtype=object)"
      ]
     },
     "execution_count": 4,
     "metadata": {},
     "output_type": "execute_result"
    }
   ],
   "source": [
    "df['carrier'].unique()\n"
   ]
  },
  {
   "cell_type": "code",
   "execution_count": 5,
   "metadata": {
    "collapsed": true
   },
   "outputs": [],
   "source": [
    "month = widgets.FloatSlider(\n",
    "    value=1.0,\n",
    "    min=1.0,\n",
    "    max=12.0,\n",
    "    step=1.0,\n",
    "    description='Month:',\n",
    "    continuous_update = False\n",
    ")\n",
    "\n",
    "use_date = widgets.Checkbox(\n",
    "    description='Date: ',\n",
    "    value=True,\n",
    ")\n",
    "\n",
    "container = widgets.HBox(children=[use_date, month] )\n",
    "\n",
    "textbox = widgets.Text(\n",
    "    description='Airline:   ',\n",
    "    value='Delta',\n",
    ")\n",
    "\n",
    "origin = widgets.Dropdown(\n",
    "    options=list(df['origin'].unique()),\n",
    "    value='LGA',\n",
    "    description='Origin Airport:',\n",
    ")\n",
    "\n",
    "\n",
    "### Assign an emptry graph widget with two traces\n",
    "\n",
    "g = GraphWidget('https://plot.ly/~kevintest/1192/')"
   ]
  },
  {
   "cell_type": "code",
   "execution_count": 6,
   "metadata": {
    "collapsed": true
   },
   "outputs": [],
   "source": [
    "def validate():\n",
    "    # print \"validating\"\n",
    "    if origin.value in df['origin'].unique() and textbox.value in df['carrier'].unique():\n",
    "        return True\n",
    "    else:\n",
    "        return False\n",
    "\n",
    "def response(change):\n",
    "    if validate():\n",
    "        # print \"using date\"\n",
    "        if use_date.value:\n",
    "            filter_list = [i and j and k for i,j,k in \n",
    "                           zip(df['month'] == month.value, df['carrier'] == textbox.value, \n",
    "                               df['origin'] == origin.value)]\n",
    "            temp_df = df[filter_list]\n",
    "            x1 = temp_df['arr_delay']\n",
    "            x2 = temp_df['dep_delay']\n",
    "            g.restyle({'x': [x1], 'name': 'Arrival Delays', 'type': 'histogram', \n",
    "                       'opacity': 0.75}, indices=0) \n",
    "            g.restyle({'x': [x2], 'name': 'Departure Delays', 'type': 'histogram', \n",
    "                       'opacity': 0.75}, indices=1)\n",
    "            g.relayout({'barmode': 'overlay', 'xaxis': {'title': 'Delay in Minutes'},\n",
    "                        'yaxis': {'title': 'Number of Delays'}})\n",
    "            # print temp_df.head()\n",
    "            \n",
    "        else:\n",
    "            # print \"not using date\"\n",
    "            filter_list = [i and j for i,j in \n",
    "                           zip(df['carrier'] == 'DL', df['origin'] == origin.value)]\n",
    "            temp_df = df[filter_list]\n",
    "            x1 = temp_df['arr_delay']\n",
    "            x2 = temp_df['dep_delay']\n",
    "            g.restyle({'x': [x1], 'name': 'Arrival Delays', 'type': 'histogram', \n",
    "                       'opacity': 0.75}, indices=0) \n",
    "            g.restyle({'x': [x2], 'name': 'Departure Delays', 'type': 'histogram', \n",
    "                       'opacity': 0.75}, indices=1)\n",
    "            g.relayout({'barmode': 'overlay'})\n",
    "            # print temp_df.head()\n",
    "    \n",
    "\n",
    "origin.observe(response, names=\"value\")\n",
    "textbox.observe(response, names=\"value\")\n",
    "month.observe(response, names=\"value\")\n",
    "use_date.observe(response, names=\"value\")"
   ]
  },
  {
   "cell_type": "code",
   "execution_count": 7,
   "metadata": {
    "collapsed": true
   },
   "outputs": [],
   "source": [
    "display(container)\n",
    "container2 = widgets.HBox([origin, textbox])\n",
    "display(container2)\n",
    "display(g)"
   ]
  },
  {
   "cell_type": "code",
   "execution_count": null,
   "metadata": {
    "collapsed": true
   },
   "outputs": [],
   "source": [
    "|"
   ]
  }
 ],
 "metadata": {
  "kernelspec": {
   "display_name": "Python 2",
   "language": "python",
   "name": "python2"
  },
  "language_info": {
   "codemirror_mode": {
    "name": "ipython",
    "version": 2
   },
   "file_extension": ".py",
   "mimetype": "text/x-python",
   "name": "python",
   "nbconvert_exporter": "python",
   "pygments_lexer": "ipython2",
   "version": "2.7.12"
  }
 },
 "nbformat": 4,
 "nbformat_minor": 0
}
