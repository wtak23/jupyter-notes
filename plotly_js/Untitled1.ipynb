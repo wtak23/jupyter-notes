{
 "cells": [
  {
   "cell_type": "code",
   "execution_count": 4,
   "metadata": {
    "collapsed": false
   },
   "outputs": [],
   "source": [
    "# https://plot.ly/pandas/zoom-events/"
   ]
  },
  {
   "cell_type": "code",
   "execution_count": 5,
   "metadata": {
    "collapsed": true
   },
   "outputs": [],
   "source": [
    "import plotly.plotly as py\n",
    "import plotly.graph_objs as go\n",
    "\n",
    "trace0 = go.Scatter(\n",
    "    x=[1, 2, 3, 4, 5],\n",
    "    y=[1, 6, 3, 6, 1],\n",
    "    mode='markers',\n",
    "    name='Team A',\n",
    "    text=['A-1', 'A-2', 'A-3', 'A-4', 'A-5'],\n",
    "    marker=dict(size=12)\n",
    ")\n",
    "trace1 = go.Scatter(\n",
    "    x=[1.5, 2.5, 3.5, 4.5, 5.5],\n",
    "    y=[4, 1, 7, 1, 4],\n",
    "    mode='markers',\n",
    "    name='Team B',\n",
    "    text=['B-a', 'B-b', 'B-c', 'B-d', 'B-e'],\n",
    "    marker=dict(size=12)\n",
    ")\n",
    "data = [trace0, trace1]\n",
    "layout = go.Layout(\n",
    "    xaxis=dict(range=[0.75, 5.25], autorange=False),\n",
    "    yaxis=dict(range=[0, 8], autorange=False),\n",
    ")\n",
    "fig = go.Figure(data=data, layout=layout)\n",
    "plot_url = py.plot(fig, filename='text-hover')\n"
   ]
  }
 ],
 "metadata": {
  "kernelspec": {
   "display_name": "Python 2",
   "language": "python",
   "name": "python2"
  },
  "language_info": {
   "codemirror_mode": {
    "name": "ipython",
    "version": 2
   },
   "file_extension": ".py",
   "mimetype": "text/x-python",
   "name": "python",
   "nbconvert_exporter": "python",
   "pygments_lexer": "ipython2",
   "version": "2.7.12"
  }
 },
 "nbformat": 4,
 "nbformat_minor": 0
}
