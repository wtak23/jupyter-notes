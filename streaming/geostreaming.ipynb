{
 "cells": [
  {
   "cell_type": "code",
   "execution_count": 1,
   "metadata": {
    "collapsed": true
   },
   "outputs": [],
   "source": [
    "#https://plot.ly/python/geo-streaming/\n",
    "import plotly"
   ]
  },
  {
   "cell_type": "code",
   "execution_count": 2,
   "metadata": {
    "collapsed": true
   },
   "outputs": [],
   "source": [
    "import plotly.plotly as py  \n",
    "import plotly.tools as tls   \n",
    "import plotly.graph_objs as go\n",
    "import numpy as np "
   ]
  },
  {
   "cell_type": "code",
   "execution_count": 3,
   "metadata": {
    "collapsed": true
   },
   "outputs": [],
   "source": [
    "import pandas as pd\n",
    "dframe = pd.read_csv('https://raw.githubusercontent.com/plotly/datasets/master/2011_february_us_airport_traffic.csv')"
   ]
  },
  {
   "cell_type": "code",
   "execution_count": 4,
   "metadata": {
    "collapsed": false
   },
   "outputs": [],
   "source": [
    "stream_tokens = tls.get_credentials_file()['stream_ids']\n",
    "token = stream_tokens[-2]   # I'm getting my stream tokens from the end to ensure I'm not reusing tokens\n",
    "# print token\n"
   ]
  },
  {
   "cell_type": "code",
   "execution_count": 5,
   "metadata": {
    "collapsed": true
   },
   "outputs": [],
   "source": [
    "stream_id = dict(token=token, maxpoints=3)"
   ]
  },
  {
   "cell_type": "code",
   "execution_count": 6,
   "metadata": {
    "collapsed": false
   },
   "outputs": [
    {
     "data": {
      "text/html": [
       "<iframe id=\"igraph\" scrolling=\"no\" style=\"border:none;\" seamless=\"seamless\" src=\"https://plot.ly/~takanori/88.embed\" height=\"525px\" width=\"100%\"></iframe>"
      ],
      "text/plain": [
       "<plotly.tools.PlotlyDisplay object>"
      ]
     },
     "execution_count": 6,
     "metadata": {},
     "output_type": "execute_result"
    }
   ],
   "source": [
    "data = [dict(\n",
    "        type='scattergeo',\n",
    "        lon=[],\n",
    "        lat=[],\n",
    "        mode='markers',\n",
    "        marker=dict(\n",
    "            size=8,\n",
    "            opacity=0.8,\n",
    "            reversescale=True,\n",
    "            autocolorscale=False,\n",
    "            line=dict(\n",
    "                width=1,\n",
    "                color='rgba(102, 102, 102)'\n",
    "            ),\n",
    "        ),\n",
    "        stream=stream_id,\n",
    "        name=\"Plane\")]\n",
    "\n",
    "layout = dict(\n",
    "        title = 'Busy Airplane Streaming',\n",
    "        colorbar = False,\n",
    "        geo = dict(\n",
    "            scope='usa',\n",
    "            projection=dict( type='albers usa' ),\n",
    "            showland = True,\n",
    "            landcolor = \"rgb(250, 250, 250)\",\n",
    "            subunitcolor = \"rgb(217, 217, 217)\",\n",
    "            countrycolor = \"rgb(217, 217, 217)\",\n",
    "            countrywidth = 0.5,\n",
    "            subunitwidth = 0.5\n",
    "        ),\n",
    "    )\n",
    "\n",
    "fig = dict( data=data, layout=layout )\n",
    "py.iplot( fig, validate=False, filename='geo-streaming2', auto_open=False, fileopt='extend')"
   ]
  },
  {
   "cell_type": "markdown",
   "metadata": {},
   "source": [
    "Now let's set up a stream link object for our geo-scatter trace and start streaming some data to our plot"
   ]
  },
  {
   "cell_type": "code",
   "execution_count": 7,
   "metadata": {
    "collapsed": true
   },
   "outputs": [],
   "source": [
    "s = py.Stream(stream_id=token)"
   ]
  },
  {
   "cell_type": "markdown",
   "metadata": {},
   "source": [
    "# Start Streaming"
   ]
  },
  {
   "cell_type": "code",
   "execution_count": null,
   "metadata": {
    "collapsed": false
   },
   "outputs": [],
   "source": [
    "import datetime\n",
    "import time\n",
    "\n",
    "def lets_stream():\n",
    "\n",
    "    s.open()\n",
    "\n",
    "    airports = dframe.sample(4)[['lat', 'long', 'airport']]\n",
    "    depart = airports.iloc[0]\n",
    "    arrive = airports.iloc[1]\n",
    "    num_steps = 20\n",
    "\n",
    "    while True:\n",
    "\n",
    "        count = 0\n",
    "\n",
    "        lats = np.linspace(depart['lat'], arrive['lat'], num_steps)\n",
    "        lons = np.linspace(depart['long'], arrive['long'], num_steps)\n",
    "\n",
    "        for i, j in zip(lats, lons):\n",
    "\n",
    "            # added pts for the departure and arrival airports!!!\n",
    "            s.write(dict(lon=[depart['long'], j, arrive['long']],\n",
    "                         lat=[\n",
    "                             depart['lat'], i, arrive['lat']], type='scattergeo',\n",
    "                         marker={'size': [5, 7 + 0.2 * count, 5], 'sizemode': 'area',\n",
    "                                 'color': [\"green\", \"blue\", \"red\"],\n",
    "                                 'symbol': [\"circle\", \"star\", \"x-open\"]},\n",
    "                         text=[depart['airport'],\n",
    "                               '{},{}'.format(count, datetime.datetime.now()),\n",
    "                               arrive['airport']]))\n",
    "\n",
    "            count += 1\n",
    "            stall = np.random.normal(10, 3)\n",
    "            time.sleep(int((abs(stall) + 0.01) / 2.0))\n",
    "            s.heartbeat()\n",
    "            time.sleep(int((abs(stall) + 0.01) / 2.0))\n",
    "\n",
    "        depart = arrive\n",
    "        arrive = dframe.sample(1)[['lat', 'long', 'airport']].iloc[0]\n",
    "\n",
    "while True:\n",
    "    try:\n",
    "        lets_stream()\n",
    "    except Exception as e:\n",
    "        with open('log.txt', 'a+') as f:\n",
    "            f.write(str(e))\n",
    "        print(str(e))\n",
    "        s.close()"
   ]
  },
  {
   "cell_type": "code",
   "execution_count": 11,
   "metadata": {
    "collapsed": false
   },
   "outputs": [
    {
     "data": {
      "text/html": [
       "<iframe id=\"igraph\" scrolling=\"no\" style=\"border:none;\" seamless=\"seamless\" src=\"https://plot.ly/~streaming-demos/121.embed\" height=\"525\" width=\"100%\"></iframe>"
      ],
      "text/plain": [
       "<plotly.tools.PlotlyDisplay object>"
      ]
     },
     "execution_count": 11,
     "metadata": {},
     "output_type": "execute_result"
    }
   ],
   "source": [
    "tls.embed('streaming-demos','121')"
   ]
  }
 ],
 "metadata": {
  "kernelspec": {
   "display_name": "Python 2",
   "language": "python",
   "name": "python2"
  },
  "language_info": {
   "codemirror_mode": {
    "name": "ipython",
    "version": 2
   },
   "file_extension": ".py",
   "mimetype": "text/x-python",
   "name": "python",
   "nbconvert_exporter": "python",
   "pygments_lexer": "ipython2",
   "version": "2.7.12"
  }
 },
 "nbformat": 4,
 "nbformat_minor": 0
}
