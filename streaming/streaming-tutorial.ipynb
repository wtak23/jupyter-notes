{
 "cells": [
  {
   "cell_type": "markdown",
   "metadata": {},
   "source": [
    "https://plot.ly/python/streaming-tutorial/\n",
    "\n",
    "# Getting Started with Streaming in Python \n",
    "**Table of Contents**\n",
    "\n",
    "<div id=\"toc\"></div>\n",
    "<script type=\"text/javascript\"\n",
    "src=\"https://raw.github.com/kmahelona/ipython_notebook_goodies/master/ipython_notebook_toc.js\">\n",
    "</script>"
   ]
  },
  {
   "cell_type": "code",
   "execution_count": 14,
   "metadata": {
    "collapsed": true
   },
   "outputs": [],
   "source": [
    "import plotly\n",
    "import numpy as np\n",
    "import plotly.plotly as py\n",
    "import plotly.tools as tls\n",
    "import plotly.graph_objs as go"
   ]
  },
  {
   "cell_type": "code",
   "execution_count": 2,
   "metadata": {
    "collapsed": true
   },
   "outputs": [],
   "source": [
    "# %%bash\n",
    "# # add streaming token to my credential\n",
    "# subl ~/.plotly/.credentials"
   ]
  },
  {
   "cell_type": "code",
   "execution_count": 15,
   "metadata": {
    "collapsed": false
   },
   "outputs": [],
   "source": [
    "stream_ids = tls.get_credentials_file()['stream_ids']\n",
    "# print stream_ids"
   ]
  },
  {
   "cell_type": "markdown",
   "metadata": {},
   "source": [
    "# An example to get started\n",
    "\n",
    "There are two main objects that will be created and used for streaming:\n",
    "1. `Stream Id Object`\n",
    "2. `Stream Link Object`\n",
    "\n",
    "\n",
    "- We're going to look at these objects sequentially as we work through our first streaming example. \n",
    "- For our first example, we're going to be streaming **random data** to a single scatter trace"
   ]
  },
  {
   "cell_type": "markdown",
   "metadata": {},
   "source": [
    "## Stream Id object\n",
    "The `Stream Id` Object comes bundled in the `graph_objs` package. (`go.Stream`)\n",
    "\n",
    "Stream Id Object is a dictionary-like object that takes two parameters, and has all the methods that are assoicated with dictionaries."
   ]
  },
  {
   "cell_type": "code",
   "execution_count": 4,
   "metadata": {
    "collapsed": false
   },
   "outputs": [],
   "source": [
    "# import plotly.graph_objs as go\n",
    "# help(go.Stream)"
   ]
  },
  {
   "cell_type": "code",
   "execution_count": 16,
   "metadata": {
    "collapsed": false
   },
   "outputs": [],
   "source": [
    "# Get stream id from stream id list \n",
    "stream_id = stream_ids[0]\n",
    "\n",
    "# Make instance of stream id object \n",
    "stream_1 = go.Stream(\n",
    "    token=stream_id,  # link stream id to 'token' key\n",
    "    maxpoints=80      # keep a max of 80 pts on screen\n",
    ")\n",
    "\n",
    "\n",
    "\n",
    "# if you want to avoid the use of these Stream Id Objects, \n",
    "# you can just create a dictionary with at least the token parameter defined, for example:\n",
    "# stream_1 = dict(token=stream_id, maxpoints=60)\n"
   ]
  },
  {
   "cell_type": "markdown",
   "metadata": {},
   "source": [
    "## Now let's setup our plot\n"
   ]
  },
  {
   "cell_type": "code",
   "execution_count": 17,
   "metadata": {
    "collapsed": true
   },
   "outputs": [],
   "source": [
    "# Initialize trace of streaming plot by embedding the unique stream_id\n",
    "trace1 = go.Scatter(\n",
    "    x=[],\n",
    "    y=[],\n",
    "    mode='lines+markers',\n",
    "    stream=stream_1         # (!) embed stream id, 1 per trace\n",
    ")\n",
    "\n",
    "data = go.Data([trace1])"
   ]
  },
  {
   "cell_type": "code",
   "execution_count": 7,
   "metadata": {
    "collapsed": false
   },
   "outputs": [
    {
     "data": {
      "text/plain": [
       "u'https://plot.ly/~takanori/87'"
      ]
     },
     "execution_count": 7,
     "metadata": {},
     "output_type": "execute_result"
    }
   ],
   "source": [
    "# Add title to layout object\n",
    "layout = go.Layout(title='Time Series')\n",
    "\n",
    "# Make a figure object\n",
    "fig = go.Figure(data=data, layout=layout)\n",
    "\n",
    "# Send fig to Plotly, initialize streaming plot, open new tab\n",
    "py.plot(fig, filename='python-streaming')"
   ]
  },
  {
   "cell_type": "markdown",
   "metadata": {},
   "source": [
    "# Stream Link Object\n",
    "The Stream Link Object is what will be used to communicate with the Plotly server in order to update the data contained in your trace objects. This object is in the plotly.plotly object, an can be reference with py.Stream\n",
    "\n",
    "You're going to need to set up one of these stream link objects for each trace you wish to stream data to.\n",
    "Below we'll set one up for the scatter trace we have in our plot."
   ]
  },
  {
   "cell_type": "code",
   "execution_count": 11,
   "metadata": {
    "collapsed": true
   },
   "outputs": [],
   "source": [
    "# help(py.Stream)  # run help() of the Stream link object"
   ]
  },
  {
   "cell_type": "code",
   "execution_count": 18,
   "metadata": {
    "collapsed": true
   },
   "outputs": [],
   "source": [
    "# We will provide the stream link object the same token that's associated with the trace we wish to stream to\n",
    "s = py.Stream(stream_id)\n",
    "\n",
    "# We then open a connection\n",
    "s.open()"
   ]
  },
  {
   "cell_type": "markdown",
   "metadata": {},
   "source": [
    "We can now use the Stream Link object s in order to stream data to our plot.\n",
    "\n",
    "As an example, we will send a time stream and some random numbers:"
   ]
  },
  {
   "cell_type": "code",
   "execution_count": null,
   "metadata": {
    "collapsed": false
   },
   "outputs": [],
   "source": [
    "# (*) Import module keep track and format current time\n",
    "import datetime\n",
    "import time\n",
    "\n",
    "i = 0    # a counter\n",
    "k = 5    # some shape parameter\n",
    "\n",
    "# Delay start of stream by 5 sec (time to switch tabs)\n",
    "time.sleep(5)\n",
    "\n",
    "while True:\n",
    "\n",
    "    # Current time on x-axis, random numbers on y-axis\n",
    "    x = datetime.datetime.now().strftime('%Y-%m-%d %H:%M:%S.%f')\n",
    "    y = (np.cos(k*i/50.)*np.cos(i/50.)+np.random.randn(1))[0]\n",
    "\n",
    "    # Send data to your plot\n",
    "    s.write(dict(x=x, y=y))\n",
    "\n",
    "    #     Write numbers to stream to append current data on plot,\n",
    "    #     write lists to overwrite existing data on plot\n",
    "\n",
    "    time.sleep(1)  # plot a point every second    \n",
    "# Close the stream when done plotting\n",
    "s.close()"
   ]
  },
  {
   "cell_type": "code",
   "execution_count": null,
   "metadata": {
    "collapsed": false
   },
   "outputs": [],
   "source": [
    "# Embed never-ending time series streaming plot\n",
    "tls.embed('streaming-demos','12')"
   ]
  },
  {
   "cell_type": "code",
   "execution_count": null,
   "metadata": {
    "collapsed": true
   },
   "outputs": [],
   "source": []
  }
 ],
 "metadata": {
  "kernelspec": {
   "display_name": "Python 2",
   "language": "python",
   "name": "python2"
  },
  "language_info": {
   "codemirror_mode": {
    "name": "ipython",
    "version": 2
   },
   "file_extension": ".py",
   "mimetype": "text/x-python",
   "name": "python",
   "nbconvert_exporter": "python",
   "pygments_lexer": "ipython2",
   "version": "2.7.12"
  }
 },
 "nbformat": 4,
 "nbformat_minor": 0
}
