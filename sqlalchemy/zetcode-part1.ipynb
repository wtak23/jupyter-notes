{
 "cells": [
  {
   "cell_type": "markdown",
   "metadata": {},
   "source": [
    "# Create database from sql file"
   ]
  },
  {
   "cell_type": "code",
   "execution_count": 5,
   "metadata": {
    "collapsed": false
   },
   "outputs": [
    {
     "name": "stdout",
     "output_type": "stream",
     "text": [
      "authors_books.sql\n",
      "cars.sql\n",
      "Untitled.ipynb\n"
     ]
    }
   ],
   "source": [
    "%%bash\n",
    "ls"
   ]
  },
  {
   "cell_type": "code",
   "execution_count": 7,
   "metadata": {
    "collapsed": false
   },
   "outputs": [],
   "source": [
    "%%bash \n",
    "#rm demo.db\n",
    "# http://stackoverflow.com/questions/2049109/how-to-import-sql-into-sqlite3\n",
    "sqlite3 demo.db < cars.sql\n",
    "sqlite3 demo.db < authors_books.sql"
   ]
  },
  {
   "cell_type": "code",
   "execution_count": 8,
   "metadata": {
    "collapsed": false
   },
   "outputs": [
    {
     "name": "stdout",
     "output_type": "stream",
     "text": [
      "Authors  Books    Cars   \n"
     ]
    }
   ],
   "source": [
    "%%bash\n",
    "sqlite3 demo.db \".tables\"\n"
   ]
  },
  {
   "cell_type": "code",
   "execution_count": 18,
   "metadata": {
    "collapsed": false
   },
   "outputs": [
    {
     "name": "stdout",
     "output_type": "stream",
     "text": [
      "CREATE TABLE Books(BookId INTEGER PRIMARY KEY, Title TEXT, AuthorId INTEGER, \n",
      "    FOREIGN KEY(AuthorId) REFERENCES Authors(AuthorId));\n",
      "BookId      Title       AuthorId  \n",
      "----------  ----------  ----------\n",
      "1           Emma        1         \n",
      "2           War and Pe  2         \n",
      "3           Catch XII   3         \n",
      "4           David Copp  4         \n",
      "5           Good as Go  3         \n",
      "6           Anna Karen  2         \n"
     ]
    }
   ],
   "source": [
    "%%bash\n",
    "sqlite3 demo.db \".schema Books\"\n",
    "sqlite3 demo.db \"SELECT * FROM Books\""
   ]
  },
  {
   "cell_type": "code",
   "execution_count": 17,
   "metadata": {
    "collapsed": false
   },
   "outputs": [
    {
     "name": "stdout",
     "output_type": "stream",
     "text": [
      "CREATE TABLE Cars(Id INTEGER PRIMARY KEY, Name TEXT, Price INTEGER);\n",
      "Id          Name        Price     \n",
      "----------  ----------  ----------\n",
      "1           Audi        52642     \n",
      "2           Mercedes    57127     \n",
      "3           Skoda       9000      \n",
      "4           Volvo       29000     \n",
      "5           Bentley     350000    \n",
      "6           Citroen     21000     \n",
      "7           Hummer      41400     \n",
      "8           Volkswagen  21600     \n"
     ]
    }
   ],
   "source": [
    "%%bash\n",
    "sqlite3 demo.db \".schema Cars\"\n",
    "sqlite3 demo.db \"SELECT * FROM Cars\""
   ]
  },
  {
   "cell_type": "code",
   "execution_count": 19,
   "metadata": {
    "collapsed": false
   },
   "outputs": [
    {
     "name": "stdout",
     "output_type": "stream",
     "text": [
      "CREATE TABLE Authors(AuthorId INTEGER PRIMARY KEY, Name TEXT);\n",
      "AuthorId    Name       \n",
      "----------  -----------\n",
      "1           Jane Austen\n",
      "2           Leo Tolstoy\n",
      "3           Joseph Hell\n",
      "4           Charles Dic\n"
     ]
    }
   ],
   "source": [
    "%%bash\n",
    "sqlite3 demo.db \".schema Authors\"\n",
    "sqlite3 demo.db \"SELECT * FROM Authors\""
   ]
  },
  {
   "cell_type": "code",
   "execution_count": 15,
   "metadata": {
    "collapsed": false
   },
   "outputs": [
    {
     "name": "stdout",
     "output_type": "stream",
     "text": [
      "CREATE TABLE Books(BookId INTEGER PRIMARY KEY, Title TEXT, AuthorId INTEGER, \n",
      "    FOREIGN KEY(AuthorId) REFERENCES Authors(AuthorId));\n"
     ]
    }
   ],
   "source": [
    "%%bash\n"
   ]
  }
 ],
 "metadata": {
  "kernelspec": {
   "display_name": "Python [Root]",
   "language": "python",
   "name": "Python [Root]"
  },
  "language_info": {
   "codemirror_mode": {
    "name": "ipython",
    "version": 2
   },
   "file_extension": ".py",
   "mimetype": "text/x-python",
   "name": "python",
   "nbconvert_exporter": "python",
   "pygments_lexer": "ipython2",
   "version": "2.7.12"
  }
 },
 "nbformat": 4,
 "nbformat_minor": 0
}
