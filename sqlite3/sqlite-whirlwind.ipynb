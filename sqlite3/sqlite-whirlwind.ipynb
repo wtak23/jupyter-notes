{
 "cells": [
  {
   "cell_type": "markdown",
   "metadata": {},
   "source": [
    "# Test\n",
    "https://docs.python.org/2/library/sqlite3.html"
   ]
  },
  {
   "cell_type": "code",
   "execution_count": 1,
   "metadata": {
    "collapsed": true
   },
   "outputs": [],
   "source": [
    "import sqlite3\n",
    "from IPython.display import display\n",
    "from pandas import DataFrame as DF"
   ]
  },
  {
   "cell_type": "code",
   "execution_count": 2,
   "metadata": {
    "collapsed": false
   },
   "outputs": [],
   "source": [
    "def mydisp(arg1):\n",
    "    display(DF(arg1))"
   ]
  },
  {
   "cell_type": "code",
   "execution_count": 10,
   "metadata": {
    "collapsed": false,
    "scrolled": true
   },
   "outputs": [],
   "source": [
    "conn = sqlite3.connect('example.db')\n",
    "\n",
    "c = conn.cursor()\n",
    "\n",
    "c.execute('''DROP TABLE IF EXISTS stocks''')\n",
    "\n",
    "# Create table\n",
    "c.execute('''CREATE TABLE stocks\n",
    "             (date text, trans text, symbol text, qty real, price real)''')\n",
    "\n",
    "# Insert a row of data\n",
    "c.execute(\"INSERT INTO stocks VALUES ('2006-01-05','BUY','RHAT',100,35.14)\")\n",
    "\n",
    "# Save (commit) the changes\n",
    "conn.commit()\n",
    "\n",
    "# We can also close the connection if we are done with it.\n",
    "# Just be sure any changes have been committed or they will be lost.\n",
    "conn.close()"
   ]
  },
  {
   "cell_type": "code",
   "execution_count": 12,
   "metadata": {
    "collapsed": false
   },
   "outputs": [
    {
     "name": "stdout",
     "output_type": "stream",
     "text": [
      "Variable   Type          Data/Info\n",
      "----------------------------------\n",
      "DF         type          <class 'pandas.core.frame.DataFrame'>\n",
      "c          Cursor        <sqlite3.Cursor object at 0x7f8f7d8af1f0>\n",
      "conn       Connection    <sqlite3.Connection object at 0x7f8f7cd25940>\n",
      "display    function      <function display at 0x7f8faffaded8>\n",
      "mydisp     function      <function mydisp at 0x7f8f7d8ad938>\n",
      "sqlite3    module        <module 'sqlite3' from '/<...>.7/sqlite3/__init__.pyc'>\n"
     ]
    }
   ],
   "source": [
    "whos"
   ]
  },
  {
   "cell_type": "markdown",
   "metadata": {},
   "source": [
    "# Insert data\n",
    "- use `?` syntax, not `%s` printf syntax (SQL Injection threat)"
   ]
  },
  {
   "cell_type": "code",
   "execution_count": 14,
   "metadata": {
    "collapsed": true
   },
   "outputs": [],
   "source": [
    "conn = sqlite3.connect('example.db')\n",
    "c = conn.cursor()"
   ]
  },
  {
   "cell_type": "code",
   "execution_count": 15,
   "metadata": {
    "collapsed": false
   },
   "outputs": [
    {
     "name": "stdout",
     "output_type": "stream",
     "text": [
      "(u'2006-01-05', u'BUY', u'RHAT', 100.0, 35.14)\n"
     ]
    },
    {
     "data": {
      "text/plain": [
       "<sqlite3.Cursor at 0x7f8f7cc4e730>"
      ]
     },
     "execution_count": 15,
     "metadata": {},
     "output_type": "execute_result"
    }
   ],
   "source": [
    "# Do this instead\n",
    "t = ('RHAT',)\n",
    "c.execute('SELECT * FROM stocks WHERE symbol=?', t)\n",
    "print c.fetchone()\n",
    "\n",
    "# Larger example that inserts many records at a time\n",
    "purchases = [('2006-03-28', 'BUY', 'IBM', 1000, 45.00),\n",
    "             ('2006-04-05', 'BUY', 'MSFT', 1000, 72.00),\n",
    "             ('2006-04-06', 'SELL', 'IBM', 500, 53.00),\n",
    "            ]\n",
    "c.executemany('INSERT INTO stocks VALUES (?,?,?,?,?)', purchases)"
   ]
  },
  {
   "cell_type": "markdown",
   "metadata": {},
   "source": [
    "# Get data\n",
    "To retrieve data after executing a SELECT statement, you can either \n",
    "1. treat the cursor as an iterator, \n",
    "2. call the cursor’s `fetchone()` method to retrieve a single matching row, or \n",
    "3. call `fetchall()` to get a list of the matching rows."
   ]
  },
  {
   "cell_type": "code",
   "execution_count": 16,
   "metadata": {
    "collapsed": false
   },
   "outputs": [
    {
     "name": "stdout",
     "output_type": "stream",
     "text": [
      "(u'2006-01-05', u'BUY', u'RHAT', 100.0, 35.14)\n",
      "(u'2006-03-28', u'BUY', u'IBM', 1000.0, 45.0)\n",
      "(u'2006-04-06', u'SELL', u'IBM', 500.0, 53.0)\n",
      "(u'2006-04-05', u'BUY', u'MSFT', 1000.0, 72.0)\n"
     ]
    }
   ],
   "source": [
    "# iterator form\n",
    "for row in c.execute('SELECT * FROM stocks ORDER BY price'):\n",
    "    print row"
   ]
  },
  {
   "cell_type": "code",
   "execution_count": 17,
   "metadata": {
    "collapsed": false,
    "scrolled": true
   },
   "outputs": [
    {
     "data": {
      "text/plain": [
       "[(u'2006-01-05', u'BUY', u'RHAT', 100.0, 35.14),\n",
       " (u'2006-03-28', u'BUY', u'IBM', 1000.0, 45.0),\n",
       " (u'2006-04-06', u'SELL', u'IBM', 500.0, 53.0),\n",
       " (u'2006-04-05', u'BUY', u'MSFT', 1000.0, 72.0)]"
      ]
     },
     "execution_count": 17,
     "metadata": {},
     "output_type": "execute_result"
    }
   ],
   "source": [
    "# fetch all form\n",
    "c.execute('SELECT * FROM stocks ORDER BY price').fetchall()"
   ]
  },
  {
   "cell_type": "markdown",
   "metadata": {},
   "source": [
    "# Row factory\n",
    "- to use dict like syntx"
   ]
  },
  {
   "cell_type": "code",
   "execution_count": 18,
   "metadata": {
    "collapsed": false
   },
   "outputs": [
    {
     "name": "stdout",
     "output_type": "stream",
     "text": [
      "1\n"
     ]
    }
   ],
   "source": [
    "def dict_factory(cursor, row):\n",
    "    d = {}\n",
    "    for idx, col in enumerate(cursor.description):\n",
    "        d[col[0]] = row[idx]\n",
    "    return d\n",
    "\n",
    "con = sqlite3.connect(\":memory:\")\n",
    "con.row_factory = dict_factory\n",
    "cur = con.cursor()\n",
    "cur.execute(\"select 1 as a\")\n",
    "print cur.fetchone()[\"a\"]"
   ]
  },
  {
   "cell_type": "markdown",
   "metadata": {},
   "source": [
    "# iterdump\n"
   ]
  },
  {
   "cell_type": "code",
   "execution_count": 19,
   "metadata": {
    "collapsed": true
   },
   "outputs": [],
   "source": [
    "# Convert file existing_db.db to SQL dump file dump.sql\n",
    "import sqlite3, os\n",
    "\n",
    "con = sqlite3.connect('example.db')\n",
    "with open('dump.sql', 'w') as f:\n",
    "    for line in con.iterdump():\n",
    "        f.write('%s\\n' % line)"
   ]
  },
  {
   "cell_type": "code",
   "execution_count": 20,
   "metadata": {
    "collapsed": false,
    "scrolled": true
   },
   "outputs": [
    {
     "name": "stdout",
     "output_type": "stream",
     "text": [
      "BEGIN TRANSACTION;\n",
      "CREATE TABLE stocks\n",
      "             (date text, trans text, symbol text, qty real, price real);\n",
      "INSERT INTO \"stocks\" VALUES('2006-01-05','BUY','RHAT',100.0,35.14);\n",
      "COMMIT;\n"
     ]
    }
   ],
   "source": [
    "%%bash\n",
    "cat dump.sql"
   ]
  },
  {
   "cell_type": "markdown",
   "metadata": {},
   "source": [
    "# Cursor object\n",
    "https://docs.python.org/2/library/sqlite3.html#cursor-objects"
   ]
  },
  {
   "cell_type": "code",
   "execution_count": 21,
   "metadata": {
    "collapsed": false
   },
   "outputs": [
    {
     "name": "stdout",
     "output_type": "stream",
     "text": [
      "(u'Yeltsin', 72)\n"
     ]
    }
   ],
   "source": [
    "con = sqlite3.connect(\":memory:\")\n",
    "cur = con.cursor()\n",
    "cur.execute(\"create table people (name_last, age)\")\n",
    "\n",
    "who = \"Yeltsin\"\n",
    "age = 72\n",
    "\n",
    "# This is the qmark style:\n",
    "cur.execute(\"insert into people values (?, ?)\", (who, age))\n",
    "\n",
    "# And this is the named style:\n",
    "cur.execute(\"select * from people where name_last=:who and age=:age\", {\"who\": who, \"age\": age})\n",
    "\n",
    "print cur.fetchone()"
   ]
  },
  {
   "cell_type": "code",
   "execution_count": 22,
   "metadata": {
    "collapsed": false
   },
   "outputs": [
    {
     "name": "stdout",
     "output_type": "stream",
     "text": [
      "[(u'a',), (u'b',), (u'c',), (u'd',), (u'e',), (u'f',), (u'g',), (u'h',), (u'i',), (u'j',), (u'k',), (u'l',), (u'm',), (u'n',), (u'o',), (u'p',), (u'q',), (u'r',), (u's',), (u't',), (u'u',), (u'v',), (u'w',), (u'x',), (u'y',), (u'z',)]\n"
     ]
    }
   ],
   "source": [
    "class IterChars:\n",
    "    def __init__(self):\n",
    "        self.count = ord('a')\n",
    "\n",
    "    def __iter__(self):\n",
    "        return self\n",
    "\n",
    "    def next(self):\n",
    "        if self.count > ord('z'):\n",
    "            raise StopIteration\n",
    "        self.count += 1\n",
    "        return (chr(self.count - 1),) # this is a 1-tuple\n",
    "\n",
    "con = sqlite3.connect(\":memory:\")\n",
    "cur = con.cursor()\n",
    "cur.execute(\"create table characters(c)\")\n",
    "\n",
    "theIter = IterChars()\n",
    "cur.executemany(\"insert into characters(c) values (?)\", theIter)\n",
    "\n",
    "cur.execute(\"select c from characters\")\n",
    "print cur.fetchall()"
   ]
  },
  {
   "cell_type": "code",
   "execution_count": 25,
   "metadata": {
    "collapsed": false
   },
   "outputs": [
    {
     "data": {
      "text/plain": [
       "[]"
      ]
     },
     "execution_count": 25,
     "metadata": {},
     "output_type": "execute_result"
    }
   ],
   "source": [
    "con = sqlite3.connect(\":memory:\")\n",
    "cur = con.cursor()\n",
    "cur.executescript(\"\"\"\n",
    "    create table person(\n",
    "        firstname,\n",
    "        lastname,\n",
    "        age\n",
    "    );\n",
    "\n",
    "    create table book(\n",
    "        title,\n",
    "        author,\n",
    "        published\n",
    "    );\n",
    "\n",
    "    insert into book(title, author, published)\n",
    "    values (\n",
    "        'Dirk Gently''s Holistic Detective Agency',\n",
    "        'Douglas Adams',\n",
    "        1987\n",
    "    );\n",
    "    \"\"\")\n",
    "cur.fetchall()"
   ]
  },
  {
   "cell_type": "markdown",
   "metadata": {},
   "source": [
    "# Row objects"
   ]
  },
  {
   "cell_type": "code",
   "execution_count": 26,
   "metadata": {
    "collapsed": true
   },
   "outputs": [],
   "source": [
    "conn = sqlite3.connect(\":memory:\")\n",
    "c = conn.cursor()\n",
    "c.execute('''create table stocks\n",
    "(date text, trans text, symbol text,\n",
    " qty real, price real)''')\n",
    "c.execute(\"\"\"insert into stocks\n",
    "          values ('2006-01-05','BUY','RHAT',100,35.14)\"\"\")\n",
    "conn.commit()\n",
    "c.close()"
   ]
  },
  {
   "cell_type": "code",
   "execution_count": 27,
   "metadata": {
    "collapsed": false
   },
   "outputs": [
    {
     "name": "stdout",
     "output_type": "stream",
     "text": [
      "2006-01-05\n",
      "BUY\n",
      "RHAT\n",
      "100.0\n",
      "35.14\n"
     ]
    }
   ],
   "source": [
    "conn.row_factory = sqlite3.Row\n",
    "c = conn.cursor()\n",
    "c.execute('select * from stocks')\n",
    "\n",
    "r = c.fetchone()\n",
    "type(r)\n",
    "\n",
    "r\n",
    "\n",
    "len(r)\n",
    "\n",
    "r[2]\n",
    "\n",
    "r.keys()\n",
    "\n",
    "r['qty']\n",
    "\n",
    "for member in r:\n",
    "    print member\n"
   ]
  },
  {
   "cell_type": "code",
   "execution_count": null,
   "metadata": {
    "collapsed": true
   },
   "outputs": [],
   "source": []
  }
 ],
 "metadata": {
  "kernelspec": {
   "display_name": "Python [Root]",
   "language": "python",
   "name": "Python [Root]"
  },
  "language_info": {
   "codemirror_mode": {
    "name": "ipython",
    "version": 2
   },
   "file_extension": ".py",
   "mimetype": "text/x-python",
   "name": "python",
   "nbconvert_exporter": "python",
   "pygments_lexer": "ipython2",
   "version": "2.7.12"
  },
  "nav_menu": {},
  "toc": {
   "navigate_menu": true,
   "number_sections": true,
   "sideBar": true,
   "threshold": 6,
   "toc_cell": false,
   "toc_section_display": "block",
   "toc_window_display": true
  }
 },
 "nbformat": 4,
 "nbformat_minor": 0
}
