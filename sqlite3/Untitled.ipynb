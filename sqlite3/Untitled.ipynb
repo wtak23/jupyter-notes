{
 "cells": [
  {
   "cell_type": "code",
   "execution_count": 1,
   "metadata": {
    "collapsed": false
   },
   "outputs": [
    {
     "name": "stdout",
     "output_type": "stream",
     "text": [
      "total 656\n",
      "-rw-r--r-- 1 takanori takanori    470 Sep 21 19:56 books.sql\n",
      "-rw-r--r-- 1 takanori takanori    475 Sep 21 19:56 cars.sql\n",
      "-rw-r--r-- 1 takanori takanori 179247 Sep 21 20:20 city.sql\n",
      "-rw-r--r-- 1 takanori takanori    815 Sep 21 19:56 customers_reservations.sql\n",
      "-rw-r--r-- 1 takanori takanori    188 Sep 22 18:39 dump.sql\n",
      "-rw-r--r-- 1 takanori takanori   2048 Sep 22 18:34 example.db\n",
      "-rw-r--r-- 1 takanori takanori     75 Jul  3 14:43 readme.rst\n",
      "-rw-r--r-- 1 takanori takanori  12171 Sep 22 18:42 sqlite-whirlwind.ipynb\n",
      "-rw-r--r-- 1 takanori takanori     72 Sep 22 18:43 Untitled.ipynb\n",
      "-rw-r--r-- 1 takanori takanori     62 Sep 21 19:56 url.txt\n",
      "-rw-r--r-- 1 takanori takanori 397334 Sep 21 20:09 world.sql\n"
     ]
    }
   ],
   "source": [
    "%%sh\n",
    "ls -l"
   ]
  },
  {
   "cell_type": "code",
   "execution_count": 2,
   "metadata": {
    "collapsed": false
   },
   "outputs": [
    {
     "name": "stderr",
     "output_type": "stream",
     "text": [
      "Error: near line 3: near \"USE\": syntax error\n"
     ]
    }
   ],
   "source": [
    "%%sh\n",
    "cat cars.sql | sqlite3 demo.db"
   ]
  },
  {
   "cell_type": "code",
   "execution_count": null,
   "metadata": {
    "collapsed": true
   },
   "outputs": [],
   "source": []
  }
 ],
 "metadata": {
  "kernelspec": {
   "display_name": "Python [Root]",
   "language": "python",
   "name": "Python [Root]"
  },
  "language_info": {
   "codemirror_mode": {
    "name": "ipython",
    "version": 2
   },
   "file_extension": ".py",
   "mimetype": "text/x-python",
   "name": "python",
   "nbconvert_exporter": "python",
   "pygments_lexer": "ipython2",
   "version": "2.7.12"
  }
 },
 "nbformat": 4,
 "nbformat_minor": 0
}
