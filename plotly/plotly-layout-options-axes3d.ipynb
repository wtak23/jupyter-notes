{
 "cells": [
  {
   "cell_type": "markdown",
   "metadata": {},
   "source": [
    "https://plot.ly/python/3d-axes/\n",
    "\n",
    "  **Table of Contents**\n",
    "\n",
    "  <div id=\"toc\"></div>\n",
    "  <script type=\"text/javascript\"\n",
    "  src=\"https://raw.github.com/kmahelona/ipython_notebook_goodies/master/ipython_notebook_toc.js\">\n",
    "  </script>\n"
   ]
  },
  {
   "cell_type": "code",
   "execution_count": 1,
   "metadata": {
    "collapsed": true
   },
   "outputs": [],
   "source": [
    "import plotly.plotly as py\n",
    "import plotly.graph_objs as go\n",
    "import numpy as np\n"
   ]
  },
  {
   "cell_type": "markdown",
   "metadata": {},
   "source": [
    "# Range of Axes\n"
   ]
  },
  {
   "cell_type": "code",
   "execution_count": 3,
   "metadata": {
    "collapsed": true
   },
   "outputs": [],
   "source": [
    "scene = dict(xaxis = dict(nticks=4, range = [-100,100]),\n",
    "             yaxis = dict(nticks=4, range = [-50,100]),\n",
    "             zaxis = dict(nticks=4, range = [-100,100]))\n",
    "margin = dict(r=20, l=10,b=10, t=10)"
   ]
  },
  {
   "cell_type": "code",
   "execution_count": 4,
   "metadata": {
    "collapsed": false
   },
   "outputs": [
    {
     "data": {
      "text/html": [
       "<iframe id=\"igraph\" scrolling=\"no\" style=\"border:none;\" seamless=\"seamless\" src=\"https://plot.ly/~takanori/1006.embed?share_key=FhoFO5mPPMbx6CZf8rIDXy\" height=\"525px\" width=\"700px\"></iframe>"
      ],
      "text/plain": [
       "<plotly.tools.PlotlyDisplay object>"
      ]
     },
     "execution_count": 4,
     "metadata": {},
     "output_type": "execute_result"
    }
   ],
   "source": [
    "N = 70\n",
    "trace1 = go.Mesh3d(x=(70*np.random.randn(N)),\n",
    "                   y=(55*np.random.randn(N)),\n",
    "                   z=(40*np.random.randn(N)),\n",
    "                   opacity=0.5,color='rgba(244,22,100,0.6)')\n",
    "\n",
    "layout = go.Layout(scene=scene,width=700,margin=margin)\n",
    "fig = go.Figure(data=[trace1], layout=layout)\n",
    "py.iplot(fig)"
   ]
  },
  {
   "cell_type": "markdown",
   "metadata": {},
   "source": [
    "# Set Axes Title\n"
   ]
  },
  {
   "cell_type": "code",
   "execution_count": 8,
   "metadata": {
    "collapsed": true
   },
   "outputs": [],
   "source": [
    "N = 50\n",
    "trace1 = go.Mesh3d(x=(60*np.random.randn(N)),\n",
    "                   y=(25*np.random.randn(N)),\n",
    "                   z=(40*np.random.randn(N)),\n",
    "                   opacity=0.5,color='yellow')\n",
    "trace2 = go.Mesh3d(x=(70*np.random.randn(N)),\n",
    "                   y=(55*np.random.randn(N)),\n",
    "                   z=(30*np.random.randn(N)),\n",
    "                   opacity=0.5,color='pink')\n",
    "data=[trace1,trace2]\n",
    "\n",
    "scene = dict(xaxis = dict(title='X AXIS TITLE'),\n",
    "             yaxis = dict(title='Y AXIS TITLE'),\n",
    "             zaxis = dict(title='Z AXIS TITLE'))"
   ]
  },
  {
   "cell_type": "code",
   "execution_count": 11,
   "metadata": {
    "collapsed": false
   },
   "outputs": [
    {
     "data": {
      "text/html": [
       "<iframe id=\"igraph\" scrolling=\"no\" style=\"border:none;\" seamless=\"seamless\" src=\"https://plot.ly/~takanori/1010.embed?share_key=tmauYuDiNoHDGzdqMbvjyr\" height=\"525px\" width=\"700px\"></iframe>"
      ],
      "text/plain": [
       "<plotly.tools.PlotlyDisplay object>"
      ]
     },
     "execution_count": 11,
     "metadata": {},
     "output_type": "execute_result"
    }
   ],
   "source": [
    "layout = go.Layout(scene=scene,width=700,margin=dict(r=20, b=10,l=10, t=10))\n",
    "fig = go.Figure(data=data, layout=layout)\n",
    "py.iplot(fig)"
   ]
  },
  {
   "cell_type": "markdown",
   "metadata": {},
   "source": [
    "# Ticks Formatting\n"
   ]
  },
  {
   "cell_type": "code",
   "execution_count": 12,
   "metadata": {
    "collapsed": false
   },
   "outputs": [
    {
     "data": {
      "text/html": [
       "<iframe id=\"igraph\" scrolling=\"no\" style=\"border:none;\" seamless=\"seamless\" src=\"https://plot.ly/~takanori/1012.embed?share_key=HXet5uGHMw1p8V5azFp0Sj\" height=\"525px\" width=\"700px\"></iframe>"
      ],
      "text/plain": [
       "<plotly.tools.PlotlyDisplay object>"
      ]
     },
     "execution_count": 12,
     "metadata": {},
     "output_type": "execute_result"
    }
   ],
   "source": [
    "N = 50\n",
    "trace1 = go.Mesh3d(x=(60*np.random.randn(N)),\n",
    "                   y=(25*np.random.randn(N)),\n",
    "                   z=(40*np.random.randn(N)),\n",
    "                   opacity=0.5,color='rgba(100,22,200,0.5)')\n",
    "\n",
    "xaxis = dict(ticktext= ['TICKS','MESH','PLOTLY','PYTHON'],tickvals= [0,50,75,-50])\n",
    "yaxis = dict(nticks=5, ticksuffix='#',\n",
    "             tickfont=dict(color='green',size=12,family='Old Standard TT, serif'))\n",
    "zaxis = dict(nticks=4, ticks='outside',tick0=0, tickwidth=4)\n",
    "\n",
    "scene = dict(xaxis=xaxis, yaxis=yaxis, zaxis=zaxis)\n",
    "\n",
    "\n",
    "layout = go.Layout(scene=scene,width=700,margin=dict(r=10, l=10,b=10, t=10))\n",
    "fig = go.Figure(data=[trace1], layout=layout)\n",
    "py.iplot(fig)\n"
   ]
  },
  {
   "cell_type": "markdown",
   "metadata": {},
   "source": [
    "# Background color and grid color"
   ]
  },
  {
   "cell_type": "code",
   "execution_count": 14,
   "metadata": {
    "collapsed": true
   },
   "outputs": [],
   "source": [
    "scene = dict(xaxis = dict(backgroundcolor=\"rgb(200, 200, 230)\",\n",
    "                          gridcolor=\"rgb(255, 255, 255)\",\n",
    "                          showbackground=True,\n",
    "                          zerolinecolor=\"rgb(255, 255, 255)\"),\n",
    "             yaxis = dict(backgroundcolor=\"rgb(230, 200,230)\",\n",
    "                          gridcolor=\"rgb(255, 255, 255)\",\n",
    "                          showbackground=True,\n",
    "                          zerolinecolor=\"rgb(255, 255, 255)\"),\n",
    "             zaxis = dict(backgroundcolor=\"rgb(230, 230,200)\",\n",
    "                          gridcolor=\"rgb(255, 255, 255)\",\n",
    "                          showbackground=True,\n",
    "                          zerolinecolor=\"rgb(255, 255, 255)\"))"
   ]
  },
  {
   "cell_type": "code",
   "execution_count": 15,
   "metadata": {
    "collapsed": false
   },
   "outputs": [
    {
     "data": {
      "text/html": [
       "<iframe id=\"igraph\" scrolling=\"no\" style=\"border:none;\" seamless=\"seamless\" src=\"https://plot.ly/~takanori/1014.embed?share_key=GXEF7wcNcxe65dxthE30ge\" height=\"525px\" width=\"700px\"></iframe>"
      ],
      "text/plain": [
       "<plotly.tools.PlotlyDisplay object>"
      ]
     },
     "execution_count": 15,
     "metadata": {},
     "output_type": "execute_result"
    }
   ],
   "source": [
    "layout = go.Layout(scene=scene,width=700,margin=dict(r=10, l=10,b=10, t=10))\n",
    "fig = go.Figure(data=[trace1], layout=layout)\n",
    "py.iplot(fig)"
   ]
  }
 ],
 "metadata": {
  "kernelspec": {
   "display_name": "Python [Root]",
   "language": "python",
   "name": "Python [Root]"
  },
  "language_info": {
   "codemirror_mode": {
    "name": "ipython",
    "version": 2
   },
   "file_extension": ".py",
   "mimetype": "text/x-python",
   "name": "python",
   "nbconvert_exporter": "python",
   "pygments_lexer": "ipython2",
   "version": "2.7.12"
  }
 },
 "nbformat": 4,
 "nbformat_minor": 0
}
