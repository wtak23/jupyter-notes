{
 "cells": [
  {
   "cell_type": "markdown",
   "metadata": {},
   "source": [
    "https://plot.ly/python/axes/\n",
    "\n",
    "  **Table of Contents**\n",
    "\n",
    "  <div id=\"toc\"></div>\n",
    "  <script type=\"text/javascript\"\n",
    "  src=\"https://raw.github.com/kmahelona/ipython_notebook_goodies/master/ipython_notebook_toc.js\">\n",
    "  </script>\n"
   ]
  },
  {
   "cell_type": "code",
   "execution_count": 1,
   "metadata": {
    "collapsed": true
   },
   "outputs": [],
   "source": [
    "import plotly.plotly as py\n",
    "import plotly.graph_objs as go"
   ]
  },
  {
   "cell_type": "markdown",
   "metadata": {},
   "source": [
    "# Toggling Axes Lines, Ticks, Labels, and Autorange"
   ]
  },
  {
   "cell_type": "code",
   "execution_count": 2,
   "metadata": {
    "collapsed": false
   },
   "outputs": [
    {
     "data": {
      "text/html": [
       "<iframe id=\"igraph\" scrolling=\"no\" style=\"border:none;\" seamless=\"seamless\" src=\"https://plot.ly/~takanori/986.embed?share_key=DhIT1CULNSuDefWSKv2b8S\" height=\"525px\" width=\"100%\"></iframe>"
      ],
      "text/plain": [
       "<plotly.tools.PlotlyDisplay object>"
      ]
     },
     "execution_count": 2,
     "metadata": {},
     "output_type": "execute_result"
    }
   ],
   "source": [
    "trace1 = go.Scatter(x=[0, 1, 2, 3, 4, 5, 6, 7, 8],y=[8, 7, 6, 5, 4, 3, 2, 1, 0])\n",
    "trace2 = go.Scatter(x=[0, 1, 2, 3, 4, 5, 6, 7, 8],y=[0, 1, 2, 3, 4, 5, 6, 7, 8])\n",
    "data = [trace1, trace2]\n",
    "\n",
    "layout = go.Layout(\n",
    "    xaxis=dict(autorange=True,showgrid=False,zeroline=False,showline=False,\n",
    "        autotick=True,ticks='',showticklabels=False),\n",
    "    yaxis=dict(autorange=True,showgrid=False,zeroline=False,showline=False,\n",
    "        autotick=True,ticks='',showticklabels=False)\n",
    ")\n",
    "fig = go.Figure(data=data, layout=layout)\n",
    "py.iplot(fig)"
   ]
  },
  {
   "cell_type": "markdown",
   "metadata": {},
   "source": [
    "# Tick Placement, Color, and Style"
   ]
  },
  {
   "cell_type": "code",
   "execution_count": 3,
   "metadata": {
    "collapsed": false
   },
   "outputs": [
    {
     "data": {
      "text/html": [
       "<iframe id=\"igraph\" scrolling=\"no\" style=\"border:none;\" seamless=\"seamless\" src=\"https://plot.ly/~takanori/988.embed?share_key=PlfhkIWUbibMoqgKV0HJzM\" height=\"525px\" width=\"100%\"></iframe>"
      ],
      "text/plain": [
       "<plotly.tools.PlotlyDisplay object>"
      ]
     },
     "execution_count": 3,
     "metadata": {},
     "output_type": "execute_result"
    }
   ],
   "source": [
    "layout = go.Layout(\n",
    "    xaxis=dict(autotick=False,ticks='outside',tick0=0,dtick=0.25,\n",
    "        ticklen=8,tickwidth=4,tickcolor='#000'),\n",
    "    yaxis=dict(autotick=False,ticks='outside',tick0=0,dtick=0.25,\n",
    "        ticklen=8,tickwidth=4,tickcolor='#000')\n",
    ")\n",
    "fig = go.Figure(data=data, layout=layout)\n",
    "py.iplot(fig)"
   ]
  },
  {
   "cell_type": "markdown",
   "metadata": {},
   "source": [
    "# Set and Style Axes Title Labels and Ticks"
   ]
  },
  {
   "cell_type": "code",
   "execution_count": 5,
   "metadata": {
    "collapsed": true
   },
   "outputs": [],
   "source": [
    "xaxis = dict(title='AXIS TITLE',showticklabels=True,tickangle=45,\n",
    "             titlefont=dict(family='Arial, sans-serif',size=18,color='lightgrey'),\n",
    "             tickfont=dict(family='Old Standard TT, serif',size=14,color='black'),\n",
    "             exponentformat='e',showexponent='All')\n",
    "yaxis=dict(title='AXIS TITLE',showticklabels=True,tickangle=45,\n",
    "        titlefont=dict(family='Arial, sans-serif',size=18,color='lightgrey'),      \n",
    "        tickfont=dict(family='Old Standard TT, serif',size=14,color='black'),\n",
    "        exponentformat='e',showexponent='All')"
   ]
  },
  {
   "cell_type": "code",
   "execution_count": 6,
   "metadata": {
    "collapsed": false
   },
   "outputs": [
    {
     "data": {
      "text/html": [
       "<iframe id=\"igraph\" scrolling=\"no\" style=\"border:none;\" seamless=\"seamless\" src=\"https://plot.ly/~takanori/990.embed?share_key=HZ01TMwAFmKPrCchnZAbyU\" height=\"525px\" width=\"100%\"></iframe>"
      ],
      "text/plain": [
       "<plotly.tools.PlotlyDisplay object>"
      ]
     },
     "execution_count": 6,
     "metadata": {},
     "output_type": "execute_result"
    }
   ],
   "source": [
    "layout = go.Layout(xaxis=xaxis,yaxis=yaxis)\n",
    "fig = go.Figure(data=data, layout=layout)\n",
    "py.iplot(fig)"
   ]
  },
  {
   "cell_type": "markdown",
   "metadata": {},
   "source": [
    "# Styling and Coloring Axes and the Zero-Line"
   ]
  },
  {
   "cell_type": "code",
   "execution_count": 10,
   "metadata": {
    "collapsed": false
   },
   "outputs": [
    {
     "data": {
      "text/html": [
       "<iframe id=\"igraph\" scrolling=\"no\" style=\"border:none;\" seamless=\"seamless\" src=\"https://plot.ly/~takanori/994.embed?share_key=LS4aeMkakO0nfVtWCjvqZ8\" height=\"525px\" width=\"100%\"></iframe>"
      ],
      "text/plain": [
       "<plotly.tools.PlotlyDisplay object>"
      ]
     },
     "execution_count": 10,
     "metadata": {},
     "output_type": "execute_result"
    }
   ],
   "source": [
    "xaxis=dict(\n",
    "    showgrid=True,\n",
    "    zeroline=True,\n",
    "    showline=True,\n",
    "    mirror='ticks',\n",
    "    gridcolor='#bdbdbd',\n",
    "    gridwidth=2,\n",
    "    zerolinecolor='#969696',\n",
    "    zerolinewidth=4,\n",
    "    linecolor='#636363',\n",
    "    linewidth=6\n",
    ")\n",
    "yaxis=dict(\n",
    "    showgrid=True,\n",
    "    zeroline=True,\n",
    "    showline=True,\n",
    "    mirror='ticks',\n",
    "    gridcolor='#bdbdbd',\n",
    "    gridwidth=2,\n",
    "    zerolinecolor='#969696',\n",
    "    zerolinewidth=4,\n",
    "    linecolor='#636363',\n",
    "    linewidth=6\n",
    ")\n",
    "layout = go.Layout(xaxis=xaxis,yaxis=yaxis)\n",
    "fig = go.Figure(data=data, layout=layout)\n",
    "py.iplot(fig)"
   ]
  },
  {
   "cell_type": "markdown",
   "metadata": {
    "run_control": {
     "marked": true
    }
   },
   "source": [
    "# Setting the Range of Axes Manually"
   ]
  },
  {
   "cell_type": "code",
   "execution_count": 11,
   "metadata": {
    "collapsed": false
   },
   "outputs": [
    {
     "data": {
      "text/html": [
       "<iframe id=\"igraph\" scrolling=\"no\" style=\"border:none;\" seamless=\"seamless\" src=\"https://plot.ly/~takanori/996.embed?share_key=zhkLWm7ILl3nVb7sgxQ1y9\" height=\"525px\" width=\"100%\"></iframe>"
      ],
      "text/plain": [
       "<plotly.tools.PlotlyDisplay object>"
      ]
     },
     "execution_count": 11,
     "metadata": {},
     "output_type": "execute_result"
    }
   ],
   "source": [
    "layout = go.Layout(xaxis=dict(range=[2, 5]),\n",
    "                   yaxis=dict(range=[2, 5]))\n",
    "fig = go.Figure(data=data, layout=layout)\n",
    "py.iplot(fig)"
   ]
  },
  {
   "cell_type": "markdown",
   "metadata": {},
   "source": [
    "# Logarithmic Axes"
   ]
  },
  {
   "cell_type": "code",
   "execution_count": 12,
   "metadata": {
    "collapsed": false
   },
   "outputs": [
    {
     "data": {
      "text/html": [
       "<iframe id=\"igraph\" scrolling=\"no\" style=\"border:none;\" seamless=\"seamless\" src=\"https://plot.ly/~takanori/998.embed?share_key=MaLma1RW4sxnWra60XLFJV\" height=\"525px\" width=\"100%\"></iframe>"
      ],
      "text/plain": [
       "<plotly.tools.PlotlyDisplay object>"
      ]
     },
     "execution_count": 12,
     "metadata": {},
     "output_type": "execute_result"
    }
   ],
   "source": [
    "layout = go.Layout(\n",
    "    xaxis=dict(type='log',autorange=True),\n",
    "    yaxis=dict(type='log',autorange=True)\n",
    ")\n",
    "fig = go.Figure(data=data, layout=layout)\n",
    "py.iplot(fig)"
   ]
  },
  {
   "cell_type": "markdown",
   "metadata": {},
   "source": [
    "# Reversed Axes"
   ]
  },
  {
   "cell_type": "code",
   "execution_count": 13,
   "metadata": {
    "collapsed": false
   },
   "outputs": [
    {
     "data": {
      "text/html": [
       "<iframe id=\"igraph\" scrolling=\"no\" style=\"border:none;\" seamless=\"seamless\" src=\"https://plot.ly/~takanori/1000.embed?share_key=vPeRqrrpWoqrSOZ31jsrIC\" height=\"525px\" width=\"100%\"></iframe>"
      ],
      "text/plain": [
       "<plotly.tools.PlotlyDisplay object>"
      ]
     },
     "execution_count": 13,
     "metadata": {},
     "output_type": "execute_result"
    }
   ],
   "source": [
    "data = [go.Scatter(x=[1, 2],y=[1, 2])]\n",
    "layout = go.Layout(xaxis=dict(autorange='reversed'))\n",
    "fig = go.Figure(data=data, layout=layout)\n",
    "py.iplot(fig)"
   ]
  },
  {
   "cell_type": "markdown",
   "metadata": {},
   "source": [
    "# Reversed Axes with Range ( Min/Max ) Specified"
   ]
  },
  {
   "cell_type": "code",
   "execution_count": 14,
   "metadata": {
    "collapsed": false
   },
   "outputs": [
    {
     "data": {
      "text/html": [
       "<iframe id=\"igraph\" scrolling=\"no\" style=\"border:none;\" seamless=\"seamless\" src=\"https://plot.ly/~takanori/1002.embed?share_key=d61ST7uK5cCTIotqFX3nsa\" height=\"525px\" width=\"100%\"></iframe>"
      ],
      "text/plain": [
       "<plotly.tools.PlotlyDisplay object>"
      ]
     },
     "execution_count": 14,
     "metadata": {},
     "output_type": "execute_result"
    }
   ],
   "source": [
    "import numpy as np\n",
    "\n",
    "x = np.linspace(0, 10, 100)\n",
    "y = np.random.randint(1, 100, 100)\n",
    "\n",
    "data = [go.Scatter(x=x, y=y, mode='markers')]\n",
    "layout = go.Layout(title='Reversed Axis with Min/Max',xaxis=dict(autorange='reversed', range=[0, 10]))\n",
    "\n",
    "fig = go.Figure(data=data, layout=layout)\n",
    "py.iplot(fig)"
   ]
  },
  {
   "cell_type": "markdown",
   "metadata": {},
   "source": [
    "# nonnegative, tozero, and normal Rangemode"
   ]
  },
  {
   "cell_type": "code",
   "execution_count": 15,
   "metadata": {
    "collapsed": false
   },
   "outputs": [
    {
     "data": {
      "text/html": [
       "<iframe id=\"igraph\" scrolling=\"no\" style=\"border:none;\" seamless=\"seamless\" src=\"https://plot.ly/~takanori/1004.embed?share_key=lq08aNl1BDWd0wG4Oh58Ur\" height=\"525px\" width=\"100%\"></iframe>"
      ],
      "text/plain": [
       "<plotly.tools.PlotlyDisplay object>"
      ]
     },
     "execution_count": 15,
     "metadata": {},
     "output_type": "execute_result"
    }
   ],
   "source": [
    "data = [go.Scatter(x=[2, 4, 6],y=[-3, 0, 3])]\n",
    "layout = go.Layout(\n",
    "    showlegend=False,\n",
    "    xaxis=dict(rangemode='tozero',autorange=True),\n",
    "    yaxis=dict(rangemode='nonnegative',autorange=True)\n",
    ")\n",
    "fig = go.Figure(data=data, layout=layout)\n",
    "py.iplot(fig)"
   ]
  },
  {
   "cell_type": "markdown",
   "metadata": {},
   "source": [
    "# Enumerated Ticks with Tickvals and Ticktext"
   ]
  },
  {
   "cell_type": "markdown",
   "metadata": {},
   "source": [
    "couldn't run...i can't find the data file they are using...\n",
    "\n",
    "See\n",
    "\n",
    "https://plot.ly/python/axes/#enumerated-ticks-with-tickvals-and-ticktext"
   ]
  },
  {
   "cell_type": "code",
   "execution_count": 17,
   "metadata": {
    "collapsed": false
   },
   "outputs": [
    {
     "name": "stdout",
     "output_type": "stream",
     "text": [
      "Collecting pymatgen\n",
      "  Downloading pymatgen-4.4.0.tar.gz (1.3MB)\n",
      "Requirement already satisfied (use --upgrade to upgrade): numpy>=1.9 in /home/takanori/anaconda2/lib/python2.7/site-packages (from pymatgen)\n",
      "Requirement already satisfied (use --upgrade to upgrade): six in /home/takanori/.local/lib/python2.7/site-packages (from pymatgen)\n",
      "Collecting atomicfile (from pymatgen)\n",
      "  Downloading atomicfile-1.0.tar.gz\n",
      "Requirement already satisfied (use --upgrade to upgrade): requests in /home/takanori/.local/lib/python2.7/site-packages (from pymatgen)\n",
      "Collecting pybtex (from pymatgen)\n",
      "  Downloading pybtex-0.20.1.tar.bz2 (283kB)\n",
      "Requirement already satisfied (use --upgrade to upgrade): pyyaml in /home/takanori/anaconda2/lib/python2.7/site-packages (from pymatgen)\n",
      "Collecting monty>=0.9.5 (from pymatgen)\n",
      "  Downloading monty-0.9.5.tar.gz\n",
      "Requirement already satisfied (use --upgrade to upgrade): scipy>=0.14 in /home/takanori/anaconda2/lib/python2.7/site-packages (from pymatgen)\n",
      "Requirement already satisfied (use --upgrade to upgrade): tabulate in /home/takanori/.local/lib/python2.7/site-packages (from pymatgen)\n",
      "Requirement already satisfied (use --upgrade to upgrade): enum34 in /home/takanori/anaconda2/lib/python2.7/site-packages (from pymatgen)\n",
      "Collecting spglib (from pymatgen)\n",
      "  Downloading spglib-1.9.5.tar.gz (167kB)\n",
      "Collecting latexcodec>=1.0.2 (from pybtex->pymatgen)\n",
      "  Downloading latexcodec-1.0.4-py2.py3-none-any.whl\n",
      "Building wheels for collected packages: pymatgen, atomicfile, pybtex, monty, spglib\n",
      "  Running setup.py bdist_wheel for pymatgen: started\n",
      "  Running setup.py bdist_wheel for pymatgen: finished with status 'done'\n",
      "  Stored in directory: /home/takanori/.cache/pip/wheels/39/9d/de/ef8c146c4681c50635b8b92c3a34eb45dabf85cb5290b71146\n",
      "  Running setup.py bdist_wheel for atomicfile: started\n",
      "  Running setup.py bdist_wheel for atomicfile: finished with status 'done'\n",
      "  Stored in directory: /home/takanori/.cache/pip/wheels/c8/fd/ba/ccb101cecf251001181bad3e32df3374f48d3b0912aeb37bd9\n",
      "  Running setup.py bdist_wheel for pybtex: started\n",
      "  Running setup.py bdist_wheel for pybtex: finished with status 'done'\n",
      "  Stored in directory: /home/takanori/.cache/pip/wheels/4f/fd/05/9971ed5117841d9e673a0428feca51f383dd3da5d951ac29b1\n",
      "  Running setup.py bdist_wheel for monty: started\n",
      "  Running setup.py bdist_wheel for monty: finished with status 'done'\n",
      "  Stored in directory: /home/takanori/.cache/pip/wheels/88/b2/a7/c6d34c49d56e0ee2abc300c976271710ac28c6db1d37b1e9e7\n",
      "  Running setup.py bdist_wheel for spglib: started\n",
      "  Running setup.py bdist_wheel for spglib: finished with status 'done'\n",
      "  Stored in directory: /home/takanori/.cache/pip/wheels/f0/a8/d8/6b4ec1f4bdb9ef681ebc565754325007c01b7858ff725b4f8f\n",
      "Successfully built pymatgen atomicfile pybtex monty spglib\n",
      "Installing collected packages: atomicfile, latexcodec, pybtex, monty, spglib, pymatgen\n",
      "Successfully installed atomicfile-1.0 latexcodec-1.0.4 monty-0.9.5 pybtex-0.20.1 pymatgen-4.4.0 spglib-1.9.5\n"
     ]
    }
   ],
   "source": [
    "%%bash\n",
    "pip install pymatgen --user"
   ]
  },
  {
   "cell_type": "code",
   "execution_count": 18,
   "metadata": {
    "collapsed": false
   },
   "outputs": [],
   "source": [
    "import plotly.tools as tls\n",
    "from pymatgen.io.vasp import Vasprun\n",
    "from pymatgen.electronic_structure.core import Spin\n"
   ]
  },
  {
   "cell_type": "code",
   "execution_count": 19,
   "metadata": {
    "collapsed": false
   },
   "outputs": [
    {
     "ename": "IOError",
     "evalue": "[Errno 2] No such file or directory: 'Si_bands/DOS/vasprun.xml'",
     "output_type": "error",
     "traceback": [
      "\u001b[1;31m---------------------------------------------------------------------------\u001b[0m",
      "\u001b[1;31mIOError\u001b[0m                                   Traceback (most recent call last)",
      "\u001b[1;32m<ipython-input-19-2934f9c31924>\u001b[0m in \u001b[0;36m<module>\u001b[1;34m()\u001b[0m\n\u001b[1;32m----> 1\u001b[1;33m \u001b[0mdosrun\u001b[0m \u001b[1;33m=\u001b[0m \u001b[0mVasprun\u001b[0m\u001b[1;33m(\u001b[0m\u001b[1;34m\"Si_bands/DOS/vasprun.xml\"\u001b[0m\u001b[1;33m)\u001b[0m\u001b[1;33m\u001b[0m\u001b[0m\n\u001b[0m\u001b[0;32m      2\u001b[0m \u001b[0mspd_dos\u001b[0m \u001b[1;33m=\u001b[0m \u001b[0mdosrun\u001b[0m\u001b[1;33m.\u001b[0m\u001b[0mcomplete_dos\u001b[0m\u001b[1;33m.\u001b[0m\u001b[0mget_spd_dos\u001b[0m\u001b[1;33m(\u001b[0m\u001b[1;33m)\u001b[0m\u001b[1;33m\u001b[0m\u001b[0m\n\u001b[0;32m      3\u001b[0m \u001b[0mrun\u001b[0m \u001b[1;33m=\u001b[0m \u001b[0mVasprun\u001b[0m\u001b[1;33m(\u001b[0m\u001b[1;34m\"Si_bands/Bandes/vasprun.xml\"\u001b[0m\u001b[1;33m,\u001b[0m \u001b[0mparse_projected_eigen\u001b[0m \u001b[1;33m=\u001b[0m \u001b[0mTrue\u001b[0m\u001b[1;33m)\u001b[0m\u001b[1;33m\u001b[0m\u001b[0m\n\u001b[0;32m      4\u001b[0m \u001b[0mbands\u001b[0m \u001b[1;33m=\u001b[0m \u001b[0mrun\u001b[0m\u001b[1;33m.\u001b[0m\u001b[0mget_band_structure\u001b[0m\u001b[1;33m(\u001b[0m\u001b[1;34m\"Si_bands/Bandes/KPOINTS\"\u001b[0m\u001b[1;33m,\u001b[0m \u001b[0mline_mode\u001b[0m\u001b[1;33m=\u001b[0m\u001b[0mTrue\u001b[0m\u001b[1;33m,\u001b[0m \u001b[0mefermi\u001b[0m\u001b[1;33m=\u001b[0m\u001b[0mdosrun\u001b[0m\u001b[1;33m.\u001b[0m\u001b[0mefermi\u001b[0m\u001b[1;33m)\u001b[0m\u001b[1;33m\u001b[0m\u001b[0m\n",
      "\u001b[1;32m/home/takanori/.local/lib/python2.7/site-packages/pymatgen/io/vasp/outputs.pyc\u001b[0m in \u001b[0;36m__init__\u001b[1;34m(self, filename, ionic_step_skip, ionic_step_offset, parse_dos, parse_eigen, parse_projected_eigen, parse_potcar_file, occu_tol, exception_on_bad_xml)\u001b[0m\n\u001b[0;32m    355\u001b[0m         \u001b[0mself\u001b[0m\u001b[1;33m.\u001b[0m\u001b[0mexception_on_bad_xml\u001b[0m \u001b[1;33m=\u001b[0m \u001b[0mexception_on_bad_xml\u001b[0m\u001b[1;33m\u001b[0m\u001b[0m\n\u001b[0;32m    356\u001b[0m \u001b[1;33m\u001b[0m\u001b[0m\n\u001b[1;32m--> 357\u001b[1;33m         \u001b[1;32mwith\u001b[0m \u001b[0mzopen\u001b[0m\u001b[1;33m(\u001b[0m\u001b[0mfilename\u001b[0m\u001b[1;33m,\u001b[0m \u001b[1;34m\"rt\"\u001b[0m\u001b[1;33m)\u001b[0m \u001b[1;32mas\u001b[0m \u001b[0mf\u001b[0m\u001b[1;33m:\u001b[0m\u001b[1;33m\u001b[0m\u001b[0m\n\u001b[0m\u001b[0;32m    358\u001b[0m             \u001b[1;32mif\u001b[0m \u001b[0mionic_step_skip\u001b[0m \u001b[1;32mor\u001b[0m \u001b[0mionic_step_offset\u001b[0m\u001b[1;33m:\u001b[0m\u001b[1;33m\u001b[0m\u001b[0m\n\u001b[0;32m    359\u001b[0m                 \u001b[1;31m# remove parts of the xml file and parse the string\u001b[0m\u001b[1;33m\u001b[0m\u001b[1;33m\u001b[0m\u001b[0m\n",
      "\u001b[1;32m/home/takanori/.local/lib/python2.7/site-packages/monty/io.pyc\u001b[0m in \u001b[0;36mzopen\u001b[1;34m(filename, *args, **kwargs)\u001b[0m\n\u001b[0;32m     58\u001b[0m         \u001b[1;32mreturn\u001b[0m \u001b[0mgzip\u001b[0m\u001b[1;33m.\u001b[0m\u001b[0mopen\u001b[0m\u001b[1;33m(\u001b[0m\u001b[0mfilename\u001b[0m\u001b[1;33m,\u001b[0m \u001b[1;33m*\u001b[0m\u001b[0margs\u001b[0m\u001b[1;33m,\u001b[0m \u001b[1;33m**\u001b[0m\u001b[0mkwargs\u001b[0m\u001b[1;33m)\u001b[0m\u001b[1;33m\u001b[0m\u001b[0m\n\u001b[0;32m     59\u001b[0m     \u001b[1;32melse\u001b[0m\u001b[1;33m:\u001b[0m\u001b[1;33m\u001b[0m\u001b[0m\n\u001b[1;32m---> 60\u001b[1;33m         \u001b[1;32mreturn\u001b[0m \u001b[0mopen\u001b[0m\u001b[1;33m(\u001b[0m\u001b[0mfilename\u001b[0m\u001b[1;33m,\u001b[0m \u001b[1;33m*\u001b[0m\u001b[0margs\u001b[0m\u001b[1;33m,\u001b[0m \u001b[1;33m**\u001b[0m\u001b[0mkwargs\u001b[0m\u001b[1;33m)\u001b[0m\u001b[1;33m\u001b[0m\u001b[0m\n\u001b[0m\u001b[0;32m     61\u001b[0m \u001b[1;33m\u001b[0m\u001b[0m\n\u001b[0;32m     62\u001b[0m \u001b[1;33m\u001b[0m\u001b[0m\n",
      "\u001b[1;31mIOError\u001b[0m: [Errno 2] No such file or directory: 'Si_bands/DOS/vasprun.xml'"
     ]
    }
   ],
   "source": [
    "dosrun = Vasprun(\"Si_bands/DOS/vasprun.xml\")\n",
    "spd_dos = dosrun.complete_dos.get_spd_dos()\n",
    "run = Vasprun(\"Si_bands/Bandes/vasprun.xml\", parse_projected_eigen = True)\n",
    "bands = run.get_band_structure(\"Si_bands/Bandes/KPOINTS\", line_mode=True, efermi=dosrun.efermi)"
   ]
  },
  {
   "cell_type": "code",
   "execution_count": null,
   "metadata": {
    "collapsed": true
   },
   "outputs": [],
   "source": [
    "emin = 1e100\n",
    "emax = -1e100\n",
    "for spin in bands.bands.keys():\n",
    "    for band in range(bands.nb_bands):\n",
    "        emin = min(emin, min(bands.bands[spin][band]))\n",
    "        emax = max(emax, max(bands.bands[spin][band]))\n",
    "emin = emin - bands.efermi - 1\n",
    "emax = emax - bands.efermi + 1\n",
    "\n",
    "kptslist = range(len(bands.kpoints))\n",
    "bandTraces = list()\n",
    "for band in range(bands.nb_bands):\n",
    "    bandTraces.append(\n",
    "        go.Scatter(\n",
    "            x=kptslist,\n",
    "            y=[e - bands.efermi for e in bands.bands[Spin.up][band]],\n",
    "            mode=\"lines\",\n",
    "            line=go.Line(color=\"#666666\"),\n",
    "            showlegend=False\n",
    "        )\n",
    "    )\n",
    "\n",
    "labels = [r\"$L$\", r\"$\\Gamma$\", r\"$X$\", r\"$U,K$\", r\"$\\Gamma$\"]\n",
    "step = len(bands.kpoints) / (len(labels) - 1)\n",
    "# vertical lines\n",
    "vlines = list()\n",
    "for i, label in enumerate(labels):\n",
    "    vlines.append(\n",
    "        go.Scatter(\n",
    "            x=[i * step, i * step],\n",
    "            y=[emin, emax],\n",
    "            mode=\"lines\",\n",
    "            line=go.Line(color=\"#111111\", width=1),\n",
    "            showlegend=False\n",
    "        )\n",
    "    )\n",
    "\n",
    "bandxaxis = go.XAxis(\n",
    "    title=\"k-points\",\n",
    "    range=[0, len(bands.kpoints)],\n",
    "    showgrid=True,\n",
    "    showline=True,\n",
    "    ticks=\"\", \n",
    "    showticklabels=True,\n",
    "    mirror=True,\n",
    "    linewidth=2,\n",
    "    ticktext=labels,\n",
    "    tickvals=[i * step for i in range(len(labels))]\n",
    ")\n",
    "bandyaxis = go.YAxis(\n",
    "    title=\"$E - E_f \\quad / \\quad \\\\text{eV}$\",\n",
    "    range=[emin, emax],\n",
    "    showgrid=True,\n",
    "    showline=True,\n",
    "    zeroline=True,\n",
    "    mirror=\"ticks\",\n",
    "    ticks=\"inside\",\n",
    "    linewidth=2,\n",
    "    tickwidth=2,\n",
    "    zerolinewidth=2\n",
    ")\n",
    "bandlayout = go.Layout(\n",
    "    title=\"Bands diagram of Silicon\",\n",
    "    xaxis=bandxaxis,\n",
    "    yaxis=bandyaxis,\n",
    ")\n",
    "\n",
    "bandfig = go.Figure(data=bandTraces + vlines, layout=bandlayout)\n",
    "py.iplot(bandfig, filename=\"Bands_Si\", auto_open=False)"
   ]
  }
 ],
 "metadata": {
  "kernelspec": {
   "display_name": "Python [Root]",
   "language": "python",
   "name": "Python [Root]"
  },
  "language_info": {
   "codemirror_mode": {
    "name": "ipython",
    "version": 2
   },
   "file_extension": ".py",
   "mimetype": "text/x-python",
   "name": "python",
   "nbconvert_exporter": "python",
   "pygments_lexer": "ipython2",
   "version": "2.7.12"
  }
 },
 "nbformat": 4,
 "nbformat_minor": 0
}
