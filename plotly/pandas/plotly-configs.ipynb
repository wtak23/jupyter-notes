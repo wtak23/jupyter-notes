{
 "cells": [
  {
   "cell_type": "code",
   "execution_count": 1,
   "metadata": {
    "collapsed": true
   },
   "outputs": [],
   "source": [
    "import plotly.plotly as py\n",
    "from plotly import session\n",
    "import plotly.graph_objs as go"
   ]
  },
  {
   "cell_type": "code",
   "execution_count": 2,
   "metadata": {
    "collapsed": false
   },
   "outputs": [
    {
     "data": {
      "text/plain": [
       "{}"
      ]
     },
     "execution_count": 2,
     "metadata": {},
     "output_type": "execute_result"
    }
   ],
   "source": [
    "session.get_session_config()\n",
    "session.get_session_credentials()\n",
    "session.get_session_plot_options()"
   ]
  },
  {
   "cell_type": "code",
   "execution_count": 3,
   "metadata": {
    "collapsed": false
   },
   "outputs": [
    {
     "name": "stdout",
     "output_type": "stream",
     "text": [
      "Help on function update_session_plot_options in module plotly.session:\n",
      "\n",
      "update_session_plot_options(**kwargs)\n",
      "    Update the _session plot_options\n",
      "    \n",
      "    :param (str|optional) filename: What the file will be named in Plotly\n",
      "    :param (str|optional) fileopt: 'overwrite', 'append', 'new', or 'extend'\n",
      "    :param (bool|optional) world_readable: Make public or private.\n",
      "    :param (dict|optional) sharing: 'public', 'private', 'secret'\n",
      "    :param (bool|optional) auto_open: For `plot`, open in new browser tab?\n",
      "    :param (bool|optional) validate: Error locally if data doesn't pass?\n",
      "\n"
     ]
    }
   ],
   "source": [
    "help(session.update_session_plot_options)"
   ]
  },
  {
   "cell_type": "code",
   "execution_count": 4,
   "metadata": {
    "collapsed": false
   },
   "outputs": [
    {
     "name": "stdout",
     "output_type": "stream",
     "text": [
      "{'auto_open': <type 'bool'>,\n",
      " 'plotly_api_domain': (<type 'basestring'>,),\n",
      " 'plotly_domain': (<type 'basestring'>,),\n",
      " 'plotly_proxy_authorization': <type 'bool'>,\n",
      " 'plotly_ssl_verification': <type 'bool'>,\n",
      " 'plotly_streaming_domain': (<type 'basestring'>,),\n",
      " 'sharing': (<type 'basestring'>,),\n",
      " 'world_readable': <type 'bool'>}\n",
      "{'api_key': (<type 'basestring'>,),\n",
      " 'stream_ids': <type 'list'>,\n",
      " 'username': (<type 'basestring'>,)}\n",
      "{'auto_open': <type 'bool'>,\n",
      " 'filename': (<type 'basestring'>,),\n",
      " 'fileopt': (<type 'basestring'>,),\n",
      " 'sharing': (<type 'basestring'>,),\n",
      " 'validate': <type 'bool'>,\n",
      " 'world_readable': <type 'bool'>}\n",
      "['public', 'private', 'secret']\n"
     ]
    }
   ],
   "source": [
    "from pprint import pprint\n",
    "pprint(session.CONFIG_KEYS)\n",
    "pprint(session.CREDENTIALS_KEYS)\n",
    "pprint(session.PLOT_OPTIONS)\n",
    "pprint(session.SHARING_OPTIONS)\n",
    "\n"
   ]
  },
  {
   "cell_type": "code",
   "execution_count": 3,
   "metadata": {
    "collapsed": false
   },
   "outputs": [
    {
     "data": {
      "text/html": [
       "<iframe id=\"igraph\" scrolling=\"no\" style=\"border:none;\" seamless=\"seamless\" src=\"https://plot.ly/~takanori/820.embed?share_key=rKsms5CTwwagSZtGPbMMGQ\" height=\"525px\" width=\"100%\"></iframe>"
      ],
      "text/plain": [
       "<plotly.tools.PlotlyDisplay object>"
      ]
     },
     "execution_count": 3,
     "metadata": {},
     "output_type": "execute_result"
    }
   ],
   "source": [
    "data = go.Data([\n",
    "    go.Scatter(\n",
    "        x=[1, 2, 3],\n",
    "        y=[1, 3, 1]\n",
    "    )\n",
    "])\n",
    "py.iplot(data,filename='test/mytest')"
   ]
  }
 ],
 "metadata": {
  "kernelspec": {
   "display_name": "Python [Root]",
   "language": "python",
   "name": "Python [Root]"
  },
  "language_info": {
   "codemirror_mode": {
    "name": "ipython",
    "version": 2
   },
   "file_extension": ".py",
   "mimetype": "text/x-python",
   "name": "python",
   "nbconvert_exporter": "python",
   "pygments_lexer": "ipython2",
   "version": "2.7.12"
  }
 },
 "nbformat": 4,
 "nbformat_minor": 0
}
