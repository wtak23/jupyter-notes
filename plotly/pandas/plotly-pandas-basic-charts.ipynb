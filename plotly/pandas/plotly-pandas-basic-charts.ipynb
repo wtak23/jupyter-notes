{
 "cells": [
  {
   "cell_type": "markdown",
   "metadata": {},
   "source": [
    "  Bunch of snippets from https://plot.ly/pandas/#basic-charts\n",
    "  \n",
    "  **Table of Contents**\n",
    "\n",
    "  <div id=\"toc\"></div>\n",
    "  <script type=\"text/javascript\"\n",
    "  src=\"https://raw.github.com/kmahelona/ipython_notebook_goodies/master/ipython_notebook_toc.js\">\n",
    "  </script>\n"
   ]
  },
  {
   "cell_type": "code",
   "execution_count": 8,
   "metadata": {
    "collapsed": true
   },
   "outputs": [],
   "source": [
    "import plotly.plotly as py\n",
    "import plotly.graph_objs as go\n",
    "import plotly.tools as tls\n",
    "from plotly.tools import FigureFactory as FF\n",
    "\n",
    "import cufflinks as cf\n",
    "from IPython.display import display"
   ]
  },
  {
   "cell_type": "markdown",
   "metadata": {},
   "source": [
    "# Pandas subplots\n",
    "https://plot.ly/pandas/subplots/"
   ]
  },
  {
   "cell_type": "code",
   "execution_count": 2,
   "metadata": {
    "collapsed": false
   },
   "outputs": [
    {
     "data": {
      "text/html": [
       "<div>\n",
       "<table border=\"1\" class=\"dataframe\">\n",
       "  <thead>\n",
       "    <tr style=\"text-align: right;\">\n",
       "      <th></th>\n",
       "      <th>a</th>\n",
       "      <th>b</th>\n",
       "      <th>c</th>\n",
       "      <th>d</th>\n",
       "    </tr>\n",
       "  </thead>\n",
       "  <tbody>\n",
       "    <tr>\n",
       "      <th>2015-01-01</th>\n",
       "      <td>1.4185</td>\n",
       "      <td>-0.8590</td>\n",
       "      <td>-95.6941</td>\n",
       "      <td>159.3834</td>\n",
       "    </tr>\n",
       "    <tr>\n",
       "      <th>2015-01-02</th>\n",
       "      <td>-0.0061</td>\n",
       "      <td>0.4254</td>\n",
       "      <td>-138.6309</td>\n",
       "      <td>141.6736</td>\n",
       "    </tr>\n",
       "    <tr>\n",
       "      <th>2015-01-03</th>\n",
       "      <td>-1.3282</td>\n",
       "      <td>1.2859</td>\n",
       "      <td>-40.7113</td>\n",
       "      <td>253.1951</td>\n",
       "    </tr>\n",
       "    <tr>\n",
       "      <th>2015-01-04</th>\n",
       "      <td>-0.5791</td>\n",
       "      <td>1.2572</td>\n",
       "      <td>2.6178</td>\n",
       "      <td>138.7539</td>\n",
       "    </tr>\n",
       "    <tr>\n",
       "      <th>2015-01-05</th>\n",
       "      <td>-1.3365</td>\n",
       "      <td>2.7184</td>\n",
       "      <td>-65.2699</td>\n",
       "      <td>319.4935</td>\n",
       "    </tr>\n",
       "  </tbody>\n",
       "</table>\n",
       "</div>"
      ],
      "text/plain": [
       "                 a       b         c         d\n",
       "2015-01-01  1.4185 -0.8590  -95.6941  159.3834\n",
       "2015-01-02 -0.0061  0.4254 -138.6309  141.6736\n",
       "2015-01-03 -1.3282  1.2859  -40.7113  253.1951\n",
       "2015-01-04 -0.5791  1.2572    2.6178  138.7539\n",
       "2015-01-05 -1.3365  2.7184  -65.2699  319.4935"
      ]
     },
     "execution_count": 2,
     "metadata": {},
     "output_type": "execute_result"
    }
   ],
   "source": [
    "df=cf.datagen.lines(4,mode='abc')\n",
    "df[['c','d']]=df[['c','d']]*100\n",
    "df.head()"
   ]
  },
  {
   "cell_type": "code",
   "execution_count": 3,
   "metadata": {
    "collapsed": false
   },
   "outputs": [
    {
     "data": {
      "text/html": [
       "<iframe id=\"igraph\" scrolling=\"no\" style=\"border:none;\" seamless=\"seamless\" src=\"https://plot.ly/~takanori/1097.embed\" height=\"525px\" width=\"100%\"></iframe>"
      ],
      "text/plain": [
       "<plotly.tools.PlotlyDisplay object>"
      ]
     },
     "execution_count": 3,
     "metadata": {},
     "output_type": "execute_result"
    }
   ],
   "source": [
    "df.iplot(subplots=True, filename='pandas/cufflinks-subplots')"
   ]
  },
  {
   "cell_type": "code",
   "execution_count": 4,
   "metadata": {
    "collapsed": false
   },
   "outputs": [
    {
     "data": {
      "text/html": [
       "<iframe id=\"igraph\" scrolling=\"no\" style=\"border:none;\" seamless=\"seamless\" src=\"https://plot.ly/~takanori/1099.embed\" height=\"525px\" width=\"100%\"></iframe>"
      ],
      "text/plain": [
       "<plotly.tools.PlotlyDisplay object>"
      ]
     },
     "execution_count": 4,
     "metadata": {},
     "output_type": "execute_result"
    }
   ],
   "source": [
    "df.iplot(subplots=True, shape=(4, 1), filename='pandas/cufflinks-subplot rows')"
   ]
  },
  {
   "cell_type": "markdown",
   "metadata": {},
   "source": [
    "## Overlaying trace should be done in python\n",
    "Combining multiple traces into a single subplot, or mixing and matching chart types, isn't as easy with cufflinks. \n",
    "\n",
    "Subplots are entirely customizable with Plotly's native Python syntax:"
   ]
  },
  {
   "cell_type": "code",
   "execution_count": 5,
   "metadata": {
    "collapsed": false
   },
   "outputs": [
    {
     "name": "stdout",
     "output_type": "stream",
     "text": [
      "This is the format of your plot grid:\n",
      "[ (1,1) x1,y1 ]\n",
      "[ (2,1) x1,y2 ]\n",
      "\n"
     ]
    }
   ],
   "source": [
    "fig = tls.make_subplots(rows=2, cols=1, shared_xaxes=True)\n",
    "\n",
    "for col in ['a', 'b']:\n",
    "    fig.append_trace({'x': df.index, 'y': df[col], 'type': 'scatter', 'name': col}, 1, 1)\n",
    "\n",
    "for col in ['c', 'd']:\n",
    "    fig.append_trace({'x': df.index, 'y': df[col], 'type': 'bar', 'name': col}, 2, 1)"
   ]
  },
  {
   "cell_type": "code",
   "execution_count": 6,
   "metadata": {
    "collapsed": false
   },
   "outputs": [
    {
     "data": {
      "text/html": [
       "<iframe id=\"igraph\" scrolling=\"no\" style=\"border:none;\" seamless=\"seamless\" src=\"https://plot.ly/~takanori/1101.embed?share_key=s2l2QipEvZ7iUTjFA2BlXI\" height=\"525px\" width=\"100%\"></iframe>"
      ],
      "text/plain": [
       "<plotly.tools.PlotlyDisplay object>"
      ]
     },
     "execution_count": 6,
     "metadata": {},
     "output_type": "execute_result"
    }
   ],
   "source": [
    "py.iplot(fig, filename='pandas/mixed-type subplots')"
   ]
  },
  {
   "cell_type": "markdown",
   "metadata": {},
   "source": [
    "## Sync hover text\n",
    "This secondary subplot decouples the hover text from the charts in the top pane and the charts in the bottom pane. \n",
    "\n",
    "You can always customize your hover text, so that all four values are always present:"
   ]
  },
  {
   "cell_type": "code",
   "execution_count": 7,
   "metadata": {
    "collapsed": false
   },
   "outputs": [
    {
     "name": "stdout",
     "output_type": "stream",
     "text": [
      "This is the format of your plot grid:\n",
      "[ (1,1) x1,y1 ]\n",
      "[ (2,1) x1,y2 ]\n",
      "\n"
     ]
    },
    {
     "data": {
      "text/html": [
       "<iframe id=\"igraph\" scrolling=\"no\" style=\"border:none;\" seamless=\"seamless\" src=\"https://plot.ly/~takanori/1103.embed?share_key=CJSj5xR7Vtpj9ajgFd5FJt\" height=\"525px\" width=\"100%\"></iframe>"
      ],
      "text/plain": [
       "<plotly.tools.PlotlyDisplay object>"
      ]
     },
     "execution_count": 7,
     "metadata": {},
     "output_type": "execute_result"
    }
   ],
   "source": [
    "hover_text = df.apply(lambda r: '<br>'.join(['{}: {}'.format(c, r[c]) \n",
    "                                            for c in df.columns]), axis=1)\n",
    "\n",
    "fig = tls.make_subplots(rows=2, cols=1, shared_xaxes=True)\n",
    "\n",
    "for col in ['a', 'b']:\n",
    "    fig.append_trace({'x': df.index, 'y': df[col], 'type': 'scatter', \n",
    "                      'name': col, 'text': hover_text}, 1, 1)\n",
    "\n",
    "for col in ['c', 'd']:\n",
    "    fig.append_trace({'x': df.index, 'y': df[col], 'type': 'bar', \n",
    "                      'name': col, 'text': hover_text}, 2, 1)\n",
    "    \n",
    "py.iplot(fig, filename='pandas/mixed-type subplots with custom hover text')"
   ]
  },
  {
   "cell_type": "markdown",
   "metadata": {},
   "source": [
    "# Bubble charts pandas\n",
    "https://plot.ly/pandas/bubble-charts/"
   ]
  },
  {
   "cell_type": "code",
   "execution_count": 8,
   "metadata": {
    "collapsed": true
   },
   "outputs": [],
   "source": [
    "from IPython.display import display"
   ]
  },
  {
   "cell_type": "code",
   "execution_count": 9,
   "metadata": {
    "collapsed": false
   },
   "outputs": [
    {
     "data": {
      "text/html": [
       "<div>\n",
       "<table border=\"1\" class=\"dataframe\">\n",
       "  <thead>\n",
       "    <tr style=\"text-align: right;\">\n",
       "      <th></th>\n",
       "      <th>country</th>\n",
       "      <th>year</th>\n",
       "      <th>pop</th>\n",
       "      <th>continent</th>\n",
       "      <th>lifeExp</th>\n",
       "      <th>gdpPercap</th>\n",
       "    </tr>\n",
       "  </thead>\n",
       "  <tbody>\n",
       "    <tr>\n",
       "      <th>0</th>\n",
       "      <td>Afghanistan</td>\n",
       "      <td>1952</td>\n",
       "      <td>8425333.0</td>\n",
       "      <td>Asia</td>\n",
       "      <td>28.801</td>\n",
       "      <td>779.4453</td>\n",
       "    </tr>\n",
       "    <tr>\n",
       "      <th>1</th>\n",
       "      <td>Afghanistan</td>\n",
       "      <td>1957</td>\n",
       "      <td>9240934.0</td>\n",
       "      <td>Asia</td>\n",
       "      <td>30.332</td>\n",
       "      <td>820.8530</td>\n",
       "    </tr>\n",
       "  </tbody>\n",
       "</table>\n",
       "</div>"
      ],
      "text/plain": [
       "       country  year        pop continent  lifeExp  gdpPercap\n",
       "0  Afghanistan  1952  8425333.0      Asia   28.801   779.4453\n",
       "1  Afghanistan  1957  9240934.0      Asia   30.332   820.8530"
      ]
     },
     "metadata": {},
     "output_type": "display_data"
    },
    {
     "data": {
      "text/html": [
       "<iframe id=\"igraph\" scrolling=\"no\" style=\"border:none;\" seamless=\"seamless\" src=\"https://plot.ly/~takanori/575.embed\" height=\"525px\" width=\"100%\"></iframe>"
      ],
      "text/plain": [
       "<plotly.tools.PlotlyDisplay object>"
      ]
     },
     "execution_count": 9,
     "metadata": {},
     "output_type": "execute_result"
    }
   ],
   "source": [
    "cf.set_config_file(offline=False, world_readable=True, theme='pearl')\n",
    "\n",
    "url_path = 'http://www.stat.ubc.ca/~jenny/notOcto/STAT545A/examples/gapminder/data/gapminderDataFiveYear.txt'\n",
    "df = pd.read_csv(url_path, sep='\\t')\n",
    "df2007 = df[df.year==2007]\n",
    "display(df.head(2))\n",
    "\n",
    "df2007.iplot(kind='bubble', x='gdpPercap', y='lifeExp', size='pop', text='country',\n",
    "             xTitle='GDP per Capita', yTitle='Life Expectancy',\n",
    "             filename='cufflinks/simple-bubble-chart')"
   ]
  },
  {
   "cell_type": "markdown",
   "metadata": {},
   "source": [
    "# Multiple axes\n",
    "https://plot.ly/pandas/multiple-axes/"
   ]
  },
  {
   "cell_type": "markdown",
   "metadata": {},
   "source": [
    "## Use secondary_y\n",
    "df.iplot(secondary_y=['c', 'd'])"
   ]
  },
  {
   "cell_type": "code",
   "execution_count": 10,
   "metadata": {
    "collapsed": false
   },
   "outputs": [
    {
     "data": {
      "text/html": [
       "<div>\n",
       "<table border=\"1\" class=\"dataframe\">\n",
       "  <thead>\n",
       "    <tr style=\"text-align: right;\">\n",
       "      <th></th>\n",
       "      <th>a</th>\n",
       "      <th>b</th>\n",
       "      <th>c</th>\n",
       "      <th>d</th>\n",
       "    </tr>\n",
       "  </thead>\n",
       "  <tbody>\n",
       "    <tr>\n",
       "      <th>2015-01-01</th>\n",
       "      <td>-1.0072</td>\n",
       "      <td>-0.7349</td>\n",
       "      <td>-100.1037</td>\n",
       "      <td>-201.0138</td>\n",
       "    </tr>\n",
       "    <tr>\n",
       "      <th>2015-01-02</th>\n",
       "      <td>-2.0103</td>\n",
       "      <td>-0.2378</td>\n",
       "      <td>-260.8787</td>\n",
       "      <td>-108.1904</td>\n",
       "    </tr>\n",
       "    <tr>\n",
       "      <th>2015-01-03</th>\n",
       "      <td>-1.9385</td>\n",
       "      <td>-1.1977</td>\n",
       "      <td>-226.2158</td>\n",
       "      <td>69.1207</td>\n",
       "    </tr>\n",
       "    <tr>\n",
       "      <th>2015-01-04</th>\n",
       "      <td>-2.0443</td>\n",
       "      <td>-2.0786</td>\n",
       "      <td>-340.6845</td>\n",
       "      <td>-32.9095</td>\n",
       "    </tr>\n",
       "    <tr>\n",
       "      <th>2015-01-05</th>\n",
       "      <td>-2.2652</td>\n",
       "      <td>-2.6750</td>\n",
       "      <td>-412.4810</td>\n",
       "      <td>-123.8037</td>\n",
       "    </tr>\n",
       "  </tbody>\n",
       "</table>\n",
       "</div>"
      ],
      "text/plain": [
       "                 a       b         c         d\n",
       "2015-01-01 -1.0072 -0.7349 -100.1037 -201.0138\n",
       "2015-01-02 -2.0103 -0.2378 -260.8787 -108.1904\n",
       "2015-01-03 -1.9385 -1.1977 -226.2158   69.1207\n",
       "2015-01-04 -2.0443 -2.0786 -340.6845  -32.9095\n",
       "2015-01-05 -2.2652 -2.6750 -412.4810 -123.8037"
      ]
     },
     "execution_count": 10,
     "metadata": {},
     "output_type": "execute_result"
    }
   ],
   "source": [
    "df=cf.datagen.lines(4,mode='abc')\n",
    "df[['c','d']]=df[['c','d']]*100\n",
    "df.head()"
   ]
  },
  {
   "cell_type": "code",
   "execution_count": 11,
   "metadata": {
    "collapsed": false
   },
   "outputs": [
    {
     "data": {
      "text/html": [
       "<iframe id=\"igraph\" scrolling=\"no\" style=\"border:none;\" seamless=\"seamless\" src=\"https://plot.ly/~takanori/1105.embed\" height=\"525px\" width=\"100%\"></iframe>"
      ],
      "text/plain": [
       "<plotly.tools.PlotlyDisplay object>"
      ]
     },
     "execution_count": 11,
     "metadata": {},
     "output_type": "execute_result"
    }
   ],
   "source": [
    "df.iplot(secondary_y=['c', 'd'], filename='pandas/secondary y')"
   ]
  },
  {
   "cell_type": "markdown",
   "metadata": {},
   "source": [
    "## SECONDARY Y AXIS WITH MULTIPLE CHART TYPES"
   ]
  },
  {
   "cell_type": "code",
   "execution_count": 12,
   "metadata": {
    "collapsed": false
   },
   "outputs": [
    {
     "data": {
      "text/html": [
       "<iframe id=\"igraph\" scrolling=\"no\" style=\"border:none;\" seamless=\"seamless\" src=\"https://plot.ly/~takanori/1107.embed?share_key=Jd1hl9e8n9YQ7Zei6hj2kC\" height=\"525px\" width=\"100%\"></iframe>"
      ],
      "text/plain": [
       "<plotly.tools.PlotlyDisplay object>"
      ]
     },
     "execution_count": 12,
     "metadata": {},
     "output_type": "execute_result"
    }
   ],
   "source": [
    "fig1 = df.iplot(columns=['a', 'b'], asFigure=True)\n",
    "fig2 = df.iplot(columns=['c', 'd'], kind='bar', secondary_y=['c', 'd'], asFigure=True)\n",
    "fig2['data'].extend(fig1['data'])\n",
    "py.iplot(fig2)"
   ]
  },
  {
   "cell_type": "markdown",
   "metadata": {
    "collapsed": true
   },
   "source": [
    "# Line-charts\n",
    "https://plot.ly/pandas/line-charts/"
   ]
  },
  {
   "cell_type": "markdown",
   "metadata": {},
   "source": [
    "## Cufflinks demo"
   ]
  },
  {
   "cell_type": "code",
   "execution_count": 2,
   "metadata": {
    "collapsed": false
   },
   "outputs": [
    {
     "data": {
      "text/html": [
       "<iframe id=\"igraph\" scrolling=\"no\" style=\"border:none;\" seamless=\"seamless\" src=\"https://plot.ly/~takanori/1109.embed\" height=\"525px\" width=\"100%\"></iframe>"
      ],
      "text/plain": [
       "<plotly.tools.PlotlyDisplay object>"
      ]
     },
     "execution_count": 2,
     "metadata": {},
     "output_type": "execute_result"
    }
   ],
   "source": [
    "cf.set_config_file(offline=False, world_readable=True, theme='ggplot')\n",
    "\n",
    "df = cf.datagen.lines()\n",
    "\n",
    "df.iplot(kind='scatter', filename='cufflinks/cf-simple-line')\n"
   ]
  },
  {
   "cell_type": "markdown",
   "metadata": {},
   "source": [
    "## +++Set Line Color and Style in Cufflinks"
   ]
  },
  {
   "cell_type": "code",
   "execution_count": 5,
   "metadata": {
    "collapsed": false
   },
   "outputs": [
    {
     "data": {
      "text/html": [
       "<iframe id=\"igraph\" scrolling=\"no\" style=\"border:none;\" seamless=\"seamless\" src=\"https://plot.ly/~takanori/1113.embed\" height=\"525px\" width=\"100%\"></iframe>"
      ],
      "text/plain": [
       "<plotly.tools.PlotlyDisplay object>"
      ]
     },
     "execution_count": 5,
     "metadata": {},
     "output_type": "execute_result"
    }
   ],
   "source": [
    "cf.set_config_file(offline=False, world_readable=True, theme='ggplot')\n",
    "\n",
    "\n",
    "# Create a simple dataframe..\n",
    "df = cf.datagen.lines(3)\n",
    "\n",
    "colors = ['red', 'blue', 'black'] # Individual Line Color\n",
    "dashes = ['solid', 'dash', 'dashdot'] # Individual Line Style\n",
    "widths = [2, 4, 6] # Individual Line Width\n",
    "\n",
    "df.iplot(kind='scatter', mode='lines', colors=colors, dash=dashes, filename='cufflinks/line-style-and-color')"
   ]
  },
  {
   "cell_type": "markdown",
   "metadata": {},
   "source": [
    "## Updating cufflinks plots\n"
   ]
  },
  {
   "cell_type": "code",
   "execution_count": 6,
   "metadata": {
    "collapsed": false
   },
   "outputs": [
    {
     "name": "stdout",
     "output_type": "stream",
     "text": [
      "Figure(\n",
      "    data=Data([\n",
      "        Scatter(\n",
      "            x=['2015-01-01', '2015-01-02', '2015-01-03', '2015-01-04', '..'  ],\n",
      "            y=array([  0.24983679,  -0.52933995,   0.96435285,   2.31024654,..,\n",
      "            line=Line(\n",
      "                color='rgba(226, 74, 51, 1.0)',\n",
      "                dash='solid',\n",
      "                width=1.3\n",
      "            ),\n",
      "            mode='lines',\n",
      "            name='a',\n",
      "            text=''\n",
      "        ),\n",
      "        Scatter(\n",
      "            x=['2015-01-01', '2015-01-02', '2015-01-03', '2015-01-04', '..'  ],\n",
      "            y=array([ -1.11044965,  -1.47619255,  -1.12161243,  -2.99457867,..,\n",
      "            line=Line(\n",
      "                color='rgba(62, 111, 176, 1.0)',\n",
      "                dash='solid',\n",
      "                width=1.3\n",
      "            ),\n",
      "            mode='lines',\n",
      "            name='b',\n",
      "            text=''\n",
      "        ),\n",
      "        Scatter(\n",
      "            x=['2015-01-01', '2015-01-02', '2015-01-03', '2015-01-04', '..'  ],\n",
      "            y=array([-2.36339101, -2.9494829 , -3.58362241, -5.54814001, -4...,\n",
      "            line=Line(\n",
      "                color='rgba(132, 118, 202, 1.0)',\n",
      "                dash='solid',\n",
      "                width=1.3\n",
      "            ),\n",
      "            mode='lines',\n",
      "            name='c',\n",
      "            text=''\n",
      "        )\n",
      "    ]),\n",
      "    layout=Layout(\n",
      "        legend=Legend(\n",
      "            bgcolor='#FFFFFF',\n",
      "            font=Font(\n",
      "                color='#666666'\n",
      "            )\n",
      "        ),\n",
      "        paper_bgcolor='#FFFFFF',\n",
      "        plot_bgcolor='#E5E5E5',\n",
      "        titlefont=dict(\n",
      "            color='#151516'\n",
      "        ),\n",
      "        xaxis1=XAxis(\n",
      "            gridcolor='#F6F6F6',\n",
      "            showgrid=True,\n",
      "            tickfont=dict(\n",
      "                color='#666666'\n",
      "            ),\n",
      "            title='',\n",
      "            titlefont=dict(\n",
      "                color='#666666'\n",
      "            ),\n",
      "            zerolinecolor='#F6F6F6'\n",
      "        ),\n",
      "        yaxis1=YAxis(\n",
      "            gridcolor='#F6F6F6',\n",
      "            showgrid=True,\n",
      "            tickfont=dict(\n",
      "                color='#666666'\n",
      "            ),\n",
      "            title='',\n",
      "            titlefont=dict(\n",
      "                color='#666666'\n",
      "            ),\n",
      "            zerolinecolor='#F6F6F6'\n",
      "        )\n",
      "    )\n",
      ")\n"
     ]
    },
    {
     "data": {
      "text/html": [
       "<iframe id=\"igraph\" scrolling=\"no\" style=\"border:none;\" seamless=\"seamless\" src=\"https://plot.ly/~takanori/1115.embed?share_key=FMGOtBpQHvyilvaau9tWM8\" height=\"525px\" width=\"100%\"></iframe>"
      ],
      "text/plain": [
       "<plotly.tools.PlotlyDisplay object>"
      ]
     },
     "execution_count": 6,
     "metadata": {},
     "output_type": "execute_result"
    }
   ],
   "source": [
    "df=cf.datagen.lines(3,columns=['a','b','c'])\n",
    "\n",
    "figure = df.iplot(kind='scatter', asFigure=True)\n",
    "print figure.to_string()\n",
    "\n",
    "figure['layout']['yaxis1'].update({'title': 'Price', 'tickprefix': '$'})\n",
    "for i, trace in enumerate(figure['data']):\n",
    "    trace['name'] = 'Trace {}'.format(i)\n",
    "    \n",
    "py.iplot(figure, filename='cufflinks/customized-chart')"
   ]
  },
  {
   "cell_type": "markdown",
   "metadata": {},
   "source": [
    "# Time series\n",
    "https://plot.ly/pandas/time-series/\n"
   ]
  },
  {
   "cell_type": "markdown",
   "metadata": {},
   "source": [
    "## Demo1"
   ]
  },
  {
   "cell_type": "code",
   "execution_count": 9,
   "metadata": {
    "collapsed": false
   },
   "outputs": [
    {
     "data": {
      "text/html": [
       "<div>\n",
       "<table border=\"1\" class=\"dataframe\">\n",
       "  <thead>\n",
       "    <tr style=\"text-align: right;\">\n",
       "      <th></th>\n",
       "      <th>WZL.UN</th>\n",
       "      <th>FKX.JY</th>\n",
       "      <th>KGR.NJ</th>\n",
       "      <th>MPL.LG</th>\n",
       "      <th>HHJ.ON</th>\n",
       "    </tr>\n",
       "  </thead>\n",
       "  <tbody>\n",
       "    <tr>\n",
       "      <th>2015-01-01</th>\n",
       "      <td>0.9244</td>\n",
       "      <td>-1.4351</td>\n",
       "      <td>-0.2417</td>\n",
       "      <td>-0.7722</td>\n",
       "      <td>-0.8401</td>\n",
       "    </tr>\n",
       "    <tr>\n",
       "      <th>2015-01-02</th>\n",
       "      <td>0.9963</td>\n",
       "      <td>-1.9634</td>\n",
       "      <td>1.4587</td>\n",
       "      <td>-1.4575</td>\n",
       "      <td>0.2357</td>\n",
       "    </tr>\n",
       "    <tr>\n",
       "      <th>2015-01-03</th>\n",
       "      <td>1.4990</td>\n",
       "      <td>-3.1501</td>\n",
       "      <td>0.9024</td>\n",
       "      <td>-3.3678</td>\n",
       "      <td>0.0339</td>\n",
       "    </tr>\n",
       "    <tr>\n",
       "      <th>2015-01-04</th>\n",
       "      <td>2.1132</td>\n",
       "      <td>-2.9164</td>\n",
       "      <td>1.3444</td>\n",
       "      <td>-2.1368</td>\n",
       "      <td>-0.6079</td>\n",
       "    </tr>\n",
       "    <tr>\n",
       "      <th>2015-01-05</th>\n",
       "      <td>2.0338</td>\n",
       "      <td>-2.8659</td>\n",
       "      <td>0.2322</td>\n",
       "      <td>-3.4510</td>\n",
       "      <td>-1.5337</td>\n",
       "    </tr>\n",
       "  </tbody>\n",
       "</table>\n",
       "</div>"
      ],
      "text/plain": [
       "            WZL.UN  FKX.JY  KGR.NJ  MPL.LG  HHJ.ON\n",
       "2015-01-01  0.9244 -1.4351 -0.2417 -0.7722 -0.8401\n",
       "2015-01-02  0.9963 -1.9634  1.4587 -1.4575  0.2357\n",
       "2015-01-03  1.4990 -3.1501  0.9024 -3.3678  0.0339\n",
       "2015-01-04  2.1132 -2.9164  1.3444 -2.1368 -0.6079\n",
       "2015-01-05  2.0338 -2.8659  0.2322 -3.4510 -1.5337"
      ]
     },
     "metadata": {},
     "output_type": "display_data"
    },
    {
     "data": {
      "text/html": [
       "<iframe id=\"igraph\" scrolling=\"no\" style=\"border:none;\" seamless=\"seamless\" src=\"https://plot.ly/~takanori/1117.embed\" height=\"525px\" width=\"100%\"></iframe>"
      ],
      "text/plain": [
       "<plotly.tools.PlotlyDisplay object>"
      ]
     },
     "execution_count": 9,
     "metadata": {},
     "output_type": "execute_result"
    }
   ],
   "source": [
    "cf.set_config_file(offline=False, world_readable=True, theme='ggplot')\n",
    "\n",
    "df = cf.datagen.lines()\n",
    "display(df.head())\n",
    "df.iplot(kind='scatter', filename='cufflinks/index-as-date')"
   ]
  },
  {
   "cell_type": "markdown",
   "metadata": {},
   "source": [
    "## Subplots"
   ]
  },
  {
   "cell_type": "code",
   "execution_count": 10,
   "metadata": {
    "collapsed": false
   },
   "outputs": [
    {
     "data": {
      "text/html": [
       "<iframe id=\"igraph\" scrolling=\"no\" style=\"border:none;\" seamless=\"seamless\" src=\"https://plot.ly/~takanori/1119.embed\" height=\"525px\" width=\"100%\"></iframe>"
      ],
      "text/plain": [
       "<plotly.tools.PlotlyDisplay object>"
      ]
     },
     "execution_count": 10,
     "metadata": {},
     "output_type": "execute_result"
    }
   ],
   "source": [
    "cf.set_config_file(offline=False, world_readable=True, theme='pearl')\n",
    "\n",
    "df=cf.datagen.lines(4)\n",
    "df.iplot(subplots=True, shape=(4,1), shared_xaxes=True, fill=True, filename='cufflinks/simple-subplots')"
   ]
  },
  {
   "cell_type": "code",
   "execution_count": null,
   "metadata": {
    "collapsed": true
   },
   "outputs": [],
   "source": []
  }
 ],
 "metadata": {
  "kernelspec": {
   "display_name": "Python [Root]",
   "language": "python",
   "name": "Python [Root]"
  },
  "language_info": {
   "codemirror_mode": {
    "name": "ipython",
    "version": 2
   },
   "file_extension": ".py",
   "mimetype": "text/x-python",
   "name": "python",
   "nbconvert_exporter": "python",
   "pygments_lexer": "ipython2",
   "version": "2.7.12"
  }
 },
 "nbformat": 4,
 "nbformat_minor": 0
}
