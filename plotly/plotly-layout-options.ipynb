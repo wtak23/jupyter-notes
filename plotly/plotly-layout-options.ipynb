{
 "cells": [
  {
   "cell_type": "markdown",
   "metadata": {},
   "source": [
    "https://plot.ly/python/#layout-options\n",
    "\n",
    "  **Table of Contents**\n",
    "\n",
    "  <div id=\"toc\"></div>\n",
    "  <script type=\"text/javascript\"\n",
    "  src=\"https://raw.github.com/kmahelona/ipython_notebook_goodies/master/ipython_notebook_toc.js\">\n",
    "  </script>\n"
   ]
  },
  {
   "cell_type": "code",
   "execution_count": 1,
   "metadata": {
    "collapsed": true
   },
   "outputs": [],
   "source": [
    "import plotly\n",
    "import plotly.plotly as py\n",
    "import plotly.graph_objs as go\n",
    "import plotly.tools as tls"
   ]
  },
  {
   "cell_type": "markdown",
   "metadata": {},
   "source": [
    "# Adding logos\n",
    "https://plot.ly/python/logos/\n",
    "\n",
    "Touch ``layout['images']`` attribute"
   ]
  },
  {
   "cell_type": "code",
   "execution_count": 7,
   "metadata": {
    "collapsed": false
   },
   "outputs": [
    {
     "data": {
      "text/html": [
       "<iframe id=\"igraph\" scrolling=\"no\" style=\"border:none;\" seamless=\"seamless\" src=\"https://plot.ly/~takanori/910.embed?share_key=djYaKTDcNcsBkD4w5eavru\" height=\"600px\" width=\"800px\"></iframe>"
      ],
      "text/plain": [
       "<plotly.tools.PlotlyDisplay object>"
      ]
     },
     "execution_count": 7,
     "metadata": {},
     "output_type": "execute_result"
    }
   ],
   "source": [
    "fig = py.get_figure('https://plot.ly/~Dreamshot/8152/')\n",
    "fig.layout.images = [dict(\n",
    "        source=\"https://raw.githubusercontent.com/cldougl/plot_images/add_r_img/accuweather.jpeg\",\n",
    "        #source=\"http://mgoblog.com/sites/mgoblog.com/files/mgoharbaugh.png\",\n",
    "        xref=\"paper\", yref=\"paper\",\n",
    "        x=0.1, y=1.05,\n",
    "        sizex=0.4, sizey=0.4,\n",
    "        xanchor=\"center\", yanchor=\"bottom\"\n",
    "      )]\n",
    "py.iplot(fig)"
   ]
  },
  {
   "cell_type": "code",
   "execution_count": 25,
   "metadata": {
    "collapsed": false,
    "scrolled": true
   },
   "outputs": [
    {
     "data": {
      "text/html": [
       "<iframe id=\"igraph\" scrolling=\"no\" style=\"border:none;\" seamless=\"seamless\" src=\"https://plot.ly/~takanori/946.embed?share_key=8VVelHTv2ZwHyK2HtOTJoP\" height=\"500px\" width=\"800px\"></iframe>"
      ],
      "text/plain": [
       "<plotly.tools.PlotlyDisplay object>"
      ]
     },
     "execution_count": 25,
     "metadata": {},
     "output_type": "execute_result"
    }
   ],
   "source": [
    "fig = py.get_figure('https://plot.ly/~Dreamshot/8160/')\n",
    "fig.layout.images = [dict(\n",
    "        #source=\"https://raw.githubusercontent.com/cldougl/plot_images/add_r_img/bleacherreport.png\",\n",
    "        #source=\"http://mgoblog.com/sites/mgoblog.com/files/mgoharbaugh.png\",\n",
    "        source=\"http://wtak23.github.io/img/sparse-brain.png\",\n",
    "        xref=\"paper\", yref=\"paper\",\n",
    "        x=1.125, y=0.65,\n",
    "        sizex=0.5, sizey=0.5,\n",
    "        xanchor=\"center\", yanchor=\"top\"\n",
    "      )]\n",
    "fig.layout.update(dict(width=800,height=500))\n",
    "py.iplot(fig)\n"
   ]
  },
  {
   "cell_type": "markdown",
   "metadata": {},
   "source": [
    "# Add background image\n",
    "control `opacity` in `layout['image']` attribute\n",
    "\n",
    "https://plot.ly/python/images/\n"
   ]
  },
  {
   "cell_type": "code",
   "execution_count": 27,
   "metadata": {
    "collapsed": false
   },
   "outputs": [
    {
     "data": {
      "text/html": [
       "<iframe id=\"igraph\" scrolling=\"no\" style=\"border:none;\" seamless=\"seamless\" src=\"https://plot.ly/~takanori/950.embed?share_key=c9kEcP0AaqPFlyndTxts96\" height=\"525px\" width=\"100%\"></iframe>"
      ],
      "text/plain": [
       "<plotly.tools.PlotlyDisplay object>"
      ]
     },
     "execution_count": 27,
     "metadata": {},
     "output_type": "execute_result"
    }
   ],
   "source": [
    "import numpy as np\n",
    "trace1= go.Scatter(x=[0,0.5,1,2,2.2],y=[1.23,2.5,0.42,3,1])\n",
    "layout= go.Layout(images= [dict(\n",
    "                  source= \"https://images.plot.ly/language-icons/api-home/python-logo.png\",\n",
    "                  xref= \"x\",yref= \"y\",\n",
    "                  x= 0,y= 3,\n",
    "                  sizex= 2,sizey= 2,\n",
    "                  sizing= \"stretch\",\n",
    "                  opacity= 0.5,\n",
    "                  layer= \"below\")])\n",
    "fig=go.Figure(data=[trace1],layout=layout)\n",
    "py.iplot(fig)"
   ]
  },
  {
   "cell_type": "code",
   "execution_count": 28,
   "metadata": {
    "collapsed": false,
    "scrolled": true
   },
   "outputs": [
    {
     "data": {
      "text/html": [
       "<iframe id=\"igraph\" scrolling=\"no\" style=\"border:none;\" seamless=\"seamless\" src=\"https://plot.ly/~takanori/952.embed?share_key=LlL82je4SAenm8iuh4EIbO\" height=\"525px\" width=\"100%\"></iframe>"
      ],
      "text/plain": [
       "<plotly.tools.PlotlyDisplay object>"
      ]
     },
     "execution_count": 28,
     "metadata": {},
     "output_type": "execute_result"
    }
   ],
   "source": [
    "trace1= go.Scatter(x=[0,0.5,1,2,2.2],y=[1.23,2.5,0.42,3,1])\n",
    "layout= go.Layout( images= [\n",
    "      dict(\n",
    "        source= \"https://images.plot.ly/language-icons/api-home/python-logo.png\",\n",
    "        xref= \"paper\",yref= \"paper\",x= 0,y= 1,sizex= 0.2,sizey= 0.2,\n",
    "        xanchor= \"right\",yanchor= \"bottom\"\n",
    "      ),\n",
    "      dict(\n",
    "        source= \"https://images.plot.ly/language-icons/api-home/js-logo.png\",\n",
    "        xref=\"x\",yref= \"y\",x= 1.5,y= 2,sizex= 1,sizey= 1,\n",
    "        xanchor= \"right\",yanchor= \"bottom\"\n",
    "      ),\n",
    "      dict(\n",
    "        source= \"https://images.plot.ly/language-icons/api-home/r-logo.png\",\n",
    "        xref= \"x\",yref= \"y\",x= 2,y= 1,sizex= 0.3,sizey= 0.5,\n",
    "        sizing= \"stretch\",opacity= 0.4,layer= \"below\"\n",
    "        ),\n",
    "      dict(\n",
    "        source= \"https://images.plot.ly/language-icons/api-home/matlab-logo.png\",\n",
    "        xref= \"x\",yref= \"paper\",x= 3,y= 0,sizex= 0.5,sizey= 1,\n",
    "        opacity= 1,xanchor= \"right\",yanchor=\"middle\"\n",
    "      )])\n",
    "fig=go.Figure(data=[trace1],layout=layout)\n",
    "py.iplot(fig)"
   ]
  },
  {
   "cell_type": "markdown",
   "metadata": {},
   "source": [
    "# Latex\n",
    "https://plot.ly/python/LaTeX/"
   ]
  },
  {
   "cell_type": "code",
   "execution_count": 42,
   "metadata": {
    "collapsed": false
   },
   "outputs": [
    {
     "data": {
      "text/html": [
       "<iframe id=\"igraph\" scrolling=\"no\" style=\"border:none;\" seamless=\"seamless\" src=\"https://plot.ly/~takanori/972.embed?share_key=lsP3HFHQxOQurKfTrgBZj5\" height=\"525px\" width=\"100%\"></iframe>"
      ],
      "text/plain": [
       "<plotly.tools.PlotlyDisplay object>"
      ]
     },
     "execution_count": 42,
     "metadata": {},
     "output_type": "execute_result"
    }
   ],
   "source": [
    "trace1 = go.Scatter(x=[1, 2, 3, 4],y=[1, 4, 9, 16],\n",
    "    name='$\\\\alpha_{1c} = 352 \\\\pm 11 \\\\text{ km s}^{-1}$')\n",
    "trace2 = go.Scatter(x=[1, 2, 3, 4],y=[0.5, 2, 4.5, 8],\n",
    "    name='$\\\\beta_{1c} = 25 \\\\pm 11 \\\\text{ km s}^{-1}$')\n",
    "data = [trace1, trace2]\n",
    "layout = go.Layout(\n",
    "    xaxis=dict(title='$\\\\sqrt{(n_\\\\text{c}(t|{T_\\\\text{early}}))}$'),\n",
    "    yaxis=dict(title='$d, r \\\\text{ (solar radius)}$')\n",
    ")\n",
    "fig = go.Figure(data=data, layout=layout)\n",
    "py.iplot(fig)"
   ]
  },
  {
   "cell_type": "markdown",
   "metadata": {},
   "source": [
    "# Text and Font Styling (global font properties)\n",
    "https://plot.ly/python/font/\n",
    "\n",
    "The `layout.font` property (dict)\n",
    "```python\n",
    "font=dict(family='Courier New, monospace', size=18, color='#7f7f7f')\n",
    "```"
   ]
  },
  {
   "cell_type": "code",
   "execution_count": 43,
   "metadata": {
    "collapsed": false
   },
   "outputs": [
    {
     "data": {
      "text/html": [
       "<iframe id=\"igraph\" scrolling=\"no\" style=\"border:none;\" seamless=\"seamless\" src=\"https://plot.ly/~takanori/974.embed?share_key=TiQIzSFQPkhNWrX6alsj3G\" height=\"525px\" width=\"100%\"></iframe>"
      ],
      "text/plain": [
       "<plotly.tools.PlotlyDisplay object>"
      ]
     },
     "execution_count": 43,
     "metadata": {},
     "output_type": "execute_result"
    }
   ],
   "source": [
    "data = [go.Scatter(x=[0, 1, 2, 3, 4, 5, 6, 7, 8],y=[0, 1, 2, 3, 4, 5, 6, 7, 8])]\n",
    "layout = go.Layout(\n",
    "    title='Global Font',\n",
    "    font=dict(family='Courier New, monospace', size=18, color='#7f7f7f')\n",
    ")\n",
    "fig = go.Figure(data=data, layout=layout)\n",
    "py.iplot(fig)"
   ]
  },
  {
   "cell_type": "markdown",
   "metadata": {},
   "source": [
    "# Setting graph size\n",
    "https://plot.ly/python/setting-graph-size/\n",
    "\n",
    "Control `layout.margin` and `layout.width, layout.height` properties\n",
    "```python\n",
    "layout = go.Layout(\n",
    "    autosize=False,width=500,height=500,\n",
    "    margin=go.Margin(l=50,r=50,b=100,t=100,pad=4),\n",
    "    paper_bgcolor='#7f7f7f',\n",
    "    plot_bgcolor='#c7c7c7'\n",
    ")\n",
    "```"
   ]
  },
  {
   "cell_type": "code",
   "execution_count": 44,
   "metadata": {
    "collapsed": false,
    "scrolled": true
   },
   "outputs": [
    {
     "data": {
      "text/html": [
       "<iframe id=\"igraph\" scrolling=\"no\" style=\"border:none;\" seamless=\"seamless\" src=\"https://plot.ly/~takanori/976.embed?share_key=aP20FcrJENYYesbGEYto1s\" height=\"500px\" width=\"500px\"></iframe>"
      ],
      "text/plain": [
       "<plotly.tools.PlotlyDisplay object>"
      ]
     },
     "execution_count": 44,
     "metadata": {},
     "output_type": "execute_result"
    }
   ],
   "source": [
    "data = [go.Scatter(x=[0, 1, 2, 3, 4, 5, 6, 7, 8],y=[0, 1, 2, 3, 4, 5, 6, 7, 8])]\n",
    "layout = go.Layout(\n",
    "    autosize=False,width=500,height=500,\n",
    "    margin=go.Margin(l=50,r=50,b=100,t=100,pad=4),\n",
    "    paper_bgcolor='#7f7f7f',\n",
    "    plot_bgcolor='#c7c7c7'\n",
    ")\n",
    "fig = go.Figure(data=data, layout=layout)\n",
    "py.iplot(fig)"
   ]
  },
  {
   "cell_type": "markdown",
   "metadata": {},
   "source": [
    "# Setting the Title, Legend Entries, and Axis Titles\n",
    "https://plot.ly/python/figure-labels/"
   ]
  },
  {
   "cell_type": "code",
   "execution_count": 45,
   "metadata": {
    "collapsed": false
   },
   "outputs": [
    {
     "data": {
      "text/html": [
       "<iframe id=\"igraph\" scrolling=\"no\" style=\"border:none;\" seamless=\"seamless\" src=\"https://plot.ly/~takanori/978.embed?share_key=khgSS9Ur4OLvaGkoFNV1Zm\" height=\"525px\" width=\"100%\"></iframe>"
      ],
      "text/plain": [
       "<plotly.tools.PlotlyDisplay object>"
      ]
     },
     "execution_count": 45,
     "metadata": {},
     "output_type": "execute_result"
    }
   ],
   "source": [
    "trace1 = go.Scatter(x=[0, 1, 2, 3, 4, 5, 6, 7, 8],y=[0, 1, 2, 3, 4, 5, 6, 7, 8],name='Name of Trace 1')\n",
    "trace2 = go.Scatter(x=[0, 1, 2, 3, 4, 5, 6, 7, 8],y=[1, 0, 3, 2, 5, 4, 7, 6, 8],name='Name of Trace 2')\n",
    "data = [trace1, trace2]\n",
    "layout = go.Layout(title='Plot Title',\n",
    "    xaxis=dict(title='x Axis',\n",
    "               titlefont=dict(family='Courier New, monospace',size=18,color='#7f7f7f')),\n",
    "    yaxis=dict(title='y Axis',\n",
    "               titlefont=dict(family='Courier New, monospace',size=18,color='#7f7f7f'))\n",
    ")\n",
    "fig = go.Figure(data=data, layout=layout)\n",
    "py.iplot(fig)"
   ]
  },
  {
   "cell_type": "markdown",
   "metadata": {},
   "source": [
    "# Multiple Axes\n",
    "https://plot.ly/python/multiple-axes/"
   ]
  },
  {
   "cell_type": "markdown",
   "metadata": {},
   "source": [
    "## Two y-axes\n",
    "`layout['yaxis2]'` attribute"
   ]
  },
  {
   "cell_type": "code",
   "execution_count": 46,
   "metadata": {
    "collapsed": false
   },
   "outputs": [
    {
     "data": {
      "text/html": [
       "<iframe id=\"igraph\" scrolling=\"no\" style=\"border:none;\" seamless=\"seamless\" src=\"https://plot.ly/~takanori/980.embed?share_key=suOZ9P6mANTYnDibxVq4vR\" height=\"525px\" width=\"100%\"></iframe>"
      ],
      "text/plain": [
       "<plotly.tools.PlotlyDisplay object>"
      ]
     },
     "execution_count": 46,
     "metadata": {},
     "output_type": "execute_result"
    }
   ],
   "source": [
    "trace1 = go.Scatter(x=[1, 2, 3],y=[40, 50, 60],name='yaxis data')\n",
    "trace2 = go.Scatter(x=[2, 3, 4],y=[4, 5, 6],name='yaxis2 data',yaxis='y2')\n",
    "data = [trace1, trace2]\n",
    "layout = go.Layout(\n",
    "    title='Double Y Axis Example',\n",
    "    yaxis=dict(title='yaxis title'),\n",
    "    yaxis2=dict(title='yaxis2 title',titlefont=dict(color='rgb(148, 103, 189)'),\n",
    "                tickfont=dict(color='rgb(148, 103, 189)'),overlaying='y',side='right')\n",
    ")\n",
    "fig = go.Figure(data=data, layout=layout)\n",
    "py.iplot(fig)"
   ]
  },
  {
   "cell_type": "markdown",
   "metadata": {},
   "source": [
    "## Multiple y-axes\n",
    "Keep adding more and more `layout['yaxis_i]'` attribute"
   ]
  },
  {
   "cell_type": "code",
   "execution_count": 47,
   "metadata": {
    "collapsed": false
   },
   "outputs": [
    {
     "data": {
      "text/html": [
       "<iframe id=\"igraph\" scrolling=\"no\" style=\"border:none;\" seamless=\"seamless\" src=\"https://plot.ly/~takanori/982.embed?share_key=Hlux45Sr0HwFUsfJw8Q4NK\" height=\"525px\" width=\"800px\"></iframe>"
      ],
      "text/plain": [
       "<plotly.tools.PlotlyDisplay object>"
      ]
     },
     "execution_count": 47,
     "metadata": {},
     "output_type": "execute_result"
    }
   ],
   "source": [
    "trace1 = go.Scatter(x=[1, 2, 3],y=[4, 5, 6],name='yaxis1 data')\n",
    "trace2 = go.Scatter(x=[2, 3, 4],y=[40, 50, 60],name='yaxis2 data',yaxis='y2')\n",
    "trace3 = go.Scatter(x=[4, 5, 6],y=[40000, 50000, 60000],name='yaxis3 data',yaxis='y3')\n",
    "trace4 = go.Scatter(x=[5, 6, 7],y=[400000, 500000, 600000],name='yaxis4 data',yaxis='y4')\n",
    "data = [trace1, trace2, trace3, trace4]\n",
    "\n",
    "layout = go.Layout(\n",
    "    title='multiple y-axes example',width=800,\n",
    "    xaxis=dict(domain=[0.3, 0.7]),\n",
    "    yaxis=dict(title='yaxis title',titlefont=dict(color='#1f77b4'),\n",
    "               tickfont=dict(color='#1f77b4')),\n",
    "    yaxis2=dict(title='yaxis2 title',titlefont=dict(color='#ff7f0e'),\n",
    "        tickfont=dict(color='#ff7f0e'),anchor='free',overlaying='y',\n",
    "        side='left',position=0.15),\n",
    "    yaxis3=dict(title='yaxis4 title',titlefont=dict(color='#d62728'),\n",
    "        tickfont=dict(color='#d62728'),anchor='x',\n",
    "        overlaying='y',side='right'),\n",
    "    yaxis4=dict(title='yaxis5 title',titlefont=dict(color='#9467bd'),\n",
    "        tickfont=dict(color='#9467bd'),anchor='free',\n",
    "        overlaying='y',side='right',position=0.85\n",
    "    )\n",
    ")\n",
    "fig = go.Figure(data=data, layout=layout)\n",
    "py.iplot(fig)"
   ]
  },
  {
   "cell_type": "markdown",
   "metadata": {},
   "source": [
    "# Inset Plots\n",
    "https://plot.ly/python/insets/"
   ]
  },
  {
   "cell_type": "code",
   "execution_count": 48,
   "metadata": {
    "collapsed": false
   },
   "outputs": [
    {
     "data": {
      "text/html": [
       "<iframe id=\"igraph\" scrolling=\"no\" style=\"border:none;\" seamless=\"seamless\" src=\"https://plot.ly/~takanori/984.embed?share_key=pn2vgdNRZ9n6hUEB8x0bKf\" height=\"525px\" width=\"100%\"></iframe>"
      ],
      "text/plain": [
       "<plotly.tools.PlotlyDisplay object>"
      ]
     },
     "execution_count": 48,
     "metadata": {},
     "output_type": "execute_result"
    }
   ],
   "source": [
    "trace1 = go.Scatter(x=[1, 2, 3],y=[4, 3, 2])\n",
    "trace2 = go.Scatter(x=[20, 30, 40],y=[30, 40, 50],xaxis='x2',yaxis='y2')\n",
    "data = [trace1, trace2]\n",
    "\n",
    "layout = go.Layout(xaxis2=dict(domain=[0.6, 0.95],anchor='y2'),\n",
    "                   yaxis2=dict(domain=[0.6, 0.95],anchor='x2'))\n",
    "fig = go.Figure(data=data, layout=layout)\n",
    "py.iplot(fig)"
   ]
  },
  {
   "cell_type": "code",
   "execution_count": null,
   "metadata": {
    "collapsed": true
   },
   "outputs": [],
   "source": []
  }
 ],
 "metadata": {
  "kernelspec": {
   "display_name": "Python [Root]",
   "language": "python",
   "name": "Python [Root]"
  },
  "language_info": {
   "codemirror_mode": {
    "name": "ipython",
    "version": 2
   },
   "file_extension": ".py",
   "mimetype": "text/x-python",
   "name": "python",
   "nbconvert_exporter": "python",
   "pygments_lexer": "ipython2",
   "version": "2.7.12"
  }
 },
 "nbformat": 4,
 "nbformat_minor": 0
}
