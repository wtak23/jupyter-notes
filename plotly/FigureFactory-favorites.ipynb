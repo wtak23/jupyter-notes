{
 "cells": [
  {
   "cell_type": "markdown",
   "metadata": {},
   "source": [
    "  **Table of Contents**\n",
    "\n",
    "  <div id=\"toc\"></div>\n",
    "  <script type=\"text/javascript\"\n",
    "  src=\"https://raw.github.com/kmahelona/ipython_notebook_goodies/master/ipython_notebook_toc.js\">\n",
    "  </script>\n"
   ]
  },
  {
   "cell_type": "code",
   "execution_count": 3,
   "metadata": {
    "collapsed": true
   },
   "outputs": [],
   "source": [
    "import plotly\n",
    "import plotly.plotly as py\n",
    "import plotly.graph_objs as go\n",
    "import plotly.tools as tls\n",
    "\n",
    "from plotly.tools import FigureFactory as FF\n",
    "\n",
    "import numpy as np\n",
    "import pandas as pd"
   ]
  },
  {
   "cell_type": "markdown",
   "metadata": {},
   "source": [
    "# create_2D_density"
   ]
  },
  {
   "cell_type": "markdown",
   "metadata": {},
   "source": [
    "## Simple 2d Density"
   ]
  },
  {
   "cell_type": "code",
   "execution_count": 4,
   "metadata": {
    "collapsed": false
   },
   "outputs": [
    {
     "data": {
      "text/html": [
       "<iframe id=\"igraph\" scrolling=\"no\" style=\"border:none;\" seamless=\"seamless\" src=\"https://plot.ly/~takanori/840.embed?share_key=a0dbKqJvi07nE5pEKbJOn6\" height=\"600px\" width=\"600px\"></iframe>"
      ],
      "text/plain": [
       "<plotly.tools.PlotlyDisplay object>"
      ]
     },
     "execution_count": 4,
     "metadata": {},
     "output_type": "execute_result"
    }
   ],
   "source": [
    "# Make data points\n",
    "t = np.linspace(-1,1.2,2000)\n",
    "x = (t**3)+(0.3*np.random.randn(2000))\n",
    "y = (t**6)+(0.3*np.random.randn(2000))\n",
    "\n",
    "fig = FF.create_2D_density(x, y)\n",
    "py.iplot(fig)"
   ]
  },
  {
   "cell_type": "markdown",
   "metadata": {},
   "source": [
    "## add colorscale"
   ]
  },
  {
   "cell_type": "code",
   "execution_count": 5,
   "metadata": {
    "collapsed": false
   },
   "outputs": [
    {
     "data": {
      "text/html": [
       "<iframe id=\"igraph\" scrolling=\"no\" style=\"border:none;\" seamless=\"seamless\" src=\"https://plot.ly/~takanori/842.embed?share_key=faUjzaWNXCsaevALeWxf99\" height=\"600px\" width=\"600px\"></iframe>"
      ],
      "text/plain": [
       "<plotly.tools.PlotlyDisplay object>"
      ]
     },
     "execution_count": 5,
     "metadata": {},
     "output_type": "execute_result"
    }
   ],
   "source": [
    "# Create custom colorscale\n",
    "colorscale = ['#7A4579', '#D56073', 'rgb(236,158,105)',\n",
    "              (1, 1, 0.2), (0.98,0.98,0.98)]\n",
    "\n",
    "fig = FF.create_2D_density(x, y, colorscale=colorscale,\n",
    "    hist_color='rgb(255, 237, 222)', point_size=3)\n",
    "py.iplot(fig)"
   ]
  },
  {
   "cell_type": "markdown",
   "metadata": {},
   "source": [
    "# create_dendrogram"
   ]
  },
  {
   "cell_type": "markdown",
   "metadata": {},
   "source": [
    "## Simple bottom oriented dendrogram"
   ]
  },
  {
   "cell_type": "code",
   "execution_count": 6,
   "metadata": {
    "collapsed": false
   },
   "outputs": [
    {
     "data": {
      "text/html": [
       "<iframe id=\"igraph\" scrolling=\"no\" style=\"border:none;\" seamless=\"seamless\" src=\"https://plot.ly/~takanori/844.embed?share_key=yfBhotOFD5cuzmAU3vp2dp\" height=\"500px\" width=\"700px\"></iframe>"
      ],
      "text/plain": [
       "<plotly.tools.PlotlyDisplay object>"
      ]
     },
     "execution_count": 6,
     "metadata": {},
     "output_type": "execute_result"
    }
   ],
   "source": [
    "X = np.random.rand(10,10)\n",
    "dendro = FF.create_dendrogram(X)\n",
    "dendro['layout'].update({'width':700, 'height':500})\n",
    "\n",
    "py.iplot(dendro)"
   ]
  },
  {
   "cell_type": "markdown",
   "metadata": {},
   "source": [
    "## Dendrogram to put on the left of the heatmap"
   ]
  },
  {
   "cell_type": "code",
   "execution_count": 8,
   "metadata": {
    "collapsed": false
   },
   "outputs": [
    {
     "data": {
      "text/html": [
       "<iframe id=\"igraph\" scrolling=\"no\" style=\"border:none;\" seamless=\"seamless\" src=\"https://plot.ly/~takanori/848.embed?share_key=EsfxefFj9RZOdKP2lClBop\" height=\"500px\" width=\"800px\"></iframe>"
      ],
      "text/plain": [
       "<plotly.tools.PlotlyDisplay object>"
      ]
     },
     "execution_count": 8,
     "metadata": {},
     "output_type": "execute_result"
    }
   ],
   "source": [
    "X = np.random.rand(5,5)\n",
    "names = ['Jack', 'Oxana', 'John', 'Chelsea', 'Mark']\n",
    "dendro = FF.create_dendrogram(X, orientation='right', labels=names)\n",
    "dendro['layout'].update({'width':800, 'height':500})\n",
    "\n",
    "py.iplot(dendro)"
   ]
  },
  {
   "cell_type": "markdown",
   "metadata": {},
   "source": [
    "## Dendrogram with Pandas"
   ]
  },
  {
   "cell_type": "code",
   "execution_count": 9,
   "metadata": {
    "collapsed": false
   },
   "outputs": [
    {
     "data": {
      "text/html": [
       "<iframe id=\"igraph\" scrolling=\"no\" style=\"border:none;\" seamless=\"seamless\" src=\"https://plot.ly/~takanori/850.embed?share_key=RovRg1dLEj21AfqE9IPwyk\" height=\"500px\" width=\"700px\"></iframe>"
      ],
      "text/plain": [
       "<plotly.tools.PlotlyDisplay object>"
      ]
     },
     "execution_count": 9,
     "metadata": {},
     "output_type": "execute_result"
    }
   ],
   "source": [
    "Index= ['A','B','C','D','E','F','G','H','I','J']\n",
    "df = pd.DataFrame(abs(np.random.randn(10, 10)), index=Index)\n",
    "fig = FF.create_dendrogram(df, labels=Index)\n",
    "fig['layout'].update({'width':700, 'height':500})\n",
    "py.iplot(fig)"
   ]
  },
  {
   "cell_type": "markdown",
   "metadata": {},
   "source": [
    "## With heatmap\n",
    "https://plot.ly/python/dendrogram/ \n",
    "\n",
    "https://wtak23.github.io/plotly_api/generated/generated/plotly.tools.FigureFactory.create_dendrogram.html"
   ]
  },
  {
   "cell_type": "code",
   "execution_count": 40,
   "metadata": {
    "collapsed": true
   },
   "outputs": [],
   "source": [
    "from scipy.spatial.distance import pdist, squareform\n",
    "\n",
    "# get data\n",
    "data = np.genfromtxt(\"http://files.figshare.com/2133304/ExpRawData_E_TABM_84_A_AFFY_44.tab\",\n",
    "                     names=True,usecols=tuple(range(1,30)),dtype=float, delimiter=\"\\t\")\n",
    "data_array = data.view((np.float, len(data.dtype.names)))\n",
    "data_array = data_array.transpose()\n",
    "labels = data.dtype.names"
   ]
  },
  {
   "cell_type": "markdown",
   "metadata": {},
   "source": [
    "Create dendrogram part"
   ]
  },
  {
   "cell_type": "code",
   "execution_count": 41,
   "metadata": {
    "collapsed": false
   },
   "outputs": [],
   "source": [
    "# create uppder dendrogram\n",
    "figure = FF.create_dendrogram(data_array, orientation='bottom', labels=labels)\n",
    "\n",
    "for i in range(len(figure['data'])):\n",
    "    figure['data'][i]['yaxis'] = 'y2'\n",
    "\n",
    "# Create Side Dendrogram\n",
    "dendro_side = FF.create_dendrogram(data_array, orientation='right')\n",
    "for i in range(len(dendro_side['data'])):\n",
    "    dendro_side['data'][i]['xaxis'] = 'x2'\n",
    "\n",
    "# Add Side Dendrogram Data to Figure\n",
    "figure['data'].extend(dendro_side['data'])"
   ]
  },
  {
   "cell_type": "code",
   "execution_count": 42,
   "metadata": {
    "collapsed": false
   },
   "outputs": [
    {
     "name": "stdout",
     "output_type": "stream",
     "text": [
      "28\n",
      "56\n"
     ]
    }
   ],
   "source": [
    "print dendro_side['data'].__len__()\n",
    "print figure['data'].__len__()"
   ]
  },
  {
   "cell_type": "markdown",
   "metadata": {},
   "source": [
    "Create heatmap"
   ]
  },
  {
   "cell_type": "code",
   "execution_count": 43,
   "metadata": {
    "collapsed": false,
    "run_control": {
     "marked": false
    }
   },
   "outputs": [
    {
     "name": "stdout",
     "output_type": "stream",
     "text": [
      "['19' '16' '3' '20' '0' '6' '28' '10' '14' '9' '26' '5' '8' '1' '23' '25'\n",
      " '2' '4' '7' '11' '12' '13' '18' '27' '21' '24' '17' '15' '22']\n",
      "[19, 16, 3, 20, 0, 6, 28, 10, 14, 9, 26, 5, 8, 1, 23, 25, 2, 4, 7, 11, 12, 13, 18, 27, 21, 24, 17, 15, 22]\n",
      "heat_data.shape =  (29, 29)\n",
      "data_array.shape =  (29, 54674)\n",
      "data_dist.shape =  (406,)\n",
      "heat_data.shape =  (29, 29)\n"
     ]
    }
   ],
   "source": [
    "# Create Heatmap\n",
    "dendro_leaves = dendro_side['layout']['yaxis']['ticktext']\n",
    "print dendro_leaves\n",
    "\n",
    "dendro_leaves = list(map(int, dendro_leaves))\n",
    "print dendro_leaves\n",
    "\n",
    "data_dist = pdist(data_array)\n",
    "heat_data = squareform(data_dist)\n",
    "print 'heat_data.shape = ',heat_data.shape\n",
    "heat_data = heat_data[dendro_leaves,:]\n",
    "heat_data = heat_data[:,dendro_leaves]\n",
    "\n",
    "print 'data_array.shape = ',data_array.shape\n",
    "print 'data_dist.shape = ',data_dist.shape\n",
    "print 'heat_data.shape = ',heat_data.shape"
   ]
  },
  {
   "cell_type": "code",
   "execution_count": 44,
   "metadata": {
    "collapsed": false
   },
   "outputs": [
    {
     "data": {
      "text/plain": [
       "1"
      ]
     },
     "execution_count": 44,
     "metadata": {},
     "output_type": "execute_result"
    }
   ],
   "source": [
    "heatmap = go.Data([\n",
    "    go.Heatmap(\n",
    "        x = dendro_leaves, \n",
    "        y = dendro_leaves,\n",
    "        z = heat_data,    \n",
    "        colorscale = 'YIGnBu'\n",
    "    )\n",
    "])\n",
    "heatmap.__len__()"
   ]
  },
  {
   "cell_type": "code",
   "execution_count": 45,
   "metadata": {
    "collapsed": false
   },
   "outputs": [
    {
     "name": "stdout",
     "output_type": "stream",
     "text": [
      "[5.0, 15.0, 25.0, 35.0, 45.0, 55.0, 65.0, 75.0, 85.0, 95.0, 105.0, 115.0, 125.0, 135.0, 145.0, 155.0, 165.0, 175.0, 185.0, 195.0, 205.0, 215.0, 225.0, 235.0, 245.0, 255.0, 265.0, 275.0, 285.0]\n",
      "[5.0, 15.0, 25.0, 35.0, 45.0, 55.0, 65.0, 75.0, 85.0, 95.0, 105.0, 115.0, 125.0, 135.0, 145.0, 155.0, 165.0, 175.0, 185.0, 195.0, 205.0, 215.0, 225.0, 235.0, 245.0, 255.0, 265.0, 275.0, 285.0]\n"
     ]
    }
   ],
   "source": [
    "print figure['layout']['xaxis']['tickvals']\n",
    "print dendro_side['layout']['yaxis']['tickvals']"
   ]
  },
  {
   "cell_type": "code",
   "execution_count": 46,
   "metadata": {
    "collapsed": true
   },
   "outputs": [],
   "source": [
    "heatmap[0]['x'] = figure['layout']['xaxis']['tickvals']\n",
    "heatmap[0]['y'] = dendro_side['layout']['yaxis']['tickvals']\n",
    "                                                 \n",
    "# Add Heatmap Data to Figure\n",
    "figure['data'].extend(go.Data(heatmap))"
   ]
  },
  {
   "cell_type": "markdown",
   "metadata": {},
   "source": [
    "Edit layout"
   ]
  },
  {
   "cell_type": "code",
   "execution_count": 51,
   "metadata": {
    "collapsed": false
   },
   "outputs": [],
   "source": [
    "figure['layout'].update({'width':800, 'height':800,'showlegend':False, 'hovermode': 'closest',})\n",
    "\n",
    "#http://stackoverflow.com/questions/38987/how-to-merge-two-python-dictionaries-in-a-single-expression\n",
    "setup_shared = dict(mirror=False,showgrid=False,showline=False,zeroline=False,ticks=\"\")\n",
    "\n",
    "# Edit xaxis\n",
    "figure['layout']['xaxis'].update(dict(domain=[0.15,1], **setup_shared))\n",
    "figure['layout'].update({'xaxis2':dict(domain=[0,0.15], showticklabels=False,**setup_shared)})\n",
    "\n",
    "# Edit yaxis\n",
    "figure['layout']['yaxis'].update(dict(domain=[0,0.85], **setup_shared))\n",
    "figure['layout'].update({'yaxis2':dict(domain=[0.825,0.975],showticklabels=False, **setup_shared)})"
   ]
  },
  {
   "cell_type": "code",
   "execution_count": 52,
   "metadata": {
    "collapsed": false,
    "scrolled": true
   },
   "outputs": [
    {
     "data": {
      "text/html": [
       "<iframe id=\"igraph\" scrolling=\"no\" style=\"border:none;\" seamless=\"seamless\" src=\"https://plot.ly/~takanori/858.embed?share_key=uY2Yo0TkSy05UCLqXG6VWJ\" height=\"800px\" width=\"800px\"></iframe>"
      ],
      "text/plain": [
       "<plotly.tools.PlotlyDisplay object>"
      ]
     },
     "execution_count": 52,
     "metadata": {},
     "output_type": "execute_result"
    }
   ],
   "source": [
    "py.iplot(figure)"
   ]
  },
  {
   "cell_type": "markdown",
   "metadata": {},
   "source": [
    "# create_distplot"
   ]
  },
  {
   "cell_type": "markdown",
   "metadata": {},
   "source": [
    "## simple distplot"
   ]
  },
  {
   "cell_type": "code",
   "execution_count": 53,
   "metadata": {
    "collapsed": false
   },
   "outputs": [
    {
     "data": {
      "text/html": [
       "<iframe id=\"igraph\" scrolling=\"no\" style=\"border:none;\" seamless=\"seamless\" src=\"https://plot.ly/~takanori/860.embed?share_key=VQD7Pb4xPpkiws0J7EKvVI\" height=\"525px\" width=\"100%\"></iframe>"
      ],
      "text/plain": [
       "<plotly.tools.PlotlyDisplay object>"
      ]
     },
     "execution_count": 53,
     "metadata": {},
     "output_type": "execute_result"
    }
   ],
   "source": [
    "hist_data = [[1.1, 1.1, 2.5, 3.0, 3.5,\n",
    "              3.5, 4.1, 4.4, 4.5, 4.5,\n",
    "              5.0, 5.0, 5.2, 5.5, 5.5,\n",
    "              5.5, 5.5, 5.5, 6.1, 7.0]]\n",
    "\n",
    "group_labels = ['distplot example']\n",
    "fig = FF.create_distplot(hist_data, group_labels)\n",
    "py.iplot(fig)"
   ]
  },
  {
   "cell_type": "markdown",
   "metadata": {},
   "source": [
    "## Two data sets and added rug text\n"
   ]
  },
  {
   "cell_type": "code",
   "execution_count": 54,
   "metadata": {
    "collapsed": false
   },
   "outputs": [
    {
     "data": {
      "text/html": [
       "<iframe id=\"igraph\" scrolling=\"no\" style=\"border:none;\" seamless=\"seamless\" src=\"https://plot.ly/~takanori/862.embed?share_key=0GFD3QDMe4GDsJ4trhPzEn\" height=\"525px\" width=\"100%\"></iframe>"
      ],
      "text/plain": [
       "<plotly.tools.PlotlyDisplay object>"
      ]
     },
     "execution_count": 54,
     "metadata": {},
     "output_type": "execute_result"
    }
   ],
   "source": [
    "# Add histogram data\n",
    "hist1_x = [0.8, 1.2, 0.2, 0.6, 1.6,\n",
    "           -0.9, -0.07, 1.95, 0.9, -0.2,\n",
    "           -0.5, 0.3, 0.4, -0.37, 0.6]\n",
    "hist2_x = [0.8, 1.5, 1.5, 0.6, 0.59,\n",
    "           1.0, 0.8, 1.7, 0.5, 0.8,\n",
    "           -0.3, 1.2, 0.56, 0.3, 2.2]\n",
    "\n",
    "# Group data together\n",
    "hist_data = [hist1_x, hist2_x]\n",
    "\n",
    "# Add text\n",
    "rug_text_1 = ['a1', 'b1', 'c1', 'd1', 'e1',\n",
    "      'f1', 'g1', 'h1', 'i1', 'j1',\n",
    "      'k1', 'l1', 'm1', 'n1', 'o1']\n",
    "\n",
    "rug_text_2 = ['a2', 'b2', 'c2', 'd2', 'e2',\n",
    "      'f2', 'g2', 'h2', 'i2', 'j2',\n",
    "      'k2', 'l2', 'm2', 'n2', 'o2']\n",
    "\n",
    "# Group text together\n",
    "rug_text_all = [rug_text_1, rug_text_2]\n",
    "\n",
    "# Create distplot\n",
    "fig = FF.create_distplot(hist_data, group_labels = ['2012', '2013'], \n",
    "                         rug_text=rug_text_all, bin_size=.2)\n",
    "\n",
    "# Add title\n",
    "fig['layout'].update(title='Dist Plot')\n",
    "\n",
    "# Plot!\n",
    "py.iplot(fig)"
   ]
  },
  {
   "cell_type": "markdown",
   "metadata": {},
   "source": [
    "## normal distribution plot with no rug"
   ]
  },
  {
   "cell_type": "code",
   "execution_count": 55,
   "metadata": {
    "collapsed": false
   },
   "outputs": [
    {
     "data": {
      "text/html": [
       "<iframe id=\"igraph\" scrolling=\"no\" style=\"border:none;\" seamless=\"seamless\" src=\"https://plot.ly/~takanori/864.embed?share_key=OtoO3zGA0uosSmPZdsehmo\" height=\"525px\" width=\"100%\"></iframe>"
      ],
      "text/plain": [
       "<plotly.tools.PlotlyDisplay object>"
      ]
     },
     "execution_count": 55,
     "metadata": {},
     "output_type": "execute_result"
    }
   ],
   "source": [
    "x1 = np.random.randn(190)\n",
    "x2 = np.random.randn(200)+1\n",
    "x3 = np.random.randn(200)-1\n",
    "x4 = np.random.randn(210)+2\n",
    "\n",
    "hist_data = [x1, x2, x3, x4]\n",
    "group_labels = ['2012', '2013', '2014', '2015']\n",
    "\n",
    "fig = FF.create_distplot(\n",
    "    hist_data, group_labels, curve_type='normal',#'kde' or 'normal'\n",
    "    show_rug=False, bin_size=.4)\n",
    "\n",
    "py.iplot(fig)"
   ]
  },
  {
   "cell_type": "markdown",
   "metadata": {},
   "source": [
    "## Distplot with pandas\n",
    "\n",
    "Note the clever use of list-comprehension below"
   ]
  },
  {
   "cell_type": "code",
   "execution_count": 56,
   "metadata": {
    "collapsed": false,
    "scrolled": true
   },
   "outputs": [
    {
     "data": {
      "text/html": [
       "<iframe id=\"igraph\" scrolling=\"no\" style=\"border:none;\" seamless=\"seamless\" src=\"https://plot.ly/~takanori/866.embed?share_key=Juf3w3aQExndcADaEPHH8G\" height=\"525px\" width=\"100%\"></iframe>"
      ],
      "text/plain": [
       "<plotly.tools.PlotlyDisplay object>"
      ]
     },
     "execution_count": 56,
     "metadata": {},
     "output_type": "execute_result"
    }
   ],
   "source": [
    "df = pd.DataFrame({'2012': np.random.randn(200),\n",
    "                   '2013': np.random.randn(200)+1})\n",
    "py.iplot(FF.create_distplot([df[c] for c in df.columns], df.columns))"
   ]
  },
  {
   "cell_type": "markdown",
   "metadata": {},
   "source": [
    "# create_scatterplotmatrix\n",
    "## vanilla scatterplotmatrix"
   ]
  },
  {
   "cell_type": "code",
   "execution_count": 64,
   "metadata": {
    "collapsed": false
   },
   "outputs": [
    {
     "name": "stdout",
     "output_type": "stream",
     "text": [
      "This is the format of your plot grid:\n",
      "[ (1,1) x1,y1 ]  [ (1,2) x2,y2 ]\n",
      "[ (2,1) x3,y3 ]  [ (2,2) x4,y4 ]\n",
      "\n"
     ]
    },
    {
     "data": {
      "text/html": [
       "<iframe id=\"igraph\" scrolling=\"no\" style=\"border:none;\" seamless=\"seamless\" src=\"https://plot.ly/~takanori/872.embed?share_key=dOyax1VyTNryrJGhm98f9g\" height=\"600px\" width=\"600px\"></iframe>"
      ],
      "text/plain": [
       "<plotly.tools.PlotlyDisplay object>"
      ]
     },
     "execution_count": 64,
     "metadata": {},
     "output_type": "execute_result"
    }
   ],
   "source": [
    "df = pd.DataFrame(np.random.randn(10, 2),columns=['Column 1', 'Column 2'])\n",
    "fig = FF.create_scatterplotmatrix(df)\n",
    "fig['layout'].update(dict(width=600,height=600))\n",
    "py.iplot(fig)"
   ]
  },
  {
   "cell_type": "markdown",
   "metadata": {},
   "source": [
    "## Diagonal boxplots\n",
    "`index` is like `hue` in seaborn\n"
   ]
  },
  {
   "cell_type": "code",
   "execution_count": 65,
   "metadata": {
    "collapsed": false
   },
   "outputs": [
    {
     "name": "stdout",
     "output_type": "stream",
     "text": [
      "This is the format of your plot grid:\n",
      "[ (1,1) x1,y1 ]    [ (1,2) x2,y2 ]    [ (1,3) x3,y3 ]    [ (1,4) x4,y4 ]  \n",
      "[ (2,1) x5,y5 ]    [ (2,2) x6,y6 ]    [ (2,3) x7,y7 ]    [ (2,4) x8,y8 ]  \n",
      "[ (3,1) x9,y9 ]    [ (3,2) x10,y10 ]  [ (3,3) x11,y11 ]  [ (3,4) x12,y12 ]\n",
      "[ (4,1) x13,y13 ]  [ (4,2) x14,y14 ]  [ (4,3) x15,y15 ]  [ (4,4) x16,y16 ]\n",
      "\n"
     ]
    },
    {
     "data": {
      "text/html": [
       "<iframe id=\"igraph\" scrolling=\"no\" style=\"border:none;\" seamless=\"seamless\" src=\"https://plot.ly/~takanori/874.embed?share_key=1xgVdyQ3ZNY2NknOhZz8V7\" height=\"1000px\" width=\"1000px\"></iframe>"
      ],
      "text/plain": [
       "<plotly.tools.PlotlyDisplay object>"
      ]
     },
     "execution_count": 65,
     "metadata": {},
     "output_type": "execute_result"
    }
   ],
   "source": [
    "df = pd.DataFrame(np.random.randn(10, 4),columns=['A', 'B', 'C', 'D'])\n",
    "\n",
    "# Add another column of strings to the dataframe\n",
    "df['Fruit'] = pd.Series(['apple', 'apple', 'grape', 'apple', 'apple',\n",
    "                         'grape', 'pear', 'pear', 'apple', 'pear'])\n",
    "\n",
    "fig = FF.create_scatterplotmatrix(df, diag='box', index='Fruit',height=1000, width=1000)\n",
    "py.iplot(fig)"
   ]
  },
  {
   "cell_type": "markdown",
   "metadata": {},
   "source": [
    "## Use a Theme to Style the Subplots"
   ]
  },
  {
   "cell_type": "code",
   "execution_count": 69,
   "metadata": {
    "collapsed": false
   },
   "outputs": [
    {
     "name": "stdout",
     "output_type": "stream",
     "text": [
      "This is the format of your plot grid:\n",
      "[ (1,1) x1,y1 ]  [ (1,2) x2,y2 ]\n",
      "[ (2,1) x3,y3 ]  [ (2,2) x4,y4 ]\n",
      "\n"
     ]
    },
    {
     "data": {
      "text/html": [
       "<iframe id=\"igraph\" scrolling=\"no\" style=\"border:none;\" seamless=\"seamless\" src=\"https://plot.ly/~takanori/880.embed?share_key=lPomrdIEbk6Z6UofHenrhq\" height=\"800px\" width=\"800px\"></iframe>"
      ],
      "text/plain": [
       "<plotly.tools.PlotlyDisplay object>"
      ]
     },
     "execution_count": 69,
     "metadata": {},
     "output_type": "execute_result"
    }
   ],
   "source": [
    "# Create dataframe with random data\n",
    "df = pd.DataFrame(np.random.randn(100, 3),columns=['A', 'B', 'C'])\n",
    "\n",
    "# Create scatterplot matrix using a built-in\n",
    "# Plotly palette scale and indexing column 'A'\n",
    "fig = FF.create_scatterplotmatrix(df, diag='histogram',index='A', colormap='Blues',\n",
    "                                  height=800, width=800)\n",
    "\n",
    "# Plot\n",
    "py.iplot(fig)"
   ]
  },
  {
   "cell_type": "markdown",
   "metadata": {},
   "source": [
    "## Example 4 with Interval Factoring"
   ]
  },
  {
   "cell_type": "code",
   "execution_count": 71,
   "metadata": {
    "collapsed": false
   },
   "outputs": [
    {
     "name": "stdout",
     "output_type": "stream",
     "text": [
      "This is the format of your plot grid:\n",
      "[ (1,1) x1,y1 ]  [ (1,2) x2,y2 ]\n",
      "[ (2,1) x3,y3 ]  [ (2,2) x4,y4 ]\n",
      "\n"
     ]
    },
    {
     "data": {
      "text/html": [
       "<iframe id=\"igraph\" scrolling=\"no\" style=\"border:none;\" seamless=\"seamless\" src=\"https://plot.ly/~takanori/884.embed?share_key=Fc22GJfhFaRSZp247KsNd4\" height=\"800px\" width=\"800px\"></iframe>"
      ],
      "text/plain": [
       "<plotly.tools.PlotlyDisplay object>"
      ]
     },
     "execution_count": 71,
     "metadata": {},
     "output_type": "execute_result"
    }
   ],
   "source": [
    "# Create dataframe with random data\n",
    "df = pd.DataFrame(np.random.randn(100, 3),columns=['A', 'B', 'C'])\n",
    "\n",
    "# Create scatterplot matrix using a list of 2 rgb tuples\n",
    "# and endpoints at -1, 0 and 1\n",
    "fig = FF.create_scatterplotmatrix(df, diag='box', index='A',\n",
    "    colormap=['rgb(140, 255, 50)','rgb(170, 60, 115)','#6c4774',(0.5, 0.1, 0.8)],\n",
    "    endpts=[-1, 0, 1],height=800, width=800)\n",
    "\n",
    "py.iplot(fig)"
   ]
  },
  {
   "cell_type": "markdown",
   "metadata": {},
   "source": [
    "## Using the colormap as a Dictionary\n"
   ]
  },
  {
   "cell_type": "code",
   "execution_count": 72,
   "metadata": {
    "collapsed": false
   },
   "outputs": [
    {
     "data": {
      "text/html": [
       "<div>\n",
       "<table border=\"1\" class=\"dataframe\">\n",
       "  <thead>\n",
       "    <tr style=\"text-align: right;\">\n",
       "      <th></th>\n",
       "      <th>Column A</th>\n",
       "      <th>Column B</th>\n",
       "      <th>Column C</th>\n",
       "      <th>Colors</th>\n",
       "    </tr>\n",
       "  </thead>\n",
       "  <tbody>\n",
       "    <tr>\n",
       "      <th>0</th>\n",
       "      <td>0.0408</td>\n",
       "      <td>-0.3364</td>\n",
       "      <td>-2.2249</td>\n",
       "      <td>turquoise</td>\n",
       "    </tr>\n",
       "    <tr>\n",
       "      <th>1</th>\n",
       "      <td>0.6119</td>\n",
       "      <td>-0.1273</td>\n",
       "      <td>-0.6556</td>\n",
       "      <td>turquoise</td>\n",
       "    </tr>\n",
       "    <tr>\n",
       "      <th>2</th>\n",
       "      <td>-0.5556</td>\n",
       "      <td>-1.3014</td>\n",
       "      <td>0.0922</td>\n",
       "      <td>turquoise</td>\n",
       "    </tr>\n",
       "    <tr>\n",
       "      <th>3</th>\n",
       "      <td>-0.8998</td>\n",
       "      <td>-0.4567</td>\n",
       "      <td>-1.5237</td>\n",
       "      <td>turquoise</td>\n",
       "    </tr>\n",
       "    <tr>\n",
       "      <th>4</th>\n",
       "      <td>0.4909</td>\n",
       "      <td>0.1176</td>\n",
       "      <td>0.3163</td>\n",
       "      <td>turquoise</td>\n",
       "    </tr>\n",
       "  </tbody>\n",
       "</table>\n",
       "</div>"
      ],
      "text/plain": [
       "   Column A  Column B  Column C     Colors\n",
       "0    0.0408   -0.3364   -2.2249  turquoise\n",
       "1    0.6119   -0.1273   -0.6556  turquoise\n",
       "2   -0.5556   -1.3014    0.0922  turquoise\n",
       "3   -0.8998   -0.4567   -1.5237  turquoise\n",
       "4    0.4909    0.1176    0.3163  turquoise"
      ]
     },
     "execution_count": 72,
     "metadata": {},
     "output_type": "execute_result"
    }
   ],
   "source": [
    "import random\n",
    "\n",
    "# Create dataframe with random data\n",
    "df = pd.DataFrame(np.random.randn(100, 3),\n",
    "                   columns=['Column A','Column B','Column C'])\n",
    "\n",
    "# Add new color column to dataframe\n",
    "new_column = []\n",
    "strange_colors = ['turquoise', 'limegreen', 'goldenrod']\n",
    "\n",
    "for j in range(100):\n",
    "    new_column.append(random.choice(strange_colors))\n",
    "df['Colors'] = pd.Series(new_column, index=df.index)\n",
    "df.head(n=5)"
   ]
  },
  {
   "cell_type": "code",
   "execution_count": 73,
   "metadata": {
    "collapsed": false
   },
   "outputs": [
    {
     "name": "stdout",
     "output_type": "stream",
     "text": [
      "This is the format of your plot grid:\n",
      "[ (1,1) x1,y1 ]  [ (1,2) x2,y2 ]  [ (1,3) x3,y3 ]\n",
      "[ (2,1) x4,y4 ]  [ (2,2) x5,y5 ]  [ (2,3) x6,y6 ]\n",
      "[ (3,1) x7,y7 ]  [ (3,2) x8,y8 ]  [ (3,3) x9,y9 ]\n",
      "\n"
     ]
    },
    {
     "data": {
      "text/html": [
       "<iframe id=\"igraph\" scrolling=\"no\" style=\"border:none;\" seamless=\"seamless\" src=\"https://plot.ly/~takanori/886.embed?share_key=X5QeWJAIjRNf0BuZc1NfyL\" height=\"800px\" width=\"800px\"></iframe>"
      ],
      "text/plain": [
       "<plotly.tools.PlotlyDisplay object>"
      ]
     },
     "execution_count": 73,
     "metadata": {},
     "output_type": "execute_result"
    }
   ],
   "source": [
    "# Create scatterplot matrix using a dictionary of hex color values\n",
    "# which correspond to actual color names in 'Colors' column\n",
    "fig = FF.create_scatterplotmatrix(\n",
    "    df, diag='box', index='Colors', # index is kinda like hue in seaborn\n",
    "    colormap= dict(\n",
    "        turquoise = '#00F5FF',\n",
    "        limegreen = '#32CD32',\n",
    "        goldenrod = '#DAA520'\n",
    "    ),\n",
    "    colormap_type='cat',\n",
    "    height=800, width=800\n",
    ")\n",
    "# Plot\n",
    "py.iplot(fig)"
   ]
  },
  {
   "cell_type": "markdown",
   "metadata": {},
   "source": [
    "# create_table"
   ]
  },
  {
   "cell_type": "markdown",
   "metadata": {},
   "source": [
    "## Simple Plotly Table"
   ]
  },
  {
   "cell_type": "code",
   "execution_count": 76,
   "metadata": {
    "collapsed": false
   },
   "outputs": [
    {
     "data": {
      "text/html": [
       "<iframe id=\"igraph\" scrolling=\"no\" style=\"border:none;\" seamless=\"seamless\" src=\"https://plot.ly/~takanori/890.embed?share_key=sVTvrrDOjFqFDDDlZMPDtW\" height=\"200px\" width=\"100%\"></iframe>"
      ],
      "text/plain": [
       "<plotly.tools.PlotlyDisplay object>"
      ]
     },
     "execution_count": 76,
     "metadata": {},
     "output_type": "execute_result"
    }
   ],
   "source": [
    "text = [['Country', 'Year', 'Population'],\n",
    "        ['US', 2000, 282200000],\n",
    "        ['Canada', 2000, 27790000],\n",
    "        ['US', 2010, 309000000],\n",
    "        ['Canada', 2010, 34000000]]\n",
    "\n",
    "table = FF.create_table(text)\n",
    "py.iplot(table)"
   ]
  },
  {
   "cell_type": "markdown",
   "metadata": {},
   "source": [
    "## Table with Custom Coloring\n"
   ]
  },
  {
   "cell_type": "code",
   "execution_count": 77,
   "metadata": {
    "collapsed": false
   },
   "outputs": [
    {
     "data": {
      "text/html": [
       "<iframe id=\"igraph\" scrolling=\"no\" style=\"border:none;\" seamless=\"seamless\" src=\"https://plot.ly/~takanori/892.embed?share_key=iXeevPK1bzyyKxn0mBPiUF\" height=\"200px\" width=\"100%\"></iframe>"
      ],
      "text/plain": [
       "<plotly.tools.PlotlyDisplay object>"
      ]
     },
     "execution_count": 77,
     "metadata": {},
     "output_type": "execute_result"
    }
   ],
   "source": [
    "table = FF.create_table(text,\n",
    "      colorscale=[[0, '#000000'],[.5, '#80beff'],[1, '#cce5ff']],\n",
    "      font_colors=['#ffffff', '#000000','#000000'])\n",
    "py.iplot(table)"
   ]
  },
  {
   "cell_type": "markdown",
   "metadata": {},
   "source": [
    "## Using pandas"
   ]
  },
  {
   "cell_type": "code",
   "execution_count": 74,
   "metadata": {
    "collapsed": false
   },
   "outputs": [
    {
     "data": {
      "text/html": [
       "<iframe id=\"igraph\" scrolling=\"no\" style=\"border:none;\" seamless=\"seamless\" src=\"https://plot.ly/~takanori/888.embed?share_key=HVERW7i2MmMewe3aUNE6Ti\" height=\"260px\" width=\"100%\"></iframe>"
      ],
      "text/plain": [
       "<plotly.tools.PlotlyDisplay object>"
      ]
     },
     "execution_count": 74,
     "metadata": {},
     "output_type": "execute_result"
    }
   ],
   "source": [
    "df = pd.read_csv('http://www.stat.ubc.ca/~jenny/notOcto/STAT545A/examples/gapminder/data/gapminderDataFiveYear.txt', \n",
    "                 sep='\\t')\n",
    "df_p = df[0:6]\n",
    "\n",
    "table_simple = FF.create_table(df_p)\n",
    "py.iplot(table_simple)"
   ]
  },
  {
   "cell_type": "markdown",
   "metadata": {},
   "source": [
    "# create_violin\n",
    "## Single violin plot"
   ]
  },
  {
   "cell_type": "code",
   "execution_count": 78,
   "metadata": {
    "collapsed": false
   },
   "outputs": [
    {
     "data": {
      "text/html": [
       "<iframe id=\"igraph\" scrolling=\"no\" style=\"border:none;\" seamless=\"seamless\" src=\"https://plot.ly/~takanori/894.embed?share_key=ZcW4gSweznbDUf0WXZ7Cb8\" height=\"450px\" width=\"600px\"></iframe>"
      ],
      "text/plain": [
       "<plotly.tools.PlotlyDisplay object>"
      ]
     },
     "execution_count": 78,
     "metadata": {},
     "output_type": "execute_result"
    }
   ],
   "source": [
    "# create list of random values\n",
    "data_list = np.random.randn(100)\n",
    "# data_list.tolist()\n",
    "\n",
    "# create violin fig\n",
    "fig = FF.create_violin(data_list, colors='#604d9e')\n",
    "\n",
    "# plot\n",
    "py.iplot(fig)"
   ]
  },
  {
   "cell_type": "markdown",
   "metadata": {},
   "source": [
    "## Multiple Violin Plots with Qualitative Coloring"
   ]
  },
  {
   "cell_type": "code",
   "execution_count": 79,
   "metadata": {
    "collapsed": false
   },
   "outputs": [
    {
     "data": {
      "text/html": [
       "<div>\n",
       "<table border=\"1\" class=\"dataframe\">\n",
       "  <thead>\n",
       "    <tr style=\"text-align: right;\">\n",
       "      <th></th>\n",
       "      <th>Group</th>\n",
       "      <th>Score</th>\n",
       "    </tr>\n",
       "  </thead>\n",
       "  <tbody>\n",
       "    <tr>\n",
       "      <th>0</th>\n",
       "      <td>B</td>\n",
       "      <td>1.6562</td>\n",
       "    </tr>\n",
       "    <tr>\n",
       "      <th>1</th>\n",
       "      <td>C</td>\n",
       "      <td>-1.3793</td>\n",
       "    </tr>\n",
       "    <tr>\n",
       "      <th>2</th>\n",
       "      <td>C</td>\n",
       "      <td>1.5677</td>\n",
       "    </tr>\n",
       "    <tr>\n",
       "      <th>3</th>\n",
       "      <td>B</td>\n",
       "      <td>1.4846</td>\n",
       "    </tr>\n",
       "    <tr>\n",
       "      <th>4</th>\n",
       "      <td>E</td>\n",
       "      <td>0.4106</td>\n",
       "    </tr>\n",
       "  </tbody>\n",
       "</table>\n",
       "</div>"
      ],
      "text/plain": [
       "  Group   Score\n",
       "0     B  1.6562\n",
       "1     C -1.3793\n",
       "2     C  1.5677\n",
       "3     B  1.4846\n",
       "4     E  0.4106"
      ]
     },
     "execution_count": 79,
     "metadata": {},
     "output_type": "execute_result"
    }
   ],
   "source": [
    "# create dataframe\n",
    "np.random.seed(619517)\n",
    "Nr=250\n",
    "y = np.random.randn(Nr)\n",
    "gr = np.random.choice(list(\"ABCDE\"), Nr)\n",
    "norm_params=[(0, 1.2), (0.7, 1), (-0.5, 1.4), (0.3, 1), (0.8, 0.9)]\n",
    "\n",
    "for i, letter in enumerate(\"ABCDE\"):\n",
    "    y[gr == letter] *=norm_params[i][1]+ norm_params[i][0]\n",
    "df = pd.DataFrame(dict(Score=y, Group=gr))\n",
    "df.head(n=5)"
   ]
  },
  {
   "cell_type": "code",
   "execution_count": 80,
   "metadata": {
    "collapsed": false
   },
   "outputs": [
    {
     "name": "stdout",
     "output_type": "stream",
     "text": [
      "This is the format of your plot grid:\n",
      "[ (1,1) x1,y1 ]  [ (1,2) x2,y1 ]  [ (1,3) x3,y1 ]  [ (1,4) x4,y1 ]  [ (1,5) x5,y1 ]\n",
      "\n"
     ]
    },
    {
     "data": {
      "text/html": [
       "<iframe id=\"igraph\" scrolling=\"no\" style=\"border:none;\" seamless=\"seamless\" src=\"https://plot.ly/~takanori/896.embed?share_key=MQpYShdA8mAK6KtAFydYRv\" height=\"600px\" width=\"1000px\"></iframe>"
      ],
      "text/plain": [
       "<plotly.tools.PlotlyDisplay object>"
      ]
     },
     "execution_count": 80,
     "metadata": {},
     "output_type": "execute_result"
    }
   ],
   "source": [
    "# create violin fig\n",
    "fig = FF.create_violin(df, data_header='Score', group_header='Group',\n",
    "                       height=600, width=1000)\n",
    "\n",
    "py.iplot(fig)"
   ]
  },
  {
   "cell_type": "markdown",
   "metadata": {},
   "source": [
    "## Violin Plots with Colorscale"
   ]
  },
  {
   "cell_type": "code",
   "execution_count": 81,
   "metadata": {
    "collapsed": false
   },
   "outputs": [
    {
     "data": {
      "text/plain": [
       "{'A': -0.58132987295885585,\n",
       " 'B': 0.13909523462167314,\n",
       " 'C': -0.16978685879501004,\n",
       " 'D': -0.21956036692836567,\n",
       " 'E': -0.0043455060692985173}"
      ]
     },
     "execution_count": 81,
     "metadata": {},
     "output_type": "execute_result"
    }
   ],
   "source": [
    "# define header params\n",
    "data_header = 'Score'\n",
    "group_header = 'Group'\n",
    "\n",
    "# make groupby object with pandas\n",
    "group_stats = {}\n",
    "groupby_data = df.groupby([group_header])\n",
    "\n",
    "for group in \"ABCDE\":\n",
    "    data_from_group = groupby_data.get_group(group)[data_header]\n",
    "    # take median of the grouped data\n",
    "    group_stats[group] = np.median(data_from_group)\n",
    "    \n",
    "group_stats"
   ]
  },
  {
   "cell_type": "code",
   "execution_count": 82,
   "metadata": {
    "collapsed": false
   },
   "outputs": [
    {
     "name": "stdout",
     "output_type": "stream",
     "text": [
      "This is the format of your plot grid:\n",
      "[ (1,1) x1,y1 ]  [ (1,2) x2,y1 ]  [ (1,3) x3,y1 ]  [ (1,4) x4,y1 ]  [ (1,5) x5,y1 ]\n",
      "\n"
     ]
    },
    {
     "data": {
      "text/html": [
       "<iframe id=\"igraph\" scrolling=\"no\" style=\"border:none;\" seamless=\"seamless\" src=\"https://plot.ly/~takanori/898.embed?share_key=1wyFoVGcg77bwpEt0YUnog\" height=\"600px\" width=\"1000px\"></iframe>"
      ],
      "text/plain": [
       "<plotly.tools.PlotlyDisplay object>"
      ]
     },
     "execution_count": 82,
     "metadata": {},
     "output_type": "execute_result"
    }
   ],
   "source": [
    "fig = FF.create_violin(df, data_header='Score', group_header='Group',\n",
    "                       height=600, width=1000, use_colorscale=True,\n",
    "                       group_stats=group_stats)\n",
    "py.iplot(fig)"
   ]
  },
  {
   "cell_type": "code",
   "execution_count": null,
   "metadata": {
    "collapsed": true
   },
   "outputs": [],
   "source": []
  }
 ],
 "metadata": {
  "kernelspec": {
   "display_name": "Python [Root]",
   "language": "python",
   "name": "Python [Root]"
  },
  "language_info": {
   "codemirror_mode": {
    "name": "ipython",
    "version": 2
   },
   "file_extension": ".py",
   "mimetype": "text/x-python",
   "name": "python",
   "nbconvert_exporter": "python",
   "pygments_lexer": "ipython2",
   "version": "2.7.12"
  }
 },
 "nbformat": 4,
 "nbformat_minor": 0
}
