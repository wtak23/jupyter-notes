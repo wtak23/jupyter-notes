{
 "cells": [
  {
   "cell_type": "markdown",
   "metadata": {},
   "source": [
    "https://plot.ly/python/#layout-options\n",
    "https://plot.ly/python/legend/\n",
    "\n",
    "  **Table of Contents**\n",
    "\n",
    "  <div id=\"toc\"></div>\n",
    "  <script type=\"text/javascript\"\n",
    "  src=\"https://raw.github.com/kmahelona/ipython_notebook_goodies/master/ipython_notebook_toc.js\">\n",
    "  </script>\n"
   ]
  },
  {
   "cell_type": "code",
   "execution_count": 1,
   "metadata": {
    "collapsed": true
   },
   "outputs": [],
   "source": [
    "import plotly\n",
    "import plotly.plotly as py\n",
    "import plotly.graph_objs as go\n",
    "import plotly.tools as tls"
   ]
  },
  {
   "cell_type": "markdown",
   "metadata": {},
   "source": [
    "## Basic legend\n",
    "- just assign `name` in the trace attribute"
   ]
  },
  {
   "cell_type": "code",
   "execution_count": 30,
   "metadata": {
    "collapsed": false
   },
   "outputs": [
    {
     "data": {
      "text/html": [
       "<iframe id=\"igraph\" scrolling=\"no\" style=\"border:none;\" seamless=\"seamless\" src=\"https://plot.ly/~takanori/956.embed?share_key=eU7MpLtJUQbcSri6USlOGu\" height=\"525px\" width=\"100%\"></iframe>"
      ],
      "text/plain": [
       "<plotly.tools.PlotlyDisplay object>"
      ]
     },
     "execution_count": 30,
     "metadata": {},
     "output_type": "execute_result"
    }
   ],
   "source": [
    "trace1 = go.Scatter(\n",
    "    x=[0, 1, 2, 3, 4, 5, 6, 7, 8],\n",
    "    y=[0, 3, 6, 4, 5, 2, 3, 5, 4],\n",
    "    name='Blue Trace'\n",
    ")\n",
    "trace2 = go.Scatter(\n",
    "    x=[0, 1, 2, 3, 4, 5, 6, 7, 8],\n",
    "    y=[0, 4, 7, 8, 3, 6, 3, 3, 4],\n",
    "    name='Orange Trace'\n",
    ")\n",
    "data = [trace1, trace2]\n",
    "py.iplot(data)"
   ]
  },
  {
   "cell_type": "markdown",
   "metadata": {},
   "source": [
    "## Positioning the Legend\n",
    "```python\n",
    "go.Layout(legend=dict(x=0.9,y=1))\n",
    "```"
   ]
  },
  {
   "cell_type": "code",
   "execution_count": 33,
   "metadata": {
    "collapsed": false
   },
   "outputs": [
    {
     "data": {
      "text/html": [
       "<iframe id=\"igraph\" scrolling=\"no\" style=\"border:none;\" seamless=\"seamless\" src=\"https://plot.ly/~takanori/962.embed?share_key=8Mh4j3pEscXtEk5ChRe84G\" height=\"525px\" width=\"100%\"></iframe>"
      ],
      "text/plain": [
       "<plotly.tools.PlotlyDisplay object>"
      ]
     },
     "execution_count": 33,
     "metadata": {},
     "output_type": "execute_result"
    }
   ],
   "source": [
    "layout = go.Layout(legend=dict(x=0.8,y=1))\n",
    "fig = go.Figure(data=data, layout=layout)\n",
    "py.iplot(fig)"
   ]
  },
  {
   "cell_type": "markdown",
   "metadata": {},
   "source": [
    "## Grouped legends\n",
    "Use `legendgroup` attribute in the trace\n",
    "```python\n",
    "legendgroup='group2'\n",
    "```"
   ]
  },
  {
   "cell_type": "code",
   "execution_count": 37,
   "metadata": {
    "collapsed": false
   },
   "outputs": [],
   "source": [
    " trace1a = dict(x=[1,2,3],y=[2,1,3],mode='markers',marker=dict(color='rgb(164, 194, 244)'),\n",
    "               legendgroup='group1', name= 'first legend group')\n",
    " trace1b = dict(x=[1,2,3],y=[2,2,2],mode='lines',  marker=dict(color='rgb(164, 194, 244)'),\n",
    "               legendgroup='group1',name= 'first legend group - average') \n",
    "\n",
    " trace2a = dict(x=[1,2,3],y=[4,9,2],mode='markers',marker=dict(color='rgb(142, 124, 195)'),\n",
    "               legendgroup='group2', name= 'second legend group')\n",
    " trace2b = dict(x=[1,2,3],y=[5,5,5],mode='lines',  marker=dict(color='rgb(142, 124, 195)'),\n",
    "               legendgroup='group2',name= 'second legend group - average') "
   ]
  },
  {
   "cell_type": "code",
   "execution_count": 38,
   "metadata": {
    "collapsed": false
   },
   "outputs": [
    {
     "data": {
      "text/html": [
       "<iframe id=\"igraph\" scrolling=\"no\" style=\"border:none;\" seamless=\"seamless\" src=\"https://plot.ly/~takanori/964.embed?share_key=B4YfqmSJ728HrYrCshr2Ia\" height=\"525px\" width=\"100%\"></iframe>"
      ],
      "text/plain": [
       "<plotly.tools.PlotlyDisplay object>"
      ]
     },
     "execution_count": 38,
     "metadata": {},
     "output_type": "execute_result"
    }
   ],
   "source": [
    "py.iplot([trace1a,trace1b,trace2a,trace2b])"
   ]
  },
  {
   "cell_type": "markdown",
   "metadata": {},
   "source": [
    "## Styling and Coloring the Legend"
   ]
  },
  {
   "cell_type": "code",
   "execution_count": 39,
   "metadata": {
    "collapsed": false
   },
   "outputs": [
    {
     "data": {
      "text/html": [
       "<iframe id=\"igraph\" scrolling=\"no\" style=\"border:none;\" seamless=\"seamless\" src=\"https://plot.ly/~takanori/966.embed?share_key=K1TffnvX4LrWw1NaIn47au\" height=\"525px\" width=\"100%\"></iframe>"
      ],
      "text/plain": [
       "<plotly.tools.PlotlyDisplay object>"
      ]
     },
     "execution_count": 39,
     "metadata": {},
     "output_type": "execute_result"
    }
   ],
   "source": [
    "trace1 = go.Scatter(x=[0, 1, 2, 3, 4, 5, 6, 7, 8],y=[0, 3, 6, 4, 5, 2, 3, 5, 4])\n",
    "trace2 = go.Scatter(x=[0, 1, 2, 3, 4, 5, 6, 7, 8],y=[0, 4, 7, 8, 3, 6, 3, 3, 4])\n",
    "data = [trace1, trace2]\n",
    "layout = go.Layout(\n",
    "    legend=dict(x=0,y=1,\n",
    "        traceorder='normal',\n",
    "        font=dict(family='sans-serif',size=12,color='#000'),\n",
    "        bgcolor='#E2E2E2',\n",
    "        bordercolor='#FFFFFF',\n",
    "        borderwidth=2\n",
    "    )\n",
    ")\n",
    "fig = go.Figure(data=data, layout=layout)\n",
    "py.iplot(fig)"
   ]
  },
  {
   "cell_type": "markdown",
   "metadata": {},
   "source": [
    "## Selectively hide legend entries\n",
    "`showlegend=False`"
   ]
  },
  {
   "cell_type": "code",
   "execution_count": 41,
   "metadata": {
    "collapsed": false,
    "scrolled": true
   },
   "outputs": [
    {
     "data": {
      "text/html": [
       "<iframe id=\"igraph\" scrolling=\"no\" style=\"border:none;\" seamless=\"seamless\" src=\"https://plot.ly/~takanori/970.embed?share_key=yaHmAFKzeDP9AjAgx3GRVE\" height=\"525px\" width=\"100%\"></iframe>"
      ],
      "text/plain": [
       "<plotly.tools.PlotlyDisplay object>"
      ]
     },
     "execution_count": 41,
     "metadata": {},
     "output_type": "execute_result"
    }
   ],
   "source": [
    "trace1 = go.Scatter(x=[0, 1, 2],y=[1, 2, 3],name='First Trace',showlegend=False)\n",
    "trace2 = go.Scatter(x=[0, 1, 2, 3],y=[8, 4, 2, 0],name='Second Trace',showlegend=True)\n",
    "py.iplot([trace1, trace2])"
   ]
  },
  {
   "cell_type": "markdown",
   "metadata": {},
   "source": [
    "## Hiding Legend Entries In Grouped Legends\n",
    "same idea as above (use `showlegend=False`).\n",
    "see https://plot.ly/python/legend/#hiding-legend-entries-in-grouped-legends"
   ]
  },
  {
   "cell_type": "markdown",
   "metadata": {},
   "source": [
    "## Horizontal legends\n",
    "https://plot.ly/python/horizontal-legend/\n",
    "```python\n",
    "go.Layout(legend=dict(orientation=\"h\"))\n",
    "```"
   ]
  },
  {
   "cell_type": "code",
   "execution_count": 29,
   "metadata": {
    "collapsed": false
   },
   "outputs": [
    {
     "data": {
      "text/html": [
       "<iframe id=\"igraph\" scrolling=\"no\" style=\"border:none;\" seamless=\"seamless\" src=\"https://plot.ly/~takanori/954.embed?share_key=3AkqcOk7eWAz1MJe4FUqGs\" height=\"525px\" width=\"100%\"></iframe>"
      ],
      "text/plain": [
       "<plotly.tools.PlotlyDisplay object>"
      ]
     },
     "execution_count": 29,
     "metadata": {},
     "output_type": "execute_result"
    }
   ],
   "source": [
    "trace1 = go.Scatter(x=np.random.randn(75),mode='markers',name=\"Plot1\",\n",
    "                marker=dict(size=16,color='rgba(152, 0, 0, .8)'))\n",
    "trace2 = go.Scatter(x=np.random.randn(75), mode='markers',name=\"Plot2\",\n",
    "                marker=dict(size=16,color='rgba(0, 152, 0, .8)'))\n",
    "trace3 = go.Scatter(x=np.random.randn(75), mode='markers',name=\"Plot3\",\n",
    "                marker=dict(size=16,color='rgba(0, 0, 152, .8)'))\n",
    "\n",
    "data = [trace1, trace2, trace3]\n",
    "layout = go.Layout(legend=dict(orientation=\"h\"))\n",
    "figure=go.Figure(data=data, layout=layout)\n",
    "\n",
    "py.iplot(figure)"
   ]
  }
 ],
 "metadata": {
  "kernelspec": {
   "display_name": "Python [Root]",
   "language": "python",
   "name": "Python [Root]"
  },
  "language_info": {
   "codemirror_mode": {
    "name": "ipython",
    "version": 2
   },
   "file_extension": ".py",
   "mimetype": "text/x-python",
   "name": "python",
   "nbconvert_exporter": "python",
   "pygments_lexer": "ipython2",
   "version": "2.7.12"
  }
 },
 "nbformat": 4,
 "nbformat_minor": 0
}
