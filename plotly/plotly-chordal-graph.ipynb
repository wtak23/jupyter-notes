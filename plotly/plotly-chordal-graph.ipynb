{
 "cells": [
  {
   "cell_type": "markdown",
   "metadata": {},
   "source": [
    "**Table of Contents**\n",
    "\n",
    "<div id=\"toc\"></div>\n",
    "<script type=\"text/javascript\"\n",
    "src=\"https://raw.github.com/kmahelona/ipython_notebook_goodies/master/ipython_notebook_toc.js\">\n",
    "</script>"
   ]
  },
  {
   "cell_type": "code",
   "execution_count": 1,
   "metadata": {
    "collapsed": false
   },
   "outputs": [
    {
     "name": "stderr",
     "output_type": "stream",
     "text": [
      "--2016-09-14 19:27:41--  https://raw.githubusercontent.com/empet/Plotly-plots/master/Data/Eurovision15.gml\n",
      "Resolving raw.githubusercontent.com (raw.githubusercontent.com)... 151.101.20.133\n",
      "Connecting to raw.githubusercontent.com (raw.githubusercontent.com)|151.101.20.133|:443... connected.\n",
      "HTTP request sent, awaiting response... 200 OK\n",
      "Length: 24178 (24K) [text/plain]\n",
      "Saving to: ‘Eurovision15.gml’\n",
      "\n",
      "     0K .......... .......... ...                             100% 2.99M=0.008s\n",
      "\n",
      "2016-09-14 19:27:42 (2.99 MB/s) - ‘Eurovision15.gml’ saved [24178/24178]\n",
      "\n"
     ]
    }
   ],
   "source": [
    "%%bash \n",
    "wget https://raw.githubusercontent.com/empet/Plotly-plots/master/Data/Eurovision15.gml"
   ]
  },
  {
   "cell_type": "markdown",
   "metadata": {},
   "source": [
    "# Chord Diagram example from Plotly\n",
    "\n",
    "https://plot.ly/python/chord-diagram/"
   ]
  },
  {
   "cell_type": "markdown",
   "metadata": {},
   "source": [
    "We processed data provided by Eurovision Song Contest, and saved the corresponding graph in a gml file. Now we can read the gml file and define an igraph.Graph object."
   ]
  },
  {
   "cell_type": "code",
   "execution_count": 2,
   "metadata": {
    "collapsed": true
   },
   "outputs": [],
   "source": [
    "import igraph as ig\n",
    "\n",
    "G = ig.Graph.Read_GML('Eurovision15.gml')"
   ]
  },
  {
   "cell_type": "markdown",
   "metadata": {},
   "source": [
    "# Define nodes\n",
    "Define the list of nodes (vs stands for vertices):"
   ]
  },
  {
   "cell_type": "code",
   "execution_count": 3,
   "metadata": {
    "collapsed": false
   },
   "outputs": [
    {
     "data": {
      "text/plain": [
       "['id', 'label']"
      ]
     },
     "execution_count": 3,
     "metadata": {},
     "output_type": "execute_result"
    }
   ],
   "source": [
    "V=list(G.vs)\n",
    "G.vs.attributes()# list node attributes\n"
   ]
  },
  {
   "cell_type": "markdown",
   "metadata": {},
   "source": [
    "Define the label list. Labels will be displayed in the Plotly plot:"
   ]
  },
  {
   "cell_type": "code",
   "execution_count": 4,
   "metadata": {
    "collapsed": true
   },
   "outputs": [],
   "source": [
    "labels=[v['label']  for v in V]"
   ]
  },
  {
   "cell_type": "code",
   "execution_count": 5,
   "metadata": {
    "collapsed": false
   },
   "outputs": [
    {
     "data": {
      "text/plain": [
       "['weight']"
      ]
     },
     "execution_count": 5,
     "metadata": {},
     "output_type": "execute_result"
    }
   ],
   "source": [
    "# G.es = sequence of graph edges\n",
    "G.es.attributes()# the edge attributes"
   ]
  },
  {
   "cell_type": "markdown",
   "metadata": {},
   "source": [
    "# Define edges\n",
    "Get the edge list as a list of tuples, having as elements the end nodes indices:"
   ]
  },
  {
   "cell_type": "code",
   "execution_count": 6,
   "metadata": {
    "collapsed": false
   },
   "outputs": [
    {
     "data": {
      "text/plain": [
       "400"
      ]
     },
     "execution_count": 6,
     "metadata": {},
     "output_type": "execute_result"
    }
   ],
   "source": [
    "E=[e.tuple for e in G.es]# list of edges\n",
    "len(E)\n"
   ]
  },
  {
   "cell_type": "markdown",
   "metadata": {},
   "source": [
    "Define the list of edge weights:"
   ]
  },
  {
   "cell_type": "code",
   "execution_count": 7,
   "metadata": {
    "collapsed": true
   },
   "outputs": [],
   "source": [
    "Weights= map(int, G.es[\"weight\"])"
   ]
  },
  {
   "cell_type": "markdown",
   "metadata": {},
   "source": [
    "Get the list of Contestant countries:\n"
   ]
  },
  {
   "cell_type": "code",
   "execution_count": 8,
   "metadata": {
    "collapsed": false
   },
   "outputs": [
    {
     "data": {
      "text/plain": [
       "25"
      ]
     },
     "execution_count": 8,
     "metadata": {},
     "output_type": "execute_result"
    }
   ],
   "source": [
    "ContestantLst=[G.vs[e[1]] for e in E]\n",
    "Contestant=list(set([v['label'] for  v in ContestantLst]))\n",
    "len(Contestant)"
   ]
  },
  {
   "cell_type": "markdown",
   "metadata": {},
   "source": [
    "# Node position\n",
    "Get the node positions, assigned by the circular layout:"
   ]
  },
  {
   "cell_type": "code",
   "execution_count": 9,
   "metadata": {
    "collapsed": true
   },
   "outputs": [],
   "source": [
    "#layt is a list of 2-elements lists, representing the coordinates of nodes placed on the unit circle:\n",
    "\n",
    "layt=G.layout('circular') #circular layout"
   ]
  },
  {
   "cell_type": "code",
   "execution_count": 10,
   "metadata": {
    "collapsed": false
   },
   "outputs": [
    {
     "data": {
      "text/plain": [
       "[0.4539904997395468, 0.8910065241883678]"
      ]
     },
     "execution_count": 10,
     "metadata": {},
     "output_type": "execute_result"
    }
   ],
   "source": [
    "L=len(layt)\n",
    "layt[7]\n"
   ]
  },
  {
   "cell_type": "markdown",
   "metadata": {},
   "source": [
    "# Exotic Bezier curve stuffs...\n",
    "In the sequel we define a few functions that lead to the edge definition as a Bézier curve:\n",
    "dist(A,B) computes the distance between two 2D points, A, B:\n"
   ]
  },
  {
   "cell_type": "code",
   "execution_count": 11,
   "metadata": {
    "collapsed": true
   },
   "outputs": [],
   "source": [
    "import numpy as np\n",
    "\n",
    "def dist (A,B):\n",
    "    return np.linalg.norm(np.array(A)-np.array(B))\n",
    "dist(layt[0], layt[5])\n",
    "\n",
    "\n",
    "Dist=[0, dist([1,0], 2*[np.sqrt(2)/2]), np.sqrt(2),\n",
    "      dist([1,0],  [-np.sqrt(2)/2, np.sqrt(2)/2]), 2.0]\n",
    "params=[1.2, 1.5, 1.8, 2.1]\n",
    "\n",
    "def get_idx_interv(d, D):\n",
    "    k=0\n",
    "    while(d>D[k]):\n",
    "        k+=1\n",
    "    return  k-1\n",
    "\n",
    "class InvalidInputError(Exception):\n",
    "    pass\n",
    "\n",
    "def deCasteljau(b,t):\n",
    "    N=len(b)\n",
    "    if(N<2):\n",
    "        raise InvalidInputError(\"The  control polygon must have at least two points\")\n",
    "    a=np.copy(b) #shallow copy of the list of control points \n",
    "    for r in range(1,N):\n",
    "        a[:N-r,:]=(1-t)*a[:N-r,:]+t*a[1:N-r+1,:]\n",
    "    return a[0,:]\n",
    "\n",
    "def BezierCv(b, nr=5):\n",
    "    t=np.linspace(0, 1, nr)\n",
    "    return np.array([deCasteljau(b, t[k]) for k in range(nr)])"
   ]
  },
  {
   "cell_type": "markdown",
   "metadata": {},
   "source": [
    "# Set data and layout for Plotly"
   ]
  },
  {
   "cell_type": "code",
   "execution_count": 12,
   "metadata": {
    "collapsed": true
   },
   "outputs": [],
   "source": [
    "import plotly.plotly as py\n",
    "from plotly.graph_objs import *\n",
    "\n",
    "node_color=['rgba(0,51,181, 0.85)'  if v['label'] in Contestant else '#CCCCCC' for v in G.vs]\n",
    "line_color=['#FFFFFF'  if v['label'] in Contestant else 'rgb(150,150,150)' for v in G.vs]\n",
    "edge_colors=['#d4daff','#84a9dd', '#5588c8', '#6d8acf']\n",
    "\n",
    "\n",
    "# xy coords of nodes\n",
    "Xn=[layt[k][0] for k in range(L)]\n",
    "Yn=[layt[k][1] for k in range(L)]"
   ]
  },
  {
   "cell_type": "markdown",
   "metadata": {},
   "source": [
    "# more Bezier curve stuffs"
   ]
  },
  {
   "cell_type": "code",
   "execution_count": 13,
   "metadata": {
    "collapsed": false
   },
   "outputs": [],
   "source": [
    "lines=[]# the list of dicts defining   edge  Plotly attributes\n",
    "edge_info=[]# the list of points on edges where  the information is placed\n",
    "\n",
    "for j, e in enumerate(E):\n",
    "    A=np.array(layt[e[0]])\n",
    "    B=np.array(layt[e[1]])\n",
    "    d=dist(A, B)\n",
    "    K=get_idx_interv(d, Dist)\n",
    "    b=[A, A/params[K], B/params[K], B]\n",
    "    color=edge_colors[K]\n",
    "    pts=BezierCv(b, nr=5)\n",
    "    text=V[e[0]]['label']+' to '+V[e[1]]['label']+' '+str(Weights[j])+' pts'\n",
    "    mark=deCasteljau(b,0.9)\n",
    "    edge_info.append(Scatter(x=mark[0],\n",
    "                             y=mark[1],\n",
    "                             mode='markers',\n",
    "                             marker=Marker( size=0.5,  color=edge_colors),\n",
    "                             text=text,\n",
    "                             hoverinfo='text'\n",
    "                             )\n",
    "                    )\n",
    "    lines.append(Scatter(x=pts[:,0],\n",
    "                         y=pts[:,1],\n",
    "                         mode='lines',\n",
    "                         line=Line(color=color,\n",
    "                                  shape='spline',\n",
    "                                  width=Weights[j]/5#The  width is proportional to the edge weight\n",
    "                                 ),\n",
    "                        hoverinfo='none'\n",
    "                       )\n",
    "                )\n",
    "\n",
    "trace2=Scatter(x=Xn,\n",
    "           y=Yn,\n",
    "           mode='markers',\n",
    "           name='',\n",
    "           marker=Marker(symbol='dot',\n",
    "                         size=15,\n",
    "                         color=node_color,\n",
    "                         line=Line(color=line_color, width=0.5)\n",
    "                         ),\n",
    "           text=labels,\n",
    "           hoverinfo='text',\n",
    "           )\n",
    "\n",
    "axis=dict(showline=False, # hide axis line, grid, ticklabels and  title\n",
    "          zeroline=False,\n",
    "          showgrid=False,\n",
    "          showticklabels=False,\n",
    "          title=''\n",
    "          )\n",
    "\n",
    "def make_annotation(anno_text, y_coord):\n",
    "    return Annotation(showarrow=False,\n",
    "                      text=anno_text,\n",
    "                      xref='paper',\n",
    "                      yref='paper',\n",
    "                      x=0,\n",
    "                      y=y_coord,\n",
    "                      xanchor='left',\n",
    "                      yanchor='bottom',\n",
    "                      font=Font(size=12)\n",
    "                     )\n",
    "\n",
    "anno_text1='Blue nodes mark the countries that are both contestants and jury members'\n",
    "anno_text2='Grey nodes mark the countries that are only jury members'\n",
    "anno_text3='There is an edge from a Jury country to a contestant country '+\\\n",
    "           'if the jury country assigned at least one vote to that contestant'\n",
    "width=800\n",
    "height=850\n",
    "title=\"A circular graph associated to Eurovision Song Contest, 2015<br>Data source:\"+\\\n",
    "\"<a href='http://www.eurovision.tv/page/history/by-year/contest?event=2083#Scoreboard'> [1]</a>\"\n",
    "layout=Layout(title= title,\n",
    "              font= Font(size=12),\n",
    "              showlegend=False,\n",
    "              autosize=False,\n",
    "              width=width,\n",
    "              height=height,\n",
    "              xaxis=XAxis(axis),\n",
    "              yaxis=YAxis(axis),\n",
    "              margin=Margin(l=40,\n",
    "                            r=40,\n",
    "                            b=85,\n",
    "                            t=100,\n",
    "                          ),\n",
    "              hovermode='closest',\n",
    "              annotations=Annotations([make_annotation(anno_text1, -0.07),\n",
    "                                       make_annotation(anno_text2, -0.09),\n",
    "                                       make_annotation(anno_text3, -0.11)]\n",
    "                                     )\n",
    "              )\n",
    "\n",
    "\n"
   ]
  },
  {
   "cell_type": "markdown",
   "metadata": {},
   "source": [
    "# Finally, plot!\n"
   ]
  },
  {
   "cell_type": "code",
   "execution_count": 14,
   "metadata": {
    "collapsed": false
   },
   "outputs": [
    {
     "data": {
      "text/html": [
       "<iframe id=\"igraph\" scrolling=\"no\" style=\"border:none;\" seamless=\"seamless\" src=\"https://plot.ly/~takanori/44.embed\" height=\"850px\" width=\"800px\"></iframe>"
      ],
      "text/plain": [
       "<plotly.tools.PlotlyDisplay object>"
      ]
     },
     "execution_count": 14,
     "metadata": {},
     "output_type": "execute_result"
    }
   ],
   "source": [
    "data=Data(lines+edge_info+[trace2])\n",
    "fig=Figure(data=data, layout=layout)\n",
    "py.iplot(fig, filename='Eurovision-15')"
   ]
  },
  {
   "cell_type": "code",
   "execution_count": null,
   "metadata": {
    "collapsed": true
   },
   "outputs": [],
   "source": []
  }
 ],
 "metadata": {
  "kernelspec": {
   "display_name": "Python 2",
   "language": "python",
   "name": "python2"
  },
  "language_info": {
   "codemirror_mode": {
    "name": "ipython",
    "version": 2
   },
   "file_extension": ".py",
   "mimetype": "text/x-python",
   "name": "python",
   "nbconvert_exporter": "python",
   "pygments_lexer": "ipython2",
   "version": "2.7.12"
  }
 },
 "nbformat": 4,
 "nbformat_minor": 0
}
