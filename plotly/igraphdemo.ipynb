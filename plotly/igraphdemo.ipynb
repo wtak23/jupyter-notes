{
 "cells": [
  {
   "cell_type": "markdown",
   "metadata": {},
   "source": [
    "# 3d mesh demo"
   ]
  },
  {
   "cell_type": "code",
   "execution_count": 1,
   "metadata": {
    "collapsed": false
   },
   "outputs": [
    {
     "name": "stderr",
     "output_type": "stream",
     "text": [
      "--2016-09-14 20:36:27--  http://networkdata.ics.uci.edu/data/netscience/netscience.gml\n",
      "Resolving networkdata.ics.uci.edu (networkdata.ics.uci.edu)... 128.195.1.95\n",
      "Connecting to networkdata.ics.uci.edu (networkdata.ics.uci.edu)|128.195.1.95|:80... connected.\n",
      "HTTP request sent, awaiting response... 200 OK\n",
      "Length: 247464 (242K) [text/plain]\n",
      "Saving to: ‘netscience.gml’\n",
      "\n",
      "     0K .......... .......... .......... .......... .......... 20%  122M 0s\n",
      "    50K .......... .......... .......... .......... .......... 41%  133M 0s\n",
      "   100K .......... .......... .......... .......... .......... 62%  176M 0s\n",
      "   150K .......... .......... .......... .......... .......... 82%  182M 0s\n",
      "   200K .......... .......... .......... .......... .         100%  156M=0.002s\n",
      "\n",
      "2016-09-14 20:36:27 (150 MB/s) - ‘netscience.gml’ saved [247464/247464]\n",
      "\n"
     ]
    }
   ],
   "source": [
    "# %%bash\n",
    "# wget http://networkdata.ics.uci.edu/data/netscience/netscience.gml"
   ]
  },
  {
   "cell_type": "code",
   "execution_count": 1,
   "metadata": {
    "collapsed": true
   },
   "outputs": [],
   "source": [
    "import igraph as ig\n",
    "G=ig.Graph.Read_GML('netscience.gml')"
   ]
  },
  {
   "cell_type": "code",
   "execution_count": 2,
   "metadata": {
    "collapsed": false
   },
   "outputs": [
    {
     "data": {
      "text/plain": [
       "igraph.layout.Layout"
      ]
     },
     "execution_count": 2,
     "metadata": {},
     "output_type": "execute_result"
    }
   ],
   "source": [
    "labels=list(G.vs['label'])\n",
    "N=len(labels)\n",
    "E=[e.tuple for e in G.es]# list of edges\n",
    "layt=G.layout('kk') #kamada-kawai layout\n",
    "type(layt)"
   ]
  },
  {
   "cell_type": "code",
   "execution_count": 4,
   "metadata": {
    "collapsed": false
   },
   "outputs": [
    {
     "data": {
      "text/html": [
       "<iframe id=\"igraph\" scrolling=\"no\" style=\"border:none;\" seamless=\"seamless\" src=\"https://plot.ly/~takanori/46.embed\" height=\"800px\" width=\"800px\"></iframe>"
      ],
      "text/plain": [
       "<plotly.tools.PlotlyDisplay object>"
      ]
     },
     "execution_count": 4,
     "metadata": {},
     "output_type": "execute_result"
    }
   ],
   "source": [
    "import plotly.plotly as py\n",
    "from plotly.graph_objs import *\n",
    "\n",
    "Xn=[layt[k][0] for k in range(N)]\n",
    "Yn=[layt[k][1] for k in range(N)]\n",
    "Xe=[]\n",
    "Ye=[]\n",
    "for e in E:\n",
    "    Xe+=[layt[e[0]][0],layt[e[1]][0], None]\n",
    "    Ye+=[layt[e[0]][1],layt[e[1]][1], None] \n",
    "    \n",
    "trace1=Scatter(x=Xe,\n",
    "               y=Ye,\n",
    "               mode='lines',\n",
    "               line=Line(color='rgb(210,210,210)', width=1),\n",
    "               hoverinfo='none'\n",
    "               )\n",
    "trace2=Scatter(x=Xn,\n",
    "               y=Yn,\n",
    "               mode='markers',\n",
    "               name='ntw',\n",
    "               marker=Marker(symbol='dot',\n",
    "                             size=5, \n",
    "                             color='#6959CD',\n",
    "                             line=Line(color='rgb(50,50,50)', width=0.5)\n",
    "                             ),\n",
    "               text=labels,\n",
    "               hoverinfo='text'\n",
    "               )\n",
    "\n",
    "axis=dict(showline=False, # hide axis line, grid, ticklabels and  title\n",
    "          zeroline=False,\n",
    "          showgrid=False,\n",
    "          showticklabels=False,\n",
    "          title='' \n",
    "          )\n",
    "\n",
    "width=800\n",
    "height=800\n",
    "layout=Layout(title= \"Coauthorship network of scientists working on network theory and experiment\"+\\\n",
    "              \"<br> Data source: <a href='https://networkdata.ics.uci.edu/data.php?id=11'> [1]</a>\",  \n",
    "    font= Font(size=12),\n",
    "    showlegend=False,\n",
    "    autosize=False,\n",
    "    width=width,\n",
    "    height=height,\n",
    "    xaxis=XAxis(axis),\n",
    "    yaxis=YAxis(axis),          \n",
    "    margin=Margin(\n",
    "        l=40,\n",
    "        r=40,\n",
    "        b=85,\n",
    "        t=100,\n",
    "    ),\n",
    "    hovermode='closest',\n",
    "    annotations=Annotations([\n",
    "           Annotation(\n",
    "           showarrow=False, \n",
    "            text='This igraph.Graph has the Kamada-Kawai layout',  \n",
    "            xref='paper',     \n",
    "            yref='paper',     \n",
    "            x=0,  \n",
    "            y=-0.1,  \n",
    "            xanchor='left',   \n",
    "            yanchor='bottom',  \n",
    "            font=Font(\n",
    "            size=14 \n",
    "            )     \n",
    "            )\n",
    "        ]),           \n",
    "    )\n",
    "\n",
    "data=Data([trace1, trace2])\n",
    "fig=Figure(data=data, layout=layout)\n",
    "py.iplot(fig, filename='Coautorship-network-igraph') "
   ]
  },
  {
   "cell_type": "code",
   "execution_count": 5,
   "metadata": {
    "collapsed": true
   },
   "outputs": [],
   "source": [
    "import networkx as nx\n",
    "\n",
    "V=range(N)# list of vertices\n",
    "g=nx.Graph()\n",
    "g.add_nodes_from(V)\n",
    "g.add_edges_from(E)# E is the list of edges\n",
    "\n",
    "pos=nx.fruchterman_reingold_layout(g) "
   ]
  },
  {
   "cell_type": "code",
   "execution_count": 6,
   "metadata": {
    "collapsed": false
   },
   "outputs": [
    {
     "data": {
      "text/html": [
       "<iframe id=\"igraph\" scrolling=\"no\" style=\"border:none;\" seamless=\"seamless\" src=\"https://plot.ly/~takanori/48.embed\" height=\"800px\" width=\"800px\"></iframe>"
      ],
      "text/plain": [
       "<plotly.tools.PlotlyDisplay object>"
      ]
     },
     "execution_count": 6,
     "metadata": {},
     "output_type": "execute_result"
    }
   ],
   "source": [
    "Xv=[pos[k][0] for k in range(N)]\n",
    "Yv=[pos[k][1] for k in range(N)]\n",
    "Xed=[]\n",
    "Yed=[]\n",
    "for edge in E:\n",
    "    Xed+=[pos[edge[0]][0],pos[edge[1]][0], None]\n",
    "    Yed+=[pos[edge[0]][1],pos[edge[1]][1], None] \n",
    "    \n",
    "trace3=Scatter(x=Xed,\n",
    "               y=Yed,\n",
    "               mode='lines',\n",
    "               line=Line(color='rgb(210,210,210)', width=1),\n",
    "               hoverinfo='none'\n",
    "               )\n",
    "trace4=Scatter(x=Xv,\n",
    "               y=Yv,\n",
    "               mode='markers',\n",
    "               name='net',\n",
    "               marker=Marker(symbol='dot',\n",
    "                             size=5, \n",
    "                             color='#6959CD',\n",
    "                             line=Line(color='rgb(50,50,50)', width=0.5)\n",
    "                             ),\n",
    "               text=labels,\n",
    "               hoverinfo='text'\n",
    "               )\n",
    "\n",
    "annot=\"This networkx.Graph has the Fruchterman-Reingold layout<br>Code:\"+\\\n",
    "\"<a href='http://nbviewer.ipython.org/gist/empet/07ea33b2e4e0b84193bd'> [2]</a>\"\n",
    "\n",
    "data1=Data([trace3, trace4])\n",
    "fig1=Figure(data=data1, layout=layout)\n",
    "fig1['layout']['annotations'][0]['text']=annot\n",
    "py.iplot(fig1, filename='Coautorship-network-nx')"
   ]
  },
  {
   "cell_type": "code",
   "execution_count": 7,
   "metadata": {
    "collapsed": false
   },
   "outputs": [
    {
     "data": {
      "text/plain": [
       "u'https://plot.ly/~takanori/48'"
      ]
     },
     "execution_count": 7,
     "metadata": {},
     "output_type": "execute_result"
    }
   ],
   "source": [
    "py.plot(fig1, filename='Coautorship-network-nx')"
   ]
  },
  {
   "cell_type": "code",
   "execution_count": 8,
   "metadata": {
    "collapsed": false
   },
   "outputs": [
    {
     "data": {
      "text/plain": [
       "u'https://plot.ly/~takanori/46'"
      ]
     },
     "execution_count": 8,
     "metadata": {},
     "output_type": "execute_result"
    }
   ],
   "source": [
    "py.plot(fig, filename='Coautorship-network-igraph') "
   ]
  },
  {
   "cell_type": "code",
   "execution_count": null,
   "metadata": {
    "collapsed": true
   },
   "outputs": [],
   "source": []
  }
 ],
 "metadata": {
  "kernelspec": {
   "display_name": "Python 2",
   "language": "python",
   "name": "python2"
  },
  "language_info": {
   "codemirror_mode": {
    "name": "ipython",
    "version": 2
   },
   "file_extension": ".py",
   "mimetype": "text/x-python",
   "name": "python",
   "nbconvert_exporter": "python",
   "pygments_lexer": "ipython2",
   "version": "2.7.12"
  }
 },
 "nbformat": 4,
 "nbformat_minor": 0
}
