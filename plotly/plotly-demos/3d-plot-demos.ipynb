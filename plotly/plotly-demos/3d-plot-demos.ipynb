{
 "cells": [
  {
   "cell_type": "markdown",
   "metadata": {},
   "source": [
    "Bunch of 3d stuffs\n",
    "\n",
    "  **Table of Contents**\n",
    "\n",
    "  <div id=\"toc\"></div>\n",
    "  <script type=\"text/javascript\"\n",
    "  src=\"https://raw.github.com/kmahelona/ipython_notebook_goodies/master/ipython_notebook_toc.js\">\n",
    "  </script>\n"
   ]
  },
  {
   "cell_type": "markdown",
   "metadata": {},
   "source": [
    "# 3D Surface Subplots\n",
    "https://plot.ly/python/3d-subplots/"
   ]
  },
  {
   "cell_type": "code",
   "execution_count": 1,
   "metadata": {
    "collapsed": false
   },
   "outputs": [
    {
     "name": "stdout",
     "output_type": "stream",
     "text": [
      "This is the format of your plot grid:\n",
      "[ (1,1) scene1 ]  [ (1,2) scene2 ]\n",
      "[ (2,1) scene3 ]  [ (2,2) scene4 ]\n",
      "\n"
     ]
    }
   ],
   "source": [
    "import plotly.plotly as py\n",
    "import plotly.graph_objs as go\n",
    "from plotly import tools\n",
    "\n",
    "import numpy as np\n",
    "\n",
    "x = np.linspace(-5, 80, 10)\n",
    "y = np.linspace(-5, 60, 10)\n",
    "xGrid, yGrid = np.meshgrid(y, x)\n",
    "z = xGrid ** 3 + yGrid ** 3\n",
    "\n",
    "scene = dict(\n",
    "    xaxis=dict(\n",
    "        gridcolor='rgb(255, 255, 255)',\n",
    "        zerolinecolor='rgb(255, 255, 255)',\n",
    "        showbackground=True,\n",
    "        backgroundcolor='rgb(230, 230,230)'\n",
    "    ),\n",
    "    yaxis=dict(\n",
    "        gridcolor='rgb(255, 255, 255)',\n",
    "        zerolinecolor='rgb(255, 255, 255)',\n",
    "        showbackground=True,\n",
    "        backgroundcolor='rgb(230, 230,230)'\n",
    "    ),\n",
    "    zaxis=dict(\n",
    "        gridcolor='rgb(255, 255, 255)',\n",
    "        zerolinecolor='rgb(255, 255, 255)',\n",
    "        showbackground=True,\n",
    "        backgroundcolor='rgb(230, 230,230)'\n",
    "    )\n",
    ")\n",
    "\n",
    "fig = tools.make_subplots(rows=2, cols=2,\n",
    "                          specs=[[{'is_3d': True}, {'is_3d': True}],\n",
    "                                 [{'is_3d': True}, {'is_3d': True}]])"
   ]
  },
  {
   "cell_type": "code",
   "execution_count": 2,
   "metadata": {
    "collapsed": false
   },
   "outputs": [
    {
     "data": {
      "text/html": [
       "<iframe id=\"igraph\" scrolling=\"no\" style=\"border:none;\" seamless=\"seamless\" src=\"https://plot.ly/~takanori/516.embed\" height=\"800px\" width=\"800px\"></iframe>"
      ],
      "text/plain": [
       "<plotly.tools.PlotlyDisplay object>"
      ]
     },
     "execution_count": 2,
     "metadata": {},
     "output_type": "execute_result"
    }
   ],
   "source": [
    "# adding surfaces to subplots.\n",
    "fig.append_trace(dict(type='surface', x=x, y=y, z=z, colorscale='Viridis',\n",
    "                      scene='scene1', showscale=False), 1, 1)\n",
    "fig.append_trace(dict(type='surface', x=x, y=y, z=z, colorscale='RdBu',\n",
    "                      scene='scene2', showscale=False), 1, 2)\n",
    "fig.append_trace(dict(type='surface', x=x, y=y, z=z, colorscale='YIOrRd',\n",
    "                      scene='scene3', showscale=False), 2, 1)\n",
    "fig.append_trace(dict(type='surface', x=x, y=y, z=z, colorscale='YIGnBu',\n",
    "                      scene='scene4', showscale=False), 2, 2)\n",
    "\n",
    "# configure layout\n",
    "fig['layout'].update(title='subplots with different colorscales',\n",
    "                     height=800, width=800)\n",
    "fig['layout']['scene1'].update(scene)\n",
    "fig['layout']['scene2'].update(scene)\n",
    "fig['layout']['scene3'].update(scene)\n",
    "fig['layout']['scene4'].update(scene)\n",
    "\n",
    "\n",
    "py.iplot(fig)"
   ]
  },
  {
   "cell_type": "markdown",
   "metadata": {},
   "source": [
    "# 3D Surface Coloring (subplots too!)\n",
    "https://plot.ly/python/3d-surface-coloring/"
   ]
  },
  {
   "cell_type": "code",
   "execution_count": 17,
   "metadata": {
    "collapsed": false
   },
   "outputs": [
    {
     "name": "stdout",
     "output_type": "stream",
     "text": [
      "This is the format of your plot grid:\n",
      "[ (1,1) scene1 ]  [ (1,2) scene2 ]\n",
      "\n"
     ]
    },
    {
     "data": {
      "text/html": [
       "<iframe id=\"igraph\" scrolling=\"no\" style=\"border:none;\" seamless=\"seamless\" src=\"https://plot.ly/~takanori/1034.embed?share_key=7fpBM9579vvPw4AEtwfrHs\" height=\"800px\" width=\"950px\"></iframe>"
      ],
      "text/plain": [
       "<plotly.tools.PlotlyDisplay object>"
      ]
     },
     "execution_count": 17,
     "metadata": {},
     "output_type": "execute_result"
    }
   ],
   "source": [
    "import copy\n",
    "import json\n",
    "import math\n",
    "import plotly.plotly as py\n",
    "from plotly import tools\n",
    "import urllib2\n",
    "\n",
    "# data related to the ring cyclide is loaded\n",
    "\n",
    "response = urllib2.urlopen('https://plot.ly/~empet/2381.json')\n",
    "data_file = response.read()\n",
    "fig = json.loads(data_file)\n",
    "\n",
    "# data related to the ring cyclide is loaded\n",
    "\n",
    "\n",
    "data_original = fig['data'][0]     # this will be trace0\n",
    "\n",
    "data = copy.deepcopy(fig['data'])[0]        # trace1\n",
    "\n",
    "lx = len(data['z'])\n",
    "ly = len(data['z'][0])\n",
    "\n",
    "out = []\n",
    "\n",
    "\n",
    "def dist_origin(x, y, z):\n",
    "\n",
    "    return math.sqrt((1.0 * x)**2 + (1.0 * y)**2 + (1.0 * z)**2)\n",
    "\n",
    "for i in xrange(lx):\n",
    "    temp = []\n",
    "    for j in xrange(ly):\n",
    "        temp.append(\n",
    "            dist_origin(data['x'][i][j], data['y'][i][j], data['z'][i][j]))\n",
    "    out.append(temp)\n",
    "\n",
    "data['surfacecolor'] = out     # sets surface-color to distance from the origin\n",
    "\n",
    "# This section deals with the layout of the plot\n",
    "\n",
    "scene = dict(\n",
    "    xaxis=dict(\n",
    "        gridcolor='rgb(255, 255, 255)',\n",
    "        zerolinecolor='rgb(255, 255, 255)',\n",
    "        showbackground=True,\n",
    "        backgroundcolor='rgb(230, 230,230)'\n",
    "    ),\n",
    "    yaxis=dict(\n",
    "        gridcolor='rgb(255, 255, 255)',\n",
    "        zerolinecolor='rgb(255, 255, 255)',\n",
    "        showbackground=True,\n",
    "        backgroundcolor='rgb(230, 230,230)'\n",
    "    ),\n",
    "    zaxis=dict(\n",
    "        gridcolor='rgb(255, 255, 255)',\n",
    "        zerolinecolor='rgb(255, 255, 255)',\n",
    "        showbackground=True,\n",
    "        backgroundcolor='rgb(230, 230,230)'\n",
    "    ),\n",
    "    cameraposition=[[0.2, 0.5, 0.5, 0.2], [0, 0, 0], 4.8]\n",
    ")\n",
    "\n",
    "fig = tools.make_subplots(rows=1, cols=2,\n",
    "                          specs=[[{'is_3d': True}, {'is_3d': True}]])\n",
    "\n",
    "# adding surfaces to subplots.\n",
    "data_original['scene'] = 'scene1'\n",
    "data_original['colorbar'] = dict(x=-0.07)\n",
    "\n",
    "data['scene'] = 'scene2'\n",
    "fig.append_trace(data_original, 1, 1)\n",
    "fig.append_trace(data, 1, 2)\n",
    "\n",
    "\n",
    "fig['layout'].update(title='Ring Cyclide',\n",
    "                     height=800, width=950)\n",
    "fig['layout']['scene1'].update(scene)\n",
    "fig['layout']['scene2'].update(scene)\n",
    "fig['layout']['annotations'] = [\n",
    "    dict(\n",
    "        x=0.1859205,\n",
    "        y=0.95,       # 0.9395833,\n",
    "        xref='x',\n",
    "        yref='y',\n",
    "        text='4th Dim Prop. to z',\n",
    "        showarrow=False\n",
    "    ),\n",
    "    dict(\n",
    "        x=0.858,\n",
    "        y=0.95,\n",
    "        xref='x',\n",
    "        yref='y',\n",
    "        text='4th Dim Prop. to Distance from Origin',\n",
    "        showarrow=False\n",
    "    )\n",
    "]\n",
    "\n",
    "py.iplot(fig)"
   ]
  },
  {
   "cell_type": "markdown",
   "metadata": {
    "collapsed": true
   },
   "source": [
    "# 3d point clustering\n",
    "https://plot.ly/python/3d-point-clustering/"
   ]
  },
  {
   "cell_type": "code",
   "execution_count": 3,
   "metadata": {
    "collapsed": false,
    "scrolled": false
   },
   "outputs": [
    {
     "data": {
      "text/html": [
       "<iframe id=\"igraph\" scrolling=\"no\" style=\"border:none;\" seamless=\"seamless\" src=\"https://plot.ly/~takanori/518.embed\" height=\"525px\" width=\"100%\"></iframe>"
      ],
      "text/plain": [
       "<plotly.tools.PlotlyDisplay object>"
      ]
     },
     "execution_count": 3,
     "metadata": {},
     "output_type": "execute_result"
    }
   ],
   "source": [
    "import plotly.plotly as py\n",
    "import pandas as pd\n",
    "\n",
    "df = pd.read_csv('https://raw.githubusercontent.com/plotly/datasets/master/alpha_shape.csv')\n",
    "df.head()\n",
    "\n",
    "scatter = dict(\n",
    "    mode = \"markers\",\n",
    "    name = \"y\",\n",
    "    type = \"scatter3d\",    \n",
    "    x = df['x'], y = df['y'], z = df['z'],\n",
    "    marker = dict( size=2, color=\"rgb(23, 190, 207)\" )\n",
    ")\n",
    "clusters = dict(\n",
    "    alphahull = 7,\n",
    "    name = \"y\",\n",
    "    opacity = 0.1,\n",
    "    type = \"mesh3d\",    \n",
    "    x = df['x'], y = df['y'], z = df['z']\n",
    ")\n",
    "layout = dict(\n",
    "    title = '3d point clustering',\n",
    "    scene = dict(\n",
    "        xaxis = dict( zeroline=False ),\n",
    "        yaxis = dict( zeroline=False ),\n",
    "        zaxis = dict( zeroline=False ),\n",
    "    )\n",
    ")\n",
    "fig = dict( data=[scatter, clusters], layout=layout )\n",
    "# Use py.iplot() for IPython notebook\n",
    "py.iplot(fig)"
   ]
  },
  {
   "cell_type": "markdown",
   "metadata": {},
   "source": [
    "# 3d network graph\n",
    "https://plot.ly/python/3d-network-graph/"
   ]
  },
  {
   "cell_type": "markdown",
   "metadata": {},
   "source": [
    "The correct version of igraph is this\n",
    "http://igraph.org/python/"
   ]
  },
  {
   "cell_type": "code",
   "execution_count": 4,
   "metadata": {
    "collapsed": false
   },
   "outputs": [
    {
     "name": "stdout",
     "output_type": "stream",
     "text": [
      "Requirement already satisfied (use --upgrade to upgrade): python-igraph in /home/takanori/.local/lib/python2.7/site-packages\n"
     ]
    }
   ],
   "source": [
    "%%bash\n",
    "pip install python-igraph --user"
   ]
  },
  {
   "cell_type": "code",
   "execution_count": 5,
   "metadata": {
    "collapsed": false
   },
   "outputs": [],
   "source": [
    "import igraph as ig\n"
   ]
  },
  {
   "cell_type": "code",
   "execution_count": 6,
   "metadata": {
    "collapsed": false
   },
   "outputs": [
    {
     "name": "stdout",
     "output_type": "stream",
     "text": [
      "[u'nodes', u'links']\n"
     ]
    }
   ],
   "source": [
    "import json\n",
    "import urllib2\n",
    "\n",
    "data = []\n",
    "req = urllib2.Request(\"https://raw.githubusercontent.com/plotly/datasets/master/miserables.json\")\n",
    "opener = urllib2.build_opener()\n",
    "f = opener.open(req)\n",
    "data = json.loads(f.read())\n",
    "\n",
    "print data.keys()"
   ]
  },
  {
   "cell_type": "code",
   "execution_count": 7,
   "metadata": {
    "collapsed": false
   },
   "outputs": [
    {
     "name": "stdout",
     "output_type": "stream",
     "text": [
      "{u'group': 1, u'name': u'Myriel'}\n"
     ]
    }
   ],
   "source": [
    "# number of nodes\n",
    "N=len(data['nodes'])\n",
    "\n",
    "# define list of edges and graph object from edges\n",
    "L=len(data['links'])\n",
    "Edges=[(data['links'][k]['source'], data['links'][k]['target']) for k in range(L)]\n",
    "\n",
    "G=ig.Graph(Edges, directed=False)\n",
    "\n",
    "print data['nodes'][0]\n",
    "\n",
    "labels=[]\n",
    "group=[]\n",
    "for node in data['nodes']:\n",
    "    labels.append(node['name'])\n",
    "    group.append(node['group'])"
   ]
  },
  {
   "cell_type": "markdown",
   "metadata": {},
   "source": [
    "## Assign node posibion\n",
    "Get the node positions, set by the Kamada-Kawai layout for 3D graphs:"
   ]
  },
  {
   "cell_type": "code",
   "execution_count": 8,
   "metadata": {
    "collapsed": false,
    "scrolled": true
   },
   "outputs": [
    {
     "name": "stdout",
     "output_type": "stream",
     "text": [
      "[7.217459422374638, 2.377425916869016, -1.942537513857466]\n",
      "77\n"
     ]
    }
   ],
   "source": [
    "layt=G.layout('kk', dim=3)\n",
    "\n",
    "# layt is a list of three elements lists (the coordinates of nodes):\n",
    "print layt[0]\n",
    "print len(layt)"
   ]
  },
  {
   "cell_type": "markdown",
   "metadata": {},
   "source": [
    "## Set data for the Plotly plot of the graph:"
   ]
  },
  {
   "cell_type": "code",
   "execution_count": 9,
   "metadata": {
    "collapsed": true
   },
   "outputs": [],
   "source": [
    "Xn=[layt[k][0] for k in range(N)]# x-coordinates of nodes\n",
    "Yn=[layt[k][1] for k in range(N)]# y-coordinates\n",
    "Zn=[layt[k][2] for k in range(N)]# z-coordinates\n",
    "Xe=[]\n",
    "Ye=[]\n",
    "Ze=[]\n",
    "for e in Edges:\n",
    "    Xe+=[layt[e[0]][0],layt[e[1]][0], None]# x-coordinates of edge ends\n",
    "    Ye+=[layt[e[0]][1],layt[e[1]][1], None]\n",
    "    Ze+=[layt[e[0]][2],layt[e[1]][2], None]"
   ]
  },
  {
   "cell_type": "markdown",
   "metadata": {},
   "source": [
    "## Define trace objects"
   ]
  },
  {
   "cell_type": "code",
   "execution_count": 10,
   "metadata": {
    "collapsed": false
   },
   "outputs": [],
   "source": [
    "import plotly.graph_objs as go\n",
    "\n",
    "trace1=go.Scatter3d(x=Xe,\n",
    "               y=Ye,\n",
    "               z=Ze,\n",
    "               mode='lines',\n",
    "               line=go.Line(color='rgb(125,125,125)', width=1),\n",
    "               hoverinfo='none'\n",
    "               )\n",
    "trace2=go.Scatter3d(x=Xn,\n",
    "               y=Yn,\n",
    "               z=Zn,\n",
    "               mode='markers',\n",
    "               name='actors',\n",
    "               marker=go.Marker(symbol='dot',\n",
    "                             size=6,\n",
    "                             color=group,\n",
    "                             colorscale='Viridis',\n",
    "                             line=go.Line(color='rgb(50,50,50)', width=0.5)\n",
    "                             ),\n",
    "               text=labels,\n",
    "               hoverinfo='text'\n",
    "               )\n"
   ]
  },
  {
   "cell_type": "markdown",
   "metadata": {},
   "source": [
    "## Define layout object"
   ]
  },
  {
   "cell_type": "code",
   "execution_count": 11,
   "metadata": {
    "collapsed": false
   },
   "outputs": [],
   "source": [
    "axis=dict(showbackground=False,\n",
    "          showline=False,\n",
    "          zeroline=False,\n",
    "          showgrid=False,\n",
    "          showticklabels=False,\n",
    "          title=''\n",
    "          )\n",
    "\n",
    "layout = go.Layout(\n",
    "         title=\"Network of coappearances of characters in Victor Hugo's novel<br> Les Miserables (3D visualization)\",\n",
    "         width=1000,\n",
    "         height=1000,\n",
    "         showlegend=False,\n",
    "         scene=go.Scene(\n",
    "         xaxis=go.XAxis(axis),\n",
    "         yaxis=go.YAxis(axis),\n",
    "         zaxis=go.ZAxis(axis),\n",
    "        ),\n",
    "     margin=go.Margin(\n",
    "        t=100\n",
    "    ),\n",
    "    hovermode='closest',\n",
    "    annotations=go.Annotations([\n",
    "           go.Annotation(\n",
    "           showarrow=False,\n",
    "            text=\"Data source: <a href='http://bost.ocks.org/mike/miserables/miserables.json'>[1]</a>\",\n",
    "            xref='paper',\n",
    "            yref='paper',\n",
    "            x=0,\n",
    "            y=0.1,\n",
    "            xanchor='left',\n",
    "            yanchor='bottom',\n",
    "            font=go.Font(\n",
    "            size=14\n",
    "            )\n",
    "            )\n",
    "        ]),    )\n"
   ]
  },
  {
   "cell_type": "markdown",
   "metadata": {},
   "source": [
    "## Plot!"
   ]
  },
  {
   "cell_type": "code",
   "execution_count": 12,
   "metadata": {
    "collapsed": false
   },
   "outputs": [
    {
     "data": {
      "text/html": [
       "<iframe id=\"igraph\" scrolling=\"no\" style=\"border:none;\" seamless=\"seamless\" src=\"https://plot.ly/~takanori/520.embed\" height=\"1000px\" width=\"1000px\"></iframe>"
      ],
      "text/plain": [
       "<plotly.tools.PlotlyDisplay object>"
      ]
     },
     "execution_count": 12,
     "metadata": {},
     "output_type": "execute_result"
    }
   ],
   "source": [
    "data=go.Data([trace1, trace2])\n",
    "fig=go.Figure(data=data, layout=layout)\n",
    "\n",
    "py.iplot(fig)"
   ]
  },
  {
   "cell_type": "markdown",
   "metadata": {},
   "source": [
    "# 3d filled line plots\n",
    "https://plot.ly/python/3d-filled-line-plots/"
   ]
  },
  {
   "cell_type": "code",
   "execution_count": 13,
   "metadata": {
    "collapsed": false,
    "scrolled": true
   },
   "outputs": [
    {
     "data": {
      "text/html": [
       "<iframe id=\"igraph\" scrolling=\"no\" style=\"border:none;\" seamless=\"seamless\" src=\"https://plot.ly/~takanori/522.embed\" height=\"525px\" width=\"100%\"></iframe>"
      ],
      "text/plain": [
       "<plotly.tools.PlotlyDisplay object>"
      ]
     },
     "execution_count": 13,
     "metadata": {},
     "output_type": "execute_result"
    }
   ],
   "source": [
    "import plotly.plotly as py\n",
    "import pandas as pd\n",
    "\n",
    "# The datasets' url. Thanks Jennifer Bryan!\n",
    "url_csv = 'http://www.stat.ubc.ca/~jenny/notOcto/STAT545A/examples/gapminder/data/gapminderDataFiveYear.txt'\n",
    "\n",
    "df = pd.read_csv(url_csv, sep='\\t')\n",
    "df.head()\n",
    "\n",
    "countries = ['China', 'India', 'United States', 'Bangladesh', 'South Africa']\n",
    "fill_colors = ['#66c2a5', '#fc8d62', '#8da0cb', '#e78ac3', '#a6d854']\n",
    "gf = df.groupby('country')\n",
    "\n",
    "data = []\n",
    "\n",
    "for country, fill_color in zip(countries[::-1], fill_colors):\n",
    "    group = gf.get_group(country)\n",
    "    years = group['year'].tolist()\n",
    "    length = len(years)\n",
    "    country_coords = [country] * length\n",
    "    pop = group['pop'].tolist()\n",
    "    zeros = [0] * length\n",
    "    \n",
    "    data.append(dict(\n",
    "        type='scatter3d',\n",
    "        mode='lines',\n",
    "        x=years + years[::-1] + [years[0]],  # year loop: in incr. order then in decr. order then years[0]\n",
    "        y=country_coords * 2 + [country_coords[0]],\n",
    "        z=pop + zeros + [pop[0]],\n",
    "        name='',\n",
    "        surfaceaxis=1, # add a surface axis ('1' refers to axes[1] i.e. the y-axis)\n",
    "        surfacecolor=fill_color,\n",
    "        line=dict(\n",
    "            color='black',\n",
    "            width=4\n",
    "        ),\n",
    "    ))\n",
    "\n",
    "layout = dict(\n",
    "    title='Population from 1957 to 2007 [Gapminder]',\n",
    "    showlegend=False,\n",
    "    scene=dict(\n",
    "        xaxis=dict(title=''),\n",
    "        yaxis=dict(title=''),\n",
    "        zaxis=dict(title=''),\n",
    "        camera=dict(\n",
    "            eye=dict(x=-1.7, y=-1.7, z=0.5)\n",
    "        )\n",
    "    )\n",
    ")\n",
    "\n",
    "fig = dict(data=data, layout=layout)\n",
    "\n",
    "# IPython notebook\n",
    "# py.iplot(fig, filename='filled-3d-lines')\n",
    "\n",
    "py.iplot(fig)\n"
   ]
  },
  {
   "cell_type": "markdown",
   "metadata": {},
   "source": [
    "# 3d scatter plots\n",
    "https://plot.ly/python/3d-scatter-plots/\n",
    "## Basic 3D Scatter Plot\n"
   ]
  },
  {
   "cell_type": "code",
   "execution_count": 14,
   "metadata": {
    "collapsed": false
   },
   "outputs": [
    {
     "data": {
      "text/html": [
       "<iframe id=\"igraph\" scrolling=\"no\" style=\"border:none;\" seamless=\"seamless\" src=\"https://plot.ly/~takanori/524.embed\" height=\"525px\" width=\"100%\"></iframe>"
      ],
      "text/plain": [
       "<plotly.tools.PlotlyDisplay object>"
      ]
     },
     "execution_count": 14,
     "metadata": {},
     "output_type": "execute_result"
    }
   ],
   "source": [
    "import numpy as np\n",
    "x, y, z = np.random.multivariate_normal(np.array([0,0,0]), np.eye(3), 200).transpose()\n",
    "trace1 = go.Scatter3d(\n",
    "    x=x,y=y,z=z,\n",
    "    mode='markers',\n",
    "    marker=dict(size=12,\n",
    "                opacity=0.8,\n",
    "                line=dict(\n",
    "                    color='rgba(217, 217, 217, 0.14)',\n",
    "                    width=0.5),)\n",
    ")\n",
    "\n",
    "x2, y2, z2 = np.random.multivariate_normal(np.array([0,0,0]), np.eye(3), 200).transpose()\n",
    "trace2 = go.Scatter3d(\n",
    "    x=x2,    y=y2,    z=z2,\n",
    "    mode='markers',\n",
    "    marker=dict(color='rgb(127, 127, 127)',\n",
    "                size=12,\n",
    "                opacity=0.9,\n",
    "                symbol='circle',\n",
    "                line=dict(\n",
    "                    color='rgb(204, 204, 204)',\n",
    "                    width=1),\n",
    "    )\n",
    ")\n",
    "\n",
    "data = [trace1, trace2]\n",
    "layout = go.Layout(margin=dict(l=0,r=0,b=0,t=0))\n",
    "fig = go.Figure(data=data, layout=layout)\n",
    "py.iplot(fig)"
   ]
  },
  {
   "cell_type": "markdown",
   "metadata": {},
   "source": [
    "## 3D Scatter Plot with Colorscaling\n"
   ]
  },
  {
   "cell_type": "code",
   "execution_count": 15,
   "metadata": {
    "collapsed": false
   },
   "outputs": [
    {
     "data": {
      "text/html": [
       "<iframe id=\"igraph\" scrolling=\"no\" style=\"border:none;\" seamless=\"seamless\" src=\"https://plot.ly/~takanori/526.embed\" height=\"525px\" width=\"100%\"></iframe>"
      ],
      "text/plain": [
       "<plotly.tools.PlotlyDisplay object>"
      ]
     },
     "execution_count": 15,
     "metadata": {},
     "output_type": "execute_result"
    }
   ],
   "source": [
    "x, y, z = np.random.multivariate_normal(np.array([0,0,0]), np.eye(3), 400).transpose()\n",
    "\n",
    "trace1 = go.Scatter3d(\n",
    "    x=x,\n",
    "    y=y,\n",
    "    z=z,\n",
    "    mode='markers',\n",
    "    marker=dict(\n",
    "        size=12,\n",
    "        color=z,                # set color to an array/list of desired values\n",
    "        colorscale='Viridis',   # choose a colorscale\n",
    "        opacity=0.8\n",
    "    )\n",
    ")\n",
    "\n",
    "data = [trace1]\n",
    "layout = go.Layout(margin=dict(l=0,r=0,b=0,t=0))\n",
    "fig = go.Figure(data=data, layout=layout)\n",
    "py.iplot(fig)"
   ]
  },
  {
   "cell_type": "markdown",
   "metadata": {},
   "source": [
    "# Projection of 3D surface\n",
    "https://plot.ly/python/2d-projection-of-3d-surface/"
   ]
  },
  {
   "cell_type": "markdown",
   "metadata": {},
   "source": [
    "## Set trace"
   ]
  },
  {
   "cell_type": "code",
   "execution_count": 16,
   "metadata": {
    "collapsed": false
   },
   "outputs": [],
   "source": [
    "xx=np.linspace(-3.5, 3.5, 100)\n",
    "yy=np.linspace(-3.5, 3.5, 100)\n",
    "x,y=np.meshgrid(xx, yy)\n",
    "z=np.exp(-(x-1)**2-y**2)-10*(x**3+y**4-x/5)*np.exp(-(x**2+y**2))\n",
    "\n",
    "colorscale=[[0.0, 'rgb(20,29,67)'],\n",
    "           [0.1, 'rgb(28,76,96)'],\n",
    "           [0.2, 'rgb(16,125,121)'],\n",
    "           [0.3, 'rgb(92,166,133)'],\n",
    "           [0.4, 'rgb(182,202,175)'],\n",
    "           [0.5, 'rgb(253,245,243)'],\n",
    "           [0.6, 'rgb(230,183,162)'],\n",
    "           [0.7, 'rgb(211,118,105)'],\n",
    "           [0.8, 'rgb(174,63,95)'],\n",
    "           [0.9, 'rgb(116,25,93)'],\n",
    "           [1.0, 'rgb(51,13,53)']]\n",
    "\n",
    "# hover text for surface\n",
    "textz=[['x: '+'{:0.5f}'.format(x[i][j])+'<br>y: '+'{:0.5f}'.format(y[i][j])+\n",
    "        '<br>z: '+'{:0.5f}'.format(z[i][j]) for j in range(z.shape[1])] for i in range(z.shape[0])]\n",
    "\n",
    "trace1= go.Surface(x=x, y=y, z=z,\n",
    "                colorscale=colorscale,\n",
    "                text=textz,\n",
    "                hoverinfo='text',\n",
    "                )\n"
   ]
  },
  {
   "cell_type": "markdown",
   "metadata": {},
   "source": [
    "## set layout"
   ]
  },
  {
   "cell_type": "code",
   "execution_count": 17,
   "metadata": {
    "collapsed": true
   },
   "outputs": [],
   "source": [
    "axis = dict(showbackground=True, \n",
    "            backgroundcolor=\"rgb(230, 230,230)\", \n",
    "            showgrid=False,    \n",
    "            zeroline=False,  \n",
    "            showline=False)\n",
    "\n",
    "ztickvals=range(-6,4)\n",
    "layout = go.Layout(title=\"Projections of a surface onto coordinate planes\" , \n",
    "                autosize=False,\n",
    "                width=700,\n",
    "                height=600,\n",
    "                scene=go.Scene(xaxis=go.XAxis(axis, range=[-3.5, 3.5]),\n",
    "                               yaxis=go.YAxis(axis, range=[-3.5, 3.5]),\n",
    "                               zaxis=go.ZAxis(axis , tickvals=ztickvals),\n",
    "                               aspectratio=dict(x=1,y=1,z=0.95)\n",
    "                           )\n",
    ")\n"
   ]
  },
  {
   "cell_type": "markdown",
   "metadata": {},
   "source": [
    "## Discretization of each Plane\n",
    "The surface projections will be plotted in the planes of equations Z=np.min(z)-2, X=np.min(xx), respectively Y=np.min(yy)."
   ]
  },
  {
   "cell_type": "code",
   "execution_count": 18,
   "metadata": {
    "collapsed": true
   },
   "outputs": [],
   "source": [
    "z_offset=(np.min(z)-2)*np.ones(z.shape)#\n",
    "x_offset=np.min(xx)*np.ones(z.shape)\n",
    "y_offset=np.min(yy)*np.ones(z.shape)\n",
    "\n"
   ]
  },
  {
   "cell_type": "markdown",
   "metadata": {},
   "source": [
    "## Define color for each xyz plane\n",
    "Define the color functions and the color numpy arrays, C_z, C_x, C_y, corresponding to each plane:\n",
    "Define the 3-tuples of coordinates to be displayed at hovering the mouse over the projections. The first two coordinates give the position in the projection plane, whereas the third one is used for assigning the color, just in the same way the coordinate z is used for the z-direction projection."
   ]
  },
  {
   "cell_type": "code",
   "execution_count": 19,
   "metadata": {
    "collapsed": true
   },
   "outputs": [],
   "source": [
    "proj_z=lambda x, y, z: z#projection in the z-direction\n",
    "colorsurfz=proj_z(x,y,z)\n",
    "proj_x=lambda x, y, z: x\n",
    "colorsurfx=proj_z(x,y,z)\n",
    "proj_y=lambda x, y, z: y\n",
    "colorsurfy=proj_z(x,y,z)\n",
    "\n",
    "textx=[['y: '+'{:0.5f}'.format(y[i][j])+'<br>z: '+'{:0.5f}'.format(z[i][j])+\n",
    "        '<br>x: '+'{:0.5f}'.format(x[i][j]) for j in range(z.shape[1])]  for i in range(z.shape[0])]\n",
    "texty=[['x: '+'{:0.5f}'.format(x[i][j])+'<br>z: '+'{:0.5f}'.format(z[i][j]) +\n",
    "        '<br>y: '+'{:0.5f}'.format(y[i][j]) for j in range(z.shape[1])] for i in range(z.shape[0])]  \n",
    "\n",
    "tracex = go.Surface(z=z,\n",
    "                x=x_offset,\n",
    "                y=y,\n",
    "                colorscale=colorscale,\n",
    "                showlegend=False,\n",
    "                showscale=False,\n",
    "                surfacecolor=colorsurfx,\n",
    "                text=textx,\n",
    "                hoverinfo='text'\n",
    "               )\n",
    "tracey = go.Surface(z=z,\n",
    "                x=x,\n",
    "                y=y_offset,\n",
    "                colorscale=colorscale,\n",
    "                showlegend=False,\n",
    "                showscale=False,\n",
    "                surfacecolor=colorsurfy,\n",
    "                text=texty,\n",
    "                hoverinfo='text'\n",
    "               )\n",
    "tracez = go.Surface(z=z_offset,\n",
    "                x=x,\n",
    "                y=y,\n",
    "                colorscale=colorscale,\n",
    "                showlegend=False,\n",
    "                showscale=False,\n",
    "                surfacecolor=colorsurfx,\n",
    "                text=textz,\n",
    "                hoverinfo='text'\n",
    "               )"
   ]
  },
  {
   "cell_type": "markdown",
   "metadata": {},
   "source": [
    "## finally, plot"
   ]
  },
  {
   "cell_type": "code",
   "execution_count": 20,
   "metadata": {
    "collapsed": false
   },
   "outputs": [
    {
     "data": {
      "text/html": [
       "<iframe id=\"igraph\" scrolling=\"no\" style=\"border:none;\" seamless=\"seamless\" src=\"https://plot.ly/~takanori/528.embed\" height=\"600px\" width=\"700px\"></iframe>"
      ],
      "text/plain": [
       "<plotly.tools.PlotlyDisplay object>"
      ]
     },
     "execution_count": 20,
     "metadata": {},
     "output_type": "execute_result"
    }
   ],
   "source": [
    "data=go.Data([trace1, tracex, tracey, tracez])\n",
    "fig = go.Figure(data=data, layout=layout)\n",
    "py.iplot(fig)\n"
   ]
  },
  {
   "cell_type": "markdown",
   "metadata": {
    "collapsed": true
   },
   "source": [
    "# 3d mesh\n",
    "https://plot.ly/python/3d-mesh/\n",
    "\n",
    "## Simple 3D Mesh example\n"
   ]
  },
  {
   "cell_type": "code",
   "execution_count": 6,
   "metadata": {
    "collapsed": false
   },
   "outputs": [
    {
     "name": "stderr",
     "output_type": "stream",
     "text": [
      "--2016-09-29 01:01:40--  https://raw.githubusercontent.com/plotly/documentation/source-design-merge/_posts/python/3d-mesh/dataset.txt\n",
      "Resolving raw.githubusercontent.com (raw.githubusercontent.com)... 151.101.32.133\n",
      "Connecting to raw.githubusercontent.com (raw.githubusercontent.com)|151.101.32.133|:443... connected.\n",
      "HTTP request sent, awaiting response... 200 OK\n",
      "Length: 2831 (2.8K) [text/plain]\n",
      "Saving to: ‘dataset.txt’\n",
      "\n",
      "     0K ..                                                    100% 52.8M=0s\n",
      "\n",
      "2016-09-29 01:01:40 (52.8 MB/s) - ‘dataset.txt’ saved [2831/2831]\n",
      "\n"
     ]
    }
   ],
   "source": [
    "%%bash\n",
    "rm dataset.txt\n",
    "wget https://raw.githubusercontent.com/plotly/documentation/source-design-merge/_posts/python/3d-mesh/dataset.txt"
   ]
  },
  {
   "cell_type": "code",
   "execution_count": 7,
   "metadata": {
    "collapsed": false
   },
   "outputs": [
    {
     "data": {
      "text/html": [
       "<iframe id=\"igraph\" scrolling=\"no\" style=\"border:none;\" seamless=\"seamless\" src=\"https://plot.ly/~takanori/1016.embed?share_key=v12dYfV5BFHupfhby8kB8a\" height=\"525px\" width=\"100%\"></iframe>"
      ],
      "text/plain": [
       "<plotly.tools.PlotlyDisplay object>"
      ]
     },
     "execution_count": 7,
     "metadata": {},
     "output_type": "execute_result"
    }
   ],
   "source": [
    "import plotly.plotly as py\n",
    "import plotly.graph_objs as go\n",
    "import numpy as np\n",
    "\n",
    "pts=np.loadtxt('dataset.txt')\n",
    "x,y,z=zip(*pts)\n",
    "\n",
    "trace = go.Mesh3d(x=x,y=y,z=z,color='90EE90',opacity=0.50)\n",
    "py.iplot([trace])"
   ]
  },
  {
   "cell_type": "markdown",
   "metadata": {},
   "source": [
    "## 3D Mesh example with Alphahull\n",
    "Alphahull sets shape of mesh. If the value is -1 then Delaunay triangulation is used. If >0 then the alpha-shape algorithm is used. The default value is -1."
   ]
  },
  {
   "cell_type": "code",
   "execution_count": 8,
   "metadata": {
    "collapsed": false
   },
   "outputs": [
    {
     "data": {
      "text/html": [
       "<iframe id=\"igraph\" scrolling=\"no\" style=\"border:none;\" seamless=\"seamless\" src=\"https://plot.ly/~takanori/1018.embed?share_key=x3AwCpnB1AH7nx3d0quzS6\" height=\"525px\" width=\"100%\"></iframe>"
      ],
      "text/plain": [
       "<plotly.tools.PlotlyDisplay object>"
      ]
     },
     "execution_count": 8,
     "metadata": {},
     "output_type": "execute_result"
    }
   ],
   "source": [
    "pts=np.loadtxt('dataset.txt')\n",
    "x,y,z=zip(*pts)\n",
    "\n",
    "trace = go.Mesh3d(x=x,y=y,z=z,\n",
    "                   alphahull=5,\n",
    "                   opacity=0.4,\n",
    "                   color='00FFFF')\n",
    "py.iplot([trace])"
   ]
  },
  {
   "cell_type": "markdown",
   "metadata": {},
   "source": [
    "## Mesh Tetrahedron"
   ]
  },
  {
   "cell_type": "code",
   "execution_count": 9,
   "metadata": {
    "collapsed": false
   },
   "outputs": [
    {
     "data": {
      "text/html": [
       "<iframe id=\"igraph\" scrolling=\"no\" style=\"border:none;\" seamless=\"seamless\" src=\"https://plot.ly/~takanori/1020.embed?share_key=XWPnxX57HoLugvg5ODd6oF\" height=\"525px\" width=\"100%\"></iframe>"
      ],
      "text/plain": [
       "<plotly.tools.PlotlyDisplay object>"
      ]
     },
     "execution_count": 9,
     "metadata": {},
     "output_type": "execute_result"
    }
   ],
   "source": [
    "data = go.Data([\n",
    "    go.Mesh3d(x = [0, 1, 2, 0],y = [0, 0, 1, 2],z = [0, 2, 0, 1],\n",
    "        colorbar = go.ColorBar(title='z'),\n",
    "        colorscale = [['0', 'rgb(255, 0, 0)'], ['0.5', 'rgb(0, 255, 0)'], ['1', 'rgb(0, 0, 255)']],\n",
    "        intensity = [0, 0.33, 0.66, 1],\n",
    "        i = [0, 0, 0, 1],\n",
    "        j = [1, 2, 3, 2],\n",
    "        k = [2, 3, 1, 3],\n",
    "        name = 'y',\n",
    "        showscale = True\n",
    "    )\n",
    "])\n",
    "layout = go.Layout(xaxis=go.XAxis(title='x'),yaxis=go.YAxis(title='y'))\n",
    "fig = go.Figure(data=data, layout=layout)\n",
    "py.iplot(fig)"
   ]
  },
  {
   "cell_type": "markdown",
   "metadata": {},
   "source": [
    "## Mesh Cube"
   ]
  },
  {
   "cell_type": "code",
   "execution_count": 10,
   "metadata": {
    "collapsed": false,
    "scrolled": true
   },
   "outputs": [
    {
     "data": {
      "text/html": [
       "<iframe id=\"igraph\" scrolling=\"no\" style=\"border:none;\" seamless=\"seamless\" src=\"https://plot.ly/~takanori/1022.embed?share_key=8z9QD8YWiPkOkt3ztzF7pL\" height=\"525px\" width=\"100%\"></iframe>"
      ],
      "text/plain": [
       "<plotly.tools.PlotlyDisplay object>"
      ]
     },
     "execution_count": 10,
     "metadata": {},
     "output_type": "execute_result"
    }
   ],
   "source": [
    "data = go.Data([\n",
    "    go.Mesh3d(\n",
    "        x = [0, 0, 1, 1, 0, 0, 1, 1],\n",
    "        y = [0, 1, 1, 0, 0, 1, 1, 0],\n",
    "        z = [0, 0, 0, 0, 1, 1, 1, 1],\n",
    "        colorbar = go.ColorBar(title='z'),\n",
    "        colorscale = [['0', 'rgb(255, 0, 255)'], ['0.5', 'rgb(0, 255, 0)'], ['1', 'rgb(0, 0, 255)']],\n",
    "        intensity = [0, 0.142857142857143, 0.285714285714286, 0.428571428571429, 0.571428571428571, 0.714285714285714, 0.857142857142857, 1],\n",
    "        i = [7, 0, 0, 0, 4, 4, 6, 6, 4, 0, 3, 2],\n",
    "        j = [3, 4, 1, 2, 5, 6, 5, 2, 0, 1, 6, 3],\n",
    "        k = [0, 7, 2, 3, 6, 7, 1, 1, 5, 5, 7, 6],\n",
    "        name='y',\n",
    "        showscale=True\n",
    "    )\n",
    "])\n",
    "layout = go.Layout(xaxis=go.XAxis(title='x'),yaxis=go.YAxis(title='y'))\n",
    "fig = go.Figure(data=data, layout=layout)\n",
    "py.iplot(fig)"
   ]
  },
  {
   "cell_type": "markdown",
   "metadata": {},
   "source": [
    "# 3d-wireframe plot\n",
    "https://plot.ly/python/3d-wireframe-plots/"
   ]
  },
  {
   "cell_type": "code",
   "execution_count": 11,
   "metadata": {
    "collapsed": false
   },
   "outputs": [
    {
     "data": {
      "text/html": [
       "<iframe id=\"igraph\" scrolling=\"no\" style=\"border:none;\" seamless=\"seamless\" src=\"https://plot.ly/~takanori/1024.embed?share_key=9Bi2wmZyKEQ8zuF7SFeS23\" height=\"525px\" width=\"100%\"></iframe>"
      ],
      "text/plain": [
       "<plotly.tools.PlotlyDisplay object>"
      ]
     },
     "execution_count": 11,
     "metadata": {},
     "output_type": "execute_result"
    }
   ],
   "source": [
    "# Creating the data\n",
    "x = np.linspace(-5, 5, 50)\n",
    "y = np.linspace(-5, 5, 50)\n",
    "xGrid, yGrid = np.meshgrid(y, x)\n",
    "R = np.sqrt(xGrid ** 2 + yGrid ** 2)\n",
    "z = np.sin(R)\n",
    "\n",
    "# Creating the plot\n",
    "lines = []\n",
    "line_marker = dict(color='#0066FF', width=2)\n",
    "for i, j, k in zip(xGrid, yGrid, z):\n",
    "    lines.append(go.Scatter3d(x=i, y=j, z=k, mode='lines', line=line_marker))\n",
    "\n",
    "layout = go.Layout(\n",
    "    title='Wireframe Plot',\n",
    "    scene=dict(\n",
    "        xaxis=dict(\n",
    "            gridcolor='rgb(255, 255, 255)',\n",
    "            zerolinecolor='rgb(255, 255, 255)',\n",
    "            showbackground=True,\n",
    "            backgroundcolor='rgb(230, 230,230)'\n",
    "        ),\n",
    "        yaxis=dict(\n",
    "            gridcolor='rgb(255, 255, 255)',\n",
    "            zerolinecolor='rgb(255, 255, 255)',\n",
    "            showbackground=True,\n",
    "            backgroundcolor='rgb(230, 230,230)'\n",
    "        ),\n",
    "        zaxis=dict(\n",
    "            gridcolor='rgb(255, 255, 255)',\n",
    "            zerolinecolor='rgb(255, 255, 255)',\n",
    "            showbackground=True,\n",
    "            backgroundcolor='rgb(230, 230,230)'\n",
    "        )\n",
    "    ),\n",
    "    showlegend=False,\n",
    ")\n",
    "fig = go.Figure(data=lines, layout=layout)\n",
    "py.iplot(fig)"
   ]
  },
  {
   "cell_type": "markdown",
   "metadata": {},
   "source": [
    "# 3d-surface plots\n",
    "https://plot.ly/python/3d-surface-plots/"
   ]
  },
  {
   "cell_type": "markdown",
   "metadata": {},
   "source": [
    "## Topographical 3D Surface Plot"
   ]
  },
  {
   "cell_type": "code",
   "execution_count": 12,
   "metadata": {
    "collapsed": false
   },
   "outputs": [
    {
     "name": "stdout",
     "output_type": "stream",
     "text": [
      "(25, 25)\n"
     ]
    },
    {
     "data": {
      "text/html": [
       "<div>\n",
       "<table border=\"1\" class=\"dataframe\">\n",
       "  <thead>\n",
       "    <tr style=\"text-align: right;\">\n",
       "      <th></th>\n",
       "      <th>Unnamed: 0</th>\n",
       "      <th>0</th>\n",
       "      <th>1</th>\n",
       "      <th>2</th>\n",
       "      <th>3</th>\n",
       "      <th>4</th>\n",
       "      <th>5</th>\n",
       "      <th>6</th>\n",
       "      <th>7</th>\n",
       "      <th>8</th>\n",
       "      <th>9</th>\n",
       "      <th>10</th>\n",
       "      <th>11</th>\n",
       "      <th>12</th>\n",
       "      <th>13</th>\n",
       "      <th>14</th>\n",
       "      <th>15</th>\n",
       "      <th>16</th>\n",
       "      <th>17</th>\n",
       "      <th>18</th>\n",
       "      <th>19</th>\n",
       "      <th>20</th>\n",
       "      <th>21</th>\n",
       "      <th>22</th>\n",
       "      <th>23</th>\n",
       "    </tr>\n",
       "  </thead>\n",
       "  <tbody>\n",
       "    <tr>\n",
       "      <th>0</th>\n",
       "      <td>0</td>\n",
       "      <td>27.8099</td>\n",
       "      <td>49.6194</td>\n",
       "      <td>83.0807</td>\n",
       "      <td>116.6632</td>\n",
       "      <td>130.4140</td>\n",
       "      <td>150.7206</td>\n",
       "      <td>220.1871</td>\n",
       "      <td>156.1536</td>\n",
       "      <td>148.6416</td>\n",
       "      <td>203.7845</td>\n",
       "      <td>206.0386</td>\n",
       "      <td>107.1618</td>\n",
       "      <td>68.3697</td>\n",
       "      <td>45.3359</td>\n",
       "      <td>49.9614</td>\n",
       "      <td>21.8928</td>\n",
       "      <td>17.0255</td>\n",
       "      <td>11.7432</td>\n",
       "      <td>14.7523</td>\n",
       "      <td>13.6671</td>\n",
       "      <td>5.6776</td>\n",
       "      <td>3.3123</td>\n",
       "      <td>1.1565</td>\n",
       "      <td>-0.1477</td>\n",
       "    </tr>\n",
       "    <tr>\n",
       "      <th>1</th>\n",
       "      <td>1</td>\n",
       "      <td>27.7197</td>\n",
       "      <td>48.5502</td>\n",
       "      <td>65.2137</td>\n",
       "      <td>95.2767</td>\n",
       "      <td>116.9964</td>\n",
       "      <td>133.9056</td>\n",
       "      <td>152.3412</td>\n",
       "      <td>151.9340</td>\n",
       "      <td>160.1139</td>\n",
       "      <td>179.5327</td>\n",
       "      <td>147.6184</td>\n",
       "      <td>170.3943</td>\n",
       "      <td>121.8194</td>\n",
       "      <td>52.5854</td>\n",
       "      <td>33.0887</td>\n",
       "      <td>38.4097</td>\n",
       "      <td>44.2484</td>\n",
       "      <td>69.5786</td>\n",
       "      <td>4.0194</td>\n",
       "      <td>3.0500</td>\n",
       "      <td>3.0397</td>\n",
       "      <td>2.9961</td>\n",
       "      <td>2.9680</td>\n",
       "      <td>1.9996</td>\n",
       "    </tr>\n",
       "    <tr>\n",
       "      <th>2</th>\n",
       "      <td>2</td>\n",
       "      <td>30.4267</td>\n",
       "      <td>33.4775</td>\n",
       "      <td>44.8095</td>\n",
       "      <td>62.4749</td>\n",
       "      <td>77.4352</td>\n",
       "      <td>104.2153</td>\n",
       "      <td>102.7393</td>\n",
       "      <td>137.0004</td>\n",
       "      <td>186.0706</td>\n",
       "      <td>219.3173</td>\n",
       "      <td>181.7615</td>\n",
       "      <td>120.9154</td>\n",
       "      <td>143.1835</td>\n",
       "      <td>82.4050</td>\n",
       "      <td>48.4713</td>\n",
       "      <td>74.7146</td>\n",
       "      <td>60.0909</td>\n",
       "      <td>7.0735</td>\n",
       "      <td>6.0899</td>\n",
       "      <td>6.5374</td>\n",
       "      <td>6.6661</td>\n",
       "      <td>7.3070</td>\n",
       "      <td>5.7368</td>\n",
       "      <td>3.6256</td>\n",
       "    </tr>\n",
       "    <tr>\n",
       "      <th>3</th>\n",
       "      <td>3</td>\n",
       "      <td>16.6655</td>\n",
       "      <td>30.1086</td>\n",
       "      <td>39.9695</td>\n",
       "      <td>44.1223</td>\n",
       "      <td>59.5751</td>\n",
       "      <td>77.5693</td>\n",
       "      <td>106.8925</td>\n",
       "      <td>166.5539</td>\n",
       "      <td>175.2381</td>\n",
       "      <td>185.2815</td>\n",
       "      <td>154.5056</td>\n",
       "      <td>83.0433</td>\n",
       "      <td>62.6173</td>\n",
       "      <td>62.3317</td>\n",
       "      <td>60.5592</td>\n",
       "      <td>55.9212</td>\n",
       "      <td>15.1728</td>\n",
       "      <td>8.2483</td>\n",
       "      <td>36.6809</td>\n",
       "      <td>61.9341</td>\n",
       "      <td>20.2687</td>\n",
       "      <td>68.5882</td>\n",
       "      <td>46.4981</td>\n",
       "      <td>0.2360</td>\n",
       "    </tr>\n",
       "    <tr>\n",
       "      <th>4</th>\n",
       "      <td>4</td>\n",
       "      <td>8.8156</td>\n",
       "      <td>18.3516</td>\n",
       "      <td>8.6583</td>\n",
       "      <td>27.5859</td>\n",
       "      <td>48.6269</td>\n",
       "      <td>60.1801</td>\n",
       "      <td>91.3286</td>\n",
       "      <td>145.7109</td>\n",
       "      <td>116.0653</td>\n",
       "      <td>106.2662</td>\n",
       "      <td>68.6945</td>\n",
       "      <td>53.1060</td>\n",
       "      <td>37.9280</td>\n",
       "      <td>47.9594</td>\n",
       "      <td>47.4269</td>\n",
       "      <td>69.2073</td>\n",
       "      <td>44.9547</td>\n",
       "      <td>29.1720</td>\n",
       "      <td>17.9167</td>\n",
       "      <td>16.2552</td>\n",
       "      <td>14.6556</td>\n",
       "      <td>17.2605</td>\n",
       "      <td>31.2224</td>\n",
       "      <td>46.7170</td>\n",
       "    </tr>\n",
       "  </tbody>\n",
       "</table>\n",
       "</div>"
      ],
      "text/plain": [
       "   Unnamed: 0        0        1        2         3         4         5  \\\n",
       "0           0  27.8099  49.6194  83.0807  116.6632  130.4140  150.7206   \n",
       "1           1  27.7197  48.5502  65.2137   95.2767  116.9964  133.9056   \n",
       "2           2  30.4267  33.4775  44.8095   62.4749   77.4352  104.2153   \n",
       "3           3  16.6655  30.1086  39.9695   44.1223   59.5751   77.5693   \n",
       "4           4   8.8156  18.3516   8.6583   27.5859   48.6269   60.1801   \n",
       "\n",
       "          6         7         8         9        10        11        12  \\\n",
       "0  220.1871  156.1536  148.6416  203.7845  206.0386  107.1618   68.3697   \n",
       "1  152.3412  151.9340  160.1139  179.5327  147.6184  170.3943  121.8194   \n",
       "2  102.7393  137.0004  186.0706  219.3173  181.7615  120.9154  143.1835   \n",
       "3  106.8925  166.5539  175.2381  185.2815  154.5056   83.0433   62.6173   \n",
       "4   91.3286  145.7109  116.0653  106.2662   68.6945   53.1060   37.9280   \n",
       "\n",
       "        13       14       15       16       17       18       19       20  \\\n",
       "0  45.3359  49.9614  21.8928  17.0255  11.7432  14.7523  13.6671   5.6776   \n",
       "1  52.5854  33.0887  38.4097  44.2484  69.5786   4.0194   3.0500   3.0397   \n",
       "2  82.4050  48.4713  74.7146  60.0909   7.0735   6.0899   6.5374   6.6661   \n",
       "3  62.3317  60.5592  55.9212  15.1728   8.2483  36.6809  61.9341  20.2687   \n",
       "4  47.9594  47.4269  69.2073  44.9547  29.1720  17.9167  16.2552  14.6556   \n",
       "\n",
       "        21       22       23  \n",
       "0   3.3123   1.1565  -0.1477  \n",
       "1   2.9961   2.9680   1.9996  \n",
       "2   7.3070   5.7368   3.6256  \n",
       "3  68.5882  46.4981   0.2360  \n",
       "4  17.2605  31.2224  46.7170  "
      ]
     },
     "execution_count": 12,
     "metadata": {},
     "output_type": "execute_result"
    }
   ],
   "source": [
    "import pandas as pd\n",
    "\n",
    "# Read data from a csv\n",
    "z_data = pd.read_csv('https://raw.githubusercontent.com/plotly/datasets/master/api_docs/mt_bruno_elevation.csv')\n",
    "print z_data.shape\n",
    "z_data.head(n=5)"
   ]
  },
  {
   "cell_type": "code",
   "execution_count": 13,
   "metadata": {
    "collapsed": false
   },
   "outputs": [
    {
     "data": {
      "text/html": [
       "<iframe id=\"igraph\" scrolling=\"no\" style=\"border:none;\" seamless=\"seamless\" src=\"https://plot.ly/~takanori/1026.embed?share_key=Ylco4LpkRrSybuUA4n23gF\" height=\"500px\" width=\"500px\"></iframe>"
      ],
      "text/plain": [
       "<plotly.tools.PlotlyDisplay object>"
      ]
     },
     "execution_count": 13,
     "metadata": {},
     "output_type": "execute_result"
    }
   ],
   "source": [
    "data = [go.Surface(z=z_data.as_matrix())]\n",
    "layout = go.Layout(title='Mt Bruno Elevation',autosize=False,\n",
    "                   width=500,height=500,margin=dict(l=65,r=50,b=65,t=90))\n",
    "fig = go.Figure(data=data, layout=layout)\n",
    "py.iplot(fig)"
   ]
  },
  {
   "cell_type": "markdown",
   "metadata": {},
   "source": [
    "## Multiple 3D Surface Plots"
   ]
  },
  {
   "cell_type": "code",
   "execution_count": 14,
   "metadata": {
    "collapsed": false
   },
   "outputs": [
    {
     "data": {
      "text/html": [
       "<iframe id=\"igraph\" scrolling=\"no\" style=\"border:none;\" seamless=\"seamless\" src=\"https://plot.ly/~takanori/1028.embed?share_key=SGuwOrUZOpWLlc3DbByz4r\" height=\"525px\" width=\"100%\"></iframe>"
      ],
      "text/plain": [
       "<plotly.tools.PlotlyDisplay object>"
      ]
     },
     "execution_count": 14,
     "metadata": {},
     "output_type": "execute_result"
    }
   ],
   "source": [
    "# from plotly.graph_objs import Surface #<- could also go this route\n",
    "z1 = [\n",
    "    [8.83,8.89,8.81,8.87,8.9,8.87],\n",
    "    [8.89,8.94,8.85,8.94,8.96,8.92],\n",
    "    [8.84,8.9,8.82,8.92,8.93,8.91],\n",
    "    [8.79,8.85,8.79,8.9,8.94,8.92],\n",
    "    [8.79,8.88,8.81,8.9,8.95,8.92],\n",
    "    [8.8,8.82,8.78,8.91,8.94,8.92],\n",
    "    [8.75,8.78,8.77,8.91,8.95,8.92],\n",
    "    [8.8,8.8,8.77,8.91,8.95,8.94],\n",
    "    [8.74,8.81,8.76,8.93,8.98,8.99],\n",
    "    [8.89,8.99,8.92,9.1,9.13,9.11],\n",
    "    [8.97,8.97,8.91,9.09,9.11,9.11],\n",
    "    [9.04,9.08,9.05,9.25,9.28,9.27],\n",
    "    [9,9.01,9,9.2,9.23,9.2],\n",
    "    [8.99,8.99,8.98,9.18,9.2,9.19],\n",
    "    [8.93,8.97,8.97,9.18,9.2,9.18]\n",
    "]\n",
    "\n",
    "z2 = [[zij+1 for zij in zi] for zi in z1]\n",
    "z3 = [[zij-1 for zij in zi] for zi in z1]\n",
    "\n",
    "data = [dict(z=z1, type='surface'),\n",
    "        dict(z=z2, showscale=False, opacity=0.9, type='surface'),\n",
    "        dict(z=z3, showscale=False, opacity=0.9, type='surface')]\n",
    "py.iplot(data)"
   ]
  },
  {
   "cell_type": "markdown",
   "metadata": {},
   "source": [
    "# 3d Parametric plots\n",
    "https://plot.ly/python/3d-parametric-plots/"
   ]
  },
  {
   "cell_type": "markdown",
   "metadata": {},
   "source": [
    "## Basic parametric plot\n"
   ]
  },
  {
   "cell_type": "code",
   "execution_count": 15,
   "metadata": {
    "collapsed": false
   },
   "outputs": [
    {
     "data": {
      "text/html": [
       "<iframe id=\"igraph\" scrolling=\"no\" style=\"border:none;\" seamless=\"seamless\" src=\"https://plot.ly/~takanori/1030.embed?share_key=rhTIw6w7xrhkj0AjgBxFCZ\" height=\"525px\" width=\"100%\"></iframe>"
      ],
      "text/plain": [
       "<plotly.tools.PlotlyDisplay object>"
      ]
     },
     "execution_count": 15,
     "metadata": {},
     "output_type": "execute_result"
    }
   ],
   "source": [
    "s = np.linspace(0, 2 * np.pi, 240)\n",
    "t = np.linspace(0, np.pi, 240)\n",
    "tGrid, sGrid = np.meshgrid(s, t)\n",
    "\n",
    "r = 2 + np.sin(7 * sGrid + 5 * tGrid)  # r = 2 + sin(7s+5t)\n",
    "x = r * np.cos(sGrid) * np.sin(tGrid)  # x = r*cos(s)*sin(t)\n",
    "y = r * np.sin(sGrid) * np.sin(tGrid)  # y = r*sin(s)*sin(t)\n",
    "z = r * np.cos(tGrid)                  # z = r*cos(t)\n",
    "\n",
    "surface = go.Surface(x=x, y=y, z=z)\n",
    "data = [surface]\n",
    "\n",
    "layout = go.Layout(\n",
    "    title='Parametric Plot',\n",
    "    scene=dict(\n",
    "        xaxis=dict(\n",
    "            gridcolor='rgb(255, 255, 255)',\n",
    "            zerolinecolor='rgb(255, 255, 255)',\n",
    "            showbackground=True,\n",
    "            backgroundcolor='rgb(230, 230,230)'\n",
    "        ),\n",
    "        yaxis=dict(\n",
    "            gridcolor='rgb(255, 255, 255)',\n",
    "            zerolinecolor='rgb(255, 255, 255)',\n",
    "            showbackground=True,\n",
    "            backgroundcolor='rgb(230, 230,230)'\n",
    "        ),\n",
    "        zaxis=dict(\n",
    "            gridcolor='rgb(255, 255, 255)',\n",
    "            zerolinecolor='rgb(255, 255, 255)',\n",
    "            showbackground=True,\n",
    "            backgroundcolor='rgb(230, 230,230)'\n",
    "        )\n",
    "    )\n",
    ")\n",
    "\n",
    "fig = go.Figure(data=data, layout=layout)\n",
    "py.iplot(fig)"
   ]
  },
  {
   "cell_type": "markdown",
   "metadata": {},
   "source": [
    "## Parameteric Plot with Colorscale"
   ]
  },
  {
   "cell_type": "code",
   "execution_count": 16,
   "metadata": {
    "collapsed": false
   },
   "outputs": [
    {
     "data": {
      "text/html": [
       "<iframe id=\"igraph\" scrolling=\"no\" style=\"border:none;\" seamless=\"seamless\" src=\"https://plot.ly/~takanori/1032.embed?share_key=LVW4THLUw5Ko5keNKo63ZV\" height=\"525px\" width=\"100%\"></iframe>"
      ],
      "text/plain": [
       "<plotly.tools.PlotlyDisplay object>"
      ]
     },
     "execution_count": 16,
     "metadata": {},
     "output_type": "execute_result"
    }
   ],
   "source": [
    "dphi, dtheta = np.pi / 250.0, np.pi / 250.0\n",
    "[phi, theta] = np.mgrid[0:np.pi + dphi * 1.5:dphi, 0:2 * np.pi +\n",
    "                        dtheta * 1.5:dtheta]\n",
    "m0 = 4; m1 = 3; m2 = 2; m3 = 3; m4 = 6; m5 = 2; m6 = 6; m7 = 4;\n",
    "\n",
    "# Applying the parametric equation..\n",
    "r = (np.sin(m0 * phi) ** m1 + np.cos(m2 * phi) ** m3 +\n",
    "     np.sin(m4 * theta) ** m5 + np.cos(m6 * theta) ** m7)\n",
    "x = r * np.sin(phi) * np.cos(theta)\n",
    "y = r * np.cos(phi)\n",
    "z = r * np.sin(phi) * np.sin(theta)\n",
    "\n",
    "\n",
    "surface = go.Surface(x=x, y=y, z=z, colorscale='Viridis')\n",
    "data = [surface]\n",
    "layout = go.Layout(\n",
    "    title='Another Parametric Plot',\n",
    "    scene=dict(\n",
    "        xaxis=dict(\n",
    "            gridcolor='rgb(255, 255, 255)',\n",
    "            zerolinecolor='rgb(255, 255, 255)',\n",
    "            showbackground=True,\n",
    "            backgroundcolor='rgb(230, 230,230)'\n",
    "        ),\n",
    "        yaxis=dict(\n",
    "            gridcolor='rgb(255, 255, 255)',\n",
    "            zerolinecolor='rgb(255, 255, 255)',\n",
    "            showbackground=True,\n",
    "            backgroundcolor='rgb(230, 230,230)'\n",
    "        ),\n",
    "        zaxis=dict(\n",
    "            gridcolor='rgb(255, 255, 255)',\n",
    "            zerolinecolor='rgb(255, 255, 255)',\n",
    "            showbackground=True,\n",
    "            backgroundcolor='rgb(230, 230,230)'\n",
    "        )\n",
    "    )\n",
    ")\n",
    "fig = go.Figure(data=data, layout=layout)\n",
    "py.iplot(fig)"
   ]
  },
  {
   "cell_type": "markdown",
   "metadata": {},
   "source": [
    "# Ribbon plots\n",
    "https://plot.ly/python/ribbon-plots/"
   ]
  },
  {
   "cell_type": "code",
   "execution_count": 18,
   "metadata": {
    "collapsed": false
   },
   "outputs": [
    {
     "data": {
      "text/html": [
       "<iframe id=\"igraph\" scrolling=\"no\" style=\"border:none;\" seamless=\"seamless\" src=\"https://plot.ly/~takanori/1036.embed?share_key=4Qr42w0CeE2bkbsKzfxnbH\" height=\"525px\" width=\"100%\"></iframe>"
      ],
      "text/plain": [
       "<plotly.tools.PlotlyDisplay object>"
      ]
     },
     "execution_count": 18,
     "metadata": {},
     "output_type": "execute_result"
    }
   ],
   "source": [
    "import urllib\n",
    "\n",
    "url = \"https://raw.githubusercontent.com/plotly/datasets/master/spectral.csv\"\n",
    "f = urllib.urlopen(url)\n",
    "spectra=np.loadtxt(f, delimiter=',')\n",
    "\n",
    "traces = []\n",
    "y_raw = spectra[:, 0] # wavelength\n",
    "sample_size = spectra.shape[1]-1 \n",
    "for i in range(1, sample_size):\n",
    "    z_raw = spectra[:, i]\n",
    "    x = []\n",
    "    y = []\n",
    "    z = []\n",
    "    ci = int(255/sample_size*i) # ci = \"color index\"\n",
    "    for j in range(0, len(z_raw)):\n",
    "        z.append([z_raw[j], z_raw[j]])\n",
    "        y.append([y_raw[j], y_raw[j]])\n",
    "        x.append([i*2, i*2+1])\n",
    "    traces.append(dict(\n",
    "        z=z,x=x,y=y,showscale=False,type='surface',\n",
    "        colorscale=[ [i, 'rgb(%d,%d,255)'%(ci, ci)] for i in np.arange(0,1.1,0.1) ],\n",
    "    ))\n",
    "\n",
    "fig = { 'data':traces, 'layout':{'title':'Ribbon Plot'} }\n",
    "py.iplot(fig)"
   ]
  },
  {
   "cell_type": "code",
   "execution_count": null,
   "metadata": {
    "collapsed": true
   },
   "outputs": [],
   "source": []
  }
 ],
 "metadata": {
  "kernelspec": {
   "display_name": "Python [Root]",
   "language": "python",
   "name": "Python [Root]"
  },
  "language_info": {
   "codemirror_mode": {
    "name": "ipython",
    "version": 2
   },
   "file_extension": ".py",
   "mimetype": "text/x-python",
   "name": "python",
   "nbconvert_exporter": "python",
   "pygments_lexer": "ipython2",
   "version": "2.7.12"
  }
 },
 "nbformat": 4,
 "nbformat_minor": 0
}
