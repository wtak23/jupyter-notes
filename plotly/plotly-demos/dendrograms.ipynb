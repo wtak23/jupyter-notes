{
 "cells": [
  {
   "cell_type": "markdown",
   "metadata": {},
   "source": [
    "https://plot.ly/python/dendrogram/\n",
    "https://wtak23.github.io/plotly_api/generated/generated/plotly.tools.FigureFactory.create_dendrogram.html\n",
    "\n",
    "  **Table of Contents**\n",
    "\n",
    "  <div id=\"toc\"></div>\n",
    "  <script type=\"text/javascript\"\n",
    "  src=\"https://raw.github.com/kmahelona/ipython_notebook_goodies/master/ipython_notebook_toc.js\">\n",
    "  </script>\n",
    "  \n"
   ]
  },
  {
   "cell_type": "markdown",
   "metadata": {},
   "source": [
    "# Basic Dendrogram"
   ]
  },
  {
   "cell_type": "code",
   "execution_count": 4,
   "metadata": {
    "collapsed": false
   },
   "outputs": [
    {
     "data": {
      "text/html": [
       "<iframe id=\"igraph\" scrolling=\"no\" style=\"border:none;\" seamless=\"seamless\" src=\"https://plot.ly/~takanori/486.embed\" height=\"500px\" width=\"800px\"></iframe>"
      ],
      "text/plain": [
       "<plotly.tools.PlotlyDisplay object>"
      ]
     },
     "execution_count": 4,
     "metadata": {},
     "output_type": "execute_result"
    }
   ],
   "source": [
    "import plotly.plotly as py\n",
    "from plotly.tools import FigureFactory as FF\n",
    "import plotly.graph_objs as go\n",
    "\n",
    "import numpy as np\n",
    "\n",
    "X = np.random.rand(15, 15)\n",
    "dendro = FF.create_dendrogram(X)\n",
    "dendro['layout'].update({'width':800, 'height':500})\n",
    "py.iplot(dendro)"
   ]
  },
  {
   "cell_type": "markdown",
   "metadata": {},
   "source": [
    "# Set orientation and add labels"
   ]
  },
  {
   "cell_type": "code",
   "execution_count": 3,
   "metadata": {
    "collapsed": false
   },
   "outputs": [
    {
     "data": {
      "text/html": [
       "<iframe id=\"igraph\" scrolling=\"no\" style=\"border:none;\" seamless=\"seamless\" src=\"https://plot.ly/~takanori/484.embed\" height=\"800px\" width=\"800px\"></iframe>"
      ],
      "text/plain": [
       "<plotly.tools.PlotlyDisplay object>"
      ]
     },
     "execution_count": 3,
     "metadata": {},
     "output_type": "execute_result"
    }
   ],
   "source": [
    "X = np.random.rand(10, 10)\n",
    "names = ['Jack', 'Oxana', 'John', 'Chelsea', 'Mark', 'Alice', 'Charlie', 'Rob', 'Lisa', 'Lily']\n",
    "fig = FF.create_dendrogram(X, orientation='left', labels=names)\n",
    "fig['layout'].update({'width':800, 'height':800})\n",
    "py.iplot(fig)"
   ]
  },
  {
   "cell_type": "markdown",
   "metadata": {},
   "source": [
    "# Plot a Dendrogram with a Heatmap"
   ]
  },
  {
   "cell_type": "markdown",
   "metadata": {},
   "source": [
    "## get data"
   ]
  },
  {
   "cell_type": "code",
   "execution_count": null,
   "metadata": {
    "collapsed": true
   },
   "outputs": [],
   "source": [
    "import numpy as np\n",
    "from scipy.spatial.distance import pdist, squareform\n",
    "\n",
    "\n",
    "# get data\n",
    "data = np.genfromtxt(\"http://files.figshare.com/2133304/ExpRawData_E_TABM_84_A_AFFY_44.tab\",\n",
    "                     names=True,usecols=tuple(range(1,30)),dtype=float, delimiter=\"\\t\")\n",
    "data_array = data.view((np.float, len(data.dtype.names)))\n",
    "data_array = data_array.transpose()\n",
    "labels = data.dtype.names"
   ]
  },
  {
   "cell_type": "code",
   "execution_count": 18,
   "metadata": {
    "collapsed": false
   },
   "outputs": [
    {
     "name": "stdout",
     "output_type": "stream",
     "text": [
      "[[  6.3739767   5.986182    7.468118  ...,  11.745089   13.277803\n",
      "   13.067169 ]\n",
      " [  6.4981704   4.861167    6.9479957 ...,  11.33983    13.031992\n",
      "   12.7244425]\n",
      " [  6.271771    5.5666986   6.9435835 ...,  11.840397   13.332481\n",
      "   13.051369 ]\n",
      " ..., \n",
      " [  6.112102    5.0324726   6.93343   ...,  11.411251   13.084589\n",
      "   12.768577 ]\n",
      " [  6.359853    6.12955     8.460821  ...,  10.814936   12.888793\n",
      "   12.673793 ]\n",
      " [  6.010906    5.4538217   6.8208113 ...,  11.467866   13.08952    12.792053 ]]\n",
      "(29, 54674)\n",
      "('r14', 'h45', 'c11', 'r11', 'c07', 'h42', 'r15', 'c01', 'h29', 'h17', 'h62', 'c15', 'c14', 'ol5', 'h18', 'oh1', 'r06', 'ob1', 'ol3', 'r07', 'r08', 'ol1', 'oh2', 'h39', 'ol2', 'h36', 'h32', 'ol4', 'h43')\n"
     ]
    }
   ],
   "source": [
    "print data_array\n",
    "print data_array.shape\n",
    "print labels"
   ]
  },
  {
   "cell_type": "markdown",
   "metadata": {},
   "source": [
    "## Initialize figure by creating upper dendrogram"
   ]
  },
  {
   "cell_type": "code",
   "execution_count": 11,
   "metadata": {
    "collapsed": true
   },
   "outputs": [],
   "source": [
    "figure = FF.create_dendrogram(data_array, orientation='bottom', labels=labels)\n",
    "\n",
    "for i in range(len(figure['data'])):\n",
    "    figure['data'][i]['yaxis'] = 'y2'\n",
    "\n",
    "# Create Side Dendrogram\n",
    "dendro_side = FF.create_dendrogram(data_array, orientation='right')\n",
    "for i in range(len(dendro_side['data'])):\n",
    "    dendro_side['data'][i]['xaxis'] = 'x2'\n",
    "\n",
    "# Add Side Dendrogram Data to Figure\n",
    "figure['data'].extend(dendro_side['data'])"
   ]
  },
  {
   "cell_type": "code",
   "execution_count": 19,
   "metadata": {
    "collapsed": false
   },
   "outputs": [
    {
     "name": "stdout",
     "output_type": "stream",
     "text": [
      "2\n",
      "['data', 'layout']\n",
      "56\n",
      "7\n"
     ]
    }
   ],
   "source": [
    "print len(figure)\n",
    "print figure.keys()\n",
    "print figure['data'].__len__()\n",
    "print figure['layout'].__len__()"
   ]
  },
  {
   "cell_type": "code",
   "execution_count": 24,
   "metadata": {
    "collapsed": false
   },
   "outputs": [
    {
     "name": "stdout",
     "output_type": "stream",
     "text": [
      "[{'marker': {'color': 'rgb(61,153,112)'},\n",
      "  'mode': 'lines',\n",
      "  'type': 'scatter',\n",
      "  'x': array([ 25.,  25.,  35.,  35.]),\n",
      "  'xaxis': 'x',\n",
      "  'y': array([  0.        ,  87.13411549,  87.13411549,   0.        ]),\n",
      "  'yaxis': 'y2'},\n",
      " {'marker': {'color': 'rgb(61,153,112)'},\n",
      "  'mode': 'lines',\n",
      "  'type': 'scatter',\n",
      "  'x': array([ 45.,  45.,  55.,  55.]),\n",
      "  'xaxis': 'x',\n",
      "  'y': array([  0.        ,  88.00085053,  88.00085053,   0.        ]),\n",
      "  'yaxis': 'y2'}]\n",
      "================================================================================\n",
      "{'autosize': False,\n",
      " 'height': '100%',\n",
      " 'hovermode': 'closest',\n",
      " 'showlegend': False,\n",
      " 'width': '100%',\n",
      " 'xaxis': {'mirror': 'allticks',\n",
      "           'rangemode': 'tozero',\n",
      "           'showgrid': False,\n",
      "           'showline': True,\n",
      "           'showticklabels': True,\n",
      "           'tickmode': 'array',\n",
      "           'ticks': 'outside',\n",
      "           'ticktext': array(['r07', 'r06', 'r11', 'r08', 'r14', 'r15', 'h43', 'h62', 'h18',\n",
      "       'h17', 'h32', 'h42', 'h29', 'h45', 'h39', 'h36', 'c11', 'c07',\n",
      "       'c01', 'c15', 'c14', 'ol5', 'ol3', 'ol4', 'ol1', 'ol2', 'ob1',\n",
      "       'oh1', 'oh2'], \n",
      "      dtype='|S3'),\n",
      "           'tickvals': [5.0,\n",
      "                        15.0,\n",
      "                        25.0,\n",
      "                        35.0,\n",
      "                        45.0,\n",
      "                        55.0,\n",
      "                        65.0,\n",
      "                        75.0,\n",
      "                        85.0,\n",
      "                        95.0,\n",
      "                        105.0,\n",
      "                        115.0,\n",
      "                        125.0,\n",
      "                        135.0,\n",
      "                        145.0,\n",
      "                        155.0,\n",
      "                        165.0,\n",
      "                        175.0,\n",
      "                        185.0,\n",
      "                        195.0,\n",
      "                        205.0,\n",
      "                        215.0,\n",
      "                        225.0,\n",
      "                        235.0,\n",
      "                        245.0,\n",
      "                        255.0,\n",
      "                        265.0,\n",
      "                        275.0,\n",
      "                        285.0],\n",
      "           'type': 'linear',\n",
      "           'zeroline': False},\n",
      " 'yaxis': {'mirror': 'allticks',\n",
      "           'rangemode': 'tozero',\n",
      "           'showgrid': False,\n",
      "           'showline': True,\n",
      "           'showticklabels': True,\n",
      "           'ticks': 'outside',\n",
      "           'type': 'linear',\n",
      "           'zeroline': False}}\n"
     ]
    }
   ],
   "source": [
    "from pprint import pprint\n",
    "pprint(figure['data'][:2])\n",
    "print \"=\"*80\n",
    "pprint(figure['layout'])"
   ]
  },
  {
   "cell_type": "markdown",
   "metadata": {},
   "source": [
    "## Create heatmap"
   ]
  },
  {
   "cell_type": "code",
   "execution_count": 29,
   "metadata": {
    "collapsed": false
   },
   "outputs": [],
   "source": [
    "# Create Heatmap\n",
    "dendro_leaves = dendro_side['layout']['yaxis']['ticktext']\n",
    "dendro_leaves = list(map(int, dendro_leaves))\n",
    "data_dist = pdist(data_array)\n",
    "heat_data = squareform(data_dist)\n",
    "heat_data = heat_data[dendro_leaves,:]\n",
    "heat_data = heat_data[:,dendro_leaves]\n",
    "\n",
    "heatmap = go.Data([\n",
    "    go.Heatmap(\n",
    "        x = dendro_leaves, \n",
    "        y = dendro_leaves,\n",
    "        z = heat_data,    \n",
    "        colorscale = 'YIGnBu'\n",
    "    )\n",
    "])\n",
    "\n",
    "heatmap[0]['x'] = figure['layout']['xaxis']['tickvals']\n",
    "heatmap[0]['y'] = dendro_side['layout']['yaxis']['tickvals']\n",
    "                                                 \n",
    "# Add Heatmap Data to Figure\n",
    "figure['data'].extend(go.Data(heatmap))"
   ]
  },
  {
   "cell_type": "markdown",
   "metadata": {},
   "source": [
    "## Edit layout"
   ]
  },
  {
   "cell_type": "code",
   "execution_count": null,
   "metadata": {
    "collapsed": true
   },
   "outputs": [],
   "source": [
    "figure['layout'].update({'width':800, 'height':800,\n",
    "                         'showlegend':False, 'hovermode': 'closest',\n",
    "                         })\n",
    "# Edit xaxis\n",
    "figure['layout']['xaxis'].update({'domain': [.15, 1],\n",
    "                                  'mirror': False,\n",
    "                                  'showgrid': False,\n",
    "                                  'showline': False,\n",
    "                                  'zeroline': False,\n",
    "                                  'ticks':\"\"})\n",
    "# Edit xaxis2\n",
    "figure['layout'].update({'xaxis2': {'domain': [0, .15],\n",
    "                                   'mirror': False,\n",
    "                                   'showgrid': False,\n",
    "                                   'showline': False,\n",
    "                                   'zeroline': False,\n",
    "                                   'showticklabels': False,\n",
    "                                   'ticks':\"\"}})\n",
    "\n",
    "# Edit yaxis\n",
    "figure['layout']['yaxis'].update({'domain': [0, .85],\n",
    "                                  'mirror': False,\n",
    "                                  'showgrid': False,\n",
    "                                  'showline': False,\n",
    "                                  'zeroline': False,\n",
    "                                  'showticklabels': False,\n",
    "                                  'ticks': \"\"})\n",
    "# Edit yaxis2\n",
    "figure['layout'].update({'yaxis2':{'domain':[.825, .975],\n",
    "                                   'mirror': False,\n",
    "                                   'showgrid': False,\n",
    "                                   'showline': False,\n",
    "                                   'zeroline': False,\n",
    "                                   'showticklabels': False,\n",
    "                                   'ticks':\"\"}})"
   ]
  },
  {
   "cell_type": "markdown",
   "metadata": {},
   "source": [
    "## Plot!"
   ]
  },
  {
   "cell_type": "code",
   "execution_count": 30,
   "metadata": {
    "collapsed": false
   },
   "outputs": [
    {
     "data": {
      "text/html": [
       "<iframe id=\"igraph\" scrolling=\"no\" style=\"border:none;\" seamless=\"seamless\" src=\"https://plot.ly/~takanori/488.embed\" height=\"800px\" width=\"800px\"></iframe>"
      ],
      "text/plain": [
       "<plotly.tools.PlotlyDisplay object>"
      ]
     },
     "execution_count": 30,
     "metadata": {},
     "output_type": "execute_result"
    }
   ],
   "source": [
    "# Plot!\n",
    "py.iplot(figure)"
   ]
  },
  {
   "cell_type": "code",
   "execution_count": null,
   "metadata": {
    "collapsed": true
   },
   "outputs": [],
   "source": []
  }
 ],
 "metadata": {
  "kernelspec": {
   "display_name": "Python [Root]",
   "language": "python",
   "name": "Python [Root]"
  },
  "language_info": {
   "codemirror_mode": {
    "name": "ipython",
    "version": 2
   },
   "file_extension": ".py",
   "mimetype": "text/x-python",
   "name": "python",
   "nbconvert_exporter": "python",
   "pygments_lexer": "ipython2",
   "version": "2.7.12"
  }
 },
 "nbformat": 4,
 "nbformat_minor": 0
}
