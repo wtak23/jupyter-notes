{
 "cells": [
  {
   "cell_type": "markdown",
   "metadata": {},
   "source": [
    "https://plot.ly/python/range-slider/"
   ]
  },
  {
   "cell_type": "code",
   "execution_count": 2,
   "metadata": {
    "collapsed": false
   },
   "outputs": [
    {
     "name": "stdout",
     "output_type": "stream",
     "text": [
      "Collecting pandas_datareader\n",
      "  Using cached pandas_datareader-0.2.1-py2.py3-none-any.whl\n",
      "Requirement already satisfied (use --upgrade to upgrade): requests in /home/takanori/.local/lib/python2.7/site-packages (from pandas_datareader)\n",
      "Requirement already satisfied (use --upgrade to upgrade): pandas in /home/takanori/.local/lib/python2.7/site-packages/pandas-0.18.1+293.g51e6adb-py2.7-linux-x86_64.egg (from pandas_datareader)\n",
      "Collecting requests-file (from pandas_datareader)\n",
      "Requirement already satisfied (use --upgrade to upgrade): python-dateutil in /home/takanori/.local/lib/python2.7/site-packages (from pandas->pandas_datareader)\n",
      "Requirement already satisfied (use --upgrade to upgrade): pytz>=2011k in /home/takanori/.local/lib/python2.7/site-packages (from pandas->pandas_datareader)\n",
      "Requirement already satisfied (use --upgrade to upgrade): numpy>=1.7.0 in /home/takanori/anaconda2/lib/python2.7/site-packages (from pandas->pandas_datareader)\n",
      "Requirement already satisfied (use --upgrade to upgrade): six in /home/takanori/.local/lib/python2.7/site-packages (from requests-file->pandas_datareader)\n",
      "Installing collected packages: requests-file, pandas-datareader\n",
      "Successfully installed pandas-datareader-0.2.1 requests-file-1.4\n"
     ]
    }
   ],
   "source": [
    "%%bash\n",
    "pip install pandas_datareader --user"
   ]
  },
  {
   "cell_type": "code",
   "execution_count": null,
   "metadata": {
    "collapsed": true
   },
   "outputs": [],
   "source": [
    "import plotly.plotly as py\n",
    "import plotly.graph_objs as go \n",
    "\n",
    "from datetime import datetime\n",
    "# import pandas.io.data as web\n",
    "from pandas_datareader import data as web\n",
    "\n",
    "df = web.DataReader(\"aapl\", 'yahoo',\n",
    "                    datetime(2007, 10, 1),\n",
    "                    datetime(2009, 4, 1))"
   ]
  },
  {
   "cell_type": "code",
   "execution_count": 4,
   "metadata": {
    "collapsed": false
   },
   "outputs": [
    {
     "data": {
      "text/html": [
       "<div>\n",
       "<table border=\"1\" class=\"dataframe\">\n",
       "  <thead>\n",
       "    <tr style=\"text-align: right;\">\n",
       "      <th></th>\n",
       "      <th>Open</th>\n",
       "      <th>High</th>\n",
       "      <th>Low</th>\n",
       "      <th>Close</th>\n",
       "      <th>Volume</th>\n",
       "      <th>Adj Close</th>\n",
       "    </tr>\n",
       "    <tr>\n",
       "      <th>Date</th>\n",
       "      <th></th>\n",
       "      <th></th>\n",
       "      <th></th>\n",
       "      <th></th>\n",
       "      <th></th>\n",
       "      <th></th>\n",
       "    </tr>\n",
       "  </thead>\n",
       "  <tbody>\n",
       "    <tr>\n",
       "      <th>2007-10-01</th>\n",
       "      <td>154.63</td>\n",
       "      <td>157.41</td>\n",
       "      <td>152.93</td>\n",
       "      <td>156.34</td>\n",
       "      <td>209267100</td>\n",
       "      <td>20.4476</td>\n",
       "    </tr>\n",
       "    <tr>\n",
       "      <th>2007-10-02</th>\n",
       "      <td>156.55</td>\n",
       "      <td>158.59</td>\n",
       "      <td>155.89</td>\n",
       "      <td>158.45</td>\n",
       "      <td>198017400</td>\n",
       "      <td>20.7236</td>\n",
       "    </tr>\n",
       "    <tr>\n",
       "      <th>2007-10-03</th>\n",
       "      <td>157.78</td>\n",
       "      <td>159.18</td>\n",
       "      <td>157.01</td>\n",
       "      <td>157.92</td>\n",
       "      <td>173129600</td>\n",
       "      <td>20.6543</td>\n",
       "    </tr>\n",
       "    <tr>\n",
       "      <th>2007-10-04</th>\n",
       "      <td>158.00</td>\n",
       "      <td>158.08</td>\n",
       "      <td>153.50</td>\n",
       "      <td>156.24</td>\n",
       "      <td>164239600</td>\n",
       "      <td>20.4345</td>\n",
       "    </tr>\n",
       "    <tr>\n",
       "      <th>2007-10-05</th>\n",
       "      <td>158.37</td>\n",
       "      <td>161.58</td>\n",
       "      <td>157.70</td>\n",
       "      <td>161.45</td>\n",
       "      <td>235867800</td>\n",
       "      <td>21.1159</td>\n",
       "    </tr>\n",
       "  </tbody>\n",
       "</table>\n",
       "</div>"
      ],
      "text/plain": [
       "              Open    High     Low   Close     Volume  Adj Close\n",
       "Date                                                            \n",
       "2007-10-01  154.63  157.41  152.93  156.34  209267100    20.4476\n",
       "2007-10-02  156.55  158.59  155.89  158.45  198017400    20.7236\n",
       "2007-10-03  157.78  159.18  157.01  157.92  173129600    20.6543\n",
       "2007-10-04  158.00  158.08  153.50  156.24  164239600    20.4345\n",
       "2007-10-05  158.37  161.58  157.70  161.45  235867800    21.1159"
      ]
     },
     "execution_count": 4,
     "metadata": {},
     "output_type": "execute_result"
    }
   ],
   "source": [
    "df.head()"
   ]
  },
  {
   "cell_type": "code",
   "execution_count": 5,
   "metadata": {
    "collapsed": true
   },
   "outputs": [],
   "source": [
    "trace = go.Scatter(x=df.index,\n",
    "                   y=df.High)\n",
    "\n",
    "data = [trace]"
   ]
  },
  {
   "cell_type": "code",
   "execution_count": 19,
   "metadata": {
    "collapsed": false
   },
   "outputs": [
    {
     "data": {
      "text/plain": [
       "[{'count': 1, 'label': '1m', 'step': 'month', 'stepmode': 'backward'},\n",
       " {'count': 6, 'label': '6m', 'step': 'month', 'stepmode': 'backward'},\n",
       " {'count': 1, 'label': 'YTD', 'step': 'year', 'stepmode': 'todate'},\n",
       " {'count': 1, 'label': '1y', 'step': 'year', 'stepmode': 'backward'},\n",
       " {'step': 'all'}]"
      ]
     },
     "execution_count": 19,
     "metadata": {},
     "output_type": "execute_result"
    }
   ],
   "source": [
    "buttons=list([\n",
    "    dict(count=1,\n",
    "         label='1m',\n",
    "         step='month',\n",
    "         stepmode='backward'),\n",
    "    dict(count=6,\n",
    "         label='6m',\n",
    "         step='month',\n",
    "         stepmode='backward'),\n",
    "    dict(count=1,\n",
    "        label='YTD',\n",
    "        step='year',\n",
    "        stepmode='todate'),\n",
    "    dict(count=1,\n",
    "        label='1y',\n",
    "        step='year',\n",
    "        stepmode='backward'),\n",
    "    dict(step='all')\n",
    "])\n",
    "buttons"
   ]
  },
  {
   "cell_type": "code",
   "execution_count": 20,
   "metadata": {
    "collapsed": false
   },
   "outputs": [
    {
     "data": {
      "text/html": [
       "<iframe id=\"igraph\" scrolling=\"no\" style=\"border:none;\" seamless=\"seamless\" src=\"https://plot.ly/~takanori/362.embed\" height=\"525px\" width=\"100%\"></iframe>"
      ],
      "text/plain": [
       "<plotly.tools.PlotlyDisplay object>"
      ]
     },
     "execution_count": 20,
     "metadata": {},
     "output_type": "execute_result"
    }
   ],
   "source": [
    "layout = dict(\n",
    "    title='Time series with range slider and selectors',\n",
    "    xaxis=dict(\n",
    "        rangeselector=dict(buttons=buttons),\n",
    "        rangeslider=dict(),\n",
    "        type='date'\n",
    "    )\n",
    ")\n",
    "\n",
    "fig = dict(data=data, layout=layout)\n",
    "py.iplot(fig)"
   ]
  }
 ],
 "metadata": {
  "kernelspec": {
   "display_name": "Python [Root]",
   "language": "python",
   "name": "Python [Root]"
  },
  "language_info": {
   "codemirror_mode": {
    "name": "ipython",
    "version": 2
   },
   "file_extension": ".py",
   "mimetype": "text/x-python",
   "name": "python",
   "nbconvert_exporter": "python",
   "pygments_lexer": "ipython2",
   "version": "2.7.12"
  }
 },
 "nbformat": 4,
 "nbformat_minor": 0
}
