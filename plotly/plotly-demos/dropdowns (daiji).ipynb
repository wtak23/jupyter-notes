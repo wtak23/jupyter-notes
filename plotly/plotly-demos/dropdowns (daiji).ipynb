{
 "cells": [
  {
   "cell_type": "markdown",
   "metadata": {
    "toc": "true"
   },
   "source": [
    "# Table of Contents\n",
    " <p><div class=\"lev1 toc-item\"><a href=\"#Simple-Dropdown-Menu\" data-toc-modified-id=\"Simple-Dropdown-Menu-1\"><span class=\"toc-item-num\">1&nbsp;&nbsp;</span>Simple Dropdown Menu</a></div><div class=\"lev1 toc-item\"><a href=\"#Add-Multiple-Dropdown-Menus\" data-toc-modified-id=\"Add-Multiple-Dropdown-Menus-2\"><span class=\"toc-item-num\">2&nbsp;&nbsp;</span>Add Multiple Dropdown Menus</a></div>"
   ]
  },
  {
   "cell_type": "markdown",
   "metadata": {},
   "source": [
    "https://plot.ly/python/dropdowns/"
   ]
  },
  {
   "cell_type": "markdown",
   "metadata": {},
   "source": [
    "# Simple Dropdown Menu\n",
    "Dropdown Menus can now be used in Plotly to change the data displayed or style of a plot!\n"
   ]
  },
  {
   "cell_type": "code",
   "execution_count": 2,
   "metadata": {
    "collapsed": true
   },
   "outputs": [],
   "source": [
    "import plotly.plotly as py\n",
    "from plotly.graph_objs import *\n",
    "\n",
    "countries = ['United States', 'China', 'South Korea', 'Hungary', 'Austraila', 'Canada']\n",
    "gold = [10, 8, 4, 4, 4, 0]\n",
    "silver = [8, 3, 2, 1, 0, 1]\n",
    "bronze = [9, 6, 1, 1, 5, 4]\n",
    "total = [27, 17, 7, 6, 9, 5]\n",
    "\n",
    "trace1 = Scatter(x=countries, y=gold,   name='Gold',   line=Line(color='#FFD700',width=3))\n",
    "trace2 = Scatter(x=countries, y=silver, name='Silver', line=Line(color='#C0C0C0',width=3))\n",
    "trace3 = Scatter(x=countries, y=bronze, name='Bronze', line=Line(color='#BA8651',width=3))\n",
    "trace4 = Scatter(x=countries, y=total,  name='total',  line=Line(color='#000000',width=4))\n",
    "data = Data([trace1, trace2, trace3, trace4])"
   ]
  },
  {
   "cell_type": "code",
   "execution_count": 10,
   "metadata": {
    "code_folding": [],
    "collapsed": true
   },
   "outputs": [],
   "source": [
    "buttons=list([\n",
    "    dict(args=['visible', [True, True, True, True]],    label='All',    method='restyle'),\n",
    "    dict(args=['visible', [True, False, False, False]], label='Gold',   method='restyle'),\n",
    "    dict(args=['visible', [False, True, False, False]], label='Silver', method='restyle'),\n",
    "    dict(args=['visible', [False, False, True, False]], label='Bronze', method='restyle'),\n",
    "    dict(args=['visible', [False, False, False, True]], label='Total',  method='restyle')])"
   ]
  },
  {
   "cell_type": "code",
   "execution_count": 12,
   "metadata": {
    "collapsed": false
   },
   "outputs": [],
   "source": [
    "updatemenus=list([dict(x=-0.05,y=1,yanchor='top',buttons=buttons)])"
   ]
  },
  {
   "cell_type": "code",
   "execution_count": 14,
   "metadata": {
    "collapsed": false,
    "run_control": {
     "frozen": false,
     "read_only": false
    }
   },
   "outputs": [
    {
     "data": {
      "text/html": [
       "<iframe id=\"igraph\" scrolling=\"no\" style=\"border:none;\" seamless=\"seamless\" src=\"https://plot.ly/~takanori/1070.embed\" height=\"525px\" width=\"100%\"></iframe>"
      ],
      "text/plain": [
       "<plotly.tools.PlotlyDisplay object>"
      ]
     },
     "execution_count": 14,
     "metadata": {},
     "output_type": "execute_result"
    }
   ],
   "source": [
    "layout = Layout(title='2016 Summer Olympic Medal Count',updatemenus=updatemenus)\n",
    "fig = Figure(data=data, layout=layout)\n",
    "py.iplot(fig)"
   ]
  },
  {
   "cell_type": "markdown",
   "metadata": {},
   "source": [
    "# Add Multiple Dropdown Menus"
   ]
  },
  {
   "cell_type": "code",
   "execution_count": 19,
   "metadata": {
    "collapsed": false
   },
   "outputs": [],
   "source": [
    "y1=[0.9811517321019101, 0.1786216491876189, 0.914448712848716, \n",
    "    0.6304173657769527, 0.8523920330052668, 0.6441693787052116, \n",
    "    0.026608139127452413, 0.5533894498601162, 0.3984403467889206, \n",
    "    0.4041165335437975]\n",
    "y2=[0.585710785814439, 0.3430887677330601, 0.4584226994722529, \n",
    "    0.2765770916324737, 0.3799651357341245, 0.08327961475466394, \n",
    "    0.13306360933716, 0.6468040257640011, 0.3574845623367817, \n",
    "    0.6906963617910844]\n",
    "y3=[0.8730924772005504, 0.2502287847221978, 0.4977706549396861, \n",
    "    0.8697548378149877, 0.2764916236291508, 0.9321797368391336, \n",
    "    0.668390989554607, 0.3190700540510323, 0.5551541121285288, \n",
    "    0.9220083303110946]\n",
    "y4=[0.5007964550744415, 0.5433206590323669, 0.5566315092423986, \n",
    "    0.17269775092493655, 0.06952350531583895, 0.8606722243359786, \n",
    "    0.8772074711040978, 0.20259890631699906, 0.43977313616572666, \n",
    "    0.8856663080881806]"
   ]
  },
  {
   "cell_type": "code",
   "execution_count": 20,
   "metadata": {
    "collapsed": true
   },
   "outputs": [],
   "source": [
    "trace1 = Scatter(y=y1,line=Line(color='red',shape='spline'),name='Data Set 1')\n",
    "trace2 = Scatter(y=y2,line=Line(color='red',shape='spline'),name='Data Set 2',visible=False)\n",
    "trace3 = Scatter(y=y3,line=Line(color='red',shape='spline'),name='Data Set 3',visible=False)\n",
    "trace4 = Scatter(y=y4,line=Line(color='red',shape='spline'),name='Data Set 4',visible=False)\n",
    "data = Data([trace1, trace2, trace3, trace4])"
   ]
  },
  {
   "cell_type": "code",
   "execution_count": 22,
   "metadata": {
    "collapsed": true
   },
   "outputs": [],
   "source": [
    "buttons1=list([\n",
    "    dict(args=['line.color', 'red'],   label='red',method='restyle'),\n",
    "    dict(args=['line.color', 'blue'],  label='blue',method='restyle'),\n",
    "    dict(args=['line.color', 'green'], label='green',method='restyle')\n",
    "])\n",
    "\n",
    "buttons2=list([\n",
    "    dict(args=['visible', [True, False, False, False]],label='Data Set 1',method='restyle'),\n",
    "    dict(args=['visible', [False, True, False, False]],label='Data Set 2',method='restyle'),\n",
    "    dict(args=['visible', [False, False, True, False]],label='Data Set 3',method='restyle'),\n",
    "    dict(args=['visible', [False, False, False, True]],label='Data Set 4',method='restyle')\n",
    "])"
   ]
  },
  {
   "cell_type": "code",
   "execution_count": 24,
   "metadata": {
    "collapsed": false
   },
   "outputs": [
    {
     "data": {
      "text/html": [
       "<iframe id=\"igraph\" scrolling=\"no\" style=\"border:none;\" seamless=\"seamless\" src=\"https://plot.ly/~takanori/1076.embed\" height=\"525px\" width=\"100%\"></iframe>"
      ],
      "text/plain": [
       "<plotly.tools.PlotlyDisplay object>"
      ]
     },
     "execution_count": 24,
     "metadata": {},
     "output_type": "execute_result"
    }
   ],
   "source": [
    "layout = Layout(\n",
    "    updatemenus=list([dict(x=-0.05,y=0.8,buttons=buttons1,yanchor='top'),\n",
    "                      dict(x=-0.05,y=1,  buttons=buttons2,yanchor='top')]),\n",
    ")\n",
    "fig = Figure(data=data, layout=layout)\n",
    "py.iplot(fig)"
   ]
  },
  {
   "cell_type": "code",
   "execution_count": null,
   "metadata": {
    "collapsed": true
   },
   "outputs": [],
   "source": []
  }
 ],
 "metadata": {
  "anaconda-cloud": {},
  "hide_input": false,
  "kernelspec": {
   "display_name": "Python [Root]",
   "language": "python",
   "name": "Python [Root]"
  },
  "language_info": {
   "codemirror_mode": {
    "name": "ipython",
    "version": 2
   },
   "file_extension": ".py",
   "mimetype": "text/x-python",
   "name": "python",
   "nbconvert_exporter": "python",
   "pygments_lexer": "ipython2",
   "version": "2.7.12"
  },
  "nav_menu": {},
  "toc": {
   "navigate_menu": true,
   "number_sections": true,
   "sideBar": true,
   "threshold": 6,
   "toc_cell": true,
   "toc_section_display": "block",
   "toc_window_display": true
  },
  "toc_position": {
   "height": "844px",
   "left": "0px",
   "right": "1511px",
   "top": "106px",
   "width": "409px"
  }
 },
 "nbformat": 4,
 "nbformat_minor": 0
}
