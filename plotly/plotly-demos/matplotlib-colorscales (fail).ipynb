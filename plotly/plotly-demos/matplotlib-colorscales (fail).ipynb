{
 "cells": [
  {
   "cell_type": "markdown",
   "metadata": {},
   "source": [
    "screwed up when i was trying to do this...\n",
    "(they tried to import an external file....which i couldn't find the source file for..)"
   ]
  },
  {
   "cell_type": "markdown",
   "metadata": {},
   "source": [
    "https://plot.ly/python/matplotlib-colorscales/\n",
    "\n",
    "# Download parula.py colormap"
   ]
  },
  {
   "cell_type": "code",
   "execution_count": 5,
   "metadata": {
    "collapsed": false
   },
   "outputs": [
    {
     "name": "stdout",
     "output_type": "stream",
     "text": [
      "--2016-09-27 14:08:52--  https://raw.githubusercontent.com/BIDS/colormap/master/parula.py\n",
      "Resolving raw.githubusercontent.com (raw.githubusercontent.com)... 151.101.20.133\n",
      "Connecting to raw.githubusercontent.com (raw.githubusercontent.com)|151.101.20.133|:443... connected.\n",
      "HTTP request sent, awaiting response... 200 OK\n",
      "Length: 3270 (3.2K) [text/plain]\n",
      "Saving to: ‘parula.py.1’\n",
      "\n",
      "100%[======================================>] 3,270       --.-K/s   in 0s      \n",
      "\n",
      "2016-09-27 14:08:52 (91.1 MB/s) - ‘parula.py.1’ saved [3270/3270]\n",
      "\n"
     ]
    }
   ],
   "source": [
    "!wget https://raw.githubusercontent.com/BIDS/colormap/master/parula.py"
   ]
  },
  {
   "cell_type": "code",
   "execution_count": 7,
   "metadata": {
    "collapsed": false
   },
   "outputs": [
    {
     "name": "stdout",
     "output_type": "stream",
     "text": [
      "from matplotlib.colors import LinearSegmentedColormap\r\n",
      "\r\n",
      "cm_data = [[0.2081, 0.1663, 0.5292], [0.2116238095, 0.1897809524, 0.5776761905], \r\n",
      " [0.212252381, 0.2137714286, 0.6269714286], [0.2081, 0.2386, 0.6770857143], \r\n",
      " [0.1959047619, 0.2644571429, 0.7279], [0.1707285714, 0.2919380952, \r\n",
      "  0.779247619], [0.1252714286, 0.3242428571, 0.8302714286], \r\n",
      " [0.0591333333, 0.3598333333, 0.8683333333], [0.0116952381, 0.3875095238, \r\n",
      "  0.8819571429], [0.0059571429, 0.4086142857, 0.8828428571], \r\n",
      " [0.0165142857, 0.4266, 0.8786333333], [0.032852381, 0.4430428571, \r\n",
      "  0.8719571429], [0.0498142857, 0.4585714286, 0.8640571429], \r\n",
      " [0.0629333333, 0.4736904762, 0.8554380952], [0.0722666667, 0.4886666667, \r\n",
      "  0.8467], [0.0779428571, 0.5039857143, 0.8383714286], \r\n",
      " [0.079347619, 0.5200238095, 0.8311809524], [0.0749428571, 0.5375428571, \r\n",
      "  0.8262714286], [0.0640571429, 0.5569857143, 0.8239571429], \r\n",
      " [0.0487714286, 0.5772238095, 0.8228285714], [0.0343428571, 0.5965809524, \r\n",
      "  0.819852381], [0.0265, 0.6137, 0.8135], [0.0238904762, 0.6286619048, \r\n",
      "  0.8037619048], [0.0230904762, 0.6417857143, 0.7912666667], \r\n",
      " [0.0227714286, 0.6534857143, 0.7767571429], [0.0266619048, 0.6641952381, \r\n",
      "  0.7607190476], [0.0383714286, 0.6742714286, 0.743552381], \r\n",
      " [0.0589714286, 0.6837571429, 0.7253857143], \r\n",
      " [0.0843, 0.6928333333, 0.7061666667], [0.1132952381, 0.7015, 0.6858571429], \r\n",
      " [0.1452714286, 0.7097571429, 0.6646285714], [0.1801333333, 0.7176571429, \r\n",
      "  0.6424333333], [0.2178285714, 0.7250428571, 0.6192619048], \r\n",
      " [0.2586428571, 0.7317142857, 0.5954285714], [0.3021714286, 0.7376047619, \r\n",
      "  0.5711857143], [0.3481666667, 0.7424333333, 0.5472666667], \r\n",
      " [0.3952571429, 0.7459, 0.5244428571], [0.4420095238, 0.7480809524, \r\n",
      "  0.5033142857], [0.4871238095, 0.7490619048, 0.4839761905], \r\n",
      " [0.5300285714, 0.7491142857, 0.4661142857], [0.5708571429, 0.7485190476, \r\n",
      "  0.4493904762], [0.609852381, 0.7473142857, 0.4336857143], \r\n",
      " [0.6473, 0.7456, 0.4188], [0.6834190476, 0.7434761905, 0.4044333333], \r\n",
      " [0.7184095238, 0.7411333333, 0.3904761905], \r\n",
      " [0.7524857143, 0.7384, 0.3768142857], [0.7858428571, 0.7355666667, \r\n",
      "  0.3632714286], [0.8185047619, 0.7327333333, 0.3497904762], \r\n",
      " [0.8506571429, 0.7299, 0.3360285714], [0.8824333333, 0.7274333333, 0.3217], \r\n",
      " [0.9139333333, 0.7257857143, 0.3062761905], [0.9449571429, 0.7261142857, \r\n",
      "  0.2886428571], [0.9738952381, 0.7313952381, 0.266647619], \r\n",
      " [0.9937714286, 0.7454571429, 0.240347619], [0.9990428571, 0.7653142857, \r\n",
      "  0.2164142857], [0.9955333333, 0.7860571429, 0.196652381], \r\n",
      " [0.988, 0.8066, 0.1793666667], [0.9788571429, 0.8271428571, 0.1633142857], \r\n",
      " [0.9697, 0.8481380952, 0.147452381], [0.9625857143, 0.8705142857, 0.1309], \r\n",
      " [0.9588714286, 0.8949, 0.1132428571], [0.9598238095, 0.9218333333, \r\n",
      "  0.0948380952], [0.9661, 0.9514428571, 0.0755333333], \r\n",
      " [0.9763, 0.9831, 0.0538]]\r\n",
      "\r\n",
      "parula_map = LinearSegmentedColormap.from_list('parula', cm_data)\r\n",
      "# For use of \"viscm view\"\r\n",
      "test_cm = parula_map\r\n",
      "\r\n",
      "if __name__ == \"__main__\":\r\n",
      "    import matplotlib.pyplot as plt\r\n",
      "    import numpy as np\r\n",
      "\r\n",
      "    try:\r\n",
      "        from viscm import viscm\r\n",
      "        viscm(parula_map)\r\n",
      "    except ImportError:\r\n",
      "        print(\"viscm not found, falling back on simple display\")\r\n",
      "        plt.imshow(np.linspace(0, 100, 256)[None, :], aspect='auto',\r\n",
      "                   cmap=parula_map)\r\n",
      "    plt.show()\r\n"
     ]
    }
   ],
   "source": [
    "!cat parula.py"
   ]
  },
  {
   "cell_type": "markdown",
   "metadata": {},
   "source": [
    "# Formatting the Colormap"
   ]
  },
  {
   "cell_type": "code",
   "execution_count": 8,
   "metadata": {
    "collapsed": true
   },
   "outputs": [],
   "source": [
    "import parula as par\n",
    "import matplotlib\n",
    "from matplotlib import cm\n",
    "import numpy as np\n",
    "\n",
    "magma_cmap = matplotlib.cm.get_cmap('magma')\n",
    "viridis_cmap = matplotlib.cm.get_cmap('viridis')\n",
    "parula_cmap = par.parula_map\n",
    "\n",
    "viridis_rgb = []\n",
    "magma_rgb = []\n",
    "parula_rgb = []\n",
    "norm = matplotlib.colors.Normalize(vmin=0, vmax=255)\n",
    "\n",
    "for i in range(0, 255):\n",
    "       k = matplotlib.colors.colorConverter.to_rgb(magma_cmap(norm(i)))\n",
    "       magma_rgb.append(k)\n",
    "\n",
    "for i in range(0, 255):\n",
    "       k = matplotlib.colors.colorConverter.to_rgb(viridis_cmap(norm(i)))\n",
    "       viridis_rgb.append(k)\n",
    "\n",
    "for i in range(0, 255):\n",
    "       k = matplotlib.colors.colorConverter.to_rgb(parula_cmap(norm(i)))\n",
    "       parula_rgb.append(k)\n",
    "    \n",
    "def matplotlib_to_plotly(cmap, pl_entries):\n",
    "    h = 1.0/(pl_entries-1)\n",
    "    pl_colorscale = []\n",
    "    \n",
    "    for k in range(pl_entries):\n",
    "        C = map(np.uint8, np.array(cmap(k*h)[:3])*255)\n",
    "        pl_colorscale.append([k*h, 'rgb'+str((C[0], C[1], C[2]))])\n",
    "        \n",
    "    return pl_colorscale\n",
    "\n",
    "magma = matplotlib_to_plotly(magma_cmap, 255)\n",
    "viridis = matplotlib_to_plotly(viridis_cmap, 255)\n",
    "parula = matplotlib_to_plotly(parula_cmap, 255)"
   ]
  },
  {
   "cell_type": "markdown",
   "metadata": {},
   "source": [
    "# Colorscales for heatmaps\n"
   ]
  },
  {
   "cell_type": "code",
   "execution_count": 9,
   "metadata": {
    "collapsed": true
   },
   "outputs": [],
   "source": [
    "import plotly.plotly as py\n",
    "import numpy as np\n",
    "import os\n",
    "import plotly.graph_objs as go\n",
    "from plotly import tools\n",
    "\n",
    "def heatmap_plot(colorscale, title):\n",
    "    example_dir = os.path.join(os.path.dirname('__file__'), \"examples\")\n",
    "    \n",
    "    hist2d = np.loadtxt(os.path.join(example_dir, \"hist2d.txt\"))\n",
    "    trace1 = go.Heatmap(z=hist2d, colorscale=colorscale, showscale=False)\n",
    "\n",
    "    st_helens = np.loadtxt(os.path.join(example_dir,\n",
    "                                        \"st-helens_before-modified.txt.gz\")).T\n",
    "    trace2 = go.Heatmap(z=st_helens, colorscale=colorscale, y0=-5, x0=-5)\n",
    "\n",
    "    dx = dy = 0.05  \n",
    "    y, x = np.mgrid[-5 : 5 + dy : dy, -5 : 10 + dx : dx]\n",
    "    z = np.sin(x)**10 + np.cos(10 + y*x) + np.cos(x) + 0.2*y + 0.1*x\n",
    "    trace3 = go.Heatmap(z=z, colorscale=colorscale, showscale=False)\n",
    "    \n",
    "    fig = tools.make_subplots(rows=1, cols=3, print_grid=False)\n",
    "    fig.append_trace(trace1, 1, 1)\n",
    "    fig.append_trace(trace2, 1, 2)\n",
    "    fig.append_trace(trace3, 1, 3)\n",
    "    fig['layout'].update(title=title)\n",
    "    fig['layout']['xaxis2'].update(range=[0, 450])\n",
    "    fig['layout']['yaxis2'].update(range=[0, 270])\n",
    "    \n",
    "    return fig\n"
   ]
  },
  {
   "cell_type": "code",
   "execution_count": 10,
   "metadata": {
    "collapsed": false
   },
   "outputs": [
    {
     "ename": "IOError",
     "evalue": "[Errno 2] No such file or directory: 'examples/hist2d.txt'",
     "output_type": "error",
     "traceback": [
      "\u001b[1;31m---------------------------------------------------------------------------\u001b[0m",
      "\u001b[1;31mIOError\u001b[0m                                   Traceback (most recent call last)",
      "\u001b[1;32m<ipython-input-10-6c9634830a7c>\u001b[0m in \u001b[0;36m<module>\u001b[1;34m()\u001b[0m\n\u001b[1;32m----> 1\u001b[1;33m \u001b[0mpy\u001b[0m\u001b[1;33m.\u001b[0m\u001b[0miplot\u001b[0m\u001b[1;33m(\u001b[0m\u001b[0mheatmap_plot\u001b[0m\u001b[1;33m(\u001b[0m\u001b[0mcolorscale\u001b[0m\u001b[1;33m=\u001b[0m\u001b[0mmagma\u001b[0m\u001b[1;33m,\u001b[0m \u001b[0mtitle\u001b[0m\u001b[1;33m=\u001b[0m\u001b[1;34m'MAGMA'\u001b[0m\u001b[1;33m)\u001b[0m\u001b[1;33m)\u001b[0m\u001b[1;33m\u001b[0m\u001b[0m\n\u001b[0m",
      "\u001b[1;32m<ipython-input-9-5edd82361bed>\u001b[0m in \u001b[0;36mheatmap_plot\u001b[1;34m(colorscale, title)\u001b[0m\n\u001b[0;32m      8\u001b[0m     \u001b[0mexample_dir\u001b[0m \u001b[1;33m=\u001b[0m \u001b[0mos\u001b[0m\u001b[1;33m.\u001b[0m\u001b[0mpath\u001b[0m\u001b[1;33m.\u001b[0m\u001b[0mjoin\u001b[0m\u001b[1;33m(\u001b[0m\u001b[0mos\u001b[0m\u001b[1;33m.\u001b[0m\u001b[0mpath\u001b[0m\u001b[1;33m.\u001b[0m\u001b[0mdirname\u001b[0m\u001b[1;33m(\u001b[0m\u001b[1;34m'__file__'\u001b[0m\u001b[1;33m)\u001b[0m\u001b[1;33m,\u001b[0m \u001b[1;34m\"examples\"\u001b[0m\u001b[1;33m)\u001b[0m\u001b[1;33m\u001b[0m\u001b[0m\n\u001b[0;32m      9\u001b[0m \u001b[1;33m\u001b[0m\u001b[0m\n\u001b[1;32m---> 10\u001b[1;33m     \u001b[0mhist2d\u001b[0m \u001b[1;33m=\u001b[0m \u001b[0mnp\u001b[0m\u001b[1;33m.\u001b[0m\u001b[0mloadtxt\u001b[0m\u001b[1;33m(\u001b[0m\u001b[0mos\u001b[0m\u001b[1;33m.\u001b[0m\u001b[0mpath\u001b[0m\u001b[1;33m.\u001b[0m\u001b[0mjoin\u001b[0m\u001b[1;33m(\u001b[0m\u001b[0mexample_dir\u001b[0m\u001b[1;33m,\u001b[0m \u001b[1;34m\"hist2d.txt\"\u001b[0m\u001b[1;33m)\u001b[0m\u001b[1;33m)\u001b[0m\u001b[1;33m\u001b[0m\u001b[0m\n\u001b[0m\u001b[0;32m     11\u001b[0m     \u001b[0mtrace1\u001b[0m \u001b[1;33m=\u001b[0m \u001b[0mgo\u001b[0m\u001b[1;33m.\u001b[0m\u001b[0mHeatmap\u001b[0m\u001b[1;33m(\u001b[0m\u001b[0mz\u001b[0m\u001b[1;33m=\u001b[0m\u001b[0mhist2d\u001b[0m\u001b[1;33m,\u001b[0m \u001b[0mcolorscale\u001b[0m\u001b[1;33m=\u001b[0m\u001b[0mcolorscale\u001b[0m\u001b[1;33m,\u001b[0m \u001b[0mshowscale\u001b[0m\u001b[1;33m=\u001b[0m\u001b[0mFalse\u001b[0m\u001b[1;33m)\u001b[0m\u001b[1;33m\u001b[0m\u001b[0m\n\u001b[0;32m     12\u001b[0m \u001b[1;33m\u001b[0m\u001b[0m\n",
      "\u001b[1;32m/home/takanori/anaconda2/lib/python2.7/site-packages/numpy/lib/npyio.pyc\u001b[0m in \u001b[0;36mloadtxt\u001b[1;34m(fname, dtype, comments, delimiter, converters, skiprows, usecols, unpack, ndmin)\u001b[0m\n\u001b[0;32m    801\u001b[0m                 \u001b[0mfh\u001b[0m \u001b[1;33m=\u001b[0m \u001b[0miter\u001b[0m\u001b[1;33m(\u001b[0m\u001b[0mbz2\u001b[0m\u001b[1;33m.\u001b[0m\u001b[0mBZ2File\u001b[0m\u001b[1;33m(\u001b[0m\u001b[0mfname\u001b[0m\u001b[1;33m)\u001b[0m\u001b[1;33m)\u001b[0m\u001b[1;33m\u001b[0m\u001b[0m\n\u001b[0;32m    802\u001b[0m             \u001b[1;32melif\u001b[0m \u001b[0msys\u001b[0m\u001b[1;33m.\u001b[0m\u001b[0mversion_info\u001b[0m\u001b[1;33m[\u001b[0m\u001b[1;36m0\u001b[0m\u001b[1;33m]\u001b[0m \u001b[1;33m==\u001b[0m \u001b[1;36m2\u001b[0m\u001b[1;33m:\u001b[0m\u001b[1;33m\u001b[0m\u001b[0m\n\u001b[1;32m--> 803\u001b[1;33m                 \u001b[0mfh\u001b[0m \u001b[1;33m=\u001b[0m \u001b[0miter\u001b[0m\u001b[1;33m(\u001b[0m\u001b[0mopen\u001b[0m\u001b[1;33m(\u001b[0m\u001b[0mfname\u001b[0m\u001b[1;33m,\u001b[0m \u001b[1;34m'U'\u001b[0m\u001b[1;33m)\u001b[0m\u001b[1;33m)\u001b[0m\u001b[1;33m\u001b[0m\u001b[0m\n\u001b[0m\u001b[0;32m    804\u001b[0m             \u001b[1;32melse\u001b[0m\u001b[1;33m:\u001b[0m\u001b[1;33m\u001b[0m\u001b[0m\n\u001b[0;32m    805\u001b[0m                 \u001b[0mfh\u001b[0m \u001b[1;33m=\u001b[0m \u001b[0miter\u001b[0m\u001b[1;33m(\u001b[0m\u001b[0mopen\u001b[0m\u001b[1;33m(\u001b[0m\u001b[0mfname\u001b[0m\u001b[1;33m)\u001b[0m\u001b[1;33m)\u001b[0m\u001b[1;33m\u001b[0m\u001b[0m\n",
      "\u001b[1;31mIOError\u001b[0m: [Errno 2] No such file or directory: 'examples/hist2d.txt'"
     ]
    }
   ],
   "source": [
    "py.iplot(heatmap_plot(colorscale=magma, title='MAGMA'))"
   ]
  }
 ],
 "metadata": {
  "kernelspec": {
   "display_name": "Python [Root]",
   "language": "python",
   "name": "Python [Root]"
  },
  "language_info": {
   "codemirror_mode": {
    "name": "ipython",
    "version": 2
   },
   "file_extension": ".py",
   "mimetype": "text/x-python",
   "name": "python",
   "nbconvert_exporter": "python",
   "pygments_lexer": "ipython2",
   "version": "2.7.12"
  }
 },
 "nbformat": 4,
 "nbformat_minor": 0
}
