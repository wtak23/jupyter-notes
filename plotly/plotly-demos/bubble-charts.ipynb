{
 "cells": [
  {
   "cell_type": "markdown",
   "metadata": {},
   "source": [
    "https://plot.ly/python/bubble-charts/\n",
    "\n",
    "\n",
    "  **Table of Contents**\n",
    "\n",
    "  <div id=\"toc\"></div>\n",
    "  <script type=\"text/javascript\"\n",
    "  src=\"https://raw.github.com/kmahelona/ipython_notebook_goodies/master/ipython_notebook_toc.js\">\n",
    "  </script>\n",
    "\n",
    "\n",
    "# note\n",
    "- mostly a practice with `go.Scatter` object\n",
    "- layer.marker takes most of the space in the go.Scatter object\n",
    "- I like the use of background color in the last example\n",
    "\n",
    "```python\n",
    "layout go.Layout(\n",
    "    paper_bgcolor='rgb(243, 243, 243)',\n",
    "    plot_bgcolor='rgb(243, 243, 243)',\n",
    ")\n",
    "```"
   ]
  },
  {
   "cell_type": "markdown",
   "metadata": {},
   "source": [
    "# Simple bubblecharts"
   ]
  },
  {
   "cell_type": "code",
   "execution_count": 1,
   "metadata": {
    "collapsed": false
   },
   "outputs": [
    {
     "data": {
      "text/html": [
       "<iframe id=\"igraph\" scrolling=\"no\" style=\"border:none;\" seamless=\"seamless\" src=\"https://plot.ly/~takanori/376.embed\" height=\"525px\" width=\"100%\"></iframe>"
      ],
      "text/plain": [
       "<plotly.tools.PlotlyDisplay object>"
      ]
     },
     "execution_count": 1,
     "metadata": {},
     "output_type": "execute_result"
    }
   ],
   "source": [
    "import plotly.plotly as py\n",
    "import plotly.graph_objs as go\n",
    "\n",
    "trace0 = go.Scatter(\n",
    "    x=[1, 2, 3, 4],\n",
    "    y=[10, 11, 12, 13],\n",
    "    mode='markers',\n",
    "    marker=dict(\n",
    "        size=[40, 60, 80, 100],\n",
    "    )\n",
    ")\n",
    "\n",
    "data = [trace0]\n",
    "py.iplot(data)"
   ]
  },
  {
   "cell_type": "markdown",
   "metadata": {},
   "source": [
    "# Setting Marker Size and Color\n"
   ]
  },
  {
   "cell_type": "code",
   "execution_count": 2,
   "metadata": {
    "collapsed": false
   },
   "outputs": [
    {
     "data": {
      "text/html": [
       "<iframe id=\"igraph\" scrolling=\"no\" style=\"border:none;\" seamless=\"seamless\" src=\"https://plot.ly/~takanori/378.embed\" height=\"525px\" width=\"100%\"></iframe>"
      ],
      "text/plain": [
       "<plotly.tools.PlotlyDisplay object>"
      ]
     },
     "execution_count": 2,
     "metadata": {},
     "output_type": "execute_result"
    }
   ],
   "source": [
    "trace0 = go.Scatter(\n",
    "    x=[1, 2, 3, 4],\n",
    "    y=[10, 11, 12, 13],\n",
    "    mode='markers',\n",
    "    marker=dict(\n",
    "        color=['rgb(93, 164, 214)', 'rgb(255, 144, 14)',\n",
    "               'rgb(44, 160, 101)', 'rgb(255, 65, 54)'],\n",
    "        opacity=[1, 0.8, 0.6, 0.4],\n",
    "        size=[40, 60, 80, 100],\n",
    "    )\n",
    ")\n",
    "\n",
    "data = [trace0]\n",
    "py.iplot(data)"
   ]
  },
  {
   "cell_type": "markdown",
   "metadata": {},
   "source": [
    "# Hover Text with Bubble Charts\n"
   ]
  },
  {
   "cell_type": "code",
   "execution_count": 5,
   "metadata": {
    "collapsed": false
   },
   "outputs": [
    {
     "data": {
      "text/html": [
       "<iframe id=\"igraph\" scrolling=\"no\" style=\"border:none;\" seamless=\"seamless\" src=\"https://plot.ly/~takanori/382.embed\" height=\"525px\" width=\"100%\"></iframe>"
      ],
      "text/plain": [
       "<plotly.tools.PlotlyDisplay object>"
      ]
     },
     "execution_count": 5,
     "metadata": {},
     "output_type": "execute_result"
    }
   ],
   "source": [
    "trace0 = go.Scatter(\n",
    "    x=[1, 2, 3, 4],\n",
    "    y=[10, 11, 12, 13],\n",
    "    text=['A<br>size: 40', 'B<br>size: 60', 'C<br>size: 80', 'D<br>size: 100'],\n",
    "    mode='markers',\n",
    "    marker=dict(\n",
    "        color=['rgb(93, 164, 214)', 'rgb(255, 144, 14)',  'rgb(44, 160, 101)', 'rgb(255, 65, 54)'],\n",
    "        size=[40, 60, 80, 100],\n",
    "    )\n",
    ")\n",
    "\n",
    "data = [trace0]\n",
    "py.iplot(data)"
   ]
  },
  {
   "cell_type": "markdown",
   "metadata": {},
   "source": [
    "# Scaling the Size of Bubble Charts\n"
   ]
  },
  {
   "cell_type": "code",
   "execution_count": 6,
   "metadata": {
    "collapsed": false,
    "scrolled": true
   },
   "outputs": [
    {
     "data": {
      "text/html": [
       "<iframe id=\"igraph\" scrolling=\"no\" style=\"border:none;\" seamless=\"seamless\" src=\"https://plot.ly/~takanori/384.embed\" height=\"525px\" width=\"100%\"></iframe>"
      ],
      "text/plain": [
       "<plotly.tools.PlotlyDisplay object>"
      ]
     },
     "execution_count": 6,
     "metadata": {},
     "output_type": "execute_result"
    }
   ],
   "source": [
    "trace0 = go.Scatter(\n",
    "    x=[1, 2, 3, 4],\n",
    "    y=[10, 11, 12, 13],\n",
    "    text=['A</br>size: 40</br>default', 'B</br>size: 60</br>default', 'C</br>size: 80</br>default', 'D</br>size: 100</br>default'],\n",
    "    mode='markers',\n",
    "    marker=dict(\n",
    "        size=[400, 600, 800, 1000],\n",
    "        sizemode='area',\n",
    "    )\n",
    ")\n",
    "trace1 = go.Scatter(\n",
    "    x=[1, 2, 3, 4],\n",
    "    y=[14, 15, 16, 17],\n",
    "    text=['A</br>size: 40</br>sixeref: 0.2', 'B</br>size: 60</br>sixeref: 0.2', 'C</br>size: 80</br>sixeref: 0.2', 'D</br>size: 100</br>sixeref: 0.2'],\n",
    "    mode='markers',\n",
    "    marker=dict(\n",
    "        size=[400, 600, 800, 1000],\n",
    "        sizeref=2,\n",
    "        sizemode='area',\n",
    "    )\n",
    ")\n",
    "trace2 = go.Scatter(\n",
    "    x=[1, 2, 3, 4],\n",
    "    y=[20, 21, 22, 23],\n",
    "    text=['A</br>size: 40</br>sixeref: 2', \n",
    "          'B</br>size: 60</br>sixeref: 2', \n",
    "          'C</br>size: 80</br>sixeref: 2', \n",
    "          'D</br>size: 100</br>sixeref: 2'],\n",
    "    mode='markers',\n",
    "    marker=dict(\n",
    "        size=[400, 600, 800, 1000],\n",
    "        sizeref=0.2,\n",
    "        sizemode='area',\n",
    "    )\n",
    ")\n",
    "\n",
    "data = [trace0, trace1, trace2]\n",
    "py.iplot(data)"
   ]
  },
  {
   "cell_type": "markdown",
   "metadata": {},
   "source": [
    "# Bubble Charts with Colorscale\n"
   ]
  },
  {
   "cell_type": "code",
   "execution_count": 8,
   "metadata": {
    "collapsed": false
   },
   "outputs": [
    {
     "data": {
      "text/html": [
       "<iframe id=\"igraph\" scrolling=\"no\" style=\"border:none;\" seamless=\"seamless\" src=\"https://plot.ly/~takanori/388.embed\" height=\"525px\" width=\"100%\"></iframe>"
      ],
      "text/plain": [
       "<plotly.tools.PlotlyDisplay object>"
      ]
     },
     "execution_count": 8,
     "metadata": {},
     "output_type": "execute_result"
    }
   ],
   "source": [
    "data = [\n",
    "    {\n",
    "        'x': [1, 3.2, 5.4, 7.6, 9.8, 12.5],\n",
    "        'y': [1, 3.2, 5.4, 7.6, 9.8, 12.5],\n",
    "        'mode': 'markers',\n",
    "        'marker': {\n",
    "            'color': [120, 125, 130, 135, 140, 145],\n",
    "            'size': [15, 30, 55, 70, 90, 110],\n",
    "            'showscale': True\n",
    "        }\n",
    "    }\n",
    "]\n",
    "\n",
    "py.iplot(data)"
   ]
  },
  {
   "cell_type": "markdown",
   "metadata": {},
   "source": [
    "# Categorical Bubble Charts\n"
   ]
  },
  {
   "cell_type": "code",
   "execution_count": 9,
   "metadata": {
    "collapsed": false
   },
   "outputs": [
    {
     "data": {
      "text/html": [
       "<iframe id=\"igraph\" scrolling=\"no\" style=\"border:none;\" seamless=\"seamless\" src=\"https://plot.ly/~takanori/390.embed\" height=\"525px\" width=\"100%\"></iframe>"
      ],
      "text/plain": [
       "<plotly.tools.PlotlyDisplay object>"
      ]
     },
     "execution_count": 9,
     "metadata": {},
     "output_type": "execute_result"
    }
   ],
   "source": [
    "import pandas as pd\n",
    "import math\n",
    "\n",
    "data = pd.read_csv(\"https://raw.githubusercontent.com/plotly/datasets/master/gapminderDataFiveYear.csv\")\n",
    "df_2007 = data[data['year']==2007]\n",
    "df_2007 = df_2007.sort_values(['continent', 'country'])\n",
    "slope = 2.666051223553066e-05\n",
    "hover_text = []\n",
    "bubble_size = []\n",
    "\n",
    "for index, row in df_2007.iterrows():\n",
    "    hover_text.append(('Country: {country}<br>'+\n",
    "                      'Life Expectancy: {lifeExp}<br>'+\n",
    "                      'GDP per capita: {gdp}<br>'+\n",
    "                      'Population: {pop}<br>'+\n",
    "                      'Year: {year}').format(country=row['country'],\n",
    "                                            lifeExp=row['lifeExp'],\n",
    "                                            gdp=row['gdpPercap'],\n",
    "                                            pop=row['pop'],\n",
    "                                            year=row['year']))\n",
    "    bubble_size.append(math.sqrt(row['pop']*slope))\n",
    "\n",
    "df_2007['text'] = hover_text\n",
    "df_2007['size'] = bubble_size\n",
    "\n",
    "trace0 = go.Scatter(\n",
    "    x=df_2007['gdpPercap'][df_2007['continent'] == 'Africa'],\n",
    "    y=df_2007['lifeExp'][df_2007['continent'] == 'Africa'],\n",
    "    mode='markers',\n",
    "    name='Africa',\n",
    "    text=df_2007['text'][df_2007['continent'] == 'Africa'],\n",
    "    marker=dict(\n",
    "        symbol='circle',\n",
    "        sizemode='diameter',\n",
    "        sizeref=0.85,\n",
    "        size=df_2007['size'][df_2007['continent'] == 'Africa'],\n",
    "        line=dict(\n",
    "            width=2\n",
    "        ),\n",
    "    )\n",
    ")\n",
    "trace1 = go.Scatter(\n",
    "    x=df_2007['gdpPercap'][df_2007['continent'] == 'Americas'],\n",
    "    y=df_2007['lifeExp'][df_2007['continent'] == 'Americas'],\n",
    "    mode='markers',\n",
    "    name='Americas',\n",
    "    text=df_2007['text'][df_2007['continent'] == 'Americas'],\n",
    "    marker=dict(\n",
    "        sizemode='diameter',\n",
    "        sizeref=0.85,\n",
    "        size=df_2007['size'][df_2007['continent'] == 'Americas'],\n",
    "        line=dict(\n",
    "            width=2\n",
    "        ),\n",
    "    )\n",
    ")\n",
    "trace2 = go.Scatter(\n",
    "    x=df_2007['gdpPercap'][df_2007['continent'] == 'Asia'],\n",
    "    y=df_2007['lifeExp'][df_2007['continent'] == 'Asia'],\n",
    "    mode='markers',\n",
    "    name='Asia',\n",
    "    text=df_2007['text'][df_2007['continent'] == 'Asia'],\n",
    "    marker=dict(\n",
    "        sizemode='diameter',\n",
    "        sizeref=0.85,\n",
    "        size=df_2007['size'][df_2007['continent'] == 'Asia'],\n",
    "        line=dict(\n",
    "            width=2\n",
    "        ),\n",
    "    )\n",
    ")\n",
    "trace3 = go.Scatter(\n",
    "    x=df_2007['gdpPercap'][df_2007['continent'] == 'Europe'],\n",
    "    y=df_2007['lifeExp'][df_2007['continent'] == 'Europe'],\n",
    "    mode='markers',\n",
    "    name='Europe',\n",
    "    text=df_2007['text'][df_2007['continent'] == 'Europe'],\n",
    "    marker=dict(\n",
    "        sizemode='diameter',\n",
    "        sizeref=0.85,\n",
    "        size=df_2007['size'][df_2007['continent'] == 'Europe'],\n",
    "        line=dict(\n",
    "            width=2\n",
    "        ),\n",
    "    )\n",
    ")\n",
    "trace4 = go.Scatter(\n",
    "    x=df_2007['gdpPercap'][df_2007['continent'] == 'Oceania'],\n",
    "    y=df_2007['lifeExp'][df_2007['continent'] == 'Oceania'],\n",
    "    mode='markers',\n",
    "    name='Oceania',\n",
    "    text=df_2007['text'][df_2007['continent'] == 'Oceania'],\n",
    "    marker=dict(\n",
    "        sizemode='diameter',\n",
    "        sizeref=0.85,\n",
    "        size=df_2007['size'][df_2007['continent'] == 'Oceania'],\n",
    "        line=dict(\n",
    "            width=2\n",
    "        ),\n",
    "    )\n",
    ")\n",
    "\n",
    "data = [trace0, trace1, trace2, trace3, trace4]\n",
    "layout = go.Layout(\n",
    "    title='Life Expectancy v. Per Capita GDP, 2007',\n",
    "    xaxis=dict(\n",
    "        title='GDP per capita (2000 dollars)',\n",
    "        gridcolor='rgb(255, 255, 255)',\n",
    "        range=[2.003297660701705, 5.191505530708712],\n",
    "        type='log',\n",
    "        zerolinewidth=1,\n",
    "        ticklen=5,\n",
    "        gridwidth=2,\n",
    "    ),\n",
    "    yaxis=dict(\n",
    "        title='Life Expectancy (years)',\n",
    "        gridcolor='rgb(255, 255, 255)',\n",
    "        range=[36.12621671352166, 91.72921793264332],\n",
    "        zerolinewidth=1,\n",
    "        ticklen=5,\n",
    "        gridwidth=2,\n",
    "    ),\n",
    "    paper_bgcolor='rgb(243, 243, 243)',\n",
    "    plot_bgcolor='rgb(243, 243, 243)',\n",
    ")\n",
    "\n",
    "fig = go.Figure(data=data, layout=layout)\n",
    "py.iplot(fig)"
   ]
  },
  {
   "cell_type": "code",
   "execution_count": null,
   "metadata": {
    "collapsed": true
   },
   "outputs": [],
   "source": []
  }
 ],
 "metadata": {
  "kernelspec": {
   "display_name": "Python [Root]",
   "language": "python",
   "name": "Python [Root]"
  },
  "language_info": {
   "codemirror_mode": {
    "name": "ipython",
    "version": 2
   },
   "file_extension": ".py",
   "mimetype": "text/x-python",
   "name": "python",
   "nbconvert_exporter": "python",
   "pygments_lexer": "ipython2",
   "version": "2.7.12"
  }
 },
 "nbformat": 4,
 "nbformat_minor": 0
}
