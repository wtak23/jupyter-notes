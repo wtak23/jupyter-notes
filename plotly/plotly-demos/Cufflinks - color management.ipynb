{
 "cells": [
  {
   "cell_type": "markdown",
   "metadata": {},
   "source": [
    "http://nbviewer.jupyter.org/gist/santosjorge/00ca17b121fa2463e18b\n",
    "\n",
    "\n",
    "  **Table of Contents**\n",
    "\n",
    "  <div id=\"toc\"></div>\n",
    "  <script type=\"text/javascript\"\n",
    "  src=\"https://raw.github.com/kmahelona/ipython_notebook_goodies/master/ipython_notebook_toc.js\">\n",
    "  </script>\n"
   ]
  },
  {
   "cell_type": "markdown",
   "metadata": {},
   "source": [
    "### Cufflinks Colors\n",
    "\n",
    "Cufflinks also provides a wide set of tools for color managements; including color conversion across multiple spectrums and color table generation."
   ]
  },
  {
   "cell_type": "code",
   "execution_count": 2,
   "metadata": {
    "collapsed": false
   },
   "outputs": [],
   "source": [
    "import cufflinks as cf"
   ]
  },
  {
   "cell_type": "markdown",
   "metadata": {},
   "source": [
    "Colors can be represented as strings:\n",
    "\n",
    "**HEX** `\"#db4052\"`  \n",
    "**RGB** `\"rgb(219, 64, 82)\"`  \n",
    "**RGBA** `\"rgba(219, 64, 82, 1.0)\"`  \n"
   ]
  },
  {
   "cell_type": "markdown",
   "metadata": {},
   "source": [
    "### Color Conversions"
   ]
  },
  {
   "cell_type": "code",
   "execution_count": null,
   "metadata": {
    "collapsed": false
   },
   "outputs": [],
   "source": [
    "# The colors module includes a pre-defined set of commonly used colors\n",
    "cf.colors.cnames"
   ]
  },
  {
   "cell_type": "code",
   "execution_count": 7,
   "metadata": {
    "collapsed": false
   },
   "outputs": [
    {
     "data": {
      "text/plain": [
       "'rgb(219, 64, 82)'"
      ]
     },
     "execution_count": 7,
     "metadata": {},
     "output_type": "execute_result"
    }
   ],
   "source": [
    "# HEX to RGB\n",
    "cf.colors.hex_to_rgb('red')"
   ]
  },
  {
   "cell_type": "code",
   "execution_count": 8,
   "metadata": {
    "collapsed": false
   },
   "outputs": [
    {
     "data": {
      "text/plain": [
       "'#db4052'"
      ]
     },
     "execution_count": 8,
     "metadata": {},
     "output_type": "execute_result"
    }
   ],
   "source": [
    "# RGB to HEX\n",
    "cf.colors.rgb_to_hex('rgb(219, 64, 82)')"
   ]
  },
  {
   "cell_type": "code",
   "execution_count": 10,
   "metadata": {
    "collapsed": false
   },
   "outputs": [
    {
     "data": {
      "text/plain": [
       "('rgba(55, 128, 191, 0.5)', 'rgba(219, 64, 82, 0.4)')"
      ]
     },
     "execution_count": 10,
     "metadata": {},
     "output_type": "execute_result"
    }
   ],
   "source": [
    "# RGB or HEX to RGBA (transparency)\n",
    "cf.colors.to_rgba('#3780bf',.5), cf.colors.to_rgba('rgb(219, 64, 82)',.4)"
   ]
  },
  {
   "cell_type": "code",
   "execution_count": 11,
   "metadata": {
    "collapsed": false
   },
   "outputs": [
    {
     "data": {
      "text/plain": [
       "'rgb(240, 178, 185)'"
      ]
     },
     "execution_count": 11,
     "metadata": {},
     "output_type": "execute_result"
    }
   ],
   "source": [
    "# RGBA to RGB (flatten transparency)\n",
    "# By default assumes that the transparency color is *white*, however this can be also passed as a parameter. \n",
    "cf.colors.rgba_to_rgb('rgba(219, 64, 82, 0.4)','white')"
   ]
  },
  {
   "cell_type": "markdown",
   "metadata": {},
   "source": [
    "### Normalization"
   ]
  },
  {
   "cell_type": "code",
   "execution_count": 12,
   "metadata": {
    "collapsed": false
   },
   "outputs": [
    {
     "data": {
      "text/plain": [
       "['#ff0088', '#f0b2b9', '#f0b2b9', '#008000']"
      ]
     },
     "execution_count": 12,
     "metadata": {},
     "output_type": "execute_result"
    }
   ],
   "source": [
    "# Cufflinks.colors.normalize will always return the an hex value for all types of colors\n",
    "colors=['#f08','rgb(240, 178, 185)','rgba(219, 64, 82, 0.4)','green']\n",
    "[cf.colors.normalize(c) for c in colors]"
   ]
  },
  {
   "cell_type": "markdown",
   "metadata": {},
   "source": [
    "### Color Ranges\n",
    "\n",
    "A range of colors can be generated using a base color and varying the saturation."
   ]
  },
  {
   "cell_type": "code",
   "execution_count": 13,
   "metadata": {
    "collapsed": false
   },
   "outputs": [
    {
     "data": {
      "text/plain": [
       "['#000000',\n",
       " '#33001b',\n",
       " '#660036',\n",
       " '#990051',\n",
       " '#cc006c',\n",
       " '#ff0088',\n",
       " '#ff329f',\n",
       " '#ff65b7',\n",
       " '#ff99cf',\n",
       " '#ffcce7',\n",
       " '#ffffff']"
      ]
     },
     "execution_count": 13,
     "metadata": {},
     "output_type": "execute_result"
    }
   ],
   "source": [
    "# 10 different tones of pink\n",
    "cf.colors.color_range('pink',10)"
   ]
  },
  {
   "cell_type": "markdown",
   "metadata": {},
   "source": [
    "### Color Tables\n",
    "\n",
    "This function is meant to be used in an **iPython Notebook**.\n",
    "It generates an HTML table to display either a defined list of colors or to automatically generate a range of colors."
   ]
  },
  {
   "cell_type": "code",
   "execution_count": 14,
   "metadata": {
    "collapsed": false
   },
   "outputs": [
    {
     "data": {
      "text/html": [
       "<ul style=\"list-style-type: none;\"><li style=\"text-align:center;line-height:30px;background-color:#ff0088;\"> \n",
       "\t\t\t<span style=\" text-shadow:0 1px 0 rgba(255,255,255,0.6); color:#000000;\">#FF0088</span>\n",
       "\t\t\t</li><li style=\"text-align:center;line-height:30px;background-color:#f0b2b9;\"> \n",
       "\t\t\t<span style=\" text-shadow:0 1px 0 rgba(255,255,255,0.6); color:#000000;\">#F0B2B9</span>\n",
       "\t\t\t</li><li style=\"text-align:center;line-height:30px;background-color:#3780bf;\"> \n",
       "\t\t\t<span style=\" text-shadow:0 1px 0 rgba(255,255,255,0.6); color:#000000;\">#3780BF</span>\n",
       "\t\t\t</li><li style=\"text-align:center;line-height:30px;background-color:#32ab60;\"> \n",
       "\t\t\t<span style=\" text-shadow:0 1px 0 rgba(255,255,255,0.6); color:#000000;\">#32AB60</span>\n",
       "\t\t\t</li></ul>"
      ],
      "text/plain": [
       "<IPython.core.display.HTML object>"
      ]
     },
     "metadata": {},
     "output_type": "display_data"
    }
   ],
   "source": [
    "# Displaying a table of defined colors (list)\n",
    "colors=['#f08', 'rgb(240, 178, 185)', 'blue' , '#32ab60']\n",
    "cf.colors.color_table(colors)"
   ]
  },
  {
   "cell_type": "code",
   "execution_count": 15,
   "metadata": {
    "collapsed": false
   },
   "outputs": [
    {
     "data": {
      "text/html": [
       "<ul style=\"list-style-type: none;\"><li style=\"text-align:center;line-height:30px;background-color:#ffffff;\"> \n",
       "\t\t\t<span style=\" text-shadow:0 1px 0 rgba(255,255,255,0.6); color:#000000;\">#FFFFFF</span>\n",
       "\t\t\t</li><li style=\"text-align:center;line-height:30px;background-color:#ffeedd;\"> \n",
       "\t\t\t<span style=\" text-shadow:0 1px 0 rgba(255,255,255,0.6); color:#000000;\">#FFEEDD</span>\n",
       "\t\t\t</li><li style=\"text-align:center;line-height:30px;background-color:#ffddbb;\"> \n",
       "\t\t\t<span style=\" text-shadow:0 1px 0 rgba(255,255,255,0.6); color:#000000;\">#FFDDBB</span>\n",
       "\t\t\t</li><li style=\"text-align:center;line-height:30px;background-color:#ffcc99;\"> \n",
       "\t\t\t<span style=\" text-shadow:0 1px 0 rgba(255,255,255,0.6); color:#000000;\">#FFCC99</span>\n",
       "\t\t\t</li><li style=\"text-align:center;line-height:30px;background-color:#ffbb77;\"> \n",
       "\t\t\t<span style=\" text-shadow:0 1px 0 rgba(255,255,255,0.6); color:#000000;\">#FFBB77</span>\n",
       "\t\t\t</li><li style=\"text-align:center;line-height:30px;background-color:#ffaa55;\"> \n",
       "\t\t\t<span style=\" text-shadow:0 1px 0 rgba(255,255,255,0.6); color:#000000;\">#FFAA55</span>\n",
       "\t\t\t</li><li style=\"text-align:center; border: 1px solid #ffffff;line-height:30px;background-color:#ff9933;\"> \n",
       "\t\t\t<span style=\" text-shadow:0 1px 0 rgba(255,255,255,0.6); color:#000000;\">#FF9933</span>\n",
       "\t\t\t</li><li style=\"text-align:center;line-height:30px;background-color:#ff9932;\"> \n",
       "\t\t\t<span style=\" text-shadow:0 1px 0 rgba(255,255,255,0.6); color:#000000;\">#FF9932</span>\n",
       "\t\t\t</li><li style=\"text-align:center;line-height:30px;background-color:#ff8810;\"> \n",
       "\t\t\t<span style=\" text-shadow:0 1px 0 rgba(255,255,255,0.6); color:#000000;\">#FF8810</span>\n",
       "\t\t\t</li><li style=\"text-align:center;line-height:30px;background-color:#ee8e2f;\"> \n",
       "\t\t\t<span style=\" text-shadow:0 1px 0 rgba(255,255,255,0.6); color:#000000;\">#EE8E2F</span>\n",
       "\t\t\t</li><li style=\"text-align:center;line-height:30px;background-color:#cc7a28;\"> \n",
       "\t\t\t<span style=\" text-shadow:0 1px 0 rgba(255,255,255,0.6); color:#000000;\">#CC7A28</span>\n",
       "\t\t\t</li><li style=\"text-align:center;line-height:30px;background-color:#aa6521;\"> \n",
       "\t\t\t<span style=\" text-shadow:0 1px 0 rgba(255,255,255,0.6); color:#000000;\">#AA6521</span>\n",
       "\t\t\t</li><li style=\"text-align:center;line-height:30px;background-color:#88511b;\"> \n",
       "\t\t\t<span style=\" text-shadow:0 1px 0 rgba(255,255,255,0.6); color:#000000;\">#88511B</span>\n",
       "\t\t\t</li><li style=\"text-align:center;line-height:30px;background-color:#663d14;\"> \n",
       "\t\t\t<span style=\" text-shadow:0 1px 0 #000; color:#ffffff;\">#663D14</span>\n",
       "\t\t\t</li><li style=\"text-align:center;line-height:30px;background-color:#44280d;\"> \n",
       "\t\t\t<span style=\" text-shadow:0 1px 0 #000; color:#ffffff;\">#44280D</span>\n",
       "\t\t\t</li><li style=\"text-align:center;line-height:30px;background-color:#221406;\"> \n",
       "\t\t\t<span style=\" text-shadow:0 1px 0 #000; color:#ffffff;\">#221406</span>\n",
       "\t\t\t</li><li style=\"text-align:center;line-height:30px;background-color:#000000;\"> \n",
       "\t\t\t<span style=\" text-shadow:0 1px 0 #000; color:#ffffff;\">#000000</span>\n",
       "\t\t\t</li></ul>"
      ],
      "text/plain": [
       "<IPython.core.display.HTML object>"
      ]
     },
     "metadata": {},
     "output_type": "display_data"
    }
   ],
   "source": [
    "# Generating 15 shades of orange\n",
    "cf.colors.color_table('orange',15)"
   ]
  },
  {
   "cell_type": "markdown",
   "metadata": {},
   "source": [
    "### Color Generators\n",
    "\n",
    "A color generator can be used to produce shades of colors in an iterative form. For example when plotting N timeseries so the color used are as distinctive as possible. "
   ]
  },
  {
   "cell_type": "code",
   "execution_count": 16,
   "metadata": {
    "collapsed": false
   },
   "outputs": [
    {
     "data": {
      "text/html": [
       "<ul style=\"list-style-type: none;\"><li style=\"text-align:center;line-height:30px;background-color:#008000;\"> \n",
       "\t\t\t<span style=\" text-shadow:0 1px 0 rgba(255,255,255,0.6); color:#000000;\">#008000</span>\n",
       "\t\t\t</li><li style=\"text-align:center;line-height:30px;background-color:#ff9933;\"> \n",
       "\t\t\t<span style=\" text-shadow:0 1px 0 rgba(255,255,255,0.6); color:#000000;\">#FF9933</span>\n",
       "\t\t\t</li><li style=\"text-align:center;line-height:30px;background-color:#3780bf;\"> \n",
       "\t\t\t<span style=\" text-shadow:0 1px 0 rgba(255,255,255,0.6); color:#000000;\">#3780BF</span>\n",
       "\t\t\t</li><li style=\"text-align:center;line-height:30px;background-color:#4b8cc5;\"> \n",
       "\t\t\t<span style=\" text-shadow:0 1px 0 rgba(255,255,255,0.6); color:#000000;\">#4B8CC5</span>\n",
       "\t\t\t</li><li style=\"text-align:center;line-height:30px;background-color:#198c19;\"> \n",
       "\t\t\t<span style=\" text-shadow:0 1px 0 rgba(255,255,255,0.6); color:#000000;\">#198C19</span>\n",
       "\t\t\t</li><li style=\"text-align:center;line-height:30px;background-color:#ffa347;\"> \n",
       "\t\t\t<span style=\" text-shadow:0 1px 0 rgba(255,255,255,0.6); color:#000000;\">#FFA347</span>\n",
       "\t\t\t</li><li style=\"text-align:center;line-height:30px;background-color:#ffad5b;\"> \n",
       "\t\t\t<span style=\" text-shadow:0 1px 0 rgba(255,255,255,0.6); color:#000000;\">#FFAD5B</span>\n",
       "\t\t\t</li><li style=\"text-align:center;line-height:30px;background-color:#5f99cb;\"> \n",
       "\t\t\t<span style=\" text-shadow:0 1px 0 rgba(255,255,255,0.6); color:#000000;\">#5F99CB</span>\n",
       "\t\t\t</li><li style=\"text-align:center;line-height:30px;background-color:#339933;\"> \n",
       "\t\t\t<span style=\" text-shadow:0 1px 0 rgba(255,255,255,0.6); color:#000000;\">#339933</span>\n",
       "\t\t\t</li><li style=\"text-align:center;line-height:30px;background-color:#4ca64c;\"> \n",
       "\t\t\t<span style=\" text-shadow:0 1px 0 rgba(255,255,255,0.6); color:#000000;\">#4CA64C</span>\n",
       "\t\t\t</li><li style=\"text-align:center;line-height:30px;background-color:#ffb770;\"> \n",
       "\t\t\t<span style=\" text-shadow:0 1px 0 rgba(255,255,255,0.6); color:#000000;\">#FFB770</span>\n",
       "\t\t\t</li><li style=\"text-align:center;line-height:30px;background-color:#73a6d2;\"> \n",
       "\t\t\t<span style=\" text-shadow:0 1px 0 rgba(255,255,255,0.6); color:#000000;\">#73A6D2</span>\n",
       "\t\t\t</li><li style=\"text-align:center;line-height:30px;background-color:#87b2d8;\"> \n",
       "\t\t\t<span style=\" text-shadow:0 1px 0 rgba(255,255,255,0.6); color:#000000;\">#87B2D8</span>\n",
       "\t\t\t</li><li style=\"text-align:center;line-height:30px;background-color:#66b266;\"> \n",
       "\t\t\t<span style=\" text-shadow:0 1px 0 rgba(255,255,255,0.6); color:#000000;\">#66B266</span>\n",
       "\t\t\t</li><li style=\"text-align:center;line-height:30px;background-color:#ffc184;\"> \n",
       "\t\t\t<span style=\" text-shadow:0 1px 0 rgba(255,255,255,0.6); color:#000000;\">#FFC184</span>\n",
       "\t\t\t</li></ul>"
      ],
      "text/plain": [
       "<IPython.core.display.HTML object>"
      ]
     },
     "metadata": {},
     "output_type": "display_data"
    }
   ],
   "source": [
    "# Create a generator using 3 defined base colors\n",
    "colors=['green','orange','blue']\n",
    "gen=cf.colors.colorgen(colors)\n",
    "outputColors=[gen.next() for _ in range(15)]\n",
    "cf.colors.color_table(outputColors)"
   ]
  },
  {
   "cell_type": "code",
   "execution_count": 17,
   "metadata": {
    "collapsed": false
   },
   "outputs": [
    {
     "data": {
      "text/html": [
       "<ul style=\"list-style-type: none;\"><li style=\"text-align:center;line-height:30px;background-color:#e24a33;\"> \n",
       "\t\t\t<span style=\" text-shadow:0 1px 0 rgba(255,255,255,0.6); color:#000000;\">#E24A33</span>\n",
       "\t\t\t</li><li style=\"text-align:center;line-height:30px;background-color:#3e6fb0;\"> \n",
       "\t\t\t<span style=\" text-shadow:0 1px 0 rgba(255,255,255,0.6); color:#000000;\">#3E6FB0</span>\n",
       "\t\t\t</li><li style=\"text-align:center;line-height:30px;background-color:#8476ca;\"> \n",
       "\t\t\t<span style=\" text-shadow:0 1px 0 rgba(255,255,255,0.6); color:#000000;\">#8476CA</span>\n",
       "\t\t\t</li><li style=\"text-align:center;line-height:30px;background-color:#656565;\"> \n",
       "\t\t\t<span style=\" text-shadow:0 1px 0 #000; color:#ffffff;\">#656565</span>\n",
       "\t\t\t</li><li style=\"text-align:center;line-height:30px;background-color:#fbc15e;\"> \n",
       "\t\t\t<span style=\" text-shadow:0 1px 0 rgba(255,255,255,0.6); color:#000000;\">#FBC15E</span>\n",
       "\t\t\t</li><li style=\"text-align:center;line-height:30px;background-color:#8eba42;\"> \n",
       "\t\t\t<span style=\" text-shadow:0 1px 0 rgba(255,255,255,0.6); color:#000000;\">#8EBA42</span>\n",
       "\t\t\t</li><li style=\"text-align:center;line-height:30px;background-color:#ffb5b8;\"> \n",
       "\t\t\t<span style=\" text-shadow:0 1px 0 rgba(255,255,255,0.6); color:#000000;\">#FFB5B8</span>\n",
       "\t\t\t</li><li style=\"text-align:center;line-height:30px;background-color:#ffbcbf;\"> \n",
       "\t\t\t<span style=\" text-shadow:0 1px 0 rgba(255,255,255,0.6); color:#000000;\">#FFBCBF</span>\n",
       "\t\t\t</li><li style=\"text-align:center;line-height:30px;background-color:#e45c47;\"> \n",
       "\t\t\t<span style=\" text-shadow:0 1px 0 rgba(255,255,255,0.6); color:#000000;\">#E45C47</span>\n",
       "\t\t\t</li><li style=\"text-align:center;line-height:30px;background-color:#517db7;\"> \n",
       "\t\t\t<span style=\" text-shadow:0 1px 0 rgba(255,255,255,0.6); color:#000000;\">#517DB7</span>\n",
       "\t\t\t</li><li style=\"text-align:center;line-height:30px;background-color:#9083cf;\"> \n",
       "\t\t\t<span style=\" text-shadow:0 1px 0 rgba(255,255,255,0.6); color:#000000;\">#9083CF</span>\n",
       "\t\t\t</li><li style=\"text-align:center;line-height:30px;background-color:#747474;\"> \n",
       "\t\t\t<span style=\" text-shadow:0 1px 0 #000; color:#ffffff;\">#747474</span>\n",
       "\t\t\t</li><li style=\"text-align:center;line-height:30px;background-color:#fbc76e;\"> \n",
       "\t\t\t<span style=\" text-shadow:0 1px 0 rgba(255,255,255,0.6); color:#000000;\">#FBC76E</span>\n",
       "\t\t\t</li><li style=\"text-align:center;line-height:30px;background-color:#99c054;\"> \n",
       "\t\t\t<span style=\" text-shadow:0 1px 0 rgba(255,255,255,0.6); color:#000000;\">#99C054</span>\n",
       "\t\t\t</li><li style=\"text-align:center;line-height:30px;background-color:#a4c767;\"> \n",
       "\t\t\t<span style=\" text-shadow:0 1px 0 rgba(255,255,255,0.6); color:#000000;\">#A4C767</span>\n",
       "\t\t\t</li></ul>"
      ],
      "text/plain": [
       "<IPython.core.display.HTML object>"
      ]
     },
     "metadata": {},
     "output_type": "display_data"
    }
   ],
   "source": [
    "# Create a generator with default set of colors\n",
    "gen=cf.colors.colorgen()\n",
    "outputColors=[gen.next() for _ in range(15)]\n",
    "cf.colors.color_table(outputColors)"
   ]
  },
  {
   "cell_type": "code",
   "execution_count": null,
   "metadata": {
    "collapsed": false
   },
   "outputs": [],
   "source": [
    "# We can see all available scales with\n",
    "cf.get_scales()"
   ]
  },
  {
   "cell_type": "code",
   "execution_count": 19,
   "metadata": {
    "collapsed": false
   },
   "outputs": [
    {
     "data": {
      "text/html": [
       "<div style=\"display:inline-block;padding:10px;\"><div>accent</div><div style=\"background-color:rgb(127,201,127);height:20px;width:20px;display:inline-block;\"></div><div style=\"background-color:rgb(190,174,212);height:20px;width:20px;display:inline-block;\"></div><div style=\"background-color:rgb(253,192,134);height:20px;width:20px;display:inline-block;\"></div><div style=\"background-color:rgb(255,255,153);height:20px;width:20px;display:inline-block;\"></div><div style=\"background-color:rgb(56,108,176);height:20px;width:20px;display:inline-block;\"></div><div style=\"background-color:rgb(240,2,127);height:20px;width:20px;display:inline-block;\"></div><div style=\"background-color:rgb(191,91,23);height:20px;width:20px;display:inline-block;\"></div><div style=\"background-color:rgb(102,102,102);height:20px;width:20px;display:inline-block;\"></div></div><div style=\"display:inline-block;padding:10px;\"><div>blues</div><div style=\"background-color:rgb(247,251,255);height:20px;width:20px;display:inline-block;\"></div><div style=\"background-color:rgb(222,235,247);height:20px;width:20px;display:inline-block;\"></div><div style=\"background-color:rgb(198,219,239);height:20px;width:20px;display:inline-block;\"></div><div style=\"background-color:rgb(158,202,225);height:20px;width:20px;display:inline-block;\"></div><div style=\"background-color:rgb(107,174,214);height:20px;width:20px;display:inline-block;\"></div><div style=\"background-color:rgb(66,146,198);height:20px;width:20px;display:inline-block;\"></div><div style=\"background-color:rgb(33,113,181);height:20px;width:20px;display:inline-block;\"></div><div style=\"background-color:rgb(8,81,156);height:20px;width:20px;display:inline-block;\"></div><div style=\"background-color:rgb(8,48,107);height:20px;width:20px;display:inline-block;\"></div></div><div style=\"display:inline-block;padding:10px;\"><div>brbg</div><div style=\"background-color:rgb(84,48,5);height:20px;width:20px;display:inline-block;\"></div><div style=\"background-color:rgb(140,81,10);height:20px;width:20px;display:inline-block;\"></div><div style=\"background-color:rgb(191,129,45);height:20px;width:20px;display:inline-block;\"></div><div style=\"background-color:rgb(223,194,125);height:20px;width:20px;display:inline-block;\"></div><div style=\"background-color:rgb(246,232,195);height:20px;width:20px;display:inline-block;\"></div><div style=\"background-color:rgb(245,245,245);height:20px;width:20px;display:inline-block;\"></div><div style=\"background-color:rgb(199,234,229);height:20px;width:20px;display:inline-block;\"></div><div style=\"background-color:rgb(128,205,193);height:20px;width:20px;display:inline-block;\"></div><div style=\"background-color:rgb(53,151,143);height:20px;width:20px;display:inline-block;\"></div><div style=\"background-color:rgb(1,102,94);height:20px;width:20px;display:inline-block;\"></div><div style=\"background-color:rgb(0,60,48);height:20px;width:20px;display:inline-block;\"></div></div><div style=\"display:inline-block;padding:10px;\"><div>bugn</div><div style=\"background-color:rgb(247,252,253);height:20px;width:20px;display:inline-block;\"></div><div style=\"background-color:rgb(229,245,249);height:20px;width:20px;display:inline-block;\"></div><div style=\"background-color:rgb(204,236,230);height:20px;width:20px;display:inline-block;\"></div><div style=\"background-color:rgb(153,216,201);height:20px;width:20px;display:inline-block;\"></div><div style=\"background-color:rgb(102,194,164);height:20px;width:20px;display:inline-block;\"></div><div style=\"background-color:rgb(65,174,118);height:20px;width:20px;display:inline-block;\"></div><div style=\"background-color:rgb(35,139,69);height:20px;width:20px;display:inline-block;\"></div><div style=\"background-color:rgb(0,109,44);height:20px;width:20px;display:inline-block;\"></div><div style=\"background-color:rgb(0,68,27);height:20px;width:20px;display:inline-block;\"></div></div><div style=\"display:inline-block;padding:10px;\"><div>bupu</div><div style=\"background-color:rgb(247,252,253);height:20px;width:20px;display:inline-block;\"></div><div style=\"background-color:rgb(224,236,244);height:20px;width:20px;display:inline-block;\"></div><div style=\"background-color:rgb(191,211,230);height:20px;width:20px;display:inline-block;\"></div><div style=\"background-color:rgb(158,188,218);height:20px;width:20px;display:inline-block;\"></div><div style=\"background-color:rgb(140,150,198);height:20px;width:20px;display:inline-block;\"></div><div style=\"background-color:rgb(140,107,177);height:20px;width:20px;display:inline-block;\"></div><div style=\"background-color:rgb(136,65,157);height:20px;width:20px;display:inline-block;\"></div><div style=\"background-color:rgb(129,15,124);height:20px;width:20px;display:inline-block;\"></div><div style=\"background-color:rgb(77,0,75);height:20px;width:20px;display:inline-block;\"></div></div><div style=\"display:inline-block;padding:10px;\"><div>dark2</div><div style=\"background-color:rgb(27,158,119);height:20px;width:20px;display:inline-block;\"></div><div style=\"background-color:rgb(217,95,2);height:20px;width:20px;display:inline-block;\"></div><div style=\"background-color:rgb(117,112,179);height:20px;width:20px;display:inline-block;\"></div><div style=\"background-color:rgb(231,41,138);height:20px;width:20px;display:inline-block;\"></div><div style=\"background-color:rgb(102,166,30);height:20px;width:20px;display:inline-block;\"></div><div style=\"background-color:rgb(230,171,2);height:20px;width:20px;display:inline-block;\"></div><div style=\"background-color:rgb(166,118,29);height:20px;width:20px;display:inline-block;\"></div><div style=\"background-color:rgb(102,102,102);height:20px;width:20px;display:inline-block;\"></div></div><div style=\"display:inline-block;padding:10px;\"><div>dflt</div><div style=\"background-color:rgb(255, 153, 51);height:20px;width:20px;display:inline-block;\"></div><div style=\"background-color:rgb(55, 128, 191);height:20px;width:20px;display:inline-block;\"></div><div style=\"background-color:rgb(50, 171, 96);height:20px;width:20px;display:inline-block;\"></div><div style=\"background-color:rgb(128, 0, 128);height:20px;width:20px;display:inline-block;\"></div><div style=\"background-color:rgb(219, 64, 82);height:20px;width:20px;display:inline-block;\"></div><div style=\"background-color:rgb(0, 128, 128);height:20px;width:20px;display:inline-block;\"></div><div style=\"background-color:rgb(255, 255, 51);height:20px;width:20px;display:inline-block;\"></div><div style=\"background-color:rgb(128, 128, 0);height:20px;width:20px;display:inline-block;\"></div><div style=\"background-color:rgb(251, 128, 114);height:20px;width:20px;display:inline-block;\"></div><div style=\"background-color:rgb(128, 177, 211);height:20px;width:20px;display:inline-block;\"></div></div><div style=\"display:inline-block;padding:10px;\"><div>ggplot</div><div style=\"background-color:rgb(226, 74, 51);height:20px;width:20px;display:inline-block;\"></div><div style=\"background-color:rgb(62, 111, 176);height:20px;width:20px;display:inline-block;\"></div><div style=\"background-color:rgb(132, 118, 202);height:20px;width:20px;display:inline-block;\"></div><div style=\"background-color:rgb(101, 101, 101);height:20px;width:20px;display:inline-block;\"></div><div style=\"background-color:rgb(251, 193, 94);height:20px;width:20px;display:inline-block;\"></div><div style=\"background-color:rgb(142, 186, 66);height:20px;width:20px;display:inline-block;\"></div><div style=\"background-color:rgb(255, 181, 184);height:20px;width:20px;display:inline-block;\"></div></div><div style=\"display:inline-block;padding:10px;\"><div>gnbu</div><div style=\"background-color:rgb(247,252,240);height:20px;width:20px;display:inline-block;\"></div><div style=\"background-color:rgb(224,243,219);height:20px;width:20px;display:inline-block;\"></div><div style=\"background-color:rgb(204,235,197);height:20px;width:20px;display:inline-block;\"></div><div style=\"background-color:rgb(168,221,181);height:20px;width:20px;display:inline-block;\"></div><div style=\"background-color:rgb(123,204,196);height:20px;width:20px;display:inline-block;\"></div><div style=\"background-color:rgb(78,179,211);height:20px;width:20px;display:inline-block;\"></div><div style=\"background-color:rgb(43,140,190);height:20px;width:20px;display:inline-block;\"></div><div style=\"background-color:rgb(8,104,172);height:20px;width:20px;display:inline-block;\"></div><div style=\"background-color:rgb(8,64,129);height:20px;width:20px;display:inline-block;\"></div></div><div style=\"display:inline-block;padding:10px;\"><div>greens</div><div style=\"background-color:rgb(247,252,245);height:20px;width:20px;display:inline-block;\"></div><div style=\"background-color:rgb(229,245,224);height:20px;width:20px;display:inline-block;\"></div><div style=\"background-color:rgb(199,233,192);height:20px;width:20px;display:inline-block;\"></div><div style=\"background-color:rgb(161,217,155);height:20px;width:20px;display:inline-block;\"></div><div style=\"background-color:rgb(116,196,118);height:20px;width:20px;display:inline-block;\"></div><div style=\"background-color:rgb(65,171,93);height:20px;width:20px;display:inline-block;\"></div><div style=\"background-color:rgb(35,139,69);height:20px;width:20px;display:inline-block;\"></div><div style=\"background-color:rgb(0,109,44);height:20px;width:20px;display:inline-block;\"></div><div style=\"background-color:rgb(0,68,27);height:20px;width:20px;display:inline-block;\"></div></div><div style=\"display:inline-block;padding:10px;\"><div>greys</div><div style=\"background-color:rgb(255,255,255);height:20px;width:20px;display:inline-block;\"></div><div style=\"background-color:rgb(240,240,240);height:20px;width:20px;display:inline-block;\"></div><div style=\"background-color:rgb(217,217,217);height:20px;width:20px;display:inline-block;\"></div><div style=\"background-color:rgb(189,189,189);height:20px;width:20px;display:inline-block;\"></div><div style=\"background-color:rgb(150,150,150);height:20px;width:20px;display:inline-block;\"></div><div style=\"background-color:rgb(115,115,115);height:20px;width:20px;display:inline-block;\"></div><div style=\"background-color:rgb(82,82,82);height:20px;width:20px;display:inline-block;\"></div><div style=\"background-color:rgb(37,37,37);height:20px;width:20px;display:inline-block;\"></div><div style=\"background-color:rgb(0,0,0);height:20px;width:20px;display:inline-block;\"></div></div><div style=\"display:inline-block;padding:10px;\"><div>oranges</div><div style=\"background-color:rgb(255,245,235);height:20px;width:20px;display:inline-block;\"></div><div style=\"background-color:rgb(254,230,206);height:20px;width:20px;display:inline-block;\"></div><div style=\"background-color:rgb(253,208,162);height:20px;width:20px;display:inline-block;\"></div><div style=\"background-color:rgb(253,174,107);height:20px;width:20px;display:inline-block;\"></div><div style=\"background-color:rgb(253,141,60);height:20px;width:20px;display:inline-block;\"></div><div style=\"background-color:rgb(241,105,19);height:20px;width:20px;display:inline-block;\"></div><div style=\"background-color:rgb(217,72,1);height:20px;width:20px;display:inline-block;\"></div><div style=\"background-color:rgb(166,54,3);height:20px;width:20px;display:inline-block;\"></div><div style=\"background-color:rgb(127,39,4);height:20px;width:20px;display:inline-block;\"></div></div><div style=\"display:inline-block;padding:10px;\"><div>orrd</div><div style=\"background-color:rgb(255,247,236);height:20px;width:20px;display:inline-block;\"></div><div style=\"background-color:rgb(254,232,200);height:20px;width:20px;display:inline-block;\"></div><div style=\"background-color:rgb(253,212,158);height:20px;width:20px;display:inline-block;\"></div><div style=\"background-color:rgb(253,187,132);height:20px;width:20px;display:inline-block;\"></div><div style=\"background-color:rgb(252,141,89);height:20px;width:20px;display:inline-block;\"></div><div style=\"background-color:rgb(239,101,72);height:20px;width:20px;display:inline-block;\"></div><div style=\"background-color:rgb(215,48,31);height:20px;width:20px;display:inline-block;\"></div><div style=\"background-color:rgb(179,0,0);height:20px;width:20px;display:inline-block;\"></div><div style=\"background-color:rgb(127,0,0);height:20px;width:20px;display:inline-block;\"></div></div><div style=\"display:inline-block;padding:10px;\"><div>paired</div><div style=\"background-color:rgb(166,206,227);height:20px;width:20px;display:inline-block;\"></div><div style=\"background-color:rgb(31,120,180);height:20px;width:20px;display:inline-block;\"></div><div style=\"background-color:rgb(178,223,138);height:20px;width:20px;display:inline-block;\"></div><div style=\"background-color:rgb(51,160,44);height:20px;width:20px;display:inline-block;\"></div><div style=\"background-color:rgb(251,154,153);height:20px;width:20px;display:inline-block;\"></div><div style=\"background-color:rgb(227,26,28);height:20px;width:20px;display:inline-block;\"></div><div style=\"background-color:rgb(253,191,111);height:20px;width:20px;display:inline-block;\"></div><div style=\"background-color:rgb(255,127,0);height:20px;width:20px;display:inline-block;\"></div><div style=\"background-color:rgb(202,178,214);height:20px;width:20px;display:inline-block;\"></div><div style=\"background-color:rgb(106,61,154);height:20px;width:20px;display:inline-block;\"></div><div style=\"background-color:rgb(255,255,153);height:20px;width:20px;display:inline-block;\"></div><div style=\"background-color:rgb(177,89,40);height:20px;width:20px;display:inline-block;\"></div></div><div style=\"display:inline-block;padding:10px;\"><div>pastel1</div><div style=\"background-color:rgb(251,180,174);height:20px;width:20px;display:inline-block;\"></div><div style=\"background-color:rgb(179,205,227);height:20px;width:20px;display:inline-block;\"></div><div style=\"background-color:rgb(204,235,197);height:20px;width:20px;display:inline-block;\"></div><div style=\"background-color:rgb(222,203,228);height:20px;width:20px;display:inline-block;\"></div><div style=\"background-color:rgb(254,217,166);height:20px;width:20px;display:inline-block;\"></div><div style=\"background-color:rgb(255,255,204);height:20px;width:20px;display:inline-block;\"></div><div style=\"background-color:rgb(229,216,189);height:20px;width:20px;display:inline-block;\"></div><div style=\"background-color:rgb(253,218,236);height:20px;width:20px;display:inline-block;\"></div><div style=\"background-color:rgb(242,242,242);height:20px;width:20px;display:inline-block;\"></div></div><div style=\"display:inline-block;padding:10px;\"><div>pastel2</div><div style=\"background-color:rgb(179,226,205);height:20px;width:20px;display:inline-block;\"></div><div style=\"background-color:rgb(253,205,172);height:20px;width:20px;display:inline-block;\"></div><div style=\"background-color:rgb(203,213,232);height:20px;width:20px;display:inline-block;\"></div><div style=\"background-color:rgb(244,202,228);height:20px;width:20px;display:inline-block;\"></div><div style=\"background-color:rgb(230,245,201);height:20px;width:20px;display:inline-block;\"></div><div style=\"background-color:rgb(255,242,174);height:20px;width:20px;display:inline-block;\"></div><div style=\"background-color:rgb(241,226,204);height:20px;width:20px;display:inline-block;\"></div><div style=\"background-color:rgb(204,204,204);height:20px;width:20px;display:inline-block;\"></div></div><div style=\"display:inline-block;padding:10px;\"><div>piyg</div><div style=\"background-color:rgb(142,1,82);height:20px;width:20px;display:inline-block;\"></div><div style=\"background-color:rgb(197,27,125);height:20px;width:20px;display:inline-block;\"></div><div style=\"background-color:rgb(222,119,174);height:20px;width:20px;display:inline-block;\"></div><div style=\"background-color:rgb(241,182,218);height:20px;width:20px;display:inline-block;\"></div><div style=\"background-color:rgb(253,224,239);height:20px;width:20px;display:inline-block;\"></div><div style=\"background-color:rgb(247,247,247);height:20px;width:20px;display:inline-block;\"></div><div style=\"background-color:rgb(230,245,208);height:20px;width:20px;display:inline-block;\"></div><div style=\"background-color:rgb(184,225,134);height:20px;width:20px;display:inline-block;\"></div><div style=\"background-color:rgb(127,188,65);height:20px;width:20px;display:inline-block;\"></div><div style=\"background-color:rgb(77,146,33);height:20px;width:20px;display:inline-block;\"></div><div style=\"background-color:rgb(39,100,25);height:20px;width:20px;display:inline-block;\"></div></div><div style=\"display:inline-block;padding:10px;\"><div>prgn</div><div style=\"background-color:rgb(64,0,75);height:20px;width:20px;display:inline-block;\"></div><div style=\"background-color:rgb(118,42,131);height:20px;width:20px;display:inline-block;\"></div><div style=\"background-color:rgb(153,112,171);height:20px;width:20px;display:inline-block;\"></div><div style=\"background-color:rgb(194,165,207);height:20px;width:20px;display:inline-block;\"></div><div style=\"background-color:rgb(231,212,232);height:20px;width:20px;display:inline-block;\"></div><div style=\"background-color:rgb(247,247,247);height:20px;width:20px;display:inline-block;\"></div><div style=\"background-color:rgb(217,240,211);height:20px;width:20px;display:inline-block;\"></div><div style=\"background-color:rgb(166,219,160);height:20px;width:20px;display:inline-block;\"></div><div style=\"background-color:rgb(90,174,97);height:20px;width:20px;display:inline-block;\"></div><div style=\"background-color:rgb(27,120,55);height:20px;width:20px;display:inline-block;\"></div><div style=\"background-color:rgb(0,68,27);height:20px;width:20px;display:inline-block;\"></div></div><div style=\"display:inline-block;padding:10px;\"><div>pubu</div><div style=\"background-color:rgb(255,247,251);height:20px;width:20px;display:inline-block;\"></div><div style=\"background-color:rgb(236,231,242);height:20px;width:20px;display:inline-block;\"></div><div style=\"background-color:rgb(208,209,230);height:20px;width:20px;display:inline-block;\"></div><div style=\"background-color:rgb(166,189,219);height:20px;width:20px;display:inline-block;\"></div><div style=\"background-color:rgb(116,169,207);height:20px;width:20px;display:inline-block;\"></div><div style=\"background-color:rgb(54,144,192);height:20px;width:20px;display:inline-block;\"></div><div style=\"background-color:rgb(5,112,176);height:20px;width:20px;display:inline-block;\"></div><div style=\"background-color:rgb(4,90,141);height:20px;width:20px;display:inline-block;\"></div><div style=\"background-color:rgb(2,56,88);height:20px;width:20px;display:inline-block;\"></div></div><div style=\"display:inline-block;padding:10px;\"><div>pubugn</div><div style=\"background-color:rgb(255,247,251);height:20px;width:20px;display:inline-block;\"></div><div style=\"background-color:rgb(236,226,240);height:20px;width:20px;display:inline-block;\"></div><div style=\"background-color:rgb(208,209,230);height:20px;width:20px;display:inline-block;\"></div><div style=\"background-color:rgb(166,189,219);height:20px;width:20px;display:inline-block;\"></div><div style=\"background-color:rgb(103,169,207);height:20px;width:20px;display:inline-block;\"></div><div style=\"background-color:rgb(54,144,192);height:20px;width:20px;display:inline-block;\"></div><div style=\"background-color:rgb(2,129,138);height:20px;width:20px;display:inline-block;\"></div><div style=\"background-color:rgb(1,108,89);height:20px;width:20px;display:inline-block;\"></div><div style=\"background-color:rgb(1,70,54);height:20px;width:20px;display:inline-block;\"></div></div><div style=\"display:inline-block;padding:10px;\"><div>puor</div><div style=\"background-color:rgb(127,59,8);height:20px;width:20px;display:inline-block;\"></div><div style=\"background-color:rgb(179,88,6);height:20px;width:20px;display:inline-block;\"></div><div style=\"background-color:rgb(224,130,20);height:20px;width:20px;display:inline-block;\"></div><div style=\"background-color:rgb(253,184,99);height:20px;width:20px;display:inline-block;\"></div><div style=\"background-color:rgb(254,224,182);height:20px;width:20px;display:inline-block;\"></div><div style=\"background-color:rgb(247,247,247);height:20px;width:20px;display:inline-block;\"></div><div style=\"background-color:rgb(216,218,235);height:20px;width:20px;display:inline-block;\"></div><div style=\"background-color:rgb(178,171,210);height:20px;width:20px;display:inline-block;\"></div><div style=\"background-color:rgb(128,115,172);height:20px;width:20px;display:inline-block;\"></div><div style=\"background-color:rgb(84,39,136);height:20px;width:20px;display:inline-block;\"></div><div style=\"background-color:rgb(45,0,75);height:20px;width:20px;display:inline-block;\"></div></div><div style=\"display:inline-block;padding:10px;\"><div>purd</div><div style=\"background-color:rgb(247,244,249);height:20px;width:20px;display:inline-block;\"></div><div style=\"background-color:rgb(231,225,239);height:20px;width:20px;display:inline-block;\"></div><div style=\"background-color:rgb(212,185,218);height:20px;width:20px;display:inline-block;\"></div><div style=\"background-color:rgb(201,148,199);height:20px;width:20px;display:inline-block;\"></div><div style=\"background-color:rgb(223,101,176);height:20px;width:20px;display:inline-block;\"></div><div style=\"background-color:rgb(231,41,138);height:20px;width:20px;display:inline-block;\"></div><div style=\"background-color:rgb(206,18,86);height:20px;width:20px;display:inline-block;\"></div><div style=\"background-color:rgb(152,0,67);height:20px;width:20px;display:inline-block;\"></div><div style=\"background-color:rgb(103,0,31);height:20px;width:20px;display:inline-block;\"></div></div><div style=\"display:inline-block;padding:10px;\"><div>purples</div><div style=\"background-color:rgb(252,251,253);height:20px;width:20px;display:inline-block;\"></div><div style=\"background-color:rgb(239,237,245);height:20px;width:20px;display:inline-block;\"></div><div style=\"background-color:rgb(218,218,235);height:20px;width:20px;display:inline-block;\"></div><div style=\"background-color:rgb(188,189,220);height:20px;width:20px;display:inline-block;\"></div><div style=\"background-color:rgb(158,154,200);height:20px;width:20px;display:inline-block;\"></div><div style=\"background-color:rgb(128,125,186);height:20px;width:20px;display:inline-block;\"></div><div style=\"background-color:rgb(106,81,163);height:20px;width:20px;display:inline-block;\"></div><div style=\"background-color:rgb(84,39,143);height:20px;width:20px;display:inline-block;\"></div><div style=\"background-color:rgb(63,0,125);height:20px;width:20px;display:inline-block;\"></div></div><div style=\"display:inline-block;padding:10px;\"><div>rdbu</div><div style=\"background-color:rgb(103,0,31);height:20px;width:20px;display:inline-block;\"></div><div style=\"background-color:rgb(178,24,43);height:20px;width:20px;display:inline-block;\"></div><div style=\"background-color:rgb(214,96,77);height:20px;width:20px;display:inline-block;\"></div><div style=\"background-color:rgb(244,165,130);height:20px;width:20px;display:inline-block;\"></div><div style=\"background-color:rgb(253,219,199);height:20px;width:20px;display:inline-block;\"></div><div style=\"background-color:rgb(247,247,247);height:20px;width:20px;display:inline-block;\"></div><div style=\"background-color:rgb(209,229,240);height:20px;width:20px;display:inline-block;\"></div><div style=\"background-color:rgb(146,197,222);height:20px;width:20px;display:inline-block;\"></div><div style=\"background-color:rgb(67,147,195);height:20px;width:20px;display:inline-block;\"></div><div style=\"background-color:rgb(33,102,172);height:20px;width:20px;display:inline-block;\"></div><div style=\"background-color:rgb(5,48,97);height:20px;width:20px;display:inline-block;\"></div></div><div style=\"display:inline-block;padding:10px;\"><div>rdgy</div><div style=\"background-color:rgb(103,0,31);height:20px;width:20px;display:inline-block;\"></div><div style=\"background-color:rgb(178,24,43);height:20px;width:20px;display:inline-block;\"></div><div style=\"background-color:rgb(214,96,77);height:20px;width:20px;display:inline-block;\"></div><div style=\"background-color:rgb(244,165,130);height:20px;width:20px;display:inline-block;\"></div><div style=\"background-color:rgb(253,219,199);height:20px;width:20px;display:inline-block;\"></div><div style=\"background-color:rgb(255,255,255);height:20px;width:20px;display:inline-block;\"></div><div style=\"background-color:rgb(224,224,224);height:20px;width:20px;display:inline-block;\"></div><div style=\"background-color:rgb(186,186,186);height:20px;width:20px;display:inline-block;\"></div><div style=\"background-color:rgb(135,135,135);height:20px;width:20px;display:inline-block;\"></div><div style=\"background-color:rgb(77,77,77);height:20px;width:20px;display:inline-block;\"></div><div style=\"background-color:rgb(26,26,26);height:20px;width:20px;display:inline-block;\"></div></div><div style=\"display:inline-block;padding:10px;\"><div>rdpu</div><div style=\"background-color:rgb(255,247,243);height:20px;width:20px;display:inline-block;\"></div><div style=\"background-color:rgb(253,224,221);height:20px;width:20px;display:inline-block;\"></div><div style=\"background-color:rgb(252,197,192);height:20px;width:20px;display:inline-block;\"></div><div style=\"background-color:rgb(250,159,181);height:20px;width:20px;display:inline-block;\"></div><div style=\"background-color:rgb(247,104,161);height:20px;width:20px;display:inline-block;\"></div><div style=\"background-color:rgb(221,52,151);height:20px;width:20px;display:inline-block;\"></div><div style=\"background-color:rgb(174,1,126);height:20px;width:20px;display:inline-block;\"></div><div style=\"background-color:rgb(122,1,119);height:20px;width:20px;display:inline-block;\"></div><div style=\"background-color:rgb(73,0,106);height:20px;width:20px;display:inline-block;\"></div></div><div style=\"display:inline-block;padding:10px;\"><div>rdylbu</div><div style=\"background-color:rgb(165,0,38);height:20px;width:20px;display:inline-block;\"></div><div style=\"background-color:rgb(215,48,39);height:20px;width:20px;display:inline-block;\"></div><div style=\"background-color:rgb(244,109,67);height:20px;width:20px;display:inline-block;\"></div><div style=\"background-color:rgb(253,174,97);height:20px;width:20px;display:inline-block;\"></div><div style=\"background-color:rgb(254,224,144);height:20px;width:20px;display:inline-block;\"></div><div style=\"background-color:rgb(255,255,191);height:20px;width:20px;display:inline-block;\"></div><div style=\"background-color:rgb(224,243,248);height:20px;width:20px;display:inline-block;\"></div><div style=\"background-color:rgb(171,217,233);height:20px;width:20px;display:inline-block;\"></div><div style=\"background-color:rgb(116,173,209);height:20px;width:20px;display:inline-block;\"></div><div style=\"background-color:rgb(69,117,180);height:20px;width:20px;display:inline-block;\"></div><div style=\"background-color:rgb(49,54,149);height:20px;width:20px;display:inline-block;\"></div></div><div style=\"display:inline-block;padding:10px;\"><div>rdylgn</div><div style=\"background-color:rgb(165,0,38);height:20px;width:20px;display:inline-block;\"></div><div style=\"background-color:rgb(215,48,39);height:20px;width:20px;display:inline-block;\"></div><div style=\"background-color:rgb(244,109,67);height:20px;width:20px;display:inline-block;\"></div><div style=\"background-color:rgb(253,174,97);height:20px;width:20px;display:inline-block;\"></div><div style=\"background-color:rgb(254,224,139);height:20px;width:20px;display:inline-block;\"></div><div style=\"background-color:rgb(255,255,191);height:20px;width:20px;display:inline-block;\"></div><div style=\"background-color:rgb(217,239,139);height:20px;width:20px;display:inline-block;\"></div><div style=\"background-color:rgb(166,217,106);height:20px;width:20px;display:inline-block;\"></div><div style=\"background-color:rgb(102,189,99);height:20px;width:20px;display:inline-block;\"></div><div style=\"background-color:rgb(26,152,80);height:20px;width:20px;display:inline-block;\"></div><div style=\"background-color:rgb(0,104,55);height:20px;width:20px;display:inline-block;\"></div></div><div style=\"display:inline-block;padding:10px;\"><div>reds</div><div style=\"background-color:rgb(255,245,240);height:20px;width:20px;display:inline-block;\"></div><div style=\"background-color:rgb(254,224,210);height:20px;width:20px;display:inline-block;\"></div><div style=\"background-color:rgb(252,187,161);height:20px;width:20px;display:inline-block;\"></div><div style=\"background-color:rgb(252,146,114);height:20px;width:20px;display:inline-block;\"></div><div style=\"background-color:rgb(251,106,74);height:20px;width:20px;display:inline-block;\"></div><div style=\"background-color:rgb(239,59,44);height:20px;width:20px;display:inline-block;\"></div><div style=\"background-color:rgb(203,24,29);height:20px;width:20px;display:inline-block;\"></div><div style=\"background-color:rgb(165,15,21);height:20px;width:20px;display:inline-block;\"></div><div style=\"background-color:rgb(103,0,13);height:20px;width:20px;display:inline-block;\"></div></div><div style=\"display:inline-block;padding:10px;\"><div>set1</div><div style=\"background-color:rgb(228,26,28);height:20px;width:20px;display:inline-block;\"></div><div style=\"background-color:rgb(55,126,184);height:20px;width:20px;display:inline-block;\"></div><div style=\"background-color:rgb(77,175,74);height:20px;width:20px;display:inline-block;\"></div><div style=\"background-color:rgb(152,78,163);height:20px;width:20px;display:inline-block;\"></div><div style=\"background-color:rgb(255,127,0);height:20px;width:20px;display:inline-block;\"></div><div style=\"background-color:rgb(255,255,51);height:20px;width:20px;display:inline-block;\"></div><div style=\"background-color:rgb(166,86,40);height:20px;width:20px;display:inline-block;\"></div><div style=\"background-color:rgb(247,129,191);height:20px;width:20px;display:inline-block;\"></div><div style=\"background-color:rgb(153,153,153);height:20px;width:20px;display:inline-block;\"></div></div><div style=\"display:inline-block;padding:10px;\"><div>set2</div><div style=\"background-color:rgb(102,194,165);height:20px;width:20px;display:inline-block;\"></div><div style=\"background-color:rgb(252,141,98);height:20px;width:20px;display:inline-block;\"></div><div style=\"background-color:rgb(141,160,203);height:20px;width:20px;display:inline-block;\"></div><div style=\"background-color:rgb(231,138,195);height:20px;width:20px;display:inline-block;\"></div><div style=\"background-color:rgb(166,216,84);height:20px;width:20px;display:inline-block;\"></div><div style=\"background-color:rgb(255,217,47);height:20px;width:20px;display:inline-block;\"></div><div style=\"background-color:rgb(229,196,148);height:20px;width:20px;display:inline-block;\"></div><div style=\"background-color:rgb(179,179,179);height:20px;width:20px;display:inline-block;\"></div></div><div style=\"display:inline-block;padding:10px;\"><div>set3</div><div style=\"background-color:rgb(141,211,199);height:20px;width:20px;display:inline-block;\"></div><div style=\"background-color:rgb(255,255,179);height:20px;width:20px;display:inline-block;\"></div><div style=\"background-color:rgb(190,186,218);height:20px;width:20px;display:inline-block;\"></div><div style=\"background-color:rgb(251,128,114);height:20px;width:20px;display:inline-block;\"></div><div style=\"background-color:rgb(128,177,211);height:20px;width:20px;display:inline-block;\"></div><div style=\"background-color:rgb(253,180,98);height:20px;width:20px;display:inline-block;\"></div><div style=\"background-color:rgb(179,222,105);height:20px;width:20px;display:inline-block;\"></div><div style=\"background-color:rgb(252,205,229);height:20px;width:20px;display:inline-block;\"></div><div style=\"background-color:rgb(217,217,217);height:20px;width:20px;display:inline-block;\"></div><div style=\"background-color:rgb(188,128,189);height:20px;width:20px;display:inline-block;\"></div><div style=\"background-color:rgb(204,235,197);height:20px;width:20px;display:inline-block;\"></div><div style=\"background-color:rgb(255,237,111);height:20px;width:20px;display:inline-block;\"></div></div><div style=\"display:inline-block;padding:10px;\"><div>spectral</div><div style=\"background-color:rgb(158,1,66);height:20px;width:20px;display:inline-block;\"></div><div style=\"background-color:rgb(213,62,79);height:20px;width:20px;display:inline-block;\"></div><div style=\"background-color:rgb(244,109,67);height:20px;width:20px;display:inline-block;\"></div><div style=\"background-color:rgb(253,174,97);height:20px;width:20px;display:inline-block;\"></div><div style=\"background-color:rgb(254,224,139);height:20px;width:20px;display:inline-block;\"></div><div style=\"background-color:rgb(255,255,191);height:20px;width:20px;display:inline-block;\"></div><div style=\"background-color:rgb(230,245,152);height:20px;width:20px;display:inline-block;\"></div><div style=\"background-color:rgb(171,221,164);height:20px;width:20px;display:inline-block;\"></div><div style=\"background-color:rgb(102,194,165);height:20px;width:20px;display:inline-block;\"></div><div style=\"background-color:rgb(50,136,189);height:20px;width:20px;display:inline-block;\"></div><div style=\"background-color:rgb(94,79,162);height:20px;width:20px;display:inline-block;\"></div></div><div style=\"display:inline-block;padding:10px;\"><div>ylgn</div><div style=\"background-color:rgb(255,255,229);height:20px;width:20px;display:inline-block;\"></div><div style=\"background-color:rgb(247,252,185);height:20px;width:20px;display:inline-block;\"></div><div style=\"background-color:rgb(217,240,163);height:20px;width:20px;display:inline-block;\"></div><div style=\"background-color:rgb(173,221,142);height:20px;width:20px;display:inline-block;\"></div><div style=\"background-color:rgb(120,198,121);height:20px;width:20px;display:inline-block;\"></div><div style=\"background-color:rgb(65,171,93);height:20px;width:20px;display:inline-block;\"></div><div style=\"background-color:rgb(35,132,67);height:20px;width:20px;display:inline-block;\"></div><div style=\"background-color:rgb(0,104,55);height:20px;width:20px;display:inline-block;\"></div><div style=\"background-color:rgb(0,69,41);height:20px;width:20px;display:inline-block;\"></div></div><div style=\"display:inline-block;padding:10px;\"><div>ylgnbu</div><div style=\"background-color:rgb(255,255,217);height:20px;width:20px;display:inline-block;\"></div><div style=\"background-color:rgb(237,248,177);height:20px;width:20px;display:inline-block;\"></div><div style=\"background-color:rgb(199,233,180);height:20px;width:20px;display:inline-block;\"></div><div style=\"background-color:rgb(127,205,187);height:20px;width:20px;display:inline-block;\"></div><div style=\"background-color:rgb(65,182,196);height:20px;width:20px;display:inline-block;\"></div><div style=\"background-color:rgb(29,145,192);height:20px;width:20px;display:inline-block;\"></div><div style=\"background-color:rgb(34,94,168);height:20px;width:20px;display:inline-block;\"></div><div style=\"background-color:rgb(37,52,148);height:20px;width:20px;display:inline-block;\"></div><div style=\"background-color:rgb(8,29,88);height:20px;width:20px;display:inline-block;\"></div></div><div style=\"display:inline-block;padding:10px;\"><div>ylorbr</div><div style=\"background-color:rgb(255,255,229);height:20px;width:20px;display:inline-block;\"></div><div style=\"background-color:rgb(255,247,188);height:20px;width:20px;display:inline-block;\"></div><div style=\"background-color:rgb(254,227,145);height:20px;width:20px;display:inline-block;\"></div><div style=\"background-color:rgb(254,196,79);height:20px;width:20px;display:inline-block;\"></div><div style=\"background-color:rgb(254,153,41);height:20px;width:20px;display:inline-block;\"></div><div style=\"background-color:rgb(236,112,20);height:20px;width:20px;display:inline-block;\"></div><div style=\"background-color:rgb(204,76,2);height:20px;width:20px;display:inline-block;\"></div><div style=\"background-color:rgb(153,52,4);height:20px;width:20px;display:inline-block;\"></div><div style=\"background-color:rgb(102,37,6);height:20px;width:20px;display:inline-block;\"></div></div><div style=\"display:inline-block;padding:10px;\"><div>ylorrd</div><div style=\"background-color:rgb(255,255,204);height:20px;width:20px;display:inline-block;\"></div><div style=\"background-color:rgb(255,237,160);height:20px;width:20px;display:inline-block;\"></div><div style=\"background-color:rgb(254,217,118);height:20px;width:20px;display:inline-block;\"></div><div style=\"background-color:rgb(254,178,76);height:20px;width:20px;display:inline-block;\"></div><div style=\"background-color:rgb(253,141,60);height:20px;width:20px;display:inline-block;\"></div><div style=\"background-color:rgb(252,78,42);height:20px;width:20px;display:inline-block;\"></div><div style=\"background-color:rgb(227,26,28);height:20px;width:20px;display:inline-block;\"></div><div style=\"background-color:rgb(189,0,38);height:20px;width:20px;display:inline-block;\"></div><div style=\"background-color:rgb(128,0,38);height:20px;width:20px;display:inline-block;\"></div></div>"
      ],
      "text/plain": [
       "<IPython.core.display.HTML object>"
      ]
     },
     "metadata": {},
     "output_type": "display_data"
    }
   ],
   "source": [
    "# Other color scales can be also seen here\n",
    "cf.colors.scales()"
   ]
  },
  {
   "cell_type": "code",
   "execution_count": 20,
   "metadata": {
    "collapsed": false
   },
   "outputs": [
    {
     "data": {
      "text/html": [
       "<ul style=\"list-style-type: none;\"><li style=\"text-align:center;line-height:30px;background-color:#7fc97f;\"> \n",
       "\t\t\t<span style=\" text-shadow:0 1px 0 rgba(255,255,255,0.6); color:#000000;\">#7FC97F</span>\n",
       "\t\t\t</li><li style=\"text-align:center;line-height:30px;background-color:#beaed4;\"> \n",
       "\t\t\t<span style=\" text-shadow:0 1px 0 rgba(255,255,255,0.6); color:#000000;\">#BEAED4</span>\n",
       "\t\t\t</li><li style=\"text-align:center;line-height:30px;background-color:#fdc086;\"> \n",
       "\t\t\t<span style=\" text-shadow:0 1px 0 rgba(255,255,255,0.6); color:#000000;\">#FDC086</span>\n",
       "\t\t\t</li><li style=\"text-align:center;line-height:30px;background-color:#ffff99;\"> \n",
       "\t\t\t<span style=\" text-shadow:0 1px 0 rgba(255,255,255,0.6); color:#000000;\">#FFFF99</span>\n",
       "\t\t\t</li><li style=\"text-align:center;line-height:30px;background-color:#386cb0;\"> \n",
       "\t\t\t<span style=\" text-shadow:0 1px 0 rgba(255,255,255,0.6); color:#000000;\">#386CB0</span>\n",
       "\t\t\t</li><li style=\"text-align:center;line-height:30px;background-color:#f0027f;\"> \n",
       "\t\t\t<span style=\" text-shadow:0 1px 0 rgba(255,255,255,0.6); color:#000000;\">#F0027F</span>\n",
       "\t\t\t</li><li style=\"text-align:center;line-height:30px;background-color:#bf5b17;\"> \n",
       "\t\t\t<span style=\" text-shadow:0 1px 0 rgba(255,255,255,0.6); color:#000000;\">#BF5B17</span>\n",
       "\t\t\t</li><li style=\"text-align:center;line-height:30px;background-color:#666666;\"> \n",
       "\t\t\t<span style=\" text-shadow:0 1px 0 #000; color:#ffffff;\">#666666</span>\n",
       "\t\t\t</li></ul>"
      ],
      "text/plain": [
       "<IPython.core.display.HTML object>"
      ]
     },
     "metadata": {},
     "output_type": "display_data"
    }
   ],
   "source": [
    "colorscale=cf.colors.get_scales('accent')\n",
    "cf.colors.color_table(colorscale)"
   ]
  }
 ],
 "metadata": {
  "kernelspec": {
   "display_name": "Python [Root]",
   "language": "python",
   "name": "Python [Root]"
  },
  "language_info": {
   "codemirror_mode": {
    "name": "ipython",
    "version": 2
   },
   "file_extension": ".py",
   "mimetype": "text/x-python",
   "name": "python",
   "nbconvert_exporter": "python",
   "pygments_lexer": "ipython2",
   "version": "2.7.12"
  }
 },
 "nbformat": 4,
 "nbformat_minor": 0
}
