{
 "cells": [
  {
   "cell_type": "markdown",
   "metadata": {},
   "source": [
    "https://plot.ly/python/scattermapbox/"
   ]
  },
  {
   "cell_type": "code",
   "execution_count": 1,
   "metadata": {
    "collapsed": true
   },
   "outputs": [],
   "source": [
    "import plotly.plotly as py\n",
    "import plotly.graph_objs as go\n",
    "import plotly.tools as tls\n",
    "from plotly.tools import FigureFactory as FF\n",
    "\n",
    "import cufflinks as cf\n",
    "from IPython.display import display"
   ]
  },
  {
   "cell_type": "markdown",
   "metadata": {},
   "source": [
    "# Basic Example"
   ]
  },
  {
   "cell_type": "code",
   "execution_count": 2,
   "metadata": {
    "collapsed": true
   },
   "outputs": [],
   "source": [
    "# get my mapbox token\n",
    "from os.path import expanduser\n",
    "\n",
    "with open(expanduser('~/mapbox-token-tak'), 'r') as f:\n",
    "    mapbox_access_token = f.read()"
   ]
  },
  {
   "cell_type": "markdown",
   "metadata": {},
   "source": [
    "## Define trace (Scattermapbox object)"
   ]
  },
  {
   "cell_type": "code",
   "execution_count": 3,
   "metadata": {
    "collapsed": true
   },
   "outputs": [],
   "source": [
    "trace= go.Scattermapbox(\n",
    "        lat=['45.5017'],\n",
    "        lon=['-73.5673'],\n",
    "        mode='markers',\n",
    "        marker=go.Marker(size=14),\n",
    "        text=['Montreal'],\n",
    "    )\n",
    "data = [trace]"
   ]
  },
  {
   "cell_type": "markdown",
   "metadata": {},
   "source": [
    "## Define layout"
   ]
  },
  {
   "cell_type": "code",
   "execution_count": 6,
   "metadata": {
    "collapsed": false
   },
   "outputs": [],
   "source": [
    "mapbox=dict(accesstoken=mapbox_access_token,\n",
    "            bearing=0,\n",
    "            pitch=0,\n",
    "            zoom=5,\n",
    "            center=dict(lat=45,lon=-73))"
   ]
  },
  {
   "cell_type": "code",
   "execution_count": 7,
   "metadata": {
    "collapsed": true
   },
   "outputs": [],
   "source": [
    "layout = go.Layout(\n",
    "    autosize=True,\n",
    "    hovermode='closest',\n",
    "    mapbox=mapbox,\n",
    ")\n"
   ]
  },
  {
   "cell_type": "markdown",
   "metadata": {},
   "source": [
    "## Plot!"
   ]
  },
  {
   "cell_type": "code",
   "execution_count": 8,
   "metadata": {
    "collapsed": false
   },
   "outputs": [
    {
     "data": {
      "text/html": [
       "<iframe id=\"igraph\" scrolling=\"no\" style=\"border:none;\" seamless=\"seamless\" src=\"https://plot.ly/~takanori/1147.embed?share_key=mlrXSKjkW2N8PE8zJeyXqD\" height=\"525px\" width=\"100%\"></iframe>"
      ],
      "text/plain": [
       "<plotly.tools.PlotlyDisplay object>"
      ]
     },
     "execution_count": 8,
     "metadata": {},
     "output_type": "execute_result"
    }
   ],
   "source": [
    "fig = dict(data=data, layout=layout)\n",
    "py.iplot(fig, filename='Montreal Mapbox', validate=False)"
   ]
  },
  {
   "cell_type": "markdown",
   "metadata": {},
   "source": [
    "# Multiple Markers"
   ]
  },
  {
   "cell_type": "code",
   "execution_count": 10,
   "metadata": {
    "collapsed": false
   },
   "outputs": [],
   "source": [
    "data = [\n",
    "    go.Scattermapbox(\n",
    "        lat=['38.91427','38.91538','38.91458',\n",
    "             '38.92239','38.93222','38.90842',\n",
    "             '38.91931','38.93260','38.91368',\n",
    "             '38.88516','38.921894','38.93206',\n",
    "             '38.91275'],\n",
    "        lon=['-77.02827','-77.02013','-77.03155',\n",
    "             '-77.04227','-77.02854','-77.02419',\n",
    "             '-77.02518','-77.03304','-77.04509',\n",
    "             '-76.99656','-77.042438','-77.02821',\n",
    "             '-77.01239'],\n",
    "        mode='markers',\n",
    "        marker=go.Marker(size=9),\n",
    "        text=[\"The coffee bar\",\"Bistro Bohem\",\"Black Cat\",\n",
    "             \"Snap\",\"Columbia Heights Coffee\",\"Azi's Cafe\",\n",
    "             \"Blind Dog Cafe\",\"Le Caprice\",\"Filter\",\n",
    "             \"Peregrine\",\"Tryst\",\"The Coupe\",\n",
    "             \"Big Bear Cafe\"],\n",
    "    )\n",
    "]"
   ]
  },
  {
   "cell_type": "code",
   "execution_count": 12,
   "metadata": {
    "collapsed": false
   },
   "outputs": [],
   "source": [
    "layout = go.Layout(\n",
    "    autosize=True,\n",
    "    hovermode='closest',\n",
    "    mapbox=dict(\n",
    "        accesstoken=mapbox_access_token,\n",
    "        bearing=0,\n",
    "        center=dict(lat=38.92,lon=-77.07),\n",
    "        pitch=0,\n",
    "        zoom=10\n",
    "    ),\n",
    ")"
   ]
  },
  {
   "cell_type": "code",
   "execution_count": 13,
   "metadata": {
    "collapsed": false
   },
   "outputs": [
    {
     "data": {
      "text/html": [
       "<iframe id=\"igraph\" scrolling=\"no\" style=\"border:none;\" seamless=\"seamless\" src=\"https://plot.ly/~takanori/1149.embed?share_key=Uffqb5p6dJv5dHTIFXkMhF\" height=\"525px\" width=\"100%\"></iframe>"
      ],
      "text/plain": [
       "<plotly.tools.PlotlyDisplay object>"
      ]
     },
     "execution_count": 13,
     "metadata": {},
     "output_type": "execute_result"
    }
   ],
   "source": [
    "fig = dict(data=data, layout=layout)\n",
    "py.iplot(fig, filename='Multiple Mapbox', validate=False)"
   ]
  },
  {
   "cell_type": "markdown",
   "metadata": {},
   "source": [
    "# County-level "
   ]
  },
  {
   "cell_type": "code",
   "execution_count": 66,
   "metadata": {
    "collapsed": true
   },
   "outputs": [],
   "source": [
    "import urllib\n",
    "import requests\n",
    "import json"
   ]
  },
  {
   "cell_type": "code",
   "execution_count": 63,
   "metadata": {
    "collapsed": false
   },
   "outputs": [
    {
     "data": {
      "text/plain": [
       "'http://catalog.civicdashboards.com/dataset/cda82e8b-7a8b-411e-95ba-1200b921c35d/resource/5c5d19a0-b817-49e6-b76e-ea63a8e2c0f6/download/fd880c1e4d23463ca869f1122109b3eftemp.geojson'"
      ]
     },
     "execution_count": 63,
     "metadata": {},
     "output_type": "execute_result"
    }
   ],
   "source": [
    "url = 'http://catalog.civicdashboards.com/dataset/'\n",
    "url += 'cda82e8b-7a8b-411e-95ba-1200b921c35d/resource/5c5d19a0-b817-49e6-b76e-ea63a8e2c0f6/'\n",
    "url += 'download/fd880c1e4d23463ca869f1122109b3eftemp.geojson'\n",
    "url"
   ]
  },
  {
   "cell_type": "code",
   "execution_count": 53,
   "metadata": {
    "collapsed": false
   },
   "outputs": [
    {
     "name": "stdout",
     "output_type": "stream",
     "text": [
      "<Response [200]>\n"
     ]
    }
   ],
   "source": [
    "request_ = requests.get(url)\n",
    "print request_"
   ]
  },
  {
   "cell_type": "code",
   "execution_count": 60,
   "metadata": {
    "collapsed": false
   },
   "outputs": [],
   "source": [
    "florida_data = request_.json()\n",
    "# print florida_data"
   ]
  },
  {
   "cell_type": "code",
   "execution_count": 64,
   "metadata": {
    "collapsed": false
   },
   "outputs": [],
   "source": [
    "repub_democ_counties_url = 'http://dos.myflorida.com/elections/data-statistics/voter-registration-statistics/voter-registration-monthly-reports/voter-registration-current-by-county/'\n",
    "repub_democ_counties = urllib.urlopen(repub_democ_counties_url).read()"
   ]
  },
  {
   "cell_type": "markdown",
   "metadata": {},
   "source": [
    "Since we want to separate the counties into Republican and Democratic for the seperate coloring, and since the county names in the GeoJSON are fuller text descriptions of each county on the website, we need to parse through and convert the names in the GeoJSON to the website format"
   ]
  },
  {
   "cell_type": "code",
   "execution_count": 62,
   "metadata": {
    "collapsed": false
   },
   "outputs": [
    {
     "name": "stdout",
     "output_type": "stream",
     "text": [
      "[u'Charlotte', u'Seminole', u'Baker', u'DeSoto', u'Levy', u'Alachua', u'Pasco', u'Hendry', u'Okeechobee', u'Broward', u'St. Johns', u'Gulf', u'Glades', u'Marion', u'Duval', u'Madison', u'Osceola', u'Lee', u'Volusia', u'Sarasota', u'Indian River', u'Clay', u'Putnam', u'Wakulla', u'Holmes', u'Escambia', u'Flagler', u'Union', u'Brevard', u'Suwannee', u'Orange', u'Martin', u'Nassau', u'Jefferson', u'Santa Rosa', u'Hamilton', u'Calhoun', u'Hernando', u'Miami-Dade', u'Pinellas', u'Palm Beach', u'Hillsborough', u'Collier', u'Gilchrist', u'Dixie', u'Bay', u'Gadsden', u'Okaloosa', u'Citrus', u'Lafayette', u'Manatee', u'Monroe', u'Columbia', u'Sumter', u'Washington', u'St. Lucie', u'Polk', u'Taylor', u'Leon', u'Lake', u'Highlands', u'Hardee', u'Bradford', u'Liberty', u'Franklin', u'Walton', u'Jackson']\n"
     ]
    }
   ],
   "source": [
    "county_names = []\n",
    "county_names_dict = {}\n",
    "\n",
    "for county in florida_data['features']:\n",
    "    for m in range(len(county['properties']['name'])):\n",
    "        if county['properties']['name'][m:m+6] == 'County':\n",
    "            county_names.append(county['properties']['name'][0:m-1])\n",
    "            county_names_dict[county['properties']['name'][0:m-1]] = county['properties']['name']\n",
    "            \n",
    "print county_names"
   ]
  },
  {
   "cell_type": "markdown",
   "metadata": {},
   "source": [
    "## Color the Counties\n",
    "We now run a script to color our counties based on political party. This involves parsing through our list of counties, finding their cooresponding Republican/Democratic votes on the website, and place our data into the cooresponding list red_counties or blue_counties, based on which party has more votes\n"
   ]
  },
  {
   "cell_type": "code",
   "execution_count": 65,
   "metadata": {
    "collapsed": false
   },
   "outputs": [
    {
     "name": "stderr",
     "output_type": "stream",
     "text": [
      "/home/takanori/anaconda2/lib/python2.7/site-packages/ipykernel/__main__.py:7: UnicodeWarning:\n",
      "\n",
      "Unicode equal comparison failed to convert both arguments to Unicode - interpreting them as being unequal\n",
      "\n"
     ]
    }
   ],
   "source": [
    "red_counties = []\n",
    "blue_counties = []\n",
    "\n",
    "for k, county in enumerate(county_names):\n",
    "    for j in range(len(repub_democ_counties)):\n",
    "        county_len = len(county)\n",
    "        if repub_democ_counties[j:j+county_len] == string.upper(county):\n",
    "            new_j = j\n",
    "\n",
    "            while True:\n",
    "                try:\n",
    "                    int(repub_democ_counties[new_j])\n",
    "                    break\n",
    "                except ValueError:\n",
    "                    new_j += 1\n",
    "\n",
    "    repub_votes = ''\n",
    "    while repub_democ_counties[new_j] != '<':\n",
    "        if repub_democ_counties[new_j] != ',':\n",
    "            repub_votes += repub_democ_counties[new_j]\n",
    "        new_j += 1\n",
    "    \n",
    "    # advance to next set of numbers\n",
    "    new_j += 11\n",
    "\n",
    "    democ_votes = ''\n",
    "    while repub_democ_counties[new_j] != '<':\n",
    "        if repub_democ_counties[new_j] != ',':\n",
    "            democ_votes += repub_democ_counties[new_j]\n",
    "        new_j += 1\n",
    "\n",
    "    repub_votes = int(repub_votes)\n",
    "    democ_votes = int(democ_votes)\n",
    "\n",
    "    if repub_votes >= democ_votes:\n",
    "        red_counties.append(florida_data['features'][k])\n",
    "    else:\n",
    "        blue_counties.append(florida_data['features'][k])"
   ]
  },
  {
   "cell_type": "markdown",
   "metadata": {},
   "source": [
    "## Create JSON Files"
   ]
  },
  {
   "cell_type": "code",
   "execution_count": 67,
   "metadata": {
    "collapsed": true
   },
   "outputs": [],
   "source": [
    "red_data = {\"type\": \"FeatureCollection\"}\n",
    "red_data['features'] = red_counties\n",
    "\n",
    "blue_data = {\"type\": \"FeatureCollection\"}\n",
    "blue_data['features'] = blue_counties\n",
    "\n",
    "with open('florida-red-data.json', 'w') as f:\n",
    "    f.write(json.dumps(red_data))\n",
    "with open('florida-blue-data.json', 'w') as f:\n",
    "    f.write(json.dumps(blue_data))"
   ]
  },
  {
   "cell_type": "code",
   "execution_count": 71,
   "metadata": {
    "collapsed": false
   },
   "outputs": [
    {
     "name": "stdout",
     "output_type": "stream",
     "text": [
      "total 360K\r\n",
      "-rw-r--r-- 1 takanori takanori  29K Sep 29 15:40 Choropleth Maps.ipynb\r\n",
      "-rw-r--r-- 1 takanori takanori 140K Sep 29 16:04 florida-blue-data.json\r\n",
      "-rw-r--r-- 1 takanori takanori 160K Sep 29 16:04 florida-red-data.json\r\n",
      "-rw-r--r-- 1 takanori takanori 9.6K Sep 29 16:03 plotly-mapbox.ipynb\r\n"
     ]
    }
   ],
   "source": [
    "!ls -lh"
   ]
  },
  {
   "cell_type": "markdown",
   "metadata": {},
   "source": [
    "## Define data (easy part)"
   ]
  },
  {
   "cell_type": "code",
   "execution_count": null,
   "metadata": {
    "collapsed": true
   },
   "outputs": [],
   "source": [
    "data = [go.Scattermapbox(lat=['45.5017'],lon=['-73.5673'],mode='markers')]"
   ]
  },
  {
   "cell_type": "markdown",
   "metadata": {},
   "source": [
    "## Define layout (hard part)"
   ]
  },
  {
   "cell_type": "code",
   "execution_count": 81,
   "metadata": {
    "collapsed": true
   },
   "outputs": [],
   "source": [
    "layers=[\n",
    "    dict(\n",
    "        sourcetype = 'geojson',\n",
    "        #source = 'https://raw.githubusercontent.com/plotly/datasets/master/florida-red-data.json',\n",
    "        #source = 'florida-red-data.json', # <- nope, doesn't work\n",
    "        source = red_data,\n",
    "        type = 'fill',\n",
    "        color = 'rgba(163,22,19,0.8)'\n",
    "    ),\n",
    "    dict(\n",
    "        sourcetype = 'geojson',\n",
    "        source = blue_data,\n",
    "        #source = 'florida-blue-data.json',\n",
    "        #source = 'https://raw.githubusercontent.com/plotly/datasets/master/florida-blue-data.json',\n",
    "        type = 'fill',\n",
    "        color = 'rgba(40,0,113,0.8)'\n",
    "    )\n",
    "]"
   ]
  },
  {
   "cell_type": "code",
   "execution_count": 82,
   "metadata": {
    "collapsed": false
   },
   "outputs": [
    {
     "data": {
      "text/html": [
       "<iframe id=\"igraph\" scrolling=\"no\" style=\"border:none;\" seamless=\"seamless\" src=\"https://plot.ly/~takanori/1151.embed?share_key=zh5NeBIdvi4hHSTlr0qNXF\" height=\"600px\" width=\"100%\"></iframe>"
      ],
      "text/plain": [
       "<plotly.tools.PlotlyDisplay object>"
      ]
     },
     "execution_count": 82,
     "metadata": {},
     "output_type": "execute_result"
    }
   ],
   "source": [
    "layout = go.Layout(\n",
    "    height=600,\n",
    "    autosize=True,\n",
    "    hovermode='closest',\n",
    "    mapbox=dict(\n",
    "        layers=layers,\n",
    "        accesstoken=mapbox_access_token,\n",
    "        bearing=0,\n",
    "        center=dict(lat=27.8,lon=-83),\n",
    "        pitch=0,\n",
    "        zoom=5.2,\n",
    "        style='light'\n",
    "    ),\n",
    ")\n",
    "\n",
    "fig = dict(data=data, layout=layout)\n",
    "py.iplot(fig, filename='county-level-choropleths-python')"
   ]
  }
 ],
 "metadata": {
  "kernelspec": {
   "display_name": "Python [Root]",
   "language": "python",
   "name": "Python [Root]"
  },
  "language_info": {
   "codemirror_mode": {
    "name": "ipython",
    "version": 2
   },
   "file_extension": ".py",
   "mimetype": "text/x-python",
   "name": "python",
   "nbconvert_exporter": "python",
   "pygments_lexer": "ipython2",
   "version": "2.7.12"
  }
 },
 "nbformat": 4,
 "nbformat_minor": 0
}
