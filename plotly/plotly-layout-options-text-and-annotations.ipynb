{
 "cells": [
  {
   "cell_type": "markdown",
   "metadata": {},
   "source": [
    "https://plot.ly/python/text-and-annotations/\n",
    "\n",
    "  **Table of Contents**\n",
    "\n",
    "  <div id=\"toc\"></div>\n",
    "  <script type=\"text/javascript\"\n",
    "  src=\"https://raw.github.com/kmahelona/ipython_notebook_goodies/master/ipython_notebook_toc.js\">\n",
    "  </script>\n"
   ]
  },
  {
   "cell_type": "markdown",
   "metadata": {},
   "source": [
    "# Adding Text to Data in Line and Scatter Plots"
   ]
  },
  {
   "cell_type": "code",
   "execution_count": 1,
   "metadata": {
    "collapsed": false
   },
   "outputs": [
    {
     "data": {
      "text/html": [
       "<iframe id=\"igraph\" scrolling=\"no\" style=\"border:none;\" seamless=\"seamless\" src=\"https://plot.ly/~takanori/1123.embed?share_key=BBCySvKyu0LGfO0RlHVdBd\" height=\"525px\" width=\"100%\"></iframe>"
      ],
      "text/plain": [
       "<plotly.tools.PlotlyDisplay object>"
      ]
     },
     "execution_count": 1,
     "metadata": {},
     "output_type": "execute_result"
    }
   ],
   "source": [
    "import plotly.plotly as py\n",
    "import plotly.graph_objs as go\n",
    "\n",
    "trace1 = go.Scatter(x=[0, 1, 2],y=[1, 1, 1],\n",
    "    mode='lines+markers+text',\n",
    "    name='Lines, Markers and Text',\n",
    "    text=['Text A', 'Text B', 'Text C'],\n",
    "    textposition='top'\n",
    ")\n",
    "trace2 = go.Scatter(x=[0, 1, 2],y=[2, 2, 2],\n",
    "    mode='markers+text',\n",
    "    name='Markers and Text',\n",
    "    text=['Text D', 'Text E', 'Text F'],\n",
    "    textposition='bottom'\n",
    ")\n",
    "trace3 = go.Scatter(x=[0, 1, 2],y=[3, 3, 3],\n",
    "    mode='lines+text',\n",
    "    name='Lines and Text',\n",
    "    text=['Text G', 'Text H', 'Text I'],\n",
    "    textposition='bottom'\n",
    ")\n",
    "data = [trace1, trace2, trace3]\n",
    "layout = go.Layout(\n",
    "    showlegend=False\n",
    ")\n",
    "fig = go.Figure(data=data, layout=layout)\n",
    "py.iplot(fig, filename='text-chart-basic')"
   ]
  },
  {
   "cell_type": "markdown",
   "metadata": {},
   "source": [
    "# Adding Hover Text to Data in Line and Scatter Plots"
   ]
  },
  {
   "cell_type": "code",
   "execution_count": 3,
   "metadata": {
    "collapsed": false
   },
   "outputs": [
    {
     "data": {
      "text/html": [
       "<iframe id=\"igraph\" scrolling=\"no\" style=\"border:none;\" seamless=\"seamless\" src=\"https://plot.ly/~takanori/1125.embed?share_key=roUXKJu9Ai3eV4AcQrA6Q3\" height=\"525px\" width=\"100%\"></iframe>"
      ],
      "text/plain": [
       "<plotly.tools.PlotlyDisplay object>"
      ]
     },
     "execution_count": 3,
     "metadata": {},
     "output_type": "execute_result"
    }
   ],
   "source": [
    "trace = go.Scatter(x=[0, 1, 2],y=[1, 3, 2],mode='markers',text=['Text A', 'Text B', 'Text C'])\n",
    "layout = go.Layout(title='Hover over the points to see the text')\n",
    "fig = go.Figure(data=[trace], layout=layout)\n",
    "py.iplot(fig, filename='hover-chart-basic')"
   ]
  },
  {
   "cell_type": "markdown",
   "metadata": {},
   "source": [
    "# Simple Annotation"
   ]
  },
  {
   "cell_type": "code",
   "execution_count": 4,
   "metadata": {
    "collapsed": true
   },
   "outputs": [],
   "source": [
    "trace1 = go.Scatter(\n",
    "    x=[0, 1, 2, 3, 4, 5, 6, 7, 8],\n",
    "    y=[0, 1, 3, 2, 4, 3, 4, 6, 5]\n",
    ")\n",
    "trace2 = go.Scatter(\n",
    "    x=[0, 1, 2, 3, 4, 5, 6, 7, 8],\n",
    "    y=[0, 4, 5, 1, 2, 2, 3, 4, 2]\n",
    ")\n",
    "data = [trace1, trace2]"
   ]
  },
  {
   "cell_type": "code",
   "execution_count": 13,
   "metadata": {
    "collapsed": true
   },
   "outputs": [],
   "source": [
    "annotations=[\n",
    "    dict(\n",
    "        x=2,\n",
    "        y=5,\n",
    "        xref='x',\n",
    "        yref='y',\n",
    "        text='dict Text',\n",
    "        showarrow=True,\n",
    "        arrowhead=7,\n",
    "        ax=0,\n",
    "        ay=-80\n",
    "    )\n",
    "]"
   ]
  },
  {
   "cell_type": "code",
   "execution_count": 14,
   "metadata": {
    "collapsed": false
   },
   "outputs": [
    {
     "data": {
      "text/html": [
       "<iframe id=\"igraph\" scrolling=\"no\" style=\"border:none;\" seamless=\"seamless\" src=\"https://plot.ly/~takanori/1127.embed?share_key=fPSdMZKNfmB26nzwynt48R\" height=\"525px\" width=\"100%\"></iframe>"
      ],
      "text/plain": [
       "<plotly.tools.PlotlyDisplay object>"
      ]
     },
     "execution_count": 14,
     "metadata": {},
     "output_type": "execute_result"
    }
   ],
   "source": [
    "layout = go.Layout(annotations=annotations,showlegend=False)\n",
    "fig = go.Figure(data=data, layout=layout)\n",
    "py.iplot(fig, filename='simple-annotation')"
   ]
  },
  {
   "cell_type": "markdown",
   "metadata": {},
   "source": [
    "# Multiple Annotations"
   ]
  },
  {
   "cell_type": "code",
   "execution_count": 15,
   "metadata": {
    "collapsed": true
   },
   "outputs": [],
   "source": [
    "trace1 = go.Scatter(\n",
    "    x=[0, 1, 2, 3, 4, 5, 6, 7, 8],\n",
    "    y=[0, 1, 3, 2, 4, 3, 4, 6, 5]\n",
    ")\n",
    "trace2 = go.Scatter(\n",
    "    x=[0, 1, 2, 3, 4, 5, 6, 7, 8],\n",
    "    y=[0, 4, 5, 1, 2, 2, 3, 4, 2]\n",
    ")\n",
    "data = [trace1, trace2]"
   ]
  },
  {
   "cell_type": "code",
   "execution_count": 17,
   "metadata": {
    "collapsed": true
   },
   "outputs": [],
   "source": [
    "annot1= dict(\n",
    "            x=2,\n",
    "            y=5,\n",
    "            xref='x',\n",
    "            yref='y',\n",
    "            text='dict Text',\n",
    "            showarrow=True,\n",
    "            arrowhead=7,\n",
    "            ax=0,\n",
    "            ay=-40\n",
    "        )\n",
    "annot2 = dict(\n",
    "            x=4,\n",
    "            y=4,\n",
    "            xref='x',\n",
    "            yref='y',\n",
    "            text='dict Text 2',\n",
    "            showarrow=True,\n",
    "            arrowhead=7,\n",
    "            ax=0,\n",
    "            ay=-40\n",
    "        )\n",
    "layout = go.Layout(showlegend=False,annotations=[annot1,annot2])"
   ]
  },
  {
   "cell_type": "code",
   "execution_count": 18,
   "metadata": {
    "collapsed": false
   },
   "outputs": [
    {
     "data": {
      "text/html": [
       "<iframe id=\"igraph\" scrolling=\"no\" style=\"border:none;\" seamless=\"seamless\" src=\"https://plot.ly/~takanori/1129.embed?share_key=02AqA4Ijl07BYofoo2EEyQ\" height=\"525px\" width=\"100%\"></iframe>"
      ],
      "text/plain": [
       "<plotly.tools.PlotlyDisplay object>"
      ]
     },
     "execution_count": 18,
     "metadata": {},
     "output_type": "execute_result"
    }
   ],
   "source": [
    "fig = go.Figure(data=data, layout=layout)\n",
    "py.iplot(fig, filename='multiple-annotation')"
   ]
  },
  {
   "cell_type": "markdown",
   "metadata": {},
   "source": [
    "# Custom Text Color and Styling"
   ]
  },
  {
   "cell_type": "code",
   "execution_count": 20,
   "metadata": {
    "collapsed": false
   },
   "outputs": [
    {
     "data": {
      "text/html": [
       "<iframe id=\"igraph\" scrolling=\"no\" style=\"border:none;\" seamless=\"seamless\" src=\"https://plot.ly/~takanori/1131.embed?share_key=0nTxApIqKfl6rdPaY2EdBY\" height=\"525px\" width=\"100%\"></iframe>"
      ],
      "text/plain": [
       "<plotly.tools.PlotlyDisplay object>"
      ]
     },
     "execution_count": 20,
     "metadata": {},
     "output_type": "execute_result"
    }
   ],
   "source": [
    "trace1 = go.Scatter(x=[0, 1, 2],y=[1, 1, 1],\n",
    "    mode='lines+markers+text',\n",
    "    name='Lines, Markers and Text',\n",
    "    text=['Text A', 'Text B', 'Text C'],\n",
    "    textposition='top right',\n",
    "    textfont=dict(family='sans serif',size=18,color='#1f77b4')\n",
    ")\n",
    "trace2 = go.Scatter(x=[0, 1, 2],y=[2, 2, 2],\n",
    "    mode='lines+markers+text',\n",
    "    name='Lines and Text',\n",
    "    text=['Text G', 'Text H', 'Text I'],\n",
    "    textposition='bottom',\n",
    "    textfont=dict(family='sans serif',size=18,color='#ff7f0e')\n",
    ")\n",
    "data = [trace1, trace2]\n",
    "layout = go.Layout(showlegend=False)\n",
    "fig = go.Figure(data=data, layout=layout)\n",
    "py.iplot(fig, filename='text-chart-styling')"
   ]
  },
  {
   "cell_type": "markdown",
   "metadata": {},
   "source": [
    "# Disabling Hover Text"
   ]
  },
  {
   "cell_type": "code",
   "execution_count": 21,
   "metadata": {
    "collapsed": false
   },
   "outputs": [
    {
     "data": {
      "text/html": [
       "<iframe id=\"igraph\" scrolling=\"no\" style=\"border:none;\" seamless=\"seamless\" src=\"https://plot.ly/~takanori/1133.embed?share_key=EGjzNq0vmmRkqMNODxOKJ2\" height=\"525px\" width=\"100%\"></iframe>"
      ],
      "text/plain": [
       "<plotly.tools.PlotlyDisplay object>"
      ]
     },
     "execution_count": 21,
     "metadata": {},
     "output_type": "execute_result"
    }
   ],
   "source": [
    "trace = dict(x=[1, 2, 3,],y=[10, 30, 15],type='scatter',name='first trace',\n",
    "    hoverinfo='none')\n",
    "\n",
    "py.iplot([trace], filename='hoverinfo=none')"
   ]
  },
  {
   "cell_type": "markdown",
   "metadata": {},
   "source": [
    "# Styling and Coloring Annotations"
   ]
  },
  {
   "cell_type": "code",
   "execution_count": 22,
   "metadata": {
    "collapsed": false
   },
   "outputs": [
    {
     "data": {
      "text/html": [
       "<iframe id=\"igraph\" scrolling=\"no\" style=\"border:none;\" seamless=\"seamless\" src=\"https://plot.ly/~takanori/1135.embed?share_key=iK3yJHv8gSmW495UWAZISQ\" height=\"525px\" width=\"100%\"></iframe>"
      ],
      "text/plain": [
       "<plotly.tools.PlotlyDisplay object>"
      ]
     },
     "execution_count": 22,
     "metadata": {},
     "output_type": "execute_result"
    }
   ],
   "source": [
    "trace1 = go.Scatter(x=[0, 1, 2, 3, 4, 5, 6, 7, 8],y=[0, 1, 3, 2, 4, 3, 4, 6, 5])\n",
    "trace2 = go.Scatter(x=[0, 1, 2, 3, 4, 5, 6, 7, 8],y=[0, 4, 5, 1, 2, 2, 3, 4, 2])\n",
    "data = [trace1, trace2]\n",
    "\n",
    "layout = go.Layout(\n",
    "    showlegend=False,\n",
    "    annotations=[\n",
    "        dict(\n",
    "            x=2,\n",
    "            y=5,\n",
    "            xref='x',\n",
    "            yref='y',\n",
    "            text='max=5',\n",
    "            showarrow=True,\n",
    "            font=dict(\n",
    "                family='Courier New, monospace',\n",
    "                size=16,\n",
    "                color='#ffffff'\n",
    "            ),\n",
    "            align='center',\n",
    "            arrowhead=2,\n",
    "            arrowsize=1,\n",
    "            arrowwidth=2,\n",
    "            arrowcolor='#636363',\n",
    "            ax=20,\n",
    "            ay=-30,\n",
    "            bordercolor='#c7c7c7',\n",
    "            borderwidth=2,\n",
    "            borderpad=4,\n",
    "            bgcolor='#ff7f0e',\n",
    "            opacity=0.8\n",
    "        )\n",
    "    ]\n",
    ")\n",
    "fig = go.Figure(data=data, layout=layout)\n",
    "py.iplot(fig, filename='style-annotation')"
   ]
  },
  {
   "cell_type": "markdown",
   "metadata": {},
   "source": [
    "# Text Font as an Array - Styling Each Text Element"
   ]
  },
  {
   "cell_type": "code",
   "execution_count": 23,
   "metadata": {
    "collapsed": true
   },
   "outputs": [],
   "source": [
    "trace = go.Scattergeo(\n",
    "    lat=[45.5,43.4,49.13,51.1,53.34,45.24,44.64,48.25,49.89,50.45],\n",
    "    lon=[-73.57,-79.24,-123.06,-114.1,-113.28,-75.43,-63.57,-123.21,-97.13,-104.6],\n",
    "    marker={\"color\": [\"#bebada\",\"#fdb462\",\"#fb8072\",\"#d9d9d9\",\"#bc80bd\",\n",
    "                      \"#b3de69\",\"#8dd3c7\",\"#80b1d3\",\"#fccde5\",\"#ffffb3\"],\n",
    "            \"line\": {\"width\": 1},\n",
    "            \"size\": 10\n",
    "    },\n",
    "    mode=\"markers+text\",\n",
    "    name=\"\",\n",
    "    text=[\"Montreal\",\"Toronto\",\"Vancouver\",\"Calgary\",\"Edmonton\",\n",
    "          \"Ottawa\",\"Halifax\",\"Victoria\",\"Winnepeg\",\"Regina\"],\n",
    "    textfont={\n",
    "        \"color\": [\"#bebada\",\"#fdb462\",\"#fb8072\",\"#d9d9d9\",\"#bc80bd\",\n",
    "                  \"#b3de69\",\"#8dd3c7\",\"#80b1d3\",\"#fccde5\",\"#ffffb3\"],\n",
    "        \"family\": [\"Arial, sans-serif\",\"Balto, sans-serif\",\n",
    "                   \"Courier New, monospace\",\"Droid Sans, sans-serif\",\n",
    "                   \"Droid Serif, serif\",\"Droid Sans Mono, sans-serif\",\n",
    "                   \"Gravitas One, cursive\",\"Old Standard TT, serif\",\n",
    "                   \"Open Sans, sans-serif\",\"PT Sans Narrow, sans-serif\",\n",
    "                   \"Raleway, sans-serif\",\"Times New Roman, Times, serif\"],\n",
    "        \"size\": [22,21,20,19,18,17,16,15,14,13]\n",
    "    },\n",
    "    textposition=[\"top center\",\"middle left\",\"top center\",\"bottom center\",\"top right\",\n",
    "                  \"middle left\",\"bottom right\",\"bottom left\",\"top right\",\"top right\"]\n",
    ")"
   ]
  },
  {
   "cell_type": "code",
   "execution_count": 24,
   "metadata": {
    "collapsed": true
   },
   "outputs": [],
   "source": [
    "layout={\"title\": \"Canadian cities\",\n",
    "        \"geo\": {\"lataxis\": {\"range\": [40, 70]},\n",
    "                \"lonaxis\": {\"range\": [-130, -55]},\n",
    "                \"scope\": \"north america\"\n",
    "    }\n",
    "}"
   ]
  },
  {
   "cell_type": "code",
   "execution_count": 25,
   "metadata": {
    "collapsed": false
   },
   "outputs": [
    {
     "data": {
      "text/html": [
       "<iframe id=\"igraph\" scrolling=\"no\" style=\"border:none;\" seamless=\"seamless\" src=\"https://plot.ly/~takanori/1137.embed?share_key=PFWhtuGrtGACAmQ8NDawnb\" height=\"525px\" width=\"100%\"></iframe>"
      ],
      "text/plain": [
       "<plotly.tools.PlotlyDisplay object>"
      ]
     },
     "execution_count": 25,
     "metadata": {},
     "output_type": "execute_result"
    }
   ],
   "source": [
    "fig = go.Figure(data=[trace],layout=layout)\n",
    "py.iplot(fig, filename='Canadian Cities')"
   ]
  },
  {
   "cell_type": "markdown",
   "metadata": {},
   "source": [
    "# Adding Annotations with xref and yref as Paper"
   ]
  },
  {
   "cell_type": "code",
   "execution_count": 27,
   "metadata": {
    "collapsed": false
   },
   "outputs": [],
   "source": [
    "data = go.Data([go.Scatter(x=[1, 2, 3],y=[1, 2, 3],name='y')])"
   ]
  },
  {
   "cell_type": "code",
   "execution_count": 30,
   "metadata": {
    "collapsed": false
   },
   "outputs": [
    {
     "data": {
      "text/html": [
       "<iframe id=\"igraph\" scrolling=\"no\" style=\"border:none;\" seamless=\"seamless\" src=\"https://plot.ly/~takanori/1139.embed?share_key=yyXyGAcxfTVPwDtFekESxG\" height=\"550px\" width=\"1137px\"></iframe>"
      ],
      "text/plain": [
       "<plotly.tools.PlotlyDisplay object>"
      ]
     },
     "execution_count": 30,
     "metadata": {},
     "output_type": "execute_result"
    }
   ],
   "source": [
    "layout = go.Layout(\n",
    "    height=550,width=1137,\n",
    "    annotations=go.Annotations([\n",
    "        go.Annotation(\n",
    "            x=0.5004254919715793,\n",
    "            y=-0.16191064079952971,\n",
    "            showarrow=False,\n",
    "            text='Custom x-axis title',\n",
    "            xref='paper',\n",
    "            yref='paper'\n",
    "        ),\n",
    "        go.Annotation(\n",
    "            x=-0.04944728761514841,\n",
    "            y=0.4714285714285711,\n",
    "            showarrow=False,\n",
    "            text='Custom y-axis title',\n",
    "            textangle=-90,\n",
    "            xref='paper',\n",
    "            yref='paper'\n",
    "        )\n",
    "    ]),\n",
    "    autosize=True,\n",
    "    margin=go.Margin(b=100),\n",
    "    title='Plot Title',\n",
    "    xaxis=go.XAxis(autorange=False,type='linear',\n",
    "        range=[-0.05674507980728292, -0.0527310420933204]),\n",
    "    yaxis=go.YAxis(autorange=False,type='linear',\n",
    "        range=[1.2876210047544652, 1.2977732997811402]),\n",
    ")\n",
    "\n",
    "fig = go.Figure(data=data, layout=layout)\n",
    "py.iplot(fig)"
   ]
  },
  {
   "cell_type": "code",
   "execution_count": null,
   "metadata": {
    "collapsed": true
   },
   "outputs": [],
   "source": []
  }
 ],
 "metadata": {
  "kernelspec": {
   "display_name": "Python [Root]",
   "language": "python",
   "name": "Python [Root]"
  },
  "language_info": {
   "codemirror_mode": {
    "name": "ipython",
    "version": 2
   },
   "file_extension": ".py",
   "mimetype": "text/x-python",
   "name": "python",
   "nbconvert_exporter": "python",
   "pygments_lexer": "ipython2",
   "version": "2.7.12"
  }
 },
 "nbformat": 4,
 "nbformat_minor": 0
}
