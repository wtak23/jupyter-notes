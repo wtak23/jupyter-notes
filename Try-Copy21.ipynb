{
 "cells": [
  {
   "cell_type": "markdown",
   "metadata": {},
   "source": [
    "<h1 id=\"tocheading\">Table of Contents</h1>\n",
    "<div id=\"toc\"></div>\n",
    "<script type=\"text/javascript\" \n",
    "    src=\"https://raw.github.com/kmahelona/ipython_notebook_goodies/master/ipython_notebook_toc.js\">\n",
    "</script>\n"
   ]
  },
  {
   "cell_type": "code",
   "execution_count": 8,
   "metadata": {
    "collapsed": false,
    "scrolled": true
   },
   "outputs": [
    {
     "data": {
      "text/html": [
       "\n",
       "<script>\n",
       "code_show=true;\n",
       "function code_toggle() {\n",
       " if (code_show){\n",
       " $('div.input').hide();\n",
       " } else {\n",
       " $('div.input').show();\n",
       " }\n",
       " code_show = !code_show\n",
       "}\n",
       "$( document ).ready(code_toggle);\n",
       "</script>\n",
       "<form action=\"javascript:code_toggle()\"><input type=\"submit\" value=\"Click here to toggle on/off the raw code.\"></form>\n"
      ],
      "text/plain": [
       "<IPython.core.display.HTML object>"
      ]
     },
     "execution_count": 8,
     "metadata": {},
     "output_type": "execute_result"
    }
   ],
   "source": [
    "from IPython.display import HTML\n",
    "\n",
    "HTML('''\n",
    "<script>\n",
    "code_show=true;\n",
    "function code_toggle() {\n",
    " if (code_show){\n",
    " $('div.input').hide();\n",
    " } else {\n",
    " $('div.input').show();\n",
    " }\n",
    " code_show = !code_show\n",
    "}\n",
    "$( document ).ready(code_toggle);\n",
    "</script>\n",
    "<form action=\"javascript:code_toggle()\"><input type=\"submit\" value=\"Click here to toggle on/off the raw code.\"></form>\n",
    "''')"
   ]
  },
  {
   "cell_type": "code",
   "execution_count": 9,
   "metadata": {
    "collapsed": true
   },
   "outputs": [],
   "source": [
    "a=3\n"
   ]
  },
  {
   "cell_type": "markdown",
   "metadata": {},
   "source": [
    "# Heading-top\n",
    "\n",
    "## Heading2"
   ]
  },
  {
   "cell_type": "markdown",
   "metadata": {},
   "source": [
    "### Heading 3"
   ]
  },
  {
   "cell_type": "markdown",
   "metadata": {},
   "source": [
    "# Heading 1"
   ]
  },
  {
   "cell_type": "code",
   "execution_count": 10,
   "metadata": {
    "collapsed": false,
    "scrolled": true
   },
   "outputs": [
    {
     "name": "stdout",
     "output_type": "stream",
     "text": [
      "[ 0.31916108  0.39701687  0.5967282   0.64583544  0.02124982  0.80490808\n",
      "  0.04340616  0.35311644  0.05821097  0.47571854  0.6590656   0.314476\n",
      "  0.5777225   0.71093712  0.81604326  0.09085176  0.31162273  0.64316939\n",
      "  0.20058215  0.55123052  0.34705905  0.70336194  0.19633233  0.97227567\n",
      "  0.68669515  0.15217083  0.48601673  0.54180237  0.51805936  0.21827278\n",
      "  0.49892316  0.95490949  0.24132192  0.72638442  0.21156469  0.27242749\n",
      "  0.53713662  0.66664844  0.59003574  0.24601949  0.95481792  0.85007817\n",
      "  0.79751008  0.67568072  0.07372284  0.41199798  0.5099751   0.14393445\n",
      "  0.52877005  0.27776123  0.41301011  0.22823555  0.38453316  0.2077547\n",
      "  0.87756559  0.04370568  0.35429081  0.54205949  0.24422436  0.83166788\n",
      "  0.41527739  0.74391052  0.05817921  0.75486989  0.81304611  0.96162636\n",
      "  0.40578862  0.75961276  0.63857446  0.80095503  0.17275512  0.55028586\n",
      "  0.97233429  0.56083287  0.34378111  0.64796224  0.76477336  0.60491234\n",
      "  0.34896295  0.2831909   0.17821642  0.66523935  0.6233214   0.68983859\n",
      "  0.65124514  0.53196719  0.03779833  0.87798482  0.029776    0.78557628\n",
      "  0.45434467  0.56203094  0.38264435  0.39234441  0.49483658  0.52249764\n",
      "  0.31585238  0.1870312   0.05122932  0.07411732]\n"
     ]
    }
   ],
   "source": [
    "from numpy.random import rand\n",
    "print rand(100)"
   ]
  },
  {
   "cell_type": "code",
   "execution_count": 11,
   "metadata": {
    "code_folding": [],
    "collapsed": false
   },
   "outputs": [
    {
     "name": "stdout",
     "output_type": "stream",
     "text": [
      "0\n",
      "1\n",
      "1\n",
      "2\n",
      "2\n",
      "3\n",
      "3\n",
      "4\n",
      "4\n",
      "5\n"
     ]
    }
   ],
   "source": [
    "for i in range(5):\n",
    "    print i\n",
    "    print i+1"
   ]
  },
  {
   "cell_type": "code",
   "execution_count": 12,
   "metadata": {
    "collapsed": true
   },
   "outputs": [],
   "source": [
    "a = 2.123"
   ]
  },
  {
   "cell_type": "markdown",
   "metadata": {
    "variables": {
     "a": "2.123"
    }
   },
   "source": [
    "The variable a is {{a}}\n",
    "a = {{a}}"
   ]
  },
  {
   "cell_type": "markdown",
   "metadata": {},
   "source": [
    "$\\frac{1}{2}$"
   ]
  },
  {
   "cell_type": "markdown",
   "metadata": {},
   "source": [
    "$\\displaystyle\\frac{1}{2}a$"
   ]
  },
  {
   "cell_type": "markdown",
   "metadata": {},
   "source": []
  }
 ],
 "metadata": {
  "kernelspec": {
   "display_name": "Python 2",
   "language": "python",
   "name": "python2"
  },
  "language_info": {
   "codemirror_mode": {
    "name": "ipython",
    "version": 2
   },
   "file_extension": ".py",
   "mimetype": "text/x-python",
   "name": "python",
   "nbconvert_exporter": "python",
   "pygments_lexer": "ipython2",
   "version": "2.7.11"
  }
 },
 "nbformat": 4,
 "nbformat_minor": 0
}
