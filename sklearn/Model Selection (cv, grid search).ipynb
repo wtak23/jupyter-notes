{
 "cells": [
  {
   "cell_type": "markdown",
   "metadata": {},
   "source": [
    "# Top\n",
    "http://scikit-learn.org/stable/tutorial/statistical_inference/model_selection.html\n",
    "\n",
    "## Relevant functions\n",
    "Modules\n",
    "- [cross_validation](http://scikit-learn.org/stable/modules/classes.html#module-sklearn.cross_validation)\n",
    "  - [`KFold(n, n_folds=3, indices=None, shuffle=False, random_state=None)[source]`](http://scikit-learn.org/stable/modules/generated/sklearn.cross_validation.KFold.html)\n",
    "  - [`StratifiedKFold(y, n_folds=3, indices=None, shuffle=False, random_state=None)`](http://scikit-learn.org/stable/modules/generated/sklearn.cross_validation.StratifiedKFold.html)\n",
    "- [grid_search](http://scikit-learn.org/stable/modules/classes.html#module-sklearn.grid_search)\n",
    "    - [`grid_search.GridSearchCV(estimator, param_grid)`](http://scikit-learn.org/stable/modules/generated/sklearn.grid_search.GridSearchCV.html)"
   ]
  },
  {
   "cell_type": "code",
   "execution_count": 1,
   "metadata": {
    "collapsed": false
   },
   "outputs": [
    {
     "data": {
      "text/plain": [
       "0.97999999999999998"
      ]
     },
     "execution_count": 1,
     "metadata": {},
     "output_type": "execute_result"
    }
   ],
   "source": [
    "from sklearn import datasets, svm\n",
    "import pandas as pd\n",
    "import numpy as np\n",
    "import matplotlib.pyplot as plt\n",
    "digits = datasets.load_digits()\n",
    "X_digits = digits.data\n",
    "y_digits = digits.target\n",
    "svc = svm.SVC(C=1, kernel='linear')\n",
    "svc.fit(X_digits[:-100], y_digits[:-100]).score(X_digits[-100:], y_digits[-100:])"
   ]
  },
  {
   "cell_type": "markdown",
   "metadata": {},
   "source": [
    "# Cross validation (for obtaining performance measure)"
   ]
  },
  {
   "cell_type": "markdown",
   "metadata": {},
   "source": [
    "## Approach1: np.array_split"
   ]
  },
  {
   "cell_type": "code",
   "execution_count": 2,
   "metadata": {
    "collapsed": false
   },
   "outputs": [
    {
     "name": "stdout",
     "output_type": "stream",
     "text": [
      "Scores in each fold (3-CV):  [0.93489148580968284, 0.95659432387312182, 0.93989983305509184]\n"
     ]
    }
   ],
   "source": [
    "X_folds = np.array_split(X_digits, 3)\n",
    "y_folds = np.array_split(y_digits, 3)\n",
    "scores = list()\n",
    "for k in range(3):\n",
    "    # We use 'list' to copy, in order to 'pop' later on\n",
    "    X_train = list(X_folds)\n",
    "    X_test  = X_train.pop(k)\n",
    "    X_train = np.concatenate(X_train)\n",
    "    y_train = list(y_folds)\n",
    "    y_test  = y_train.pop(k)\n",
    "    y_train = np.concatenate(y_train)\n",
    "    scores.append(svc.fit(X_train, y_train).score(X_test, y_test))\n",
    "print \"Scores in each fold (3-CV): \", scores"
   ]
  },
  {
   "cell_type": "markdown",
   "metadata": {},
   "source": [
    "## Approach2: use cv generators"
   ]
  },
  {
   "cell_type": "code",
   "execution_count": 3,
   "metadata": {
    "collapsed": false
   },
   "outputs": [
    {
     "name": "stdout",
     "output_type": "stream",
     "text": [
      "Train: [2 3 4 5] | test: [0 1]\n",
      "Train: [0 1 4 5] | test: [2 3]\n",
      "Train: [0 1 2 3] | test: [4 5]\n",
      "Scores in each fold (3-CV):  [0.93489148580968284, 0.95659432387312182, 0.93989983305509184]\n"
     ]
    }
   ],
   "source": [
    "from sklearn import cross_validation\n",
    "k_fold = cross_validation.KFold(n=6, n_folds=3)\n",
    "for train_indices, test_indices in k_fold:\n",
    "     print('Train: %s | test: %s' % (train_indices, test_indices))\n",
    "\n",
    "# implement CV here\n",
    "kfold = cross_validation.KFold(len(X_digits), n_folds=3)\n",
    "\n",
    "# wonky but list comprehension is possible (as cv instance is iterable)\n",
    "[svc.fit(X_digits[train], y_digits[train]).score(X_digits[test], y_digits[test])\n",
    "         for train, test in kfold]\n",
    "print \"Scores in each fold (3-CV): \", scores"
   ]
  },
  {
   "cell_type": "markdown",
   "metadata": {},
   "source": [
    "# Grid-search and cv\n",
    "http://scikit-learn.org/stable/modules/generated/sklearn.grid_search.GridSearchCV.html"
   ]
  },
  {
   "cell_type": "code",
   "execution_count": 4,
   "metadata": {
    "collapsed": false
   },
   "outputs": [
    {
     "data": {
      "text/plain": [
       "array([-13.81551056, -12.53629662, -11.25708268,  -9.97786874,\n",
       "        -8.6986548 ,  -7.41944086,  -6.14022691,  -4.86101297,\n",
       "        -3.58179903,  -2.30258509])"
      ]
     },
     "execution_count": 4,
     "metadata": {},
     "output_type": "execute_result"
    },
    {
     "data": {
      "image/png": "[encoded data removed]",
      "text/plain": [
       "<matplotlib.figure.Figure at 0x7f84f1531390>"
      ]
     },
     "metadata": {},
     "output_type": "display_data"
    }
   ],
   "source": [
    "from sklearn.grid_search import GridSearchCV\n",
    "Cs = np.logspace(-6, -1,10)\n",
    "plt.figure(figsize=(3,2))\n",
    "plt.plot(Cs, label='meh' )\n",
    "plt.plot(np.log(Cs), 'r', label='log(Cs)')\n",
    "plt.legend(loc='best')\n",
    "np.log(Cs) "
   ]
  },
  {
   "cell_type": "markdown",
   "metadata": {},
   "source": [
    "**Notes**\n",
    " - gridsearch instantation accepts estimator, dict of gridsearch"
   ]
  },
  {
   "cell_type": "code",
   "execution_count": 5,
   "metadata": {
    "collapsed": false
   },
   "outputs": [
    {
     "name": "stdout",
     "output_type": "stream",
     "text": [
      "0.925\n",
      "0.00774263682681\n"
     ]
    },
    {
     "data": {
      "text/plain": [
       "0.94353826850690092"
      ]
     },
     "execution_count": 5,
     "metadata": {},
     "output_type": "execute_result"
    }
   ],
   "source": [
    "# create an instance of GridSearch object\n",
    "clf = GridSearchCV(estimator=svc, param_grid=dict(C=Cs),n_jobs=-1)\n",
    "Xtr,Xts=X_digits[:1000],X_digits[1000:]\n",
    "ytr,yts=y_digits[:1000],y_digits[1000:]\n",
    "\n",
    "# tune (notice \"fit\" method can be applied)\n",
    "clf.fit(Xtr,ytr)        \n",
    "\n",
    "print clf.best_score_                                  \n",
    "print clf.best_estimator_.C                            \n",
    "\n",
    "# Prediction performance on test set is not as good as on train set\n",
    "clf.score(Xts,yts)      "
   ]
  },
  {
   "cell_type": "markdown",
   "metadata": {},
   "source": [
    "## Explore what's inside GridSearCV instance\n",
    "\n",
    "Some notes about pandas:\n",
    "- df has no `str` method\n",
    "- Series has no `query` method"
   ]
  },
  {
   "cell_type": "code",
   "execution_count": 41,
   "metadata": {
    "collapsed": false
   },
   "outputs": [
    {
     "data": {
      "text/html": [
       "<div>\n",
       "<table border=\"1\" class=\"dataframe\">\n",
       "  <thead>\n",
       "    <tr style=\"text-align: right;\">\n",
       "      <th></th>\n",
       "      <th>0</th>\n",
       "    </tr>\n",
       "  </thead>\n",
       "  <tbody>\n",
       "    <tr>\n",
       "      <th>25</th>\n",
       "      <td>best_estimator_</td>\n",
       "    </tr>\n",
       "    <tr>\n",
       "      <th>26</th>\n",
       "      <td>best_params_</td>\n",
       "    </tr>\n",
       "    <tr>\n",
       "      <th>27</th>\n",
       "      <td>best_score_</td>\n",
       "    </tr>\n",
       "    <tr>\n",
       "      <th>35</th>\n",
       "      <td>grid_scores_</td>\n",
       "    </tr>\n",
       "    <tr>\n",
       "      <th>46</th>\n",
       "      <td>scorer_</td>\n",
       "    </tr>\n",
       "  </tbody>\n",
       "</table>\n",
       "</div>"
      ],
      "text/plain": [
       "                  0\n",
       "25  best_estimator_\n",
       "26     best_params_\n",
       "27      best_score_\n",
       "35     grid_scores_\n",
       "46          scorer_"
      ]
     },
     "execution_count": 41,
     "metadata": {},
     "output_type": "execute_result"
    }
   ],
   "source": [
    "# some notes about pandas:\n",
    "# - df has no \"str\" method\n",
    "# - Series has no \"query\" method\n",
    "\n",
    "# pd.set_option('display.max_rows', 5)\n",
    "# pd.set_option('precision',3)\n",
    "# pd.DataFrame(dir(clf)).ix[25:].str.upper\n",
    "\n",
    "tmp = pd.Series(dir(clf))[25:] # <- Use Series since DF has no \"str\" method\n",
    "df = pd.DataFrame(tmp[tmp.str.endswith('_')]) # <- convert to DataFrame for display purpose\n",
    "df\n",
    "# tmp.quantile\n",
    "# tmp.str.endswith('_') # <- \"str\" in pandas only available for Series (me thinks...)\n",
    "\n",
    "# tmp[tmp[0].str.('_')]\n",
    "# tmp."
   ]
  },
  {
   "cell_type": "code",
   "execution_count": 65,
   "metadata": {
    "collapsed": false
   },
   "outputs": [
    {
     "name": "stdout",
     "output_type": "stream",
     "text": [
      "\n",
      "clf.best_estimator_ = SVC(C=0.0077426368268112772, cache_size=200, class_weight=None, coef0=0.0,\n",
      "  degree=3, gamma=0.0, kernel='linear', max_iter=-1, probability=False,\n",
      "  random_state=None, shrinking=True, tol=0.001, verbose=False)\n",
      "\n",
      "clf.best_params_ = {'C': 0.0077426368268112772}\n",
      "\n",
      "clf.best_score_ = 0.925\n",
      "\n",
      "clf.grid_scores_ = [mean: 0.10400, std: 0.00073, params: {'C': 9.9999999999999995e-07}, mean: 0.10400, std: 0.00073, params: {'C': 3.5938136638046257e-06}, mean: 0.50600, std: 0.00489, params: {'C': 1.2915496650148827e-05}, mean: 0.84600, std: 0.00739, params: {'C': 4.6415888336127818e-05}, mean: 0.90500, std: 0.01511, params: {'C': 0.00016681005372000591}, mean: 0.92000, std: 0.01047, params: {'C': 0.00059948425031894088}, mean: 0.92100, std: 0.02001, params: {'C': 0.0021544346900318843}, mean: 0.92500, std: 0.01871, params: {'C': 0.0077426368268112772}, mean: 0.92400, std: 0.01729, params: {'C': 0.02782559402207126}, mean: 0.92400, std: 0.01729, params: {'C': 0.10000000000000001}]\n",
      "\n",
      "clf.scorer_ = <function _passthrough_scorer at 0x7f84f853db90>\n"
     ]
    },
    {
     "data": {
      "text/plain": [
       "[mean: 0.10400, std: 0.00073, params: {'C': 9.9999999999999995e-07},\n",
       " mean: 0.10400, std: 0.00073, params: {'C': 3.5938136638046257e-06},\n",
       " mean: 0.50600, std: 0.00489, params: {'C': 1.2915496650148827e-05},\n",
       " mean: 0.84600, std: 0.00739, params: {'C': 4.6415888336127818e-05},\n",
       " mean: 0.90500, std: 0.01511, params: {'C': 0.00016681005372000591},\n",
       " mean: 0.92000, std: 0.01047, params: {'C': 0.00059948425031894088},\n",
       " mean: 0.92100, std: 0.02001, params: {'C': 0.0021544346900318843},\n",
       " mean: 0.92500, std: 0.01871, params: {'C': 0.0077426368268112772},\n",
       " mean: 0.92400, std: 0.01729, params: {'C': 0.02782559402207126},\n",
       " mean: 0.92400, std: 0.01729, params: {'C': 0.10000000000000001}]"
      ]
     },
     "execution_count": 65,
     "metadata": {},
     "output_type": "execute_result"
    }
   ],
   "source": [
    "for k in df.values:\n",
    "    # print attributes ending with underscore\n",
    "#     print k[0]\n",
    "    print \"\\nclf.{} = {}\".format(k[0], getattr(clf,k[0]))\n",
    "\n",
    "# print \"\\nclf.best_estimator_ = \",clf.best_estimator_\n",
    "# print \"\\nclf.best_params_\",clf.best_params_\n",
    "# print \"\\nclf.best_score_\",clf.best_score_\n",
    "# print \"\\nclf.scorer_\",clf.scorer_\n",
    "clf.grid_scores_"
   ]
  },
  {
   "cell_type": "code",
   "execution_count": 73,
   "metadata": {
    "collapsed": false,
    "scrolled": true
   },
   "outputs": [
    {
     "data": {
      "text/html": [
       "<table border=\"1\" class=\"dataframe\">\n",
       "  <thead>\n",
       "    <tr style=\"text-align: right;\">\n",
       "      <th></th>\n",
       "      <th>C</th>\n",
       "      <th>mean</th>\n",
       "      <th>std</th>\n",
       "    </tr>\n",
       "  </thead>\n",
       "  <tbody>\n",
       "    <tr>\n",
       "      <th>0</th>\n",
       "      <td>{u'C': 1e-06}</td>\n",
       "      <td>0.104</td>\n",
       "      <td>[0.104166666667, 0.104790419162, 0.10303030303]</td>\n",
       "    </tr>\n",
       "    <tr>\n",
       "      <th>1</th>\n",
       "      <td>{u'C': 3.5938136638e-06}</td>\n",
       "      <td>0.104</td>\n",
       "      <td>[0.104166666667, 0.104790419162, 0.10303030303]</td>\n",
       "    </tr>\n",
       "    <tr>\n",
       "      <th>2</th>\n",
       "      <td>{u'C': 1.29154966501e-05}</td>\n",
       "      <td>0.506</td>\n",
       "      <td>[0.5, 0.511976047904, 0.506060606061]</td>\n",
       "    </tr>\n",
       "    <tr>\n",
       "      <th>3</th>\n",
       "      <td>{u'C': 4.64158883361e-05}</td>\n",
       "      <td>0.846</td>\n",
       "      <td>[0.839285714286, 0.85628742515, 0.842424242424]</td>\n",
       "    </tr>\n",
       "    <tr>\n",
       "      <th>4</th>\n",
       "      <td>{u'C': 0.00016681005372}</td>\n",
       "      <td>0.905</td>\n",
       "      <td>[0.883928571429, 0.913173652695, 0.918181818182]</td>\n",
       "    </tr>\n",
       "    <tr>\n",
       "      <th>5</th>\n",
       "      <td>{u'C': 0.000599484250319}</td>\n",
       "      <td>0.920</td>\n",
       "      <td>[0.907738095238, 0.919161676647, 0.933333333333]</td>\n",
       "    </tr>\n",
       "    <tr>\n",
       "      <th>6</th>\n",
       "      <td>{u'C': 0.00215443469003}</td>\n",
       "      <td>0.921</td>\n",
       "      <td>[0.91369047619, 0.90119760479, 0.948484848485]</td>\n",
       "    </tr>\n",
       "    <tr>\n",
       "      <th>7</th>\n",
       "      <td>{u'C': 0.00774263682681}</td>\n",
       "      <td>0.925</td>\n",
       "      <td>[0.91369047619, 0.910179640719, 0.951515151515]</td>\n",
       "    </tr>\n",
       "    <tr>\n",
       "      <th>8</th>\n",
       "      <td>{u'C': 0.0278255940221}</td>\n",
       "      <td>0.924</td>\n",
       "      <td>[0.91369047619, 0.910179640719, 0.948484848485]</td>\n",
       "    </tr>\n",
       "    <tr>\n",
       "      <th>9</th>\n",
       "      <td>{u'C': 0.1}</td>\n",
       "      <td>0.924</td>\n",
       "      <td>[0.91369047619, 0.910179640719, 0.948484848485]</td>\n",
       "    </tr>\n",
       "  </tbody>\n",
       "</table>"
      ],
      "text/plain": [
       "<IPython.core.display.HTML object>"
      ]
     },
     "execution_count": 73,
     "metadata": {},
     "output_type": "execute_result"
    }
   ],
   "source": [
    "df = pd.DataFrame(clf.grid_scores_,columns=['C','mean','std'])\n",
    "\n",
    "# from IPython.display import HTML\n",
    "# h = HTML(df.to_html());"
   ]
  },
  {
   "cell_type": "code",
   "execution_count": 69,
   "metadata": {
    "collapsed": false
   },
   "outputs": [
    {
     "data": {
      "text/plain": [
       "{'best_estimator_': SVC(C=0.0077426368268112772, cache_size=200, class_weight=None, coef0=0.0,\n",
       "   degree=3, gamma=0.0, kernel='linear', max_iter=-1, probability=False,\n",
       "   random_state=None, shrinking=True, tol=0.001, verbose=False),\n",
       " 'best_params_': {'C': 0.0077426368268112772},\n",
       " 'best_score_': 0.92500000000000004,\n",
       " 'cv': None,\n",
       " 'error_score': 'raise',\n",
       " 'estimator': SVC(C=1, cache_size=200, class_weight=None, coef0=0.0, degree=3, gamma=0.0,\n",
       "   kernel='linear', max_iter=-1, probability=False, random_state=None,\n",
       "   shrinking=True, tol=0.001, verbose=False),\n",
       " 'fit_params': {},\n",
       " 'grid_scores_': [mean: 0.10400, std: 0.00073, params: {'C': 9.9999999999999995e-07},\n",
       "  mean: 0.10400, std: 0.00073, params: {'C': 3.5938136638046257e-06},\n",
       "  mean: 0.50600, std: 0.00489, params: {'C': 1.2915496650148827e-05},\n",
       "  mean: 0.84600, std: 0.00739, params: {'C': 4.6415888336127818e-05},\n",
       "  mean: 0.90500, std: 0.01511, params: {'C': 0.00016681005372000591},\n",
       "  mean: 0.92000, std: 0.01047, params: {'C': 0.00059948425031894088},\n",
       "  mean: 0.92100, std: 0.02001, params: {'C': 0.0021544346900318843},\n",
       "  mean: 0.92500, std: 0.01871, params: {'C': 0.0077426368268112772},\n",
       "  mean: 0.92400, std: 0.01729, params: {'C': 0.02782559402207126},\n",
       "  mean: 0.92400, std: 0.01729, params: {'C': 0.10000000000000001}],\n",
       " 'iid': True,\n",
       " 'n_jobs': -1,\n",
       " 'param_grid': {'C': array([  1.00000000e-06,   3.59381366e-06,   1.29154967e-05,\n",
       "           4.64158883e-05,   1.66810054e-04,   5.99484250e-04,\n",
       "           2.15443469e-03,   7.74263683e-03,   2.78255940e-02,\n",
       "           1.00000000e-01])},\n",
       " 'pre_dispatch': '2*n_jobs',\n",
       " 'refit': True,\n",
       " 'scorer_': <function sklearn.metrics.scorer._passthrough_scorer>,\n",
       " 'scoring': None,\n",
       " 'verbose': 0}"
      ]
     },
     "execution_count": 69,
     "metadata": {},
     "output_type": "execute_result"
    }
   ],
   "source": [
    "# fuck...this probably is better\n",
    "clf.__dict__"
   ]
  },
  {
   "cell_type": "markdown",
   "metadata": {},
   "source": [
    "## Weird....GridSearchCV doesn't seem to return CV-indices...."
   ]
  },
  {
   "cell_type": "markdown",
   "metadata": {},
   "source": [
    "# Bunch of examples"
   ]
  },
  {
   "cell_type": "markdown",
   "metadata": {},
   "source": [
    "## RFE with CV (GridSearch class not used)\n",
    "- ([link](http://scikit-learn.org/stable/auto_examples/feature_selection/plot_rfe_with_cross_validation.html#example-feature-selection-plot-rfe-with-cross-validation-py))"
   ]
  },
  {
   "cell_type": "code",
   "execution_count": 8,
   "metadata": {
    "collapsed": false
   },
   "outputs": [
    {
     "name": "stdout",
     "output_type": "stream",
     "text": [
      "Optimal number of features : 3\n"
     ]
    },
    {
     "data": {
      "image/png": "[encoded data removed]",
      "text/plain": [
       "<matplotlib.figure.Figure at 0x7f852e0730d0>"
      ]
     },
     "metadata": {},
     "output_type": "display_data"
    }
   ],
   "source": [
    "from sklearn.svm import SVC\n",
    "from sklearn.cross_validation import StratifiedKFold\n",
    "from sklearn.feature_selection import RFECV\n",
    "from sklearn.datasets import make_classification\n",
    "\n",
    "# Build a classification task using 3 informative features\n",
    "X, y = make_classification(n_samples=1000, n_features=25, n_informative=3,\n",
    "                           n_redundant=2, n_repeated=0, n_classes=8,\n",
    "                           n_clusters_per_class=1, random_state=0)\n",
    "\n",
    "svc = SVC(kernel=\"linear\")\n",
    "\n",
    "# Create the RFE object and compute a cross-validated score.\n",
    "# The \"accuracy\" scoring is proportional to the number of correct classifications\n",
    "rfecv = RFECV(estimator=svc, step=1, cv=StratifiedKFold(y, 2),scoring='accuracy') \n",
    "rfecv.fit(X, y)\n",
    "\n",
    "print(\"Optimal number of features : %d\" % rfecv.n_features_)\n",
    "\n",
    "# Plot number of features VS. cross-validation scores\n",
    "plt.figure()\n",
    "plt.xlabel(\"Number of features selected\")\n",
    "plt.ylabel(\"CV score (nb of correct classifications)\")\n",
    "plt.plot(range(1, len(rfecv.grid_scores_) + 1), rfecv.grid_scores_)\n",
    "plt.show()"
   ]
  },
  {
   "cell_type": "code",
   "execution_count": 9,
   "metadata": {
    "collapsed": false
   },
   "outputs": [
    {
     "data": {
      "text/plain": [
       "['__abstractmethods__',\n",
       " '__class__',\n",
       " '__delattr__',\n",
       " '__dict__',\n",
       " '__doc__',\n",
       " '__format__',\n",
       " '__getattribute__',\n",
       " '__hash__',\n",
       " '__init__',\n",
       " '__module__',\n",
       " '__new__',\n",
       " '__reduce__',\n",
       " '__reduce_ex__',\n",
       " '__repr__',\n",
       " '__setattr__',\n",
       " '__sizeof__',\n",
       " '__str__',\n",
       " '__subclasshook__',\n",
       " '__weakref__',\n",
       " '_abc_cache',\n",
       " '_abc_negative_cache',\n",
       " '_abc_negative_cache_version',\n",
       " '_abc_registry',\n",
       " '_get_param_names',\n",
       " '_get_support_mask',\n",
       " 'cv',\n",
       " 'decision_function',\n",
       " 'estimator',\n",
       " 'estimator_',\n",
       " 'estimator_params',\n",
       " 'fit',\n",
       " 'fit_transform',\n",
       " 'get_params',\n",
       " 'get_support',\n",
       " 'grid_scores_',\n",
       " 'inverse_transform',\n",
       " 'n_features_',\n",
       " 'predict',\n",
       " 'predict_log_proba',\n",
       " 'predict_proba',\n",
       " 'ranking_',\n",
       " 'score',\n",
       " 'scoring',\n",
       " 'set_params',\n",
       " 'step',\n",
       " 'support_',\n",
       " 'transform',\n",
       " 'verbose']"
      ]
     },
     "execution_count": 9,
     "metadata": {},
     "output_type": "execute_result"
    }
   ],
   "source": [
    "dir(rfecv)"
   ]
  }
 ],
 "metadata": {
  "kernelspec": {
   "display_name": "Python 2",
   "language": "python",
   "name": "python2"
  },
  "language_info": {
   "codemirror_mode": {
    "name": "ipython",
    "version": 2
   },
   "file_extension": ".py",
   "mimetype": "text/x-python",
   "name": "python",
   "nbconvert_exporter": "python",
   "pygments_lexer": "ipython2",
   "version": "2.7.10"
  }
 },
 "nbformat": 4,
 "nbformat_minor": 0
}
