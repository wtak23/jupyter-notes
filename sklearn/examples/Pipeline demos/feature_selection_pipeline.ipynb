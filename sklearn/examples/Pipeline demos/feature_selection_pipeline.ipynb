{
 "cells": [
  {
   "cell_type": "code",
   "execution_count": null,
   "metadata": {
    "collapsed": true
   },
   "outputs": [],
   "source": [
    "\"\"\"\n",
    "==================\n",
    "Pipeline Anova SVM\n",
    "==================\n",
    "\n",
    "Simple usage of Pipeline that runs successively a univariate\n",
    "feature selection with anova and then a C-SVM of the selected features.\n",
    "\"\"\""
   ]
  },
  {
   "cell_type": "code",
   "execution_count": 9,
   "metadata": {
    "collapsed": true
   },
   "outputs": [],
   "source": [
    "from sklearn import svm\n",
    "from sklearn.datasets import samples_generator\n",
    "from sklearn.feature_selection import SelectKBest, f_regression\n",
    "from sklearn.pipeline import make_pipeline\n",
    "import tak.tak as tw\n",
    "import pandas as pd"
   ]
  },
  {
   "cell_type": "code",
   "execution_count": 10,
   "metadata": {
    "collapsed": false
   },
   "outputs": [
    {
     "name": "stdout",
     "output_type": "stream",
     "text": [
      "Pipeline(steps=[('selectkbest', SelectKBest(k=3, score_func=<function f_regression at 0x7f9cd4e649b0>)), ('svc', SVC(C=1.0, cache_size=200, class_weight=None, coef0=0.0, degree=3, gamma=0.0,\n",
      "  kernel='linear', max_iter=-1, probability=False, random_state=None,\n",
      "  shrinking=True, tol=0.001, verbose=False))])\n",
      "2\n"
     ]
    },
    {
     "data": {
      "text/html": [
       "<div>\n",
       "<table border=\"1\" class=\"dataframe\">\n",
       "  <thead>\n",
       "    <tr style=\"text-align: right;\">\n",
       "      <th></th>\n",
       "      <th>0</th>\n",
       "      <th>1</th>\n",
       "      <th>2</th>\n",
       "      <th>3</th>\n",
       "      <th>4</th>\n",
       "      <th>5</th>\n",
       "      <th>6</th>\n",
       "      <th>7</th>\n",
       "      <th>8</th>\n",
       "      <th>9</th>\n",
       "      <th>10</th>\n",
       "      <th>11</th>\n",
       "      <th>12</th>\n",
       "      <th>13</th>\n",
       "      <th>14</th>\n",
       "      <th>15</th>\n",
       "      <th>16</th>\n",
       "      <th>17</th>\n",
       "      <th>18</th>\n",
       "      <th>19</th>\n",
       "      <th>20</th>\n",
       "      <th>21</th>\n",
       "      <th>22</th>\n",
       "      <th>23</th>\n",
       "      <th>24</th>\n",
       "      <th>25</th>\n",
       "      <th>26</th>\n",
       "      <th>27</th>\n",
       "      <th>28</th>\n",
       "      <th>29</th>\n",
       "      <th>30</th>\n",
       "      <th>31</th>\n",
       "      <th>32</th>\n",
       "      <th>33</th>\n",
       "      <th>34</th>\n",
       "      <th>35</th>\n",
       "    </tr>\n",
       "  </thead>\n",
       "  <tbody>\n",
       "    <tr>\n",
       "      <th>0</th>\n",
       "      <td>__class__</td>\n",
       "      <td>__delattr__</td>\n",
       "      <td>__dict__</td>\n",
       "      <td>__doc__</td>\n",
       "      <td>__format__</td>\n",
       "      <td>__getattribute__</td>\n",
       "      <td>__hash__</td>\n",
       "      <td>__init__</td>\n",
       "      <td>__module__</td>\n",
       "      <td>__new__</td>\n",
       "      <td>__reduce__</td>\n",
       "      <td>__reduce_ex__</td>\n",
       "      <td>__repr__</td>\n",
       "      <td>__setattr__</td>\n",
       "      <td>__sizeof__</td>\n",
       "      <td>__str__</td>\n",
       "      <td>__subclasshook__</td>\n",
       "      <td>__weakref__</td>\n",
       "      <td>_final_estimator</td>\n",
       "      <td>_get_param_names</td>\n",
       "      <td>_pairwise</td>\n",
       "      <td>_pre_transform</td>\n",
       "      <td>classes_</td>\n",
       "      <td>decision_function</td>\n",
       "      <td>fit</td>\n",
       "      <td>fit_transform</td>\n",
       "      <td>get_params</td>\n",
       "      <td>inverse_transform</td>\n",
       "      <td>named_steps</td>\n",
       "      <td>predict</td>\n",
       "      <td>predict_log_proba</td>\n",
       "      <td>predict_proba</td>\n",
       "      <td>score</td>\n",
       "      <td>set_params</td>\n",
       "      <td>steps</td>\n",
       "      <td>transform</td>\n",
       "    </tr>\n",
       "  </tbody>\n",
       "</table>\n",
       "</div>"
      ],
      "text/plain": [
       "          0            1         2        3           4                 5   \\\n",
       "0  __class__  __delattr__  __dict__  __doc__  __format__  __getattribute__   \n",
       "\n",
       "         6         7           8        9           10             11  \\\n",
       "0  __hash__  __init__  __module__  __new__  __reduce__  __reduce_ex__   \n",
       "\n",
       "         12           13          14       15                16           17  \\\n",
       "0  __repr__  __setattr__  __sizeof__  __str__  __subclasshook__  __weakref__   \n",
       "\n",
       "                 18                19         20              21        22  \\\n",
       "0  _final_estimator  _get_param_names  _pairwise  _pre_transform  classes_   \n",
       "\n",
       "                  23   24             25          26                 27  \\\n",
       "0  decision_function  fit  fit_transform  get_params  inverse_transform   \n",
       "\n",
       "            28       29                 30             31     32          33  \\\n",
       "0  named_steps  predict  predict_log_proba  predict_proba  score  set_params   \n",
       "\n",
       "      34         35  \n",
       "0  steps  transform  "
      ]
     },
     "execution_count": 10,
     "metadata": {},
     "output_type": "execute_result"
    }
   ],
   "source": [
    "# import some data to play with\n",
    "X, y = samples_generator.make_classification(\n",
    "    n_features=20, n_informative=3, n_redundant=0, n_classes=4,\n",
    "    n_clusters_per_class=2)\n",
    "\n",
    "# ANOVA SVM-C\n",
    "# 1) anova filter, take 3 best ranked features\n",
    "anova_filter = SelectKBest(f_regression, k=3)\n",
    "# 2) svm\n",
    "clf = svm.SVC(kernel='linear')\n",
    "\n",
    "anova_svm = make_pipeline(anova_filter, clf)\n",
    "print anova_svm\n",
    "print len(anova_svm.steps)\n",
    "\n",
    "anova_svm.fit(X, y)\n",
    "# tw.pd_underscore(anova_svm)\n",
    "pd.DataFrame(dir(anova_svm)).T"
   ]
  },
  {
   "cell_type": "code",
   "execution_count": 7,
   "metadata": {
    "collapsed": false
   },
   "outputs": [
    {
     "data": {
      "text/plain": [
       "array([1, 0, 2, 3, 3, 2, 3, 1, 3, 0, 3, 1, 2, 0, 3, 1, 3, 0, 1, 0, 2, 1, 3,\n",
       "       1, 3, 1, 2, 2, 2, 3, 1, 3, 0, 0, 3, 0, 0, 0, 3, 0, 2, 2, 1, 3, 3, 2,\n",
       "       2, 0, 1, 1, 3, 2, 3, 1, 0, 3, 3, 2, 2, 0, 0, 2, 3, 2, 3, 0, 0, 3, 0,\n",
       "       3, 0, 0, 2, 2, 3, 1, 1, 1, 2, 3, 3, 2, 2, 3, 0, 1, 3, 1, 3, 3, 2, 1,\n",
       "       3, 1, 0, 1, 1, 3, 1, 0])"
      ]
     },
     "execution_count": 7,
     "metadata": {},
     "output_type": "execute_result"
    }
   ],
   "source": [
    "anova_svm.predict(X)"
   ]
  }
 ],
 "metadata": {
  "kernelspec": {
   "display_name": "Python 2",
   "language": "python",
   "name": "python2"
  },
  "language_info": {
   "codemirror_mode": {
    "name": "ipython",
    "version": 2
   },
   "file_extension": ".py",
   "mimetype": "text/x-python",
   "name": "python",
   "nbconvert_exporter": "python",
   "pygments_lexer": "ipython2",
   "version": "2.7.10"
  }
 },
 "nbformat": 4,
 "nbformat_minor": 0
}
