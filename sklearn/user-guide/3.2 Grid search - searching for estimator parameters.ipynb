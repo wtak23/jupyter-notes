{
 "cells": [
  {
   "cell_type": "markdown",
   "metadata": {},
   "source": [
    "# Overview\n",
    "- http://scikit-learn.org/stable/modules/grid_search.html\n",
    "- **API**: http://scikit-learn.org/stable/modules/classes.html#module-sklearn.grid_search\n",
    "\n",
    "|method|Description|\n",
    "|---|---|\n",
    "|grid_search.GridSearchCV(estimator, param_grid)\t| Exhaustive search over specified parameter values for an estimator.|\n",
    "|grid_search.ParameterGrid(param_grid)\t| Grid of parameters with a discrete number of values for each.|\n",
    "|grid_search.ParameterSampler(...[, random_state]) | Generator on parameters sampled from given distributions.|\n",
    "|grid_search.RandomizedSearchCV(estimator, ...)\t| Randomized search on hyper parameters.|"
   ]
  },
  {
   "cell_type": "markdown",
   "metadata": {},
   "source": [
    "## Load modules"
   ]
  },
  {
   "cell_type": "code",
   "execution_count": 52,
   "metadata": {
    "collapsed": false
   },
   "outputs": [],
   "source": [
    "import pandas as pd\n",
    "import numpy as np\n",
    "from sklearn import grid_search, cross_validation, svm\n",
    "from pprint import pprint\n",
    "from pandas import DataFrame as DF\n",
    "from pandas import Series as SR\n",
    "from tak.tak import myprint, pd_underscore, pd_setdiff"
   ]
  },
  {
   "cell_type": "markdown",
   "metadata": {},
   "source": [
    "- To find the names and current values for all parameters for a given estimator, use: `estimator.get_params()`"
   ]
  },
  {
   "cell_type": "code",
   "execution_count": 2,
   "metadata": {
    "collapsed": false
   },
   "outputs": [
    {
     "data": {
      "text/html": [
       "<div>\n",
       "<table border=\"1\" class=\"dataframe\">\n",
       "  <thead>\n",
       "    <tr style=\"text-align: right;\">\n",
       "      <th></th>\n",
       "      <th>C</th>\n",
       "      <th>cache_size</th>\n",
       "      <th>class_weight</th>\n",
       "      <th>coef0</th>\n",
       "      <th>degree</th>\n",
       "      <th>gamma</th>\n",
       "      <th>kernel</th>\n",
       "      <th>max_iter</th>\n",
       "      <th>probability</th>\n",
       "      <th>random_state</th>\n",
       "      <th>shrinking</th>\n",
       "      <th>tol</th>\n",
       "      <th>verbose</th>\n",
       "    </tr>\n",
       "  </thead>\n",
       "  <tbody>\n",
       "    <tr>\n",
       "      <th>0</th>\n",
       "      <td>1</td>\n",
       "      <td>200</td>\n",
       "      <td>None</td>\n",
       "      <td>0</td>\n",
       "      <td>3</td>\n",
       "      <td>0</td>\n",
       "      <td>rbf</td>\n",
       "      <td>-1</td>\n",
       "      <td>False</td>\n",
       "      <td>None</td>\n",
       "      <td>True</td>\n",
       "      <td>0.001</td>\n",
       "      <td>False</td>\n",
       "    </tr>\n",
       "  </tbody>\n",
       "</table>\n",
       "</div>"
      ],
      "text/plain": [
       "   C cache_size class_weight coef0 degree gamma kernel max_iter probability  \\\n",
       "0  1        200         None     0      3     0    rbf       -1       False   \n",
       "\n",
       "  random_state shrinking    tol verbose  \n",
       "0         None      True  0.001   False  "
      ]
     },
     "execution_count": 2,
     "metadata": {},
     "output_type": "execute_result"
    }
   ],
   "source": [
    "DF(SR(svm.SVC().get_params())).T"
   ]
  },
  {
   "cell_type": "code",
   "execution_count": 3,
   "metadata": {
    "collapsed": false,
    "run_control": {
     "marked": false
    }
   },
   "outputs": [
    {
     "data": {
      "text/html": [
       "<div>\n",
       "<table border=\"1\" class=\"dataframe\">\n",
       "  <thead>\n",
       "    <tr style=\"text-align: right;\">\n",
       "      <th></th>\n",
       "      <th>C</th>\n",
       "      <th>class_weight</th>\n",
       "      <th>dual</th>\n",
       "      <th>fit_intercept</th>\n",
       "      <th>intercept_scaling</th>\n",
       "      <th>loss</th>\n",
       "      <th>max_iter</th>\n",
       "      <th>multi_class</th>\n",
       "      <th>penalty</th>\n",
       "      <th>random_state</th>\n",
       "      <th>tol</th>\n",
       "      <th>verbose</th>\n",
       "    </tr>\n",
       "  </thead>\n",
       "  <tbody>\n",
       "    <tr>\n",
       "      <th>0</th>\n",
       "      <td>1</td>\n",
       "      <td>None</td>\n",
       "      <td>True</td>\n",
       "      <td>True</td>\n",
       "      <td>1</td>\n",
       "      <td>squared_hinge</td>\n",
       "      <td>1000</td>\n",
       "      <td>ovr</td>\n",
       "      <td>l2</td>\n",
       "      <td>None</td>\n",
       "      <td>0.0001</td>\n",
       "      <td>0</td>\n",
       "    </tr>\n",
       "  </tbody>\n",
       "</table>\n",
       "</div>"
      ],
      "text/plain": [
       "   C class_weight  dual fit_intercept intercept_scaling           loss  \\\n",
       "0  1         None  True          True                 1  squared_hinge   \n",
       "\n",
       "  max_iter multi_class penalty random_state     tol verbose  \n",
       "0     1000         ovr      l2         None  0.0001       0  "
      ]
     },
     "execution_count": 3,
     "metadata": {},
     "output_type": "execute_result"
    }
   ],
   "source": [
    "DF(SR(svm.LinearSVC().get_params())).T"
   ]
  },
  {
   "cell_type": "markdown",
   "metadata": {},
   "source": [
    "# 3.2.1 Exhaustive Grid Search (GridSearchCV)\n",
    "- [`GridSearchCV`](http://scikit-learn.org/stable/modules/generated/sklearn.grid_search.GridSearchCV.html) exhaustively generates candidates from a grid of parameter values specified with the param_grid parameter\n",
    "\n",
    "**methods**\n",
    "\n",
    "|method|Description|\n",
    "|--|--|\n",
    "|decision_function(*args, **kwargs) | Call decision_function on the estimator with the best found parameters. |\n",
    "|fit(X[, y]) |Run fit with all sets of parameters. |\n",
    "|get_params([deep]) | Get parameters for this estimator. |\n",
    "|inverse_transform(*args, **kwargs) | Call inverse_transform on the estimator with the best found parameters. |\n",
    "|predict(*args, **kwargs) |   Call predict on the estimator with the best found parameters. |\n",
    "|predict_log_proba(*args, **kwargs) | Call predict_log_proba on the estimator with the best found parameters. |\n",
    "|predict_proba(*args, **kwargs) | Call predict_proba on the estimator with the best found parameters. |\n",
    "|score(X[, y]) |  Returns the score on the given data, if the estimator has been refit |\n",
    "|set_params(**params) |   Set the parameters of this estimator. |\n",
    "|transform(*args, **kwargs) | Call transform on the estimator with the best found parameters. |"
   ]
  },
  {
   "cell_type": "code",
   "execution_count": 4,
   "metadata": {
    "collapsed": false
   },
   "outputs": [
    {
     "name": "stdout",
     "output_type": "stream",
     "text": [
      "[{'C': [1, 10, 100, 1000], 'kernel': ['linear']},\n",
      " {'C': [1, 10, 100, 1000], 'gamma': [0.001, 0.0001], 'kernel': ['rbf']}]\n"
     ]
    },
    {
     "data": {
      "text/html": [
       "<div>\n",
       "<table border=\"1\" class=\"dataframe\">\n",
       "  <thead>\n",
       "    <tr style=\"text-align: right;\">\n",
       "      <th></th>\n",
       "      <th>C</th>\n",
       "      <th>gamma</th>\n",
       "      <th>kernel</th>\n",
       "    </tr>\n",
       "  </thead>\n",
       "  <tbody>\n",
       "    <tr>\n",
       "      <th>0</th>\n",
       "      <td>[1, 10, 100, 1000]</td>\n",
       "      <td>NaN</td>\n",
       "      <td>[linear]</td>\n",
       "    </tr>\n",
       "    <tr>\n",
       "      <th>1</th>\n",
       "      <td>[1, 10, 100, 1000]</td>\n",
       "      <td>[0.001, 0.0001]</td>\n",
       "      <td>[rbf]</td>\n",
       "    </tr>\n",
       "  </tbody>\n",
       "</table>\n",
       "</div>"
      ],
      "text/plain": [
       "                    C            gamma    kernel\n",
       "0  [1, 10, 100, 1000]              NaN  [linear]\n",
       "1  [1, 10, 100, 1000]  [0.001, 0.0001]     [rbf]"
      ]
     },
     "execution_count": 4,
     "metadata": {},
     "output_type": "execute_result"
    }
   ],
   "source": [
    "# ah, create list of dict\n",
    "param_grid = [\n",
    "  {'C': [1, 10, 100, 1000], 'kernel': ['linear']},\n",
    "  {'C': [1, 10, 100, 1000], 'gamma': [0.001, 0.0001], 'kernel': ['rbf']},\n",
    " ]\n",
    "pprint(param_grid)\n",
    "DF(param_grid)"
   ]
  },
  {
   "cell_type": "markdown",
   "metadata": {},
   "source": [
    "## Example\n",
    "- http://scikit-learn.org/stable/auto_examples/model_selection/grid_search_digits.html"
   ]
  },
  {
   "cell_type": "code",
   "execution_count": 5,
   "metadata": {
    "collapsed": false
   },
   "outputs": [],
   "source": [
    "from sklearn import datasets\n",
    "\n",
    "# Loading the Digits dataset\n",
    "digits = datasets.load_digits()\n",
    "\n",
    "# To apply an classifier on this data, we need to flatten the image, to\n",
    "# turn the data in a (samples, feature) matrix:\n",
    "n_samples = len(digits.images)\n",
    "X = digits.images.reshape((n_samples, -1))\n",
    "y = digits.target\n",
    "\n",
    "# Split the dataset in two equal parts\n",
    "Xtr, Xts, ytr, yts = cross_validation.train_test_split(X, y, test_size=0.5, random_state=0)\n",
    "\n",
    "# Set the parameters by cross-validation\n",
    "tuned_parameters = [{'kernel': ['rbf'], 'gamma': [1e-3, 1e-4],\n",
    "                     'C': [1, 10, 100, 1000]},\n",
    "                    {'kernel': ['linear'], 'C': [1, 10, 100, 1000]}]\n",
    "\n",
    "# tune hyperparameters\n",
    "clf = grid_search.GridSearchCV(svm.SVC(C=1), tuned_parameters, cv=5, scoring='accuracy')\n",
    "\n",
    "# items prior to fitting\n",
    "df_prefit = DF(dir(clf))\n",
    "\n",
    "# fit\n",
    "clf.fit(Xtr, ytr)\n",
    "\n",
    "df_postfit = DF(dir(clf))\n"
   ]
  },
  {
   "cell_type": "code",
   "execution_count": 6,
   "metadata": {
    "collapsed": false
   },
   "outputs": [
    {
     "data": {
      "text/html": [
       "<div>\n",
       "<table border=\"1\" class=\"dataframe\">\n",
       "  <thead>\n",
       "    <tr style=\"text-align: right;\">\n",
       "      <th></th>\n",
       "      <th>0</th>\n",
       "    </tr>\n",
       "  </thead>\n",
       "  <tbody>\n",
       "    <tr>\n",
       "      <th>0</th>\n",
       "      <td>scorer_</td>\n",
       "    </tr>\n",
       "    <tr>\n",
       "      <th>1</th>\n",
       "      <td>grid_scores_</td>\n",
       "    </tr>\n",
       "    <tr>\n",
       "      <th>2</th>\n",
       "      <td>best_params_</td>\n",
       "    </tr>\n",
       "    <tr>\n",
       "      <th>3</th>\n",
       "      <td>best_estimator_</td>\n",
       "    </tr>\n",
       "    <tr>\n",
       "      <th>4</th>\n",
       "      <td>best_score_</td>\n",
       "    </tr>\n",
       "  </tbody>\n",
       "</table>\n",
       "</div>"
      ],
      "text/plain": [
       "                 0\n",
       "0          scorer_\n",
       "1     grid_scores_\n",
       "2     best_params_\n",
       "3  best_estimator_\n",
       "4      best_score_"
      ]
     },
     "execution_count": 6,
     "metadata": {},
     "output_type": "execute_result"
    }
   ],
   "source": [
    "# pd.merge(df_prefit, df_postfit, left_on=['stuff'])\n",
    "# df_prefit.join(df_postfit, on='stuff')\n",
    "# DF(list(set(df_postfit[0]) - set(df_prefit[0])))\n",
    "pd_setdiff( df_postfit, df_prefit)"
   ]
  },
  {
   "cell_type": "code",
   "execution_count": 7,
   "metadata": {
    "collapsed": false
   },
   "outputs": [
    {
     "data": {
      "text/html": [
       "<div>\n",
       "<table border=\"1\" class=\"dataframe\">\n",
       "  <thead>\n",
       "    <tr style=\"text-align: right;\">\n",
       "      <th></th>\n",
       "      <th>0</th>\n",
       "    </tr>\n",
       "  </thead>\n",
       "  <tbody>\n",
       "    <tr>\n",
       "      <th>0</th>\n",
       "      <td>best_estimator_</td>\n",
       "    </tr>\n",
       "    <tr>\n",
       "      <th>1</th>\n",
       "      <td>best_params_</td>\n",
       "    </tr>\n",
       "    <tr>\n",
       "      <th>2</th>\n",
       "      <td>best_score_</td>\n",
       "    </tr>\n",
       "    <tr>\n",
       "      <th>3</th>\n",
       "      <td>grid_scores_</td>\n",
       "    </tr>\n",
       "    <tr>\n",
       "      <th>4</th>\n",
       "      <td>scorer_</td>\n",
       "    </tr>\n",
       "  </tbody>\n",
       "</table>\n",
       "</div>"
      ],
      "text/plain": [
       "                 0\n",
       "0  best_estimator_\n",
       "1     best_params_\n",
       "2      best_score_\n",
       "3     grid_scores_\n",
       "4          scorer_"
      ]
     },
     "execution_count": 7,
     "metadata": {},
     "output_type": "execute_result"
    }
   ],
   "source": [
    "# DF([x for x in list(dir(clf)) if not x.startswith('_') and x.endswith('_')])\n",
    "\n",
    "# made a function for above\n",
    "pd_underscore(clf)"
   ]
  },
  {
   "cell_type": "code",
   "execution_count": 51,
   "metadata": {
    "collapsed": false,
    "scrolled": true
   },
   "outputs": [
    {
     "name": "stdout",
     "output_type": "stream",
     "text": [
      "scorer_ =\n",
      "make_scorer(accuracy_score)\n",
      "\n",
      "grid_scores_ =\n",
      "[mean: 0.98552, std: 0.01038, params: {'kernel': 'rbf', 'C': 1, 'gamma': 0.001},\n",
      " mean: 0.95768, std: 0.01459, params: {'kernel': 'rbf', 'C': 1, 'gamma': 0.0001},\n",
      " mean: 0.98664, std: 0.01037, params: {'kernel': 'rbf', 'C': 10, 'gamma': 0.001},\n",
      " mean: 0.98107, std: 0.01442, params: {'kernel': 'rbf', 'C': 10, 'gamma': 0.0001},\n",
      " mean: 0.98664, std: 0.01037, params: {'kernel': 'rbf', 'C': 100, 'gamma': 0.001},\n",
      " mean: 0.98107, std: 0.01352, params: {'kernel': 'rbf', 'C': 100, 'gamma': 0.0001},\n",
      " mean: 0.98664, std: 0.01037, params: {'kernel': 'rbf', 'C': 1000, 'gamma': 0.001},\n",
      " mean: 0.98107, std: 0.01352, params: {'kernel': 'rbf', 'C': 1000, 'gamma': 0.0001},\n",
      " mean: 0.97327, std: 0.00737, params: {'kernel': 'linear', 'C': 1},\n",
      " mean: 0.97327, std: 0.00737, params: {'kernel': 'linear', 'C': 10},\n",
      " mean: 0.97327, std: 0.00737, params: {'kernel': 'linear', 'C': 100},\n",
      " mean: 0.97327, std: 0.00737, params: {'kernel': 'linear', 'C': 1000}]\n",
      "\n",
      "best_params_ =\n",
      "{'C': 10, 'gamma': 0.001, 'kernel': 'rbf'}\n",
      "\n",
      "best_estimator_ =\n",
      "SVC(C=10, cache_size=200, class_weight=None, coef0=0.0, degree=3, gamma=0.001,\n",
      "  kernel='rbf', max_iter=-1, probability=False, random_state=None,\n",
      "  shrinking=True, tol=0.001, verbose=False)\n",
      "\n",
      "best_score_ =\n",
      "0.98663697104677062\n",
      "\n"
     ]
    }
   ],
   "source": [
    "# myprint(clf.best_estimator_)\n",
    "# myprint(clf.best_params_)\n",
    "# df_postfit.iteritems\n",
    "df_diff = pd_setdiff( df_postfit, df_prefit)\n",
    "for _,row in df_diff.itertuples():\n",
    "    print row,'='\n",
    "    pprint(getattr(clf,row))\n",
    "    print ''\n",
    "#     print type(y)"
   ]
  },
  {
   "cell_type": "markdown",
   "metadata": {},
   "source": [
    "# 3.2.2 Randomized Parameter Optimization (RandomizedSearchCV)\n",
    "-  [RandomizedSearchCV](http://scikit-learn.org/stable/modules/generated/sklearn.grid_search.RandomizedSearchCV.html#sklearn.grid_search.RandomizedSearchCV) implements a randomized search over parameters, where each setting is sampled from a distribution over possible parameter values\n",
    "- Specifying how parameters should be sampled is done using a dictionary (just like in GridSearchCV)\n",
    "- `n_iter` specifies the computation budgets\n",
    "\n",
    "Here's an example:\n",
    "\n",
    "```python\n",
    "[{'C': scipy.stats.expon(scale=100), 'gamma': scipy.stats.expon(scale=.1),\n",
    "  'kernel': ['rbf'], 'class_weight':['auto', None]}]\n",
    "```\n",
    "\n",
    "See http://scikit-learn.org/stable/auto_examples/model_selection/randomized_search.html#example-model-selection-randomized-search-py for demo"
   ]
  },
  {
   "cell_type": "markdown",
   "metadata": {},
   "source": [
    "# 3.2.4.1 Model specific CV\n",
    "- Some models can fit data for a range of value of some parameter almost as efficiently as fitting the estimator for a single value of the parameter.\n",
    "- The most common parameter amenable to this strategy is the parameter encoding the strength of the regularizer. In this case we say that we compute the **regularization path** of the estimator.\n",
    "\n",
    "|model|Description|\n",
    "|--|--|\n",
    "|linear_model.ElasticNetCV([l1_ratio, eps, ...]) | Elastic Net model with iterative fitting along a regularization path|\n",
    "|linear_model.LarsCV([fit_intercept, ...]) |   Cross-validated Least Angle Regression model|\n",
    "|linear_model.LassoCV([eps, n_alphas, ...]) |  Lasso linear model with iterative fitting along a regularization path|\n",
    "|linear_model.LassoLarsCV([fit_intercept, ...]) |  Cross-validated Lasso, using the LARS algorithm|\n",
    "|linear_model.LogisticRegressionCV([Cs, ...]) |    Logistic Regression CV (aka logit, MaxEnt) classifier.|\n",
    "|linear_model.MultiTaskElasticNetCV([...]) |   Multi-task L1/L2 ElasticNet with built-in cross-validation.|\n",
    "|linear_model.MultiTaskLassoCV([eps, ...]) |   Multi-task L1/L2 Lasso with built-in cross-validation.|\n",
    "|linear_model.OrthogonalMatchingPursuitCV([...]) | Cross-validated Orthogonal Matching Pursuit model (OMP)|\n",
    "|linear_model.RidgeCV([alphas, ...]) | Ridge regression with built-in cross-validation.|\n",
    "|linear_model.RidgeClassifierCV([alphas, ...]) |   Ridge classifier with built-in cross-validation.|\n"
   ]
  }
 ],
 "metadata": {
  "kernelspec": {
   "display_name": "Python 2",
   "language": "python",
   "name": "python2"
  },
  "language_info": {
   "codemirror_mode": {
    "name": "ipython",
    "version": 2
   },
   "file_extension": ".py",
   "mimetype": "text/x-python",
   "name": "python",
   "nbconvert_exporter": "python",
   "pygments_lexer": "ipython2",
   "version": "2.7.10"
  }
 },
 "nbformat": 4,
 "nbformat_minor": 0
}
