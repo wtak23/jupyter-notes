{
 "cells": [
  {
   "cell_type": "markdown",
   "metadata": {},
   "source": [
    "<h1 id=\"tocheading\">Table of Contents</h1>\n",
    "<div id=\"toc\"></div>"
   ]
  },
  {
   "cell_type": "code",
   "execution_count": 6,
   "metadata": {
    "code_folding": [
     0
    ],
    "collapsed": false
   },
   "outputs": [
    {
     "data": {
      "text/html": [
       "<script>\n",
       "code_show=true;\n",
       "function code_toggle() {\n",
       " if (code_show){\n",
       " $('div.input').hide();\n",
       " } else {\n",
       " $('div.input').show();\n",
       " }\n",
       " code_show = !code_show\n",
       "}\n",
       "$( document ).ready(code_toggle);\n",
       "</script>\n",
       "<form action=\"javascript:code_toggle()\"><input type=\"submit\" value=\"Click here to toggle on/off the raw code.\"></form>"
      ],
      "text/plain": [
       "<IPython.core.display.HTML object>"
      ]
     },
     "execution_count": 6,
     "metadata": {},
     "output_type": "execute_result"
    }
   ],
   "source": [
    "from IPython.display import HTML\n",
    "\n",
    "HTML('''<script>\n",
    "code_show=true;\n",
    "function code_toggle() {\n",
    " if (code_show){\n",
    " $('div.input').hide();\n",
    " } else {\n",
    " $('div.input').show();\n",
    " }\n",
    " code_show = !code_show\n",
    "}\n",
    "$( document ).ready(code_toggle);\n",
    "</script>\n",
    "<form action=\"javascript:code_toggle()\"><input type=\"submit\" value=\"Click here to toggle on/off the raw code.\"></form>''')"
   ]
  },
  {
   "cell_type": "code",
   "execution_count": 7,
   "metadata": {
    "collapsed": true
   },
   "outputs": [],
   "source": [
    "a=3\n"
   ]
  },
  {
   "cell_type": "markdown",
   "metadata": {},
   "source": [
    "## Heading2"
   ]
  },
  {
   "cell_type": "markdown",
   "metadata": {},
   "source": [
    "### Heading 3"
   ]
  },
  {
   "cell_type": "markdown",
   "metadata": {},
   "source": [
    "# Heading 1"
   ]
  },
  {
   "cell_type": "code",
   "execution_count": 8,
   "metadata": {
    "collapsed": false,
    "scrolled": true
   },
   "outputs": [
    {
     "name": "stdout",
     "output_type": "stream",
     "text": [
      "[ 0.50743442  0.81199429  0.82801262  0.36112463  0.13868608  0.83346609\n",
      "  0.89602898  0.8053011   0.90187183  0.78426008  0.74694212  0.08285103\n",
      "  0.39067147  0.12561647  0.42800165  0.72611185  0.09376272  0.65497747\n",
      "  0.32064477  0.72999487  0.54798899  0.32983434  0.75322566  0.41847344\n",
      "  0.96012722  0.81486971  0.7401261   0.23646239  0.33923245  0.94819854\n",
      "  0.44093187  0.2222417   0.1530787   0.05940813  0.4267121   0.95507108\n",
      "  0.40036694  0.37050176  0.24598201  0.94882671  0.98573093  0.11591709\n",
      "  0.36017469  0.96072945  0.90857259  0.5628293   0.93598313  0.63467505\n",
      "  0.56611692  0.25391131  0.44774065  0.91739951  0.57594655  0.66418958\n",
      "  0.94516241  0.89637804  0.03572816  0.41617327  0.70425427  0.01083118\n",
      "  0.54787906  0.18711118  0.27552226  0.27478296  0.34939833  0.98759033\n",
      "  0.20063153  0.2165872   0.82076798  0.04205198  0.04167572  0.1271516\n",
      "  0.62187452  0.40070575  0.87653136  0.45412628  0.33638137  0.53274888\n",
      "  0.71656135  0.8197573   0.34480635  0.30363506  0.86625055  0.38707504\n",
      "  0.41338045  0.46011151  0.57573665  0.55883474  0.69099414  0.15048548\n",
      "  0.84236645  0.61135742  0.70257308  0.01187972  0.95100559  0.89640588\n",
      "  0.3945705   0.78740084  0.75131716  0.93101586]\n"
     ]
    }
   ],
   "source": [
    "from numpy.random import rand\n",
    "print rand(100)"
   ]
  },
  {
   "cell_type": "code",
   "execution_count": 9,
   "metadata": {
    "code_folding": [],
    "collapsed": false
   },
   "outputs": [
    {
     "name": "stdout",
     "output_type": "stream",
     "text": [
      "0\n",
      "1\n",
      "1\n",
      "2\n",
      "2\n",
      "3\n",
      "3\n",
      "4\n",
      "4\n",
      "5\n"
     ]
    }
   ],
   "source": [
    "for i in range(5):\n",
    "    print i\n",
    "    print i+1"
   ]
  },
  {
   "cell_type": "code",
   "execution_count": 10,
   "metadata": {
    "collapsed": true
   },
   "outputs": [],
   "source": [
    "a = 2.123"
   ]
  },
  {
   "cell_type": "markdown",
   "metadata": {
    "variables": {
     "a": "<p><strong>NameError</strong>: name &#39;a&#39; is not defined</p>\n"
    }
   },
   "source": [
    "The variable a is {{a}}\n",
    "a = {{a}}"
   ]
  },
  {
   "cell_type": "markdown",
   "metadata": {},
   "source": [
    "$\\frac{1}{2}$"
   ]
  },
  {
   "cell_type": "markdown",
   "metadata": {},
   "source": [
    "$\\displaystyle\\frac{1}{2}a$"
   ]
  },
  {
   "cell_type": "code",
   "execution_count": null,
   "metadata": {
    "collapsed": true
   },
   "outputs": [],
   "source": []
  }
 ],
 "metadata": {
  "kernelspec": {
   "display_name": "Python 2",
   "language": "python",
   "name": "python2"
  },
  "language_info": {
   "codemirror_mode": {
    "name": "ipython",
    "version": 2
   },
   "file_extension": ".py",
   "mimetype": "text/x-python",
   "name": "python",
   "nbconvert_exporter": "python",
   "pygments_lexer": "ipython2",
   "version": "2.7.11"
  }
 },
 "nbformat": 4,
 "nbformat_minor": 0
}
