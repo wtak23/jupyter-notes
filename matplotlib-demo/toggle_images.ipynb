{
 "cells": [
  {
   "cell_type": "code",
   "execution_count": 2,
   "metadata": {
    "collapsed": false
   },
   "outputs": [],
   "source": [
    "#!/usr/bin/env python\n",
    "\"\"\" toggle between two images by pressing \"t\"\n",
    "\n",
    "The basic idea is to load two images (they can be different shapes) and plot\n",
    "them to the same axes with hold \"on\".  Then, toggle the visible property of\n",
    "them using keypress event handling\n",
    "\n",
    "If you want two images with different shapes to be plotted with the same\n",
    "extent, they must have the same \"extent\" property\n",
    "\n",
    "As usual, we'll define some random images for demo.  Real data is much more\n",
    "exciting!\n",
    "\n",
    "Note, on the wx backend on some platforms (e.g., linux), you have to\n",
    "first click on the figure before the keypress events are activated.\n",
    "If you know how to fix this, please email us!\n",
    "\n",
    "\"\"\"\n",
    "%matplotlib qt4\n",
    "from pylab import *\n",
    "\n",
    "# two images x1 is initially visible, x2 is not\n",
    "x1 = rand(100, 100)\n",
    "x2 = rand(150, 175)\n",
    "\n",
    "# arbitrary extent - both images must have same extent if you want\n",
    "# them to be resampled into the same axes space\n",
    "extent = (0,1,0,1)\n",
    "im1 = imshow(x1, extent=extent)\n",
    "im2 = imshow(x2, extent=extent, hold=True)\n",
    "im2.set_visible(False)\n",
    "\n",
    "def toggle_images(event):\n",
    "    'toggle the visible state of the two images'\n",
    "    if event.key != 't': return\n",
    "    b1 = im1.get_visible()\n",
    "    b2 = im2.get_visible()\n",
    "    im1.set_visible(not b1)\n",
    "    im2.set_visible(not b2)\n",
    "    draw()\n",
    "\n",
    "connect('key_press_event', toggle_images)\n",
    "\n",
    "show()\n"
   ]
  }
 ],
 "metadata": {
  "kernelspec": {
   "display_name": "Python 2",
   "language": "python",
   "name": "python2"
  },
  "language_info": {
   "codemirror_mode": {
    "name": "ipython",
    "version": 2
   },
   "file_extension": ".py",
   "mimetype": "text/x-python",
   "name": "python",
   "nbconvert_exporter": "python",
   "pygments_lexer": "ipython2",
   "version": "2.7.10"
  }
 },
 "nbformat": 4,
 "nbformat_minor": 0
}
